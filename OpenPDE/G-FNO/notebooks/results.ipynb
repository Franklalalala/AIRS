{
 "cells": [
  {
   "cell_type": "code",
   "execution_count": 1,
   "metadata": {},
   "outputs": [],
   "source": [
    "import os\n",
    "import pandas as pd\n",
    "import numpy as np\n",
    "import glob\n",
    "import warnings"
   ]
  },
  {
   "cell_type": "code",
   "execution_count": 2,
   "metadata": {},
   "outputs": [],
   "source": [
    "path = \"/mnt/data/shared/jacob/GFNO/results\"\n",
    "os.chdir(path)"
   ]
  },
  {
   "cell_type": "code",
   "execution_count": 3,
   "metadata": {},
   "outputs": [],
   "source": [
    "def to_numeric(x):\n",
    "    try:\n",
    "        x = float(x)\n",
    "        if x.is_integer():\n",
    "            x = int(x)\n",
    "        return x\n",
    "    except ValueError:\n",
    "        return x\n",
    "\n",
    "def latex_sci(x, prec=3):\n",
    "    return (\"\\\\times10^{\".join(f'{{:.{prec}e}}'.format(x).split(\"e\")) + \"}\").replace(\"10^{-0\", \"10^{-\")\n",
    "\n",
    "def round_(num, prec):\n",
    "    return f\"{num:.{prec}f}\"\n",
    "\n",
    "\n",
    "# extract results for each model from a list of experiment files\n",
    "'''\n",
    "experiments: list of paths to results.txt\n",
    "models: model names\n",
    "n_rep: number of replicates of each experiment\n",
    "'''\n",
    "def extract_results(experiments, models, n_rep=3, summary=True, ten3=False):\n",
    "\n",
    "    # add path sep to the end of the model names so that fno2d can be identified from fno2d_aug\n",
    "    models = [os.path.join(mod, \"\") for mod in models]\n",
    "\n",
    "    # init a results dictionary for the experiment\n",
    "    results_exp = {k:None for k in models}\n",
    "\n",
    "    # loop over each of the models; aggregate results for each model\n",
    "    for model in models:\n",
    "\n",
    "        # see which experiments contain the model in the title and make sure we have three replicates\n",
    "        model_exps = [exp for exp in experiments if model in exp]\n",
    "        if len(model_exps) == 0:\n",
    "            results_exp[model] = None\n",
    "            warnings.warn(f\"No results for {model}; setting None\")\n",
    "            continue\n",
    "        assert len(model_exps) > 0, f\"{len(model_exps)} exps for model {model}\"\n",
    "        assert len(model_exps) == n_rep, f\"{len(model_exps)} exps for model {model}; Experiments found: {model_exps}; Experiments: {experiments}\"\n",
    "        exps_str = \" \".join(model_exps)\n",
    "        assert \"seed1\" in exps_str, f\"Missing seed1 in {exps_str}\"\n",
    "        assert \"seed2\" in exps_str, f\"Missing seed2 in {exps_str}\"\n",
    "        assert \"seed3\" in exps_str, f\"Missing seed3 in {exps_str}\"\n",
    "\n",
    "        # iterate over the experiments for the model to agg results\n",
    "        results_mod = None\n",
    "        epochs = None\n",
    "        for model_exp in model_exps:\n",
    "            with open(model_exp, \"r\") as f:\n",
    "                result_mod_exp = f.read().splitlines()\n",
    "\n",
    "            # convert the results to a dictionary; convert numerics to float or int\n",
    "            result_mod_exp = {k: to_numeric(v) for k, v in [line.split(\": \") for line in result_mod_exp]}\n",
    "\n",
    "            # extract number of epochs\n",
    "            if not epochs:\n",
    "                args = result_mod_exp['Args'].split(\", \")\n",
    "                epochs = int([arg.split(\"=\")[1] for arg in args if \"epochs\" in arg][0])\n",
    "\n",
    "            # init the results dictionary for the model\n",
    "            if results_mod is None:\n",
    "                results_mod = {k:[] for k in result_mod_exp.keys()}\n",
    "\n",
    "            # add the results for the experiment to the aggregated model results\n",
    "            for k in result_mod_exp.keys():\n",
    "                results_mod[k].append(result_mod_exp[k])\n",
    "\n",
    "        if not summary: # return raw results\n",
    "            return results_mod\n",
    "\n",
    "        # get summary stats for each of the results\n",
    "        for k in results_mod.keys():\n",
    "            try:\n",
    "                res_k = np.array(results_mod[k])\n",
    "\n",
    "                # if the result is time, convert from seconds to train to seconds per epoch\n",
    "                if k == \"Train time\":\n",
    "                    res_k = res_k / epochs\n",
    "                elif k in ['Train', 'Valid', 'Test', 'Rotation Test','Reflection Test',  'Super Space Test', 'Super Space Rotation Test', 'Super Time Test', 'Super Time Rotation Test', 'Best Valid', 'Super Space Interpolation Test', 'Super Time Interpolation Test', 'Mean inference time']:\n",
    "\n",
    "                    # convert from decimal to percent\n",
    "                    if ten3:\n",
    "                        res_k = res_k * 1000\n",
    "                    else:\n",
    "                        res_k = res_k * 100\n",
    "\n",
    "                # check for inf\n",
    "                inf_bool = np.isinf(res_k)\n",
    "                if inf_bool.any():\n",
    "                    warnings.warn(f\"Infinity detected and filtered: Key {k}, exp {model_exps[inf_bool.nonzero()[0][0]]}\")\n",
    "                    res_k = res_k[np.logical_not(inf_bool)]\n",
    "                results_mod[k] = {\"mean\":res_k.mean(), \"sd\":res_k.std()}\n",
    "            except:\n",
    "                pass\n",
    "\n",
    "        # add the results for the model to the experiment results\n",
    "        results_exp[model] = results_mod\n",
    "\n",
    "    # remove the path sep\n",
    "    results_exp = {(k.split(os.sep)[0]):v for k, v in results_exp.items()}\n",
    "\n",
    "    return results_exp\n",
    "\n",
    "'''\n",
    "experiments: list of paths to results.txt\n",
    "models: model names\n",
    "key: name of result to extract\n",
    "prec: rounding precision\n",
    "'''\n",
    "def extract_key(experiments, models, key, prec=3, scientific=False, format=True, par_millions=False, ten3=False):\n",
    "\n",
    "    # extract results for the experiment\n",
    "    results_exp = extract_results(experiments, models, ten3=ten3)\n",
    "\n",
    "    # remove None results\n",
    "    results_exp2 = results_exp.copy()\n",
    "    for k, v in results_exp.items():\n",
    "        if v is None:\n",
    "            del results_exp2[k]\n",
    "            warnings.warn(f\"Results for {k} are None; removing\")\n",
    "    results_exp = results_exp2\n",
    "\n",
    "    # extract key for the experiment\n",
    "    allNone = True\n",
    "    for k in results_exp.keys(): # keys are model names\n",
    "        if key in results_exp[k].keys():\n",
    "            results_exp[k] = results_exp[k][key]\n",
    "        else:\n",
    "            results_exp[k] = {\"mean\":404, \"sd\":404}\n",
    "        if allNone and results_exp[k] is not None:\n",
    "            allNone = False\n",
    "    if allNone:\n",
    "        warnings.warn(\"No results found\")\n",
    "        return None\n",
    "\n",
    "    # find which model has the best test error\n",
    "    # return  results_exp\n",
    "    sorted_mods = sorted({k: v[\"mean\"] for k, v in results_exp.items()}.items(), key=lambda x: x[1])\n",
    "    best_mod = sorted_mods[0][0]\n",
    "    second_mod = sorted_mods[1][0]\n",
    "\n",
    "    form = round_\n",
    "    if scientific:\n",
    "        form = latex_sci\n",
    "\n",
    "    # format the test errors\n",
    "    res = {k:None for k in results_exp.keys()}\n",
    "    for k, v in results_exp.items(): # k are model names\n",
    "        if key == \"Parameters\":\n",
    "            if par_millions:\n",
    "                res[k] = f\"${round(v['mean'] / 1e6, prec):.{prec}f}$\"\n",
    "            else:\n",
    "                res[k] = f\"${int(v['mean']):,}$\"\n",
    "        elif key == \"Train time\":\n",
    "            res[k] = round(v['mean'], prec)\n",
    "        elif format:\n",
    "            if k == best_mod:\n",
    "                res[k] = f\"$\\\\mathbf{{{form(v['mean'], prec)}}}({form(v['sd'], prec)})$\"\n",
    "            elif k == second_mod:\n",
    "                res[k] = f\"$\\\\underline{{{form(v['mean'], prec)}}}({form(v['sd'], prec)})$\"\n",
    "            else:\n",
    "                res[k] = f\"${form(v['mean'], prec)}({form(v['sd'], prec)})$\"\n",
    "        else:\n",
    "            res[k] = v\n",
    "    return res\n",
    "\n",
    "def results_frame(exps, mods, keys, prec=3, scientific=False, format=True, summary_only=False, remove_dimension=False, par_millions=False, ten3=False):\n",
    "    results = {key:extract_key(exps, mods, key, prec, scientific, format or summary_only, par_millions, ten3) for key in keys}\n",
    "    if any([result is None for result in list(results.values())]):\n",
    "        warnings.warn(\"Detected none; not returning dictionary\")\n",
    "        return results\n",
    "    key_update = {'Train time':'Seconds/Epoch', 'Test':'Test (\\\\%)', 'Rotation Test':'Test\\\\textsubscript{$90^\\circ$} (\\\\%)', 'Super Space Test':'Space Super-res. (\\\\%)', 'Super Time Test':'Space-Time Super-res. (\\\\%)', 'Super Space Interpolation Test':'Space Int. (\\\\%)', 'Super Time Interpolation Test':'Space-Time Int. (\\\\%)', 'Valid':'Valid (\\\\%)', 'Mean inference time':'Inference Time (ms)'}\n",
    "    if par_millions:\n",
    "        key_update[\"Parameters\"] = \"\\\\# Par. (M)\"\n",
    "    results = {(key_update[key] if key in key_update.keys() else key):result for key, result in results.items()}\n",
    "    df = pd.DataFrame(results)\n",
    "    df.index.names = [\"Model\"]\n",
    "    df.index = [model.replace(\"_\", \"-\").replace(\"GFNO\", \"$G$-FNO\") for model in df.index]\n",
    "    new_idx = []\n",
    "    df.rename(index={\"FNO2d-aug\":\"FNO2d+p4\", \"FNO2d-aug-rf\":\"FNO2d+p4m\", \"Unet-Rot-M20\":\"U-Net2d-p4\", \"Unet-Rot-M2d\":\"U-Net2d-p4\",\n",
    "                     \"FNO3d-aug\":\"FNO3d+p4\", \"FNO3d-aug-rf\":\"FNO3d+p4m\", \"Unet-Rot-3D20\":\"U-Net3d-p4\", \"Unet-Rot32-3D\":\"U-Net3d-p4\", \"Unet-Rot-3D\":\"U-Net3d-p4\",\n",
    "                     \"radialNO2d-p4\":\"radialFNO-p4\", \"radialNO2d-p4m\":\"radialFNO-p4m\", \"radialNO3d-p4\":\"radialFNO-p4\", \"radialNO3d-p4m\":\"radialFNO-p4m\"}, inplace=True)\n",
    "    for j in range(len(df.index)):\n",
    "        new_name = df.index[j]\n",
    "        if remove_dimension:\n",
    "            new_name = new_name.replace('2d', '').replace('3d', '')\n",
    "        if new_name[-2:] == \"p4\":\n",
    "            new_idx.append(new_name.replace('p4', '$p4$'))\n",
    "        elif new_name[-3:] == \"p4m\":\n",
    "            new_idx.append(new_name.replace('p4m', '$p4m$'))\n",
    "        else:\n",
    "            new_idx.append(new_name)\n",
    "    df.index = new_idx\n",
    "    if not format:\n",
    "        return df\n",
    "    # format = \"cp{3cm}\" * (len(keys) + 1)\n",
    "    format =\"l\" + \"c\" * (len(keys))\n",
    "    return df.to_latex(escape=False, column_format=format)"
   ]
  },
  {
   "cell_type": "code",
   "execution_count": 4,
   "metadata": {},
   "outputs": [
    {
     "name": "stdout",
     "output_type": "stream",
     "text": [
      "Num exps: 315\n"
     ]
    }
   ],
   "source": [
    "datas = {\"ns_sym\":\"ns_V0.0001_N1200_T30_cos4.mat\", \"swe\":\"2D_rdb_NA_NA.h5\", \"ns\":\"ns_V1e-4_N10000_T30.mat\", \"arena\":\"ShallowWater2D\"}\n",
    "exps = {data_name:glob.glob(data + '/**/*.txt', recursive=True) for data_name, data in datas.items()}\n",
    "total_exps = len(sum(list(exps.values()), []))\n",
    "print(f\"Num exps: {total_exps}\")"
   ]
  },
  {
   "cell_type": "code",
   "execution_count": 5,
   "metadata": {},
   "outputs": [],
   "source": [
    "special_exps = [\"markov\", \"steer\", \"recurrent\", \"hybrid\", \"nogrid\", \"symmetric\", \"cartesian\"]\n",
    "for exp in special_exps:\n",
    "    exps[f\"ns_{exp}\"] = [ns_exp for ns_exp in exps[\"ns\"] if exp in ns_exp]\n",
    "    exps[\"ns\"] = [ns_exp for ns_exp in exps[\"ns\"] if exp not in ns_exp]"
   ]
  },
  {
   "cell_type": "code",
   "execution_count": 6,
   "metadata": {},
   "outputs": [
    {
     "data": {
      "text/plain": "{'ns_sym': 48,\n 'swe': 48,\n 'ns': 48,\n 'arena': 51,\n 'ns_markov': 24,\n 'ns_steer': 6,\n 'ns_recurrent': 24,\n 'ns_hybrid': 18,\n 'ns_nogrid': 24,\n 'ns_symmetric': 9,\n 'ns_cartesian': 15}"
     },
     "execution_count": 6,
     "metadata": {},
     "output_type": "execute_result"
    }
   ],
   "source": [
    "exp_ct = {data_name:len(exps) for data_name, exps in exps.items()}\n",
    "assert sum(exp_ct.values()) == total_exps\n",
    "exp_ct"
   ]
  },
  {
   "cell_type": "code",
   "execution_count": 7,
   "metadata": {},
   "outputs": [
    {
     "data": {
      "text/plain": "dict_keys(['Args', 'Parameters', 'Train time', 'Train', 'Valid', 'Test', 'Rotation Test', 'Reflection Test', 'Super Space Test', 'Super Space Interpolation Test', 'Super Space Rotation Test', 'Super Space Reflection Test', 'Super S', 'Super Time Test', 'Super Time Interpolation Test', 'Super Time Rotation Test', 'Super Time Reflection Test', 'Super T', 'Best Valid', 'Best epoch', 'Test Rotation Equivariance loss', 'Test Reflection Equivariance loss', 'Epochs trained'])"
     },
     "execution_count": 7,
     "metadata": {},
     "output_type": "execute_result"
    }
   ],
   "source": [
    "mods = sorted(\"FNO2d  FNO2d_aug  FNO2d_aug-rf  FNO3d  FNO3d_aug  FNO3d_aug-rf  GFNO2d_p4  GFNO2d_p4m  GFNO3d_p4  GFNO3d_p4m Unet_Rot_3D  Unet_Rot_M2d radialNO2d_p4 radialNO2d_p4m radialNO3d_p4 radialNO3d_p4m\".split())\n",
    "mods2d = [mod for mod in mods if \"2d\" in mod]\n",
    "keys2d_full = ['Parameters', 'Test', 'Rotation Test', 'Super Space Test', 'Super Space Interpolation Test']\n",
    "keys2d = ['Parameters', 'Test']\n",
    "keys2d_rotation = [\"Test\", \"Rotation Test\"]\n",
    "keys2d_super = ['Super Space Test', 'Super Space Interpolation Test']\n",
    "mods3d = [mod for mod in mods if \"3d\" in mod or \"3D\" in mod]\n",
    "keys3d_full = ['Parameters', 'Test', 'Rotation Test', 'Super Time Test', 'Super Time Interpolation Test']\n",
    "keys3d = ['Parameters', 'Test']\n",
    "keys3d_rotation = [\"Test\", \"Rotation Test\"]\n",
    "keys3d_super = ['Super Time Test', 'Super Time Interpolation Test']\n",
    "extract_results(exps['ns'], mods, 3)[\"Unet_Rot_M2d\"].keys()"
   ]
  },
  {
   "cell_type": "code",
   "execution_count": 8,
   "metadata": {},
   "outputs": [
    {
     "name": "stdout",
     "output_type": "stream",
     "text": [
      "\\begin{tabular}{lccccc}\n",
      "\\toprule\n",
      "{} &   Parameters &                 Test (\\%) & Test\\textsubscript{$90^\\circ$} (\\%) &      Space Super-res. (\\%) &            Space Int. (\\%) \\\\\n",
      "\\midrule\n",
      "FNO2d           &    $928,661$ &              $8.41(0.41)$ &                      $129.21(3.90)$ &     $\\mathbf{43.02}(0.18)$ &     $\\mathbf{43.14}(0.19)$ \\\\\n",
      "FNO2d+$p4$      &    $928,661$ &             $10.44(0.47)$ &                       $10.38(0.38)$ &              $49.78(8.40)$ &              $43.72(0.45)$ \\\\\n",
      "FNO2d+$p4m$     &    $928,661$ &             $22.09(1.46)$ &                       $22.61(1.54)$ &              $54.04(4.52)$ &              $46.30(1.33)$ \\\\\n",
      "$G$-FNO2d-$p4$  &    $853,121$ &     $\\mathbf{4.78}(0.39)$ &               $\\mathbf{4.78}(0.39)$ &  $\\underline{43.41}(0.12)$ &  $\\underline{43.51}(0.11)$ \\\\\n",
      "$G$-FNO2d-$p4m$ &    $835,969$ &  $\\underline{6.19}(0.61)$ &            $\\underline{6.19}(0.61)$ &              $43.78(0.33)$ &              $43.88(0.30)$ \\\\\n",
      "U-Net2d-$p4$    &  $3,651,719$ &             $18.40(0.44)$ &                       $18.40(0.44)$ &              $92.00(7.22)$ &              $43.68(0.82)$ \\\\\n",
      "radialFNO-$p4$  &  $1,031,681$ &              $9.21(0.26)$ &                        $9.21(0.26)$ &              $43.73(0.07)$ &              $43.86(0.07)$ \\\\\n",
      "radialFNO-$p4m$ &    $951,601$ &             $10.86(0.18)$ &                       $10.86(0.18)$ &              $43.91(0.69)$ &              $44.02(0.71)$ \\\\\n",
      "\\bottomrule\n",
      "\\end{tabular}\n",
      "\n"
     ]
    },
    {
     "name": "stderr",
     "output_type": "stream",
     "text": [
      "/tmp/ipykernel_451806/3431984908.py:200: FutureWarning: In future versions `DataFrame.to_latex` is expected to utilise the base implementation of `Styler.to_latex` for formatting and rendering. The arguments signature may therefore change. It is recommended instead to use `DataFrame.style.to_latex` which also contains additional functionality.\n",
      "  return df.to_latex(escape=False, column_format=format)\n"
     ]
    }
   ],
   "source": [
    "# archived tables\n",
    "print(results_frame(exps[\"ns\"], mods2d, keys2d_full, prec=2))"
   ]
  },
  {
   "cell_type": "code",
   "execution_count": 9,
   "metadata": {},
   "outputs": [],
   "source": [
    "# NS Main Results\n",
    "\n",
    "ns2d = results_frame(exps[\"ns\"], mods2d, keys2d, prec=2, format=False,summary_only=True, remove_dimension=True, par_millions=True)\n",
    "ns3d = results_frame(exps[\"ns\"], mods3d, keys2d, prec=2, format=False,summary_only=True, remove_dimension=True, par_millions=True)\n",
    "ns_sym2d = results_frame(exps[\"ns_sym\"], mods2d, keys3d, prec=2, format=False,summary_only=True, remove_dimension=True, par_millions=True)\n",
    "ns_sym3d = results_frame(exps[\"ns_sym\"], mods3d, keys3d, prec=2, format=False,summary_only=True, remove_dimension=True, par_millions=True)\n",
    "\n",
    "# ns2d.rename({\"Test (\\%)\":\"NS\"}, axis=1, inplace=True)\n",
    "# ns_sym2d.rename({\"Test (\\%)\":\"NS-sym\"}, axis=1, inplace=True)\n",
    "# ns3d.rename({\"Test (\\%)\":\"NS\"}, axis=1, inplace=True)\n",
    "# ns_sym3d.rename({\"Test (\\%)\":\"NS-sym\"}, axis=1, inplace=True)\n",
    "#\n",
    "#\n",
    "# ns2d_full = pd.concat([ns2d, ns_sym2d.drop(\"\\# Par. (M)\", axis=1)], axis=1)\n",
    "# ns3d_full = pd.concat([ns3d, ns_sym3d.drop(\"\\# Par. (M)\", axis=1)], axis=1)\n",
    "\n",
    "ns2d_full = pd.concat({\"NS\":ns2d, \"NS-sym\":ns_sym2d}, axis=1)\n",
    "ns3d_full = pd.concat({\"NS\":ns3d, \"NS-sym\":ns_sym3d}, axis=1)\n",
    "\n",
    "ns_full = pd.concat({\"2D Models\":ns2d_full, \"3D Models\":ns3d_full}, axis=1)"
   ]
  },
  {
   "cell_type": "code",
   "execution_count": 10,
   "metadata": {},
   "outputs": [
    {
     "data": {
      "text/plain": "                  2D Models                                        \\\n                         NS                                NS-sym   \n                \\# Par. (M)                 Test (\\%) \\# Par. (M)   \nFNO                  $0.93$              $8.41(0.41)$      $0.93$   \nFNO+$p4$             $0.93$             $10.44(0.47)$      $0.93$   \nFNO+$p4m$            $0.93$             $22.09(1.46)$      $0.93$   \n$G$-FNO-$p4$         $0.85$     $\\mathbf{4.78}(0.39)$      $0.85$   \n$G$-FNO-$p4m$        $0.84$  $\\underline{6.19}(0.61)$      $0.84$   \nU-Net-$p4$           $3.65$             $18.40(0.44)$      $3.65$   \nradialFNO-$p4$       $1.03$              $9.21(0.26)$      $1.03$   \nradialFNO-$p4m$      $0.95$             $10.86(0.18)$      $0.95$   \n\n                                            3D Models  \\\n                                                   NS   \n                                Test (\\%) \\# Par. (M)   \nFNO                          $4.21(0.12)$      $4.92$   \nFNO+$p4$                     $4.80(0.12)$      $4.92$   \nFNO+$p4m$                   $13.06(3.29)$      $4.92$   \n$G$-FNO-$p4$        $\\mathbf{2.24}(0.09)$      $4.80$   \n$G$-FNO-$p4m$    $\\underline{2.37}(0.19)$      $3.89$   \nU-Net-$p4$                  $15.39(0.16)$      $6.08$   \nradialFNO-$p4$              $12.81(0.42)$      $4.98$   \nradialFNO-$p4m$             $17.39(0.22)$      $5.63$   \n\n                                                        \\\n                                                NS-sym   \n                                 Test (\\%) \\# Par. (M)   \nFNO                          $15.84(0.37)$      $4.92$   \nFNO+$p4$                     $14.14(0.14)$      $4.92$   \nFNO+$p4m$                    $15.32(0.05)$      $4.92$   \n$G$-FNO-$p4$        $\\mathbf{11.77}(0.13)$      $4.80$   \n$G$-FNO-$p4m$                $12.71(0.31)$      $3.89$   \nU-Net-$p4$                   $24.62(0.29)$      $6.08$   \nradialFNO-$p4$               $12.09(0.08)$      $4.98$   \nradialFNO-$p4m$  $\\underline{11.83}(0.23)$      $5.63$   \n\n                                            \n                                            \n                                 Test (\\%)  \nFNO                          $26.02(0.41)$  \nFNO+$p4$         $\\underline{15.75}(0.33)$  \nFNO+$p4m$                    $22.25(0.21)$  \n$G$-FNO-$p4$        $\\mathbf{10.72}(0.27)$  \n$G$-FNO-$p4m$                $17.21(1.35)$  \nU-Net-$p4$                   $21.82(0.10)$  \nradialFNO-$p4$               $17.54(0.60)$  \nradialFNO-$p4m$              $17.27(0.17)$  ",
      "text/html": "<div>\n<style scoped>\n    .dataframe tbody tr th:only-of-type {\n        vertical-align: middle;\n    }\n\n    .dataframe tbody tr th {\n        vertical-align: top;\n    }\n\n    .dataframe thead tr th {\n        text-align: left;\n    }\n</style>\n<table border=\"1\" class=\"dataframe\">\n  <thead>\n    <tr>\n      <th></th>\n      <th colspan=\"4\" halign=\"left\">2D Models</th>\n      <th colspan=\"4\" halign=\"left\">3D Models</th>\n    </tr>\n    <tr>\n      <th></th>\n      <th colspan=\"2\" halign=\"left\">NS</th>\n      <th colspan=\"2\" halign=\"left\">NS-sym</th>\n      <th colspan=\"2\" halign=\"left\">NS</th>\n      <th colspan=\"2\" halign=\"left\">NS-sym</th>\n    </tr>\n    <tr>\n      <th></th>\n      <th>\\# Par. (M)</th>\n      <th>Test (\\%)</th>\n      <th>\\# Par. (M)</th>\n      <th>Test (\\%)</th>\n      <th>\\# Par. (M)</th>\n      <th>Test (\\%)</th>\n      <th>\\# Par. (M)</th>\n      <th>Test (\\%)</th>\n    </tr>\n  </thead>\n  <tbody>\n    <tr>\n      <th>FNO</th>\n      <td>$0.93$</td>\n      <td>$8.41(0.41)$</td>\n      <td>$0.93$</td>\n      <td>$4.21(0.12)$</td>\n      <td>$4.92$</td>\n      <td>$15.84(0.37)$</td>\n      <td>$4.92$</td>\n      <td>$26.02(0.41)$</td>\n    </tr>\n    <tr>\n      <th>FNO+$p4$</th>\n      <td>$0.93$</td>\n      <td>$10.44(0.47)$</td>\n      <td>$0.93$</td>\n      <td>$4.80(0.12)$</td>\n      <td>$4.92$</td>\n      <td>$14.14(0.14)$</td>\n      <td>$4.92$</td>\n      <td>$\\underline{15.75}(0.33)$</td>\n    </tr>\n    <tr>\n      <th>FNO+$p4m$</th>\n      <td>$0.93$</td>\n      <td>$22.09(1.46)$</td>\n      <td>$0.93$</td>\n      <td>$13.06(3.29)$</td>\n      <td>$4.92$</td>\n      <td>$15.32(0.05)$</td>\n      <td>$4.92$</td>\n      <td>$22.25(0.21)$</td>\n    </tr>\n    <tr>\n      <th>$G$-FNO-$p4$</th>\n      <td>$0.85$</td>\n      <td>$\\mathbf{4.78}(0.39)$</td>\n      <td>$0.85$</td>\n      <td>$\\mathbf{2.24}(0.09)$</td>\n      <td>$4.80$</td>\n      <td>$\\mathbf{11.77}(0.13)$</td>\n      <td>$4.80$</td>\n      <td>$\\mathbf{10.72}(0.27)$</td>\n    </tr>\n    <tr>\n      <th>$G$-FNO-$p4m$</th>\n      <td>$0.84$</td>\n      <td>$\\underline{6.19}(0.61)$</td>\n      <td>$0.84$</td>\n      <td>$\\underline{2.37}(0.19)$</td>\n      <td>$3.89$</td>\n      <td>$12.71(0.31)$</td>\n      <td>$3.89$</td>\n      <td>$17.21(1.35)$</td>\n    </tr>\n    <tr>\n      <th>U-Net-$p4$</th>\n      <td>$3.65$</td>\n      <td>$18.40(0.44)$</td>\n      <td>$3.65$</td>\n      <td>$15.39(0.16)$</td>\n      <td>$6.08$</td>\n      <td>$24.62(0.29)$</td>\n      <td>$6.08$</td>\n      <td>$21.82(0.10)$</td>\n    </tr>\n    <tr>\n      <th>radialFNO-$p4$</th>\n      <td>$1.03$</td>\n      <td>$9.21(0.26)$</td>\n      <td>$1.03$</td>\n      <td>$12.81(0.42)$</td>\n      <td>$4.98$</td>\n      <td>$12.09(0.08)$</td>\n      <td>$4.98$</td>\n      <td>$17.54(0.60)$</td>\n    </tr>\n    <tr>\n      <th>radialFNO-$p4m$</th>\n      <td>$0.95$</td>\n      <td>$10.86(0.18)$</td>\n      <td>$0.95$</td>\n      <td>$17.39(0.22)$</td>\n      <td>$5.63$</td>\n      <td>$\\underline{11.83}(0.23)$</td>\n      <td>$5.63$</td>\n      <td>$17.27(0.17)$</td>\n    </tr>\n  </tbody>\n</table>\n</div>"
     },
     "execution_count": 10,
     "metadata": {},
     "output_type": "execute_result"
    }
   ],
   "source": [
    "ns_full"
   ]
  },
  {
   "cell_type": "code",
   "execution_count": 11,
   "metadata": {},
   "outputs": [
    {
     "name": "stdout",
     "output_type": "stream",
     "text": [
      "\\begin{tabular}{lcccc|cccc}\n",
      "\\toprule\n",
      "{} & \\multicolumn{4}{c}{2D Models} & \\multicolumn{4}{c}{3D Models} \\\\\n",
      "{} & \\multicolumn{2}{c}{NS} & \\multicolumn{2}{c}{NS-sym} & \\multicolumn{2}{c}{NS} & \\multicolumn{2}{c}{NS-sym} \\\\\n",
      "{} & \\# Par. (M) &                 Test (\\%) & \\# Par. (M) &                 Test (\\%) & \\# Par. (M) &                  Test (\\%) & \\# Par. (M) &                  Test (\\%) \\\\\n",
      "\\midrule\n",
      "FNO             &      $0.93$ &              $8.41(0.41)$ &      $0.93$ &              $4.21(0.12)$ &      $4.92$ &              $15.84(0.37)$ &      $4.92$ &              $26.02(0.41)$ \\\\\n",
      "FNO+$p4$        &      $0.93$ &             $10.44(0.47)$ &      $0.93$ &              $4.80(0.12)$ &      $4.92$ &              $14.14(0.14)$ &      $4.92$ &  $\\underline{15.75}(0.33)$ \\\\\n",
      "FNO+$p4m$       &      $0.93$ &             $22.09(1.46)$ &      $0.93$ &             $13.06(3.29)$ &      $4.92$ &              $15.32(0.05)$ &      $4.92$ &              $22.25(0.21)$ \\\\\n",
      "$G$-FNO-$p4$    &      $0.85$ &     $\\mathbf{4.78}(0.39)$ &      $0.85$ &     $\\mathbf{2.24}(0.09)$ &      $4.80$ &     $\\mathbf{11.77}(0.13)$ &      $4.80$ &     $\\mathbf{10.72}(0.27)$ \\\\\n",
      "$G$-FNO-$p4m$   &      $0.84$ &  $\\underline{6.19}(0.61)$ &      $0.84$ &  $\\underline{2.37}(0.19)$ &      $3.89$ &              $12.71(0.31)$ &      $3.89$ &              $17.21(1.35)$ \\\\\n",
      "U-Net-$p4$      &      $3.65$ &             $18.40(0.44)$ &      $3.65$ &             $15.39(0.16)$ &      $6.08$ &              $24.62(0.29)$ &      $6.08$ &              $21.82(0.10)$ \\\\\n",
      "radialFNO-$p4$  &      $1.03$ &              $9.21(0.26)$ &      $1.03$ &             $12.81(0.42)$ &      $4.98$ &              $12.09(0.08)$ &      $4.98$ &              $17.54(0.60)$ \\\\\n",
      "radialFNO-$p4m$ &      $0.95$ &             $10.86(0.18)$ &      $0.95$ &             $17.39(0.22)$ &      $5.63$ &  $\\underline{11.83}(0.23)$ &      $5.63$ &              $17.27(0.17)$ \\\\\n",
      "\\bottomrule\n",
      "\\end{tabular}\n",
      "\n"
     ]
    },
    {
     "name": "stderr",
     "output_type": "stream",
     "text": [
      "/tmp/ipykernel_3755212/469565081.py:5: FutureWarning: In future versions `DataFrame.to_latex` is expected to utilise the base implementation of `Styler.to_latex` for formatting and rendering. The arguments signature may therefore change. It is recommended instead to use `DataFrame.style.to_latex` which also contains additional functionality.\n",
      "  print(ns_full.to_latex(escape=False, column_format=format, multicolumn_format=\"c\"))\n"
     ]
    }
   ],
   "source": [
    "# par_len = 1.7\n",
    "# main_len = 1.9\n",
    "# format = \"l\" + \"|\".join([f\">{{\\\\centering\\\\arraybackslash}}m{{{par_len}cm}}>{{\\\\centering\\\\arraybackslash}}m{{{main_len}cm}}>{{\\\\centering\\\\arraybackslash}}m{{{main_len}cm}}\"] * 2)\n",
    "format = \"l\" + \"|\".join([\"c\" * 4] * 2)\n",
    "print(ns_full.to_latex(escape=False, column_format=format, multicolumn_format=\"c\"))"
   ]
  },
  {
   "cell_type": "code",
   "execution_count": 12,
   "metadata": {},
   "outputs": [],
   "source": [
    "# NS Super resolution\n",
    "\n",
    "ns2d = results_frame(exps[\"ns\"], mods2d, keys2d_super, prec=2, format=False,summary_only=True, remove_dimension=True, par_millions=True)\n",
    "ns3d = results_frame(exps[\"ns\"], mods3d, keys3d_super, prec=2, format=False,summary_only=True, remove_dimension=True, par_millions=True)\n",
    "ns_sym2d = results_frame(exps[\"ns_sym\"], mods2d, keys2d_super, prec=2, format=False,summary_only=True, remove_dimension=True, par_millions=True)\n",
    "ns_sym3d = results_frame(exps[\"ns_sym\"], mods3d, keys3d_super, prec=2, format=False,summary_only=True, remove_dimension=True, par_millions=True)\n",
    "\n",
    "ns2d.rename({\"Space Super-res. (\\\\%)\":\"SR Test (\\\\%)\", \"Space Int. (\\\\%)\":\"Int. Test (\\\\%)\"}, axis=1, inplace=True)\n",
    "ns_sym2d.rename({\"Space Super-res. (\\\\%)\":\"SR Test (\\\\%)\", \"Space Int. (\\\\%)\":\"Int. Test (\\\\%)\"}, axis=1, inplace=True)\n",
    "ns3d.rename({\"Space-Time Super-res. (\\\\%)\":\"SR Test (\\\\%)\", \"Space-Time Int. (\\\\%)\":\"Int. Test (\\\\%)\"}, axis=1, inplace=True)\n",
    "ns_sym3d.rename({\"Space-Time Super-res. (\\\\%)\":\"SR Test (\\\\%)\", \"Space-Time Int. (\\\\%)\":\"Int. Test (\\\\%)\"}, axis=1, inplace=True)\n",
    "\n",
    "\n",
    "ns2d_full = pd.concat({\"NS\":ns2d, \"NS-sym\":ns_sym2d}, axis=1)\n",
    "ns3d_full = pd.concat({\"NS\":ns3d, \"NS-sym\":ns_sym3d}, axis=1)\n",
    "\n",
    "ns_full = pd.concat({\"2D Models\":ns2d_full, \"3D Models\":ns3d_full}, axis=1)"
   ]
  },
  {
   "cell_type": "code",
   "execution_count": 13,
   "metadata": {},
   "outputs": [
    {
     "data": {
      "text/plain": "                                 2D Models                             \\\n                                        NS                              \n                              SR Test (\\%)             Int. Test (\\%)   \nFNO                 $\\mathbf{43.02}(0.18)$     $\\mathbf{43.14}(0.19)$   \nFNO+$p4$                     $49.78(8.40)$              $43.72(0.45)$   \nFNO+$p4m$                    $54.04(4.52)$              $46.30(1.33)$   \n$G$-FNO-$p4$     $\\underline{43.41}(0.12)$  $\\underline{43.51}(0.11)$   \n$G$-FNO-$p4m$                $43.78(0.33)$              $43.88(0.30)$   \nU-Net-$p4$                   $92.00(7.22)$              $43.68(0.82)$   \nradialFNO-$p4$               $43.73(0.07)$              $43.86(0.07)$   \nradialFNO-$p4m$              $43.91(0.69)$              $44.02(0.71)$   \n\n                                                                       \\\n                                    NS-sym                              \n                              SR Test (\\%)             Int. Test (\\%)   \nFNO                          $32.45(1.47)$  $\\underline{23.33}(0.07)$   \nFNO+$p4$                     $31.72(1.55)$     $\\mathbf{23.32}(0.09)$   \nFNO+$p4m$                    $32.68(0.84)$              $25.02(1.24)$   \n$G$-FNO-$p4$        $\\mathbf{21.89}(0.05)$              $23.36(0.04)$   \n$G$-FNO-$p4m$    $\\underline{22.09}(0.03)$              $23.56(0.03)$   \nU-Net-$p4$                   $70.42(1.66)$              $24.24(0.12)$   \nradialFNO-$p4$               $25.47(0.31)$              $26.52(0.35)$   \nradialFNO-$p4m$              $27.85(0.22)$              $28.70(0.05)$   \n\n                                 3D Models                             \\\n                                        NS                              \n                              SR Test (\\%)             Int. Test (\\%)   \nFNO                          $29.99(0.26)$              $27.97(0.10)$   \nFNO+$p4$                     $30.36(0.18)$  $\\underline{27.27}(0.11)$   \nFNO+$p4m$                    $30.45(0.37)$              $27.82(0.12)$   \n$G$-FNO-$p4$        $\\mathbf{29.62}(0.15)$     $\\mathbf{27.09}(0.06)$   \n$G$-FNO-$p4m$                $30.02(0.31)$              $27.38(0.21)$   \nU-Net-$p4$                 $114.99(33.94)$              $30.11(0.41)$   \nradialFNO-$p4$   $\\underline{29.92}(0.65)$              $27.52(0.48)$   \nradialFNO-$p4m$              $29.94(0.60)$              $27.40(0.45)$   \n\n                                                                       \n                                    NS-sym                             \n                              SR Test (\\%)             Int. Test (\\%)  \nFNO                          $31.24(0.66)$              $29.38(0.47)$  \nFNO+$p4$                     $25.25(0.80)$  $\\underline{21.20}(0.31)$  \nFNO+$p4m$                    $31.44(1.20)$              $26.64(0.32)$  \n$G$-FNO-$p4$        $\\mathbf{20.44}(0.73)$     $\\mathbf{17.71}(0.09)$  \n$G$-FNO-$p4m$    $\\underline{23.98}(1.30)$              $22.14(0.96)$  \nU-Net-$p4$                   $79.08(3.60)$              $25.85(0.03)$  \nradialFNO-$p4$               $24.87(0.51)$              $22.83(0.42)$  \nradialFNO-$p4m$              $24.49(0.14)$              $22.60(0.14)$  ",
      "text/html": "<div>\n<style scoped>\n    .dataframe tbody tr th:only-of-type {\n        vertical-align: middle;\n    }\n\n    .dataframe tbody tr th {\n        vertical-align: top;\n    }\n\n    .dataframe thead tr th {\n        text-align: left;\n    }\n</style>\n<table border=\"1\" class=\"dataframe\">\n  <thead>\n    <tr>\n      <th></th>\n      <th colspan=\"4\" halign=\"left\">2D Models</th>\n      <th colspan=\"4\" halign=\"left\">3D Models</th>\n    </tr>\n    <tr>\n      <th></th>\n      <th colspan=\"2\" halign=\"left\">NS</th>\n      <th colspan=\"2\" halign=\"left\">NS-sym</th>\n      <th colspan=\"2\" halign=\"left\">NS</th>\n      <th colspan=\"2\" halign=\"left\">NS-sym</th>\n    </tr>\n    <tr>\n      <th></th>\n      <th>SR Test (\\%)</th>\n      <th>Int. Test (\\%)</th>\n      <th>SR Test (\\%)</th>\n      <th>Int. Test (\\%)</th>\n      <th>SR Test (\\%)</th>\n      <th>Int. Test (\\%)</th>\n      <th>SR Test (\\%)</th>\n      <th>Int. Test (\\%)</th>\n    </tr>\n  </thead>\n  <tbody>\n    <tr>\n      <th>FNO</th>\n      <td>$\\mathbf{43.02}(0.18)$</td>\n      <td>$\\mathbf{43.14}(0.19)$</td>\n      <td>$32.45(1.47)$</td>\n      <td>$\\underline{23.33}(0.07)$</td>\n      <td>$29.99(0.26)$</td>\n      <td>$27.97(0.10)$</td>\n      <td>$31.24(0.66)$</td>\n      <td>$29.38(0.47)$</td>\n    </tr>\n    <tr>\n      <th>FNO+$p4$</th>\n      <td>$49.78(8.40)$</td>\n      <td>$43.72(0.45)$</td>\n      <td>$31.72(1.55)$</td>\n      <td>$\\mathbf{23.32}(0.09)$</td>\n      <td>$30.36(0.18)$</td>\n      <td>$\\underline{27.27}(0.11)$</td>\n      <td>$25.25(0.80)$</td>\n      <td>$\\underline{21.20}(0.31)$</td>\n    </tr>\n    <tr>\n      <th>FNO+$p4m$</th>\n      <td>$54.04(4.52)$</td>\n      <td>$46.30(1.33)$</td>\n      <td>$32.68(0.84)$</td>\n      <td>$25.02(1.24)$</td>\n      <td>$30.45(0.37)$</td>\n      <td>$27.82(0.12)$</td>\n      <td>$31.44(1.20)$</td>\n      <td>$26.64(0.32)$</td>\n    </tr>\n    <tr>\n      <th>$G$-FNO-$p4$</th>\n      <td>$\\underline{43.41}(0.12)$</td>\n      <td>$\\underline{43.51}(0.11)$</td>\n      <td>$\\mathbf{21.89}(0.05)$</td>\n      <td>$23.36(0.04)$</td>\n      <td>$\\mathbf{29.62}(0.15)$</td>\n      <td>$\\mathbf{27.09}(0.06)$</td>\n      <td>$\\mathbf{20.44}(0.73)$</td>\n      <td>$\\mathbf{17.71}(0.09)$</td>\n    </tr>\n    <tr>\n      <th>$G$-FNO-$p4m$</th>\n      <td>$43.78(0.33)$</td>\n      <td>$43.88(0.30)$</td>\n      <td>$\\underline{22.09}(0.03)$</td>\n      <td>$23.56(0.03)$</td>\n      <td>$30.02(0.31)$</td>\n      <td>$27.38(0.21)$</td>\n      <td>$\\underline{23.98}(1.30)$</td>\n      <td>$22.14(0.96)$</td>\n    </tr>\n    <tr>\n      <th>U-Net-$p4$</th>\n      <td>$92.00(7.22)$</td>\n      <td>$43.68(0.82)$</td>\n      <td>$70.42(1.66)$</td>\n      <td>$24.24(0.12)$</td>\n      <td>$114.99(33.94)$</td>\n      <td>$30.11(0.41)$</td>\n      <td>$79.08(3.60)$</td>\n      <td>$25.85(0.03)$</td>\n    </tr>\n    <tr>\n      <th>radialFNO-$p4$</th>\n      <td>$43.73(0.07)$</td>\n      <td>$43.86(0.07)$</td>\n      <td>$25.47(0.31)$</td>\n      <td>$26.52(0.35)$</td>\n      <td>$\\underline{29.92}(0.65)$</td>\n      <td>$27.52(0.48)$</td>\n      <td>$24.87(0.51)$</td>\n      <td>$22.83(0.42)$</td>\n    </tr>\n    <tr>\n      <th>radialFNO-$p4m$</th>\n      <td>$43.91(0.69)$</td>\n      <td>$44.02(0.71)$</td>\n      <td>$27.85(0.22)$</td>\n      <td>$28.70(0.05)$</td>\n      <td>$29.94(0.60)$</td>\n      <td>$27.40(0.45)$</td>\n      <td>$24.49(0.14)$</td>\n      <td>$22.60(0.14)$</td>\n    </tr>\n  </tbody>\n</table>\n</div>"
     },
     "execution_count": 13,
     "metadata": {},
     "output_type": "execute_result"
    }
   ],
   "source": [
    "ns_full"
   ]
  },
  {
   "cell_type": "code",
   "execution_count": 14,
   "metadata": {},
   "outputs": [
    {
     "name": "stdout",
     "output_type": "stream",
     "text": [
      "\\begin{tabular}{lcccc|cccc}\n",
      "\\toprule\n",
      "{} & \\multicolumn{4}{c}{2D Models} & \\multicolumn{4}{c}{3D Models} \\\\\n",
      "{} & \\multicolumn{2}{c}{NS} & \\multicolumn{2}{c}{NS-sym} & \\multicolumn{2}{c}{NS} & \\multicolumn{2}{c}{NS-sym} \\\\\n",
      "{} &               SR Test (\\%) &             Int. Test (\\%) &               SR Test (\\%) &             Int. Test (\\%) &               SR Test (\\%) &             Int. Test (\\%) &               SR Test (\\%) &             Int. Test (\\%) \\\\\n",
      "\\midrule\n",
      "FNO             &     $\\mathbf{43.02}(0.18)$ &     $\\mathbf{43.14}(0.19)$ &              $32.45(1.47)$ &  $\\underline{23.33}(0.07)$ &              $29.99(0.26)$ &              $27.97(0.10)$ &              $31.24(0.66)$ &              $29.38(0.47)$ \\\\\n",
      "FNO+$p4$        &              $49.78(8.40)$ &              $43.72(0.45)$ &              $31.72(1.55)$ &     $\\mathbf{23.32}(0.09)$ &              $30.36(0.18)$ &  $\\underline{27.27}(0.11)$ &              $25.25(0.80)$ &  $\\underline{21.20}(0.31)$ \\\\\n",
      "FNO+$p4m$       &              $54.04(4.52)$ &              $46.30(1.33)$ &              $32.68(0.84)$ &              $25.02(1.24)$ &              $30.45(0.37)$ &              $27.82(0.12)$ &              $31.44(1.20)$ &              $26.64(0.32)$ \\\\\n",
      "$G$-FNO-$p4$    &  $\\underline{43.41}(0.12)$ &  $\\underline{43.51}(0.11)$ &     $\\mathbf{21.89}(0.05)$ &              $23.36(0.04)$ &     $\\mathbf{29.62}(0.15)$ &     $\\mathbf{27.09}(0.06)$ &     $\\mathbf{20.44}(0.73)$ &     $\\mathbf{17.71}(0.09)$ \\\\\n",
      "$G$-FNO-$p4m$   &              $43.78(0.33)$ &              $43.88(0.30)$ &  $\\underline{22.09}(0.03)$ &              $23.56(0.03)$ &              $30.02(0.31)$ &              $27.38(0.21)$ &  $\\underline{23.98}(1.30)$ &              $22.14(0.96)$ \\\\\n",
      "U-Net-$p4$      &              $92.00(7.22)$ &              $43.68(0.82)$ &              $70.42(1.66)$ &              $24.24(0.12)$ &            $114.99(33.94)$ &              $30.11(0.41)$ &              $79.08(3.60)$ &              $25.85(0.03)$ \\\\\n",
      "radialFNO-$p4$  &              $43.73(0.07)$ &              $43.86(0.07)$ &              $25.47(0.31)$ &              $26.52(0.35)$ &  $\\underline{29.92}(0.65)$ &              $27.52(0.48)$ &              $24.87(0.51)$ &              $22.83(0.42)$ \\\\\n",
      "radialFNO-$p4m$ &              $43.91(0.69)$ &              $44.02(0.71)$ &              $27.85(0.22)$ &              $28.70(0.05)$ &              $29.94(0.60)$ &              $27.40(0.45)$ &              $24.49(0.14)$ &              $22.60(0.14)$ \\\\\n",
      "\\bottomrule\n",
      "\\end{tabular}\n",
      "\n"
     ]
    },
    {
     "name": "stderr",
     "output_type": "stream",
     "text": [
      "/tmp/ipykernel_3755212/3650052898.py:2: FutureWarning: In future versions `DataFrame.to_latex` is expected to utilise the base implementation of `Styler.to_latex` for formatting and rendering. The arguments signature may therefore change. It is recommended instead to use `DataFrame.style.to_latex` which also contains additional functionality.\n",
      "  print(ns_full.to_latex(escape=False, column_format=format, multicolumn_format=\"c\"))\n"
     ]
    }
   ],
   "source": [
    "format = \"l\" + \"|\".join([\"c\" * 4] * 2)\n",
    "print(ns_full.to_latex(escape=False, column_format=format, multicolumn_format=\"c\"))"
   ]
  },
  {
   "cell_type": "code",
   "execution_count": 15,
   "metadata": {},
   "outputs": [],
   "source": [
    "# NS rotation\n",
    "\n",
    "ns2d = results_frame(exps[\"ns\"], mods2d, keys2d_rotation, prec=2, format=False,summary_only=True, remove_dimension=True, par_millions=True)\n",
    "ns3d = results_frame(exps[\"ns\"], mods3d, keys3d_rotation, prec=2, format=False,summary_only=True, remove_dimension=True, par_millions=True)\n",
    "ns_sym2d = results_frame(exps[\"ns_sym\"], mods2d, keys2d_rotation, prec=2, format=False,summary_only=True, remove_dimension=True, par_millions=True)\n",
    "ns_sym3d = results_frame(exps[\"ns_sym\"], mods3d, keys3d_rotation, prec=2, format=False,summary_only=True, remove_dimension=True, par_millions=True)\n",
    "\n",
    "ns2d_full = pd.concat({\"NS\":ns2d, \"NS-sym\":ns_sym2d}, axis=1)\n",
    "ns3d_full = pd.concat({\"NS\":ns3d, \"NS-sym\":ns_sym3d}, axis=1)\n",
    "\n",
    "ns_full = pd.concat({\"2D Models\":ns2d_full, \"3D Models\":ns3d_full}, axis=1)"
   ]
  },
  {
   "cell_type": "code",
   "execution_count": 16,
   "metadata": {},
   "outputs": [
    {
     "data": {
      "text/plain": "                                2D Models                                      \\\n                                       NS                                       \n                                Test (\\%) Test\\textsubscript{$90^\\circ$} (\\%)   \nFNO                          $8.41(0.41)$                      $129.21(3.90)$   \nFNO+$p4$                    $10.44(0.47)$                       $10.38(0.38)$   \nFNO+$p4m$                   $22.09(1.46)$                       $22.61(1.54)$   \n$G$-FNO-$p4$        $\\mathbf{4.78}(0.39)$               $\\mathbf{4.78}(0.39)$   \n$G$-FNO-$p4m$    $\\underline{6.19}(0.61)$            $\\underline{6.19}(0.61)$   \nU-Net-$p4$                  $18.40(0.44)$                       $18.40(0.44)$   \nradialFNO-$p4$               $9.21(0.26)$                        $9.21(0.26)$   \nradialFNO-$p4m$             $10.86(0.18)$                       $10.86(0.18)$   \n\n                                                                               \\\n                                   NS-sym                                       \n                                Test (\\%) Test\\textsubscript{$90^\\circ$} (\\%)   \nFNO                          $4.21(0.12)$                        $9.91(0.90)$   \nFNO+$p4$                     $4.80(0.12)$                        $4.74(0.20)$   \nFNO+$p4m$                   $13.06(3.29)$                       $12.81(2.80)$   \n$G$-FNO-$p4$        $\\mathbf{2.24}(0.09)$               $\\mathbf{2.24}(0.09)$   \n$G$-FNO-$p4m$    $\\underline{2.37}(0.19)$            $\\underline{2.37}(0.19)$   \nU-Net-$p4$                  $15.39(0.16)$                       $15.39(0.16)$   \nradialFNO-$p4$              $12.81(0.42)$                       $12.81(0.42)$   \nradialFNO-$p4m$             $17.39(0.22)$                       $17.39(0.22)$   \n\n                                 3D Models  \\\n                                        NS   \n                                 Test (\\%)   \nFNO                          $15.84(0.37)$   \nFNO+$p4$                     $14.14(0.14)$   \nFNO+$p4m$                    $15.32(0.05)$   \n$G$-FNO-$p4$        $\\mathbf{11.77}(0.13)$   \n$G$-FNO-$p4m$                $12.71(0.31)$   \nU-Net-$p4$                   $24.62(0.29)$   \nradialFNO-$p4$               $12.09(0.08)$   \nradialFNO-$p4m$  $\\underline{11.83}(0.23)$   \n\n                                                     \\\n                                                      \n                Test\\textsubscript{$90^\\circ$} (\\%)   \nFNO                                  $100.75(2.20)$   \nFNO+$p4$                              $14.21(0.15)$   \nFNO+$p4m$                             $15.37(0.03)$   \n$G$-FNO-$p4$                 $\\mathbf{11.77}(0.13)$   \n$G$-FNO-$p4m$                         $12.71(0.31)$   \nU-Net-$p4$                            $24.62(0.29)$   \nradialFNO-$p4$                        $12.09(0.08)$   \nradialFNO-$p4m$           $\\underline{11.83}(0.23)$   \n\n                                                                                \n                                    NS-sym                                      \n                                 Test (\\%) Test\\textsubscript{$90^\\circ$} (\\%)  \nFNO                          $26.02(0.41)$                       $26.75(0.64)$  \nFNO+$p4$         $\\underline{15.75}(0.33)$           $\\underline{15.85}(0.31)$  \nFNO+$p4m$                    $22.25(0.21)$                       $22.24(0.20)$  \n$G$-FNO-$p4$        $\\mathbf{10.72}(0.27)$              $\\mathbf{10.72}(0.27)$  \n$G$-FNO-$p4m$                $17.21(1.35)$                       $17.21(1.35)$  \nU-Net-$p4$                   $21.82(0.10)$                       $21.82(0.10)$  \nradialFNO-$p4$               $17.54(0.60)$                       $17.54(0.60)$  \nradialFNO-$p4m$              $17.27(0.17)$                       $17.27(0.17)$  ",
      "text/html": "<div>\n<style scoped>\n    .dataframe tbody tr th:only-of-type {\n        vertical-align: middle;\n    }\n\n    .dataframe tbody tr th {\n        vertical-align: top;\n    }\n\n    .dataframe thead tr th {\n        text-align: left;\n    }\n</style>\n<table border=\"1\" class=\"dataframe\">\n  <thead>\n    <tr>\n      <th></th>\n      <th colspan=\"4\" halign=\"left\">2D Models</th>\n      <th colspan=\"4\" halign=\"left\">3D Models</th>\n    </tr>\n    <tr>\n      <th></th>\n      <th colspan=\"2\" halign=\"left\">NS</th>\n      <th colspan=\"2\" halign=\"left\">NS-sym</th>\n      <th colspan=\"2\" halign=\"left\">NS</th>\n      <th colspan=\"2\" halign=\"left\">NS-sym</th>\n    </tr>\n    <tr>\n      <th></th>\n      <th>Test (\\%)</th>\n      <th>Test\\textsubscript{$90^\\circ$} (\\%)</th>\n      <th>Test (\\%)</th>\n      <th>Test\\textsubscript{$90^\\circ$} (\\%)</th>\n      <th>Test (\\%)</th>\n      <th>Test\\textsubscript{$90^\\circ$} (\\%)</th>\n      <th>Test (\\%)</th>\n      <th>Test\\textsubscript{$90^\\circ$} (\\%)</th>\n    </tr>\n  </thead>\n  <tbody>\n    <tr>\n      <th>FNO</th>\n      <td>$8.41(0.41)$</td>\n      <td>$129.21(3.90)$</td>\n      <td>$4.21(0.12)$</td>\n      <td>$9.91(0.90)$</td>\n      <td>$15.84(0.37)$</td>\n      <td>$100.75(2.20)$</td>\n      <td>$26.02(0.41)$</td>\n      <td>$26.75(0.64)$</td>\n    </tr>\n    <tr>\n      <th>FNO+$p4$</th>\n      <td>$10.44(0.47)$</td>\n      <td>$10.38(0.38)$</td>\n      <td>$4.80(0.12)$</td>\n      <td>$4.74(0.20)$</td>\n      <td>$14.14(0.14)$</td>\n      <td>$14.21(0.15)$</td>\n      <td>$\\underline{15.75}(0.33)$</td>\n      <td>$\\underline{15.85}(0.31)$</td>\n    </tr>\n    <tr>\n      <th>FNO+$p4m$</th>\n      <td>$22.09(1.46)$</td>\n      <td>$22.61(1.54)$</td>\n      <td>$13.06(3.29)$</td>\n      <td>$12.81(2.80)$</td>\n      <td>$15.32(0.05)$</td>\n      <td>$15.37(0.03)$</td>\n      <td>$22.25(0.21)$</td>\n      <td>$22.24(0.20)$</td>\n    </tr>\n    <tr>\n      <th>$G$-FNO-$p4$</th>\n      <td>$\\mathbf{4.78}(0.39)$</td>\n      <td>$\\mathbf{4.78}(0.39)$</td>\n      <td>$\\mathbf{2.24}(0.09)$</td>\n      <td>$\\mathbf{2.24}(0.09)$</td>\n      <td>$\\mathbf{11.77}(0.13)$</td>\n      <td>$\\mathbf{11.77}(0.13)$</td>\n      <td>$\\mathbf{10.72}(0.27)$</td>\n      <td>$\\mathbf{10.72}(0.27)$</td>\n    </tr>\n    <tr>\n      <th>$G$-FNO-$p4m$</th>\n      <td>$\\underline{6.19}(0.61)$</td>\n      <td>$\\underline{6.19}(0.61)$</td>\n      <td>$\\underline{2.37}(0.19)$</td>\n      <td>$\\underline{2.37}(0.19)$</td>\n      <td>$12.71(0.31)$</td>\n      <td>$12.71(0.31)$</td>\n      <td>$17.21(1.35)$</td>\n      <td>$17.21(1.35)$</td>\n    </tr>\n    <tr>\n      <th>U-Net-$p4$</th>\n      <td>$18.40(0.44)$</td>\n      <td>$18.40(0.44)$</td>\n      <td>$15.39(0.16)$</td>\n      <td>$15.39(0.16)$</td>\n      <td>$24.62(0.29)$</td>\n      <td>$24.62(0.29)$</td>\n      <td>$21.82(0.10)$</td>\n      <td>$21.82(0.10)$</td>\n    </tr>\n    <tr>\n      <th>radialFNO-$p4$</th>\n      <td>$9.21(0.26)$</td>\n      <td>$9.21(0.26)$</td>\n      <td>$12.81(0.42)$</td>\n      <td>$12.81(0.42)$</td>\n      <td>$12.09(0.08)$</td>\n      <td>$12.09(0.08)$</td>\n      <td>$17.54(0.60)$</td>\n      <td>$17.54(0.60)$</td>\n    </tr>\n    <tr>\n      <th>radialFNO-$p4m$</th>\n      <td>$10.86(0.18)$</td>\n      <td>$10.86(0.18)$</td>\n      <td>$17.39(0.22)$</td>\n      <td>$17.39(0.22)$</td>\n      <td>$\\underline{11.83}(0.23)$</td>\n      <td>$\\underline{11.83}(0.23)$</td>\n      <td>$17.27(0.17)$</td>\n      <td>$17.27(0.17)$</td>\n    </tr>\n  </tbody>\n</table>\n</div>"
     },
     "execution_count": 16,
     "metadata": {},
     "output_type": "execute_result"
    }
   ],
   "source": [
    "ns_full"
   ]
  },
  {
   "cell_type": "code",
   "execution_count": 17,
   "metadata": {},
   "outputs": [
    {
     "name": "stdout",
     "output_type": "stream",
     "text": [
      "\\begin{tabular}{lcccc|cccc}\n",
      "\\toprule\n",
      "{} & \\multicolumn{4}{c}{2D Models} & \\multicolumn{4}{c}{3D Models} \\\\\n",
      "{} & \\multicolumn{2}{c}{NS} & \\multicolumn{2}{c}{NS-sym} & \\multicolumn{2}{c}{NS} & \\multicolumn{2}{c}{NS-sym} \\\\\n",
      "{} &                 Test (\\%) & Test\\textsubscript{$90^\\circ$} (\\%) &                 Test (\\%) & Test\\textsubscript{$90^\\circ$} (\\%) &                  Test (\\%) & Test\\textsubscript{$90^\\circ$} (\\%) &                  Test (\\%) & Test\\textsubscript{$90^\\circ$} (\\%) \\\\\n",
      "\\midrule\n",
      "FNO             &              $8.41(0.41)$ &                      $129.21(3.90)$ &              $4.21(0.12)$ &                        $9.91(0.90)$ &              $15.84(0.37)$ &                      $100.75(2.20)$ &              $26.02(0.41)$ &                       $26.75(0.64)$ \\\\\n",
      "FNO+$p4$        &             $10.44(0.47)$ &                       $10.38(0.38)$ &              $4.80(0.12)$ &                        $4.74(0.20)$ &              $14.14(0.14)$ &                       $14.21(0.15)$ &  $\\underline{15.75}(0.33)$ &           $\\underline{15.85}(0.31)$ \\\\\n",
      "FNO+$p4m$       &             $22.09(1.46)$ &                       $22.61(1.54)$ &             $13.06(3.29)$ &                       $12.81(2.80)$ &              $15.32(0.05)$ &                       $15.37(0.03)$ &              $22.25(0.21)$ &                       $22.24(0.20)$ \\\\\n",
      "$G$-FNO-$p4$    &     $\\mathbf{4.78}(0.39)$ &               $\\mathbf{4.78}(0.39)$ &     $\\mathbf{2.24}(0.09)$ &               $\\mathbf{2.24}(0.09)$ &     $\\mathbf{11.77}(0.13)$ &              $\\mathbf{11.77}(0.13)$ &     $\\mathbf{10.72}(0.27)$ &              $\\mathbf{10.72}(0.27)$ \\\\\n",
      "$G$-FNO-$p4m$   &  $\\underline{6.19}(0.61)$ &            $\\underline{6.19}(0.61)$ &  $\\underline{2.37}(0.19)$ &            $\\underline{2.37}(0.19)$ &              $12.71(0.31)$ &                       $12.71(0.31)$ &              $17.21(1.35)$ &                       $17.21(1.35)$ \\\\\n",
      "U-Net-$p4$      &             $18.40(0.44)$ &                       $18.40(0.44)$ &             $15.39(0.16)$ &                       $15.39(0.16)$ &              $24.62(0.29)$ &                       $24.62(0.29)$ &              $21.82(0.10)$ &                       $21.82(0.10)$ \\\\\n",
      "radialFNO-$p4$  &              $9.21(0.26)$ &                        $9.21(0.26)$ &             $12.81(0.42)$ &                       $12.81(0.42)$ &              $12.09(0.08)$ &                       $12.09(0.08)$ &              $17.54(0.60)$ &                       $17.54(0.60)$ \\\\\n",
      "radialFNO-$p4m$ &             $10.86(0.18)$ &                       $10.86(0.18)$ &             $17.39(0.22)$ &                       $17.39(0.22)$ &  $\\underline{11.83}(0.23)$ &           $\\underline{11.83}(0.23)$ &              $17.27(0.17)$ &                       $17.27(0.17)$ \\\\\n",
      "\\bottomrule\n",
      "\\end{tabular}\n",
      "\n"
     ]
    },
    {
     "name": "stderr",
     "output_type": "stream",
     "text": [
      "/tmp/ipykernel_3755212/3650052898.py:2: FutureWarning: In future versions `DataFrame.to_latex` is expected to utilise the base implementation of `Styler.to_latex` for formatting and rendering. The arguments signature may therefore change. It is recommended instead to use `DataFrame.style.to_latex` which also contains additional functionality.\n",
      "  print(ns_full.to_latex(escape=False, column_format=format, multicolumn_format=\"c\"))\n"
     ]
    }
   ],
   "source": [
    "format = \"l\" + \"|\".join([\"c\" * 4] * 2)\n",
    "print(ns_full.to_latex(escape=False, column_format=format, multicolumn_format=\"c\"))"
   ]
  },
  {
   "cell_type": "code",
   "execution_count": 18,
   "outputs": [],
   "source": [
    "swe3d = [mod for mod in mods3d if mod != 'Unet_Rot_3D'] + ['Unet_Rot32_3D']"
   ],
   "metadata": {
    "collapsed": false
   }
  },
  {
   "cell_type": "code",
   "execution_count": 19,
   "metadata": {},
   "outputs": [],
   "source": [
    "# SWE Main results\n",
    "\n",
    "arena2d = results_frame(exps[\"arena\"], mods2d, keys2d, prec=2, format=False,summary_only=True, remove_dimension=True, par_millions=True)\n",
    "arena3d = results_frame(exps[\"arena\"], swe3d, keys2d, prec=2, format=False,summary_only=True, remove_dimension=True, par_millions=True)\n",
    "swe2d = results_frame(exps[\"swe\"], mods2d, keys3d, prec=2, format=False,summary_only=True, remove_dimension=True, par_millions=True, ten3=True)\n",
    "swe3d = results_frame(exps[\"swe\"], mods3d, keys3d, prec=2, format=False,summary_only=True, remove_dimension=True, par_millions=True, ten3=True)\n",
    "\n",
    "# arena3d = swe3d.copy()\n",
    "# arena3d.iloc[:, 1] = np.nan\n",
    "\n",
    "swe2d.rename({\"Test (\\\\%)\":\"Test ($\\\\times10^{-3}$)\"}, axis=1, inplace=True)\n",
    "swe3d.rename({\"Test (\\\\%)\":\"Test ($\\\\times10^{-3}$)\"}, axis=1, inplace=True)\n",
    "\n",
    "\n",
    "swe2d_full = pd.concat({\"SWE-arena\":arena2d, \"SWE-bench\":swe2d}, axis=1)\n",
    "swe3d_full = pd.concat({\"SWE-arena\":arena3d, \"SWE-bench\":swe3d}, axis=1)\n",
    "\n",
    "swe_full = pd.concat({\"2D Models\": swe2d_full, \"3D Models\":swe3d_full},axis=1)"
   ]
  },
  {
   "cell_type": "code",
   "execution_count": 20,
   "metadata": {},
   "outputs": [
    {
     "data": {
      "text/plain": "                  2D Models                                         \\\n                  SWE-arena                              SWE-bench   \n                \\# Par. (M)                  Test (\\%) \\# Par. (M)   \nFNO                  $6.56$              $18.45(0.89)$      $0.93$   \nFNO+$p4$             $6.56$              $33.08(0.20)$      $0.93$   \nFNO+$p4m$            $6.56$              $44.24(1.63)$      $0.93$   \n$G$-FNO-$p4$         $6.36$     $\\mathbf{14.96}(0.06)$      $0.85$   \n$G$-FNO-$p4m$        $6.23$  $\\underline{16.20}(0.17)$      $0.84$   \nU-Net-$p4$           $6.90$              $28.79(0.08)$      $3.65$   \nradialFNO-$p4$       $6.79$              $23.37(0.14)$      $1.03$   \nradialFNO-$p4m$      $6.84$              $26.20(0.55)$      $0.95$   \n\n                                            3D Models  \\\n                                            SWE-arena   \n                   Test ($\\times10^{-3}$) \\# Par. (M)   \nFNO                          $1.22(0.07)$     $49.57$   \nFNO+$p4$                     $1.33(0.08)$     $49.57$   \nFNO+$p4m$                    $1.32(0.07)$     $49.57$   \n$G$-FNO-$p4$                 $1.21(0.02)$     $53.70$   \n$G$-FNO-$p4m$                $1.11(0.17)$     $56.81$   \nU-Net-$p4$                 $30.86(11.31)$      $6.08$   \nradialFNO-$p4$   $\\underline{0.71}(0.03)$     $53.40$   \nradialFNO-$p4m$     $\\mathbf{0.70}(0.07)$     $51.92$   \n\n                                                        \\\n                                             SWE-bench   \n                                 Test (\\%) \\# Par. (M)   \nFNO                 $\\mathbf{41.49}(0.12)$      $4.92$   \nFNO+$p4$                     $44.16(0.14)$      $4.92$   \nFNO+$p4m$                    $45.06(0.20)$      $4.92$   \n$G$-FNO-$p4$                 $43.68(0.55)$      $4.80$   \n$G$-FNO-$p4m$    $\\underline{43.46}(0.79)$      $3.89$   \nU-Net-$p4$                   $55.28(1.86)$      $6.08$   \nradialFNO-$p4$               $44.12(0.20)$      $4.98$   \nradialFNO-$p4m$              $44.76(0.15)$      $5.63$   \n\n                                           \n                                           \n                   Test ($\\times10^{-3}$)  \nFNO                          $1.59(0.02)$  \nFNO+$p4$                     $1.64(0.02)$  \nFNO+$p4m$                    $1.65(0.03)$  \n$G$-FNO-$p4$     $\\underline{1.44}(0.02)$  \n$G$-FNO-$p4m$       $\\mathbf{1.44}(0.02)$  \nU-Net-$p4$                   $8.03(0.35)$  \nradialFNO-$p4$               $1.54(0.02)$  \nradialFNO-$p4m$              $1.49(0.01)$  ",
      "text/html": "<div>\n<style scoped>\n    .dataframe tbody tr th:only-of-type {\n        vertical-align: middle;\n    }\n\n    .dataframe tbody tr th {\n        vertical-align: top;\n    }\n\n    .dataframe thead tr th {\n        text-align: left;\n    }\n</style>\n<table border=\"1\" class=\"dataframe\">\n  <thead>\n    <tr>\n      <th></th>\n      <th colspan=\"4\" halign=\"left\">2D Models</th>\n      <th colspan=\"4\" halign=\"left\">3D Models</th>\n    </tr>\n    <tr>\n      <th></th>\n      <th colspan=\"2\" halign=\"left\">SWE-arena</th>\n      <th colspan=\"2\" halign=\"left\">SWE-bench</th>\n      <th colspan=\"2\" halign=\"left\">SWE-arena</th>\n      <th colspan=\"2\" halign=\"left\">SWE-bench</th>\n    </tr>\n    <tr>\n      <th></th>\n      <th>\\# Par. (M)</th>\n      <th>Test (\\%)</th>\n      <th>\\# Par. (M)</th>\n      <th>Test ($\\times10^{-3}$)</th>\n      <th>\\# Par. (M)</th>\n      <th>Test (\\%)</th>\n      <th>\\# Par. (M)</th>\n      <th>Test ($\\times10^{-3}$)</th>\n    </tr>\n  </thead>\n  <tbody>\n    <tr>\n      <th>FNO</th>\n      <td>$6.56$</td>\n      <td>$18.45(0.89)$</td>\n      <td>$0.93$</td>\n      <td>$1.22(0.07)$</td>\n      <td>$49.57$</td>\n      <td>$\\mathbf{41.49}(0.12)$</td>\n      <td>$4.92$</td>\n      <td>$1.59(0.02)$</td>\n    </tr>\n    <tr>\n      <th>FNO+$p4$</th>\n      <td>$6.56$</td>\n      <td>$33.08(0.20)$</td>\n      <td>$0.93$</td>\n      <td>$1.33(0.08)$</td>\n      <td>$49.57$</td>\n      <td>$44.16(0.14)$</td>\n      <td>$4.92$</td>\n      <td>$1.64(0.02)$</td>\n    </tr>\n    <tr>\n      <th>FNO+$p4m$</th>\n      <td>$6.56$</td>\n      <td>$44.24(1.63)$</td>\n      <td>$0.93$</td>\n      <td>$1.32(0.07)$</td>\n      <td>$49.57$</td>\n      <td>$45.06(0.20)$</td>\n      <td>$4.92$</td>\n      <td>$1.65(0.03)$</td>\n    </tr>\n    <tr>\n      <th>$G$-FNO-$p4$</th>\n      <td>$6.36$</td>\n      <td>$\\mathbf{14.96}(0.06)$</td>\n      <td>$0.85$</td>\n      <td>$1.21(0.02)$</td>\n      <td>$53.70$</td>\n      <td>$43.68(0.55)$</td>\n      <td>$4.80$</td>\n      <td>$\\underline{1.44}(0.02)$</td>\n    </tr>\n    <tr>\n      <th>$G$-FNO-$p4m$</th>\n      <td>$6.23$</td>\n      <td>$\\underline{16.20}(0.17)$</td>\n      <td>$0.84$</td>\n      <td>$1.11(0.17)$</td>\n      <td>$56.81$</td>\n      <td>$\\underline{43.46}(0.79)$</td>\n      <td>$3.89$</td>\n      <td>$\\mathbf{1.44}(0.02)$</td>\n    </tr>\n    <tr>\n      <th>U-Net-$p4$</th>\n      <td>$6.90$</td>\n      <td>$28.79(0.08)$</td>\n      <td>$3.65$</td>\n      <td>$30.86(11.31)$</td>\n      <td>$6.08$</td>\n      <td>$55.28(1.86)$</td>\n      <td>$6.08$</td>\n      <td>$8.03(0.35)$</td>\n    </tr>\n    <tr>\n      <th>radialFNO-$p4$</th>\n      <td>$6.79$</td>\n      <td>$23.37(0.14)$</td>\n      <td>$1.03$</td>\n      <td>$\\underline{0.71}(0.03)$</td>\n      <td>$53.40$</td>\n      <td>$44.12(0.20)$</td>\n      <td>$4.98$</td>\n      <td>$1.54(0.02)$</td>\n    </tr>\n    <tr>\n      <th>radialFNO-$p4m$</th>\n      <td>$6.84$</td>\n      <td>$26.20(0.55)$</td>\n      <td>$0.95$</td>\n      <td>$\\mathbf{0.70}(0.07)$</td>\n      <td>$51.92$</td>\n      <td>$44.76(0.15)$</td>\n      <td>$5.63$</td>\n      <td>$1.49(0.01)$</td>\n    </tr>\n  </tbody>\n</table>\n</div>"
     },
     "execution_count": 20,
     "metadata": {},
     "output_type": "execute_result"
    }
   ],
   "source": [
    "swe_full"
   ]
  },
  {
   "cell_type": "code",
   "execution_count": 21,
   "metadata": {},
   "outputs": [
    {
     "name": "stdout",
     "output_type": "stream",
     "text": [
      "\\begin{tabular}{lcccc|cccc}\n",
      "\\toprule\n",
      "{} & \\multicolumn{4}{c}{2D Models} & \\multicolumn{4}{c}{3D Models} \\\\\n",
      "{} & \\multicolumn{2}{c}{SWE-arena} & \\multicolumn{2}{c}{SWE-bench} & \\multicolumn{2}{c}{SWE-arena} & \\multicolumn{2}{c}{SWE-bench} \\\\\n",
      "{} & \\# Par. (M) &                  Test (\\%) & \\# Par. (M) &    Test ($\\times10^{-3}$) & \\# Par. (M) &                  Test (\\%) & \\# Par. (M) &    Test ($\\times10^{-3}$) \\\\\n",
      "\\midrule\n",
      "FNO             &      $6.56$ &              $18.45(0.89)$ &      $0.93$ &              $1.22(0.07)$ &     $49.57$ &     $\\mathbf{41.49}(0.12)$ &      $4.92$ &              $1.59(0.02)$ \\\\\n",
      "FNO+$p4$        &      $6.56$ &              $33.08(0.20)$ &      $0.93$ &              $1.33(0.08)$ &     $49.57$ &              $44.16(0.14)$ &      $4.92$ &              $1.64(0.02)$ \\\\\n",
      "FNO+$p4m$       &      $6.56$ &              $44.24(1.63)$ &      $0.93$ &              $1.32(0.07)$ &     $49.57$ &              $45.06(0.20)$ &      $4.92$ &              $1.65(0.03)$ \\\\\n",
      "$G$-FNO-$p4$    &      $6.36$ &     $\\mathbf{14.96}(0.06)$ &      $0.85$ &              $1.21(0.02)$ &     $53.70$ &              $43.68(0.55)$ &      $4.80$ &  $\\underline{1.44}(0.02)$ \\\\\n",
      "$G$-FNO-$p4m$   &      $6.23$ &  $\\underline{16.20}(0.17)$ &      $0.84$ &              $1.11(0.17)$ &     $56.81$ &  $\\underline{43.46}(0.79)$ &      $3.89$ &     $\\mathbf{1.44}(0.02)$ \\\\\n",
      "U-Net-$p4$      &      $6.90$ &              $28.79(0.08)$ &      $3.65$ &            $30.86(11.31)$ &      $6.08$ &              $55.28(1.86)$ &      $6.08$ &              $8.03(0.35)$ \\\\\n",
      "radialFNO-$p4$  &      $6.79$ &              $23.37(0.14)$ &      $1.03$ &  $\\underline{0.71}(0.03)$ &     $53.40$ &              $44.12(0.20)$ &      $4.98$ &              $1.54(0.02)$ \\\\\n",
      "radialFNO-$p4m$ &      $6.84$ &              $26.20(0.55)$ &      $0.95$ &     $\\mathbf{0.70}(0.07)$ &     $51.92$ &              $44.76(0.15)$ &      $5.63$ &              $1.49(0.01)$ \\\\\n",
      "\\bottomrule\n",
      "\\end{tabular}\n",
      "\n"
     ]
    },
    {
     "name": "stderr",
     "output_type": "stream",
     "text": [
      "/tmp/ipykernel_3755212/3089597209.py:2: FutureWarning: In future versions `DataFrame.to_latex` is expected to utilise the base implementation of `Styler.to_latex` for formatting and rendering. The arguments signature may therefore change. It is recommended instead to use `DataFrame.style.to_latex` which also contains additional functionality.\n",
      "  print(swe_full.to_latex(escape=False, column_format=format, multicolumn_format=\"c\"))\n"
     ]
    }
   ],
   "source": [
    "format = \"l\" + \"|\".join([\"c\" * 4] * 2)\n",
    "print(swe_full.to_latex(escape=False, column_format=format, multicolumn_format=\"c\"))"
   ]
  },
  {
   "cell_type": "code",
   "execution_count": 10,
   "metadata": {},
   "outputs": [],
   "source": [
    "# SWE Super resolution\n",
    "\n",
    "swe2d = results_frame(exps[\"swe\"], mods2d, keys2d_super, prec=2, format=False,summary_only=True, remove_dimension=True, par_millions=True, ten3=True)\n",
    "swe3d = results_frame(exps[\"swe\"], mods3d, keys3d_super, prec=2, format=False,summary_only=True, remove_dimension=True, par_millions=True, ten3=True)\n",
    "\n",
    "swe2d.rename({\"Space Super-res. (\\\\%)\":\"SR Test ($\\\\times10^{-3}$)\", \"Space Int. (\\\\%)\":\"Int. Test ($\\\\times10^{-3}$)\"}, axis=1, inplace=True)\n",
    "swe3d.rename({\"Space-Time Super-res. (\\\\%)\":\"SR Test ($\\\\times10^{-3}$)\", \"Space-Time Int. (\\\\%)\":\"Int. Test ($\\\\times10^{-3}$)\"}, axis=1, inplace=True)\n",
    "\n",
    "swe_full = pd.concat({\"2D Models\":swe2d, \"3D Models\":swe3d}, axis=1)"
   ]
  },
  {
   "cell_type": "code",
   "execution_count": 11,
   "metadata": {},
   "outputs": [
    {
     "data": {
      "text/plain": "                                 2D Models                              \\\n                 SR Test ($\\times10^{-3}$) Int. Test ($\\times10^{-3}$)   \nFNO              $\\underline{15.56}(2.92)$               $16.15(0.01)$   \nFNO+$p4$            $\\mathbf{14.80}(3.30)$               $16.16(0.01)$   \nFNO+$p4m$                    $16.38(3.94)$               $16.16(0.01)$   \n$G$-FNO-$p4$                 $19.39(4.60)$               $16.15(0.00)$   \n$G$-FNO-$p4m$               $31.00(11.27)$               $16.15(0.01)$   \nU-Net-$p4$              $3009.65(2348.93)$               $35.19(9.48)$   \nradialFNO-$p4$               $30.40(4.20)$   $\\underline{16.12}(0.00)$   \nradialFNO-$p4m$              $22.42(0.95)$      $\\mathbf{16.12}(0.00)$   \n\n                                 3D Models                              \n                 SR Test ($\\times10^{-3}$) Int. Test ($\\times10^{-3}$)  \nFNO                          $16.90(0.58)$               $17.76(0.01)$  \nFNO+$p4$                     $17.19(0.86)$               $17.76(0.01)$  \nFNO+$p4m$                    $17.11(0.83)$               $17.75(0.01)$  \n$G$-FNO-$p4$                 $15.87(0.60)$      $\\mathbf{17.75}(0.00)$  \n$G$-FNO-$p4m$                $16.88(1.19)$   $\\underline{17.75}(0.00)$  \nU-Net-$p4$                 $167.76(36.77)$               $19.19(0.13)$  \nradialFNO-$p4$   $\\underline{14.48}(0.76)$               $17.76(0.00)$  \nradialFNO-$p4m$     $\\mathbf{13.36}(0.36)$               $17.76(0.00)$  ",
      "text/html": "<div>\n<style scoped>\n    .dataframe tbody tr th:only-of-type {\n        vertical-align: middle;\n    }\n\n    .dataframe tbody tr th {\n        vertical-align: top;\n    }\n\n    .dataframe thead tr th {\n        text-align: left;\n    }\n</style>\n<table border=\"1\" class=\"dataframe\">\n  <thead>\n    <tr>\n      <th></th>\n      <th colspan=\"2\" halign=\"left\">2D Models</th>\n      <th colspan=\"2\" halign=\"left\">3D Models</th>\n    </tr>\n    <tr>\n      <th></th>\n      <th>SR Test ($\\times10^{-3}$)</th>\n      <th>Int. Test ($\\times10^{-3}$)</th>\n      <th>SR Test ($\\times10^{-3}$)</th>\n      <th>Int. Test ($\\times10^{-3}$)</th>\n    </tr>\n  </thead>\n  <tbody>\n    <tr>\n      <th>FNO</th>\n      <td>$\\underline{15.56}(2.92)$</td>\n      <td>$16.15(0.01)$</td>\n      <td>$16.90(0.58)$</td>\n      <td>$17.76(0.01)$</td>\n    </tr>\n    <tr>\n      <th>FNO+$p4$</th>\n      <td>$\\mathbf{14.80}(3.30)$</td>\n      <td>$16.16(0.01)$</td>\n      <td>$17.19(0.86)$</td>\n      <td>$17.76(0.01)$</td>\n    </tr>\n    <tr>\n      <th>FNO+$p4m$</th>\n      <td>$16.38(3.94)$</td>\n      <td>$16.16(0.01)$</td>\n      <td>$17.11(0.83)$</td>\n      <td>$17.75(0.01)$</td>\n    </tr>\n    <tr>\n      <th>$G$-FNO-$p4$</th>\n      <td>$19.39(4.60)$</td>\n      <td>$16.15(0.00)$</td>\n      <td>$15.87(0.60)$</td>\n      <td>$\\mathbf{17.75}(0.00)$</td>\n    </tr>\n    <tr>\n      <th>$G$-FNO-$p4m$</th>\n      <td>$31.00(11.27)$</td>\n      <td>$16.15(0.01)$</td>\n      <td>$16.88(1.19)$</td>\n      <td>$\\underline{17.75}(0.00)$</td>\n    </tr>\n    <tr>\n      <th>U-Net-$p4$</th>\n      <td>$3009.65(2348.93)$</td>\n      <td>$35.19(9.48)$</td>\n      <td>$167.76(36.77)$</td>\n      <td>$19.19(0.13)$</td>\n    </tr>\n    <tr>\n      <th>radialFNO-$p4$</th>\n      <td>$30.40(4.20)$</td>\n      <td>$\\underline{16.12}(0.00)$</td>\n      <td>$\\underline{14.48}(0.76)$</td>\n      <td>$17.76(0.00)$</td>\n    </tr>\n    <tr>\n      <th>radialFNO-$p4m$</th>\n      <td>$22.42(0.95)$</td>\n      <td>$\\mathbf{16.12}(0.00)$</td>\n      <td>$\\mathbf{13.36}(0.36)$</td>\n      <td>$17.76(0.00)$</td>\n    </tr>\n  </tbody>\n</table>\n</div>"
     },
     "execution_count": 11,
     "metadata": {},
     "output_type": "execute_result"
    }
   ],
   "source": [
    "swe_full"
   ]
  },
  {
   "cell_type": "code",
   "execution_count": 12,
   "metadata": {},
   "outputs": [
    {
     "name": "stdout",
     "output_type": "stream",
     "text": [
      "\\begin{tabular}{lcc|cc}\n",
      "\\toprule\n",
      "{} & \\multicolumn{2}{c}{2D Models} & \\multicolumn{2}{c}{3D Models} \\\\\n",
      "{} &  SR Test ($\\times10^{-3}$) & Int. Test ($\\times10^{-3}$) &  SR Test ($\\times10^{-3}$) & Int. Test ($\\times10^{-3}$) \\\\\n",
      "\\midrule\n",
      "FNO             &  $\\underline{15.56}(2.92)$ &               $16.15(0.01)$ &              $16.90(0.58)$ &               $17.76(0.01)$ \\\\\n",
      "FNO+$p4$        &     $\\mathbf{14.80}(3.30)$ &               $16.16(0.01)$ &              $17.19(0.86)$ &               $17.76(0.01)$ \\\\\n",
      "FNO+$p4m$       &              $16.38(3.94)$ &               $16.16(0.01)$ &              $17.11(0.83)$ &               $17.75(0.01)$ \\\\\n",
      "$G$-FNO-$p4$    &              $19.39(4.60)$ &               $16.15(0.00)$ &              $15.87(0.60)$ &      $\\mathbf{17.75}(0.00)$ \\\\\n",
      "$G$-FNO-$p4m$   &             $31.00(11.27)$ &               $16.15(0.01)$ &              $16.88(1.19)$ &   $\\underline{17.75}(0.00)$ \\\\\n",
      "U-Net-$p4$      &         $3009.65(2348.93)$ &               $35.19(9.48)$ &            $167.76(36.77)$ &               $19.19(0.13)$ \\\\\n",
      "radialFNO-$p4$  &              $30.40(4.20)$ &   $\\underline{16.12}(0.00)$ &  $\\underline{14.48}(0.76)$ &               $17.76(0.00)$ \\\\\n",
      "radialFNO-$p4m$ &              $22.42(0.95)$ &      $\\mathbf{16.12}(0.00)$ &     $\\mathbf{13.36}(0.36)$ &               $17.76(0.00)$ \\\\\n",
      "\\bottomrule\n",
      "\\end{tabular}\n",
      "\n"
     ]
    },
    {
     "name": "stderr",
     "output_type": "stream",
     "text": [
      "/tmp/ipykernel_451806/3007986941.py:2: FutureWarning: In future versions `DataFrame.to_latex` is expected to utilise the base implementation of `Styler.to_latex` for formatting and rendering. The arguments signature may therefore change. It is recommended instead to use `DataFrame.style.to_latex` which also contains additional functionality.\n",
      "  print(swe_full.to_latex(escape=False, column_format=format, multicolumn_format=\"c\"))\n"
     ]
    }
   ],
   "source": [
    "format = \"l\" + \"|\".join([\"c\" * 2] * 2)\n",
    "print(swe_full.to_latex(escape=False, column_format=format, multicolumn_format=\"c\"))"
   ]
  },
  {
   "cell_type": "code",
   "execution_count": 14,
   "metadata": {},
   "outputs": [],
   "source": [
    "# SWE Rotation\n",
    "\n",
    "swe2d = results_frame(exps[\"swe\"], mods2d, keys2d_rotation, prec=2, format=False,summary_only=True, remove_dimension=True, par_millions=True, ten3=True)\n",
    "swe3d = results_frame(exps[\"swe\"], mods3d, keys3d_rotation, prec=2, format=False,summary_only=True, remove_dimension=True, par_millions=True, ten3=True)\n",
    "\n",
    "swe2d.rename({\"Test\\\\textsubscript{$90^\\circ$} (\\%)\":\"Test\\textsubscript{$90^\\circ$} ($\\\\times10^{-3}$)\", \"Test (\\%)\":\"Test ($\\\\times10^{-3}$)\"}, axis=1, inplace=True)\n",
    "swe3d.rename({\"Test\\\\textsubscript{$90^\\circ$} (\\%)\":\"Test\\textsubscript{$90^\\circ$} ($\\\\times10^{-3}$)\", \"Test (\\%)\":\"Test ($\\\\times10^{-3}$)\"}, axis=1, inplace=True)\n",
    "\n",
    "swe_full = pd.concat({\"2D Models\":swe2d, \"3D Models\":swe3d}, axis=1)"
   ]
  },
  {
   "cell_type": "code",
   "execution_count": 15,
   "metadata": {},
   "outputs": [
    {
     "name": "stdout",
     "output_type": "stream",
     "text": [
      "\\begin{tabular}{lcc|cc}\n",
      "\\toprule\n",
      "{} & \\multicolumn{2}{c}{2D Models} & \\multicolumn{2}{c}{3D Models} \\\\\n",
      "{} &    Test ($\\times10^{-3}$) & Test\\textsubscript{$90^\\circ$} ($\\times10^{-3}$) &    Test ($\\times10^{-3}$) & Test\\textsubscript{$90^\\circ$} ($\\times10^{-3}$) \\\\\n",
      "\\midrule\n",
      "FNO             &              $1.22(0.07)$ &                                     $1.50(0.05)$ &              $1.59(0.02)$ &                                     $1.80(0.02)$ \\\\\n",
      "FNO+$p4$        &              $1.33(0.08)$ &                                     $1.34(0.10)$ &              $1.64(0.02)$ &                                     $1.69(0.03)$ \\\\\n",
      "FNO+$p4m$       &              $1.32(0.07)$ &                                     $1.33(0.07)$ &              $1.65(0.03)$ &                                     $1.71(0.03)$ \\\\\n",
      "$G$-FNO-$p4$    &              $1.21(0.02)$ &                                     $1.21(0.02)$ &  $\\underline{1.44}(0.02)$ &                         $\\underline{1.44}(0.02)$ \\\\\n",
      "$G$-FNO-$p4m$   &              $1.11(0.17)$ &                                     $1.11(0.17)$ &     $\\mathbf{1.44}(0.02)$ &                            $\\mathbf{1.44}(0.02)$ \\\\\n",
      "U-Net-$p4$      &            $30.86(11.31)$ &                                   $30.86(11.31)$ &              $8.03(0.35)$ &                                     $8.03(0.35)$ \\\\\n",
      "radialFNO-$p4$  &  $\\underline{0.71}(0.03)$ &                         $\\underline{0.71}(0.03)$ &              $1.54(0.02)$ &                                     $1.54(0.02)$ \\\\\n",
      "radialFNO-$p4m$ &     $\\mathbf{0.70}(0.07)$ &                            $\\mathbf{0.70}(0.07)$ &              $1.49(0.01)$ &                                     $1.49(0.01)$ \\\\\n",
      "\\bottomrule\n",
      "\\end{tabular}\n",
      "\n"
     ]
    },
    {
     "name": "stderr",
     "output_type": "stream",
     "text": [
      "/tmp/ipykernel_451806/3007986941.py:2: FutureWarning: In future versions `DataFrame.to_latex` is expected to utilise the base implementation of `Styler.to_latex` for formatting and rendering. The arguments signature may therefore change. It is recommended instead to use `DataFrame.style.to_latex` which also contains additional functionality.\n",
      "  print(swe_full.to_latex(escape=False, column_format=format, multicolumn_format=\"c\"))\n"
     ]
    }
   ],
   "source": [
    "format = \"l\" + \"|\".join([\"c\" * 2] * 2)\n",
    "print(swe_full.to_latex(escape=False, column_format=format, multicolumn_format=\"c\"))"
   ]
  },
  {
   "cell_type": "markdown",
   "metadata": {},
   "source": [
    "# G Hybrid"
   ]
  },
  {
   "cell_type": "code",
   "execution_count": 27,
   "metadata": {},
   "outputs": [
    {
     "data": {
      "text/plain": "dict_keys(['ns_sym', 'swe', 'ns', 'arena', 'ns_markov', 'ns_steer', 'ns_recurrent', 'ns_hybrid', 'ns_nogrid', 'ns_symmetric', 'ns_cartesian'])"
     },
     "execution_count": 27,
     "metadata": {},
     "output_type": "execute_result"
    }
   ],
   "source": [
    "exps.keys()"
   ]
  },
  {
   "cell_type": "code",
   "execution_count": 28,
   "metadata": {},
   "outputs": [],
   "source": [
    "hyb_exps = exps['ns_hybrid'] + [exp for exp in exps['ns'] if 'FNO2d/' in exp or 'GFNO2d' in exp]\n",
    "hyb_exps_p4 = [exp for exp in hyb_exps if ('p4' in exp and 'p4m' not in exp) or 'FNO2d/' in exp]\n",
    "hyb_exps_p4m = [exp for exp in hyb_exps if 'p4m' in exp or 'FNO2d/' in exp]\n",
    "\n",
    "hybp4_mods = [\"FNO2d\", \"Ghybrid2d_p41\", \"Ghybrid2d_p42\", \"Ghybrid2d_p43\", \"GFNO2d_p4\"]\n",
    "hybp4m_mods = [\"FNO2d\", \"Ghybrid2d_p4m1\", \"Ghybrid2d_p4m2\", \"Ghybrid2d_p4m3\", \"GFNO2d_p4m\"]\n",
    "\n",
    "def hybrid_index(models):\n",
    "    n_equiv = []\n",
    "    for j in range(len(models)):\n",
    "        if 'Ghybrid-p4m' in models[j]:\n",
    "            n_equiv.append(models[j][-1])\n",
    "            # models[j] = f\"$G$-hybrid-$p4m$-{n_equiv[-1]}\"\n",
    "            models[j] = n_equiv[-1]\n",
    "        elif 'Ghybrid-p4' in models[j]:\n",
    "            n_equiv.append(models[j][-1])\n",
    "            # models[j] = f\"$G$-hybrid-$p4$-{n_equiv[-1]}\"\n",
    "            models[j] = n_equiv[-1]\n",
    "        else:\n",
    "            n_equiv.append(4 * ('p4' in models[j]))  # remaining models are FNO or GFNO\n",
    "    return models, n_equiv"
   ]
  },
  {
   "cell_type": "code",
   "execution_count": 29,
   "metadata": {},
   "outputs": [],
   "source": [
    "keys_hyb = ['Parameters'] + keys2d_rotation\n",
    "hybp4_df = results_frame(hyb_exps_p4, hybp4_mods, keys_hyb, prec=2, format=False,summary_only=True, remove_dimension=True, par_millions=True)\n",
    "models = list(hybp4_df.index)\n",
    "models, n_equiv = hybrid_index(models)\n",
    "hybp4_df.index = n_equiv\n",
    "\n",
    "hybp4m_df = results_frame(hyb_exps_p4m, hybp4m_mods, keys_hyb, prec=2, format=False,summary_only=True, remove_dimension=True, par_millions=True)\n",
    "models = list(hybp4m_df.index)\n",
    "models, n_equiv = hybrid_index(models)\n",
    "hybp4m_df.index = n_equiv\n",
    "\n",
    "n_eq = pd.DataFrame({\"\\# $G$-Fourier Layers\": n_equiv})\n",
    "n_eq.index = n_equiv\n",
    "\n",
    "hyb_full = pd.concat({\"\":n_eq, \"$p4$\": hybp4_df, \"$p4m$\": hybp4m_df}, axis=1)\n"
   ]
  },
  {
   "cell_type": "code",
   "execution_count": 30,
   "metadata": {},
   "outputs": [
    {
     "data": {
      "text/plain": "                               $p4$                            \\\n  \\# $G$-Fourier Layers \\# Par. (M)                 Test (\\%)   \n0                     0      $0.93$              $8.41(0.41)$   \n1                     1      $1.14$              $7.17(0.51)$   \n2                     2      $1.12$              $6.30(0.82)$   \n3                     3      $1.10$  $\\underline{6.12}(0.44)$   \n4                     4      $0.85$     $\\mathbf{4.78}(0.39)$   \n\n                                            $p4m$                            \\\n  Test\\textsubscript{$90^\\circ$} (\\%) \\# Par. (M)                 Test (\\%)   \n0                      $129.21(3.90)$      $0.93$              $8.41(0.41)$   \n1          $\\underline{126.53}(3.66)$      $1.32$  $\\underline{7.04}(0.41)$   \n2                      $127.89(4.99)$      $1.30$              $7.32(0.37)$   \n3                      $128.73(7.78)$      $1.27$              $7.29(0.14)$   \n4               $\\mathbf{4.78}(0.39)$      $0.84$     $\\mathbf{6.19}(0.61)$   \n\n                                       \n  Test\\textsubscript{$90^\\circ$} (\\%)  \n0                      $129.21(3.90)$  \n1                      $128.32(1.83)$  \n2                      $129.15(3.02)$  \n3          $\\underline{125.74}(9.08)$  \n4               $\\mathbf{6.19}(0.61)$  ",
      "text/html": "<div>\n<style scoped>\n    .dataframe tbody tr th:only-of-type {\n        vertical-align: middle;\n    }\n\n    .dataframe tbody tr th {\n        vertical-align: top;\n    }\n\n    .dataframe thead tr th {\n        text-align: left;\n    }\n</style>\n<table border=\"1\" class=\"dataframe\">\n  <thead>\n    <tr>\n      <th></th>\n      <th></th>\n      <th colspan=\"3\" halign=\"left\">$p4$</th>\n      <th colspan=\"3\" halign=\"left\">$p4m$</th>\n    </tr>\n    <tr>\n      <th></th>\n      <th>\\# $G$-Fourier Layers</th>\n      <th>\\# Par. (M)</th>\n      <th>Test (\\%)</th>\n      <th>Test\\textsubscript{$90^\\circ$} (\\%)</th>\n      <th>\\# Par. (M)</th>\n      <th>Test (\\%)</th>\n      <th>Test\\textsubscript{$90^\\circ$} (\\%)</th>\n    </tr>\n  </thead>\n  <tbody>\n    <tr>\n      <th>0</th>\n      <td>0</td>\n      <td>$0.93$</td>\n      <td>$8.41(0.41)$</td>\n      <td>$129.21(3.90)$</td>\n      <td>$0.93$</td>\n      <td>$8.41(0.41)$</td>\n      <td>$129.21(3.90)$</td>\n    </tr>\n    <tr>\n      <th>1</th>\n      <td>1</td>\n      <td>$1.14$</td>\n      <td>$7.17(0.51)$</td>\n      <td>$\\underline{126.53}(3.66)$</td>\n      <td>$1.32$</td>\n      <td>$\\underline{7.04}(0.41)$</td>\n      <td>$128.32(1.83)$</td>\n    </tr>\n    <tr>\n      <th>2</th>\n      <td>2</td>\n      <td>$1.12$</td>\n      <td>$6.30(0.82)$</td>\n      <td>$127.89(4.99)$</td>\n      <td>$1.30$</td>\n      <td>$7.32(0.37)$</td>\n      <td>$129.15(3.02)$</td>\n    </tr>\n    <tr>\n      <th>3</th>\n      <td>3</td>\n      <td>$1.10$</td>\n      <td>$\\underline{6.12}(0.44)$</td>\n      <td>$128.73(7.78)$</td>\n      <td>$1.27$</td>\n      <td>$7.29(0.14)$</td>\n      <td>$\\underline{125.74}(9.08)$</td>\n    </tr>\n    <tr>\n      <th>4</th>\n      <td>4</td>\n      <td>$0.85$</td>\n      <td>$\\mathbf{4.78}(0.39)$</td>\n      <td>$\\mathbf{4.78}(0.39)$</td>\n      <td>$0.84$</td>\n      <td>$\\mathbf{6.19}(0.61)$</td>\n      <td>$\\mathbf{6.19}(0.61)$</td>\n    </tr>\n  </tbody>\n</table>\n</div>"
     },
     "execution_count": 30,
     "metadata": {},
     "output_type": "execute_result"
    }
   ],
   "source": [
    "hyb_full"
   ]
  },
  {
   "cell_type": "code",
   "execution_count": 31,
   "metadata": {},
   "outputs": [
    {
     "name": "stdout",
     "output_type": "stream",
     "text": [
      "\\begin{tabular}{lccc|ccc}\n",
      "\\toprule\n",
      "                      & \\multicolumn{3}{c}{$p4$} & \\multicolumn{3}{c}{$p4m$} \\\\\n",
      "\\# $G$-Fourier Layers & \\# Par. (M) &                Test (\\%) & Test\\textsubscript{$90^\\circ$} (\\%) & \\# Par. (M) &                Test (\\%) & Test\\textsubscript{$90^\\circ$} (\\%) \\\\\n",
      "\\midrule\n",
      "                    0 &      $0.93$ &             $8.41(0.41)$ &                      $129.21(3.90)$ &      $0.93$ &             $8.41(0.41)$ &                      $129.21(3.90)$ \\\\\n",
      "                    1 &      $1.14$ &             $7.17(0.51)$ &          $\\underline{126.53}(3.66)$ &      $1.32$ & $\\underline{7.04}(0.41)$ &                      $128.32(1.83)$ \\\\\n",
      "                    2 &      $1.12$ &             $6.30(0.82)$ &                      $127.89(4.99)$ &      $1.30$ &             $7.32(0.37)$ &                      $129.15(3.02)$ \\\\\n",
      "                    3 &      $1.10$ & $\\underline{6.12}(0.44)$ &                      $128.73(7.78)$ &      $1.27$ &             $7.29(0.14)$ &          $\\underline{125.74}(9.08)$ \\\\\n",
      "                    4 &      $0.85$ &    $\\mathbf{4.78}(0.39)$ &               $\\mathbf{4.78}(0.39)$ &      $0.84$ &    $\\mathbf{6.19}(0.61)$ &               $\\mathbf{6.19}(0.61)$ \\\\\n",
      "\\bottomrule\n",
      "\\end{tabular}\n",
      "\n"
     ]
    },
    {
     "name": "stderr",
     "output_type": "stream",
     "text": [
      "/tmp/ipykernel_3755212/1881771958.py:2: FutureWarning: In future versions `DataFrame.to_latex` is expected to utilise the base implementation of `Styler.to_latex` for formatting and rendering. The arguments signature may therefore change. It is recommended instead to use `DataFrame.style.to_latex` which also contains additional functionality.\n",
      "  print(hyb_full.to_latex(escape=False, column_format=format, multicolumn_format=\"c\", index=False))\n"
     ]
    }
   ],
   "source": [
    "format = \"l\" + \"|\".join([\"c\" * 3] * 2)\n",
    "print(hyb_full.to_latex(escape=False, column_format=format, multicolumn_format=\"c\", index=False))"
   ]
  },
  {
   "cell_type": "markdown",
   "metadata": {},
   "source": [
    "# Training Strategy"
   ]
  },
  {
   "cell_type": "code",
   "execution_count": 26,
   "metadata": {},
   "outputs": [
    {
     "data": {
      "text/plain": "dict_keys(['ns_sym', 'swe', 'ns', 'arena', 'ns_markov', 'ns_steer', 'ns_recurrent', 'ns_hybrid', 'ns_nogrid', 'ns_symmetric', 'ns_cartesian'])"
     },
     "execution_count": 26,
     "metadata": {},
     "output_type": "execute_result"
    }
   ],
   "source": [
    "exps.keys()"
   ]
  },
  {
   "cell_type": "code",
   "execution_count": 27,
   "metadata": {},
   "outputs": [],
   "source": [
    "tune_keys = [\"Valid\", \"Super Space Test\"]\n",
    "# collect experiments by strategy\n",
    "strategy_mods = mods2d\n",
    "markov_exps = exps['ns_markov']\n",
    "recurrent_exps = exps['ns_recurrent']\n",
    "tf_exps = [exp for exp in exps['ns'] if '2d' in exp]"
   ]
  },
  {
   "cell_type": "code",
   "execution_count": 28,
   "metadata": {},
   "outputs": [],
   "source": [
    "strategy_exps = {\"Markov\": markov_exps, \"Recurrent\": recurrent_exps, \"Teacher Forcing\": tf_exps}\n",
    "strategy_dfs = {strategy: results_frame(exps, strategy_mods, tune_keys, format=0, par_millions=True, remove_dimension=True) for strategy, exps in strategy_exps.items()}"
   ]
  },
  {
   "cell_type": "code",
   "execution_count": 29,
   "metadata": {},
   "outputs": [
    {
     "data": {
      "text/plain": "                                                        Valid (\\%)  \\\nFNO              {'mean': 7.185795187950134, 'sd': 0.2760095831...   \nFNO+$p4$         {'mean': 10.899759729703268, 'sd': 0.239710071...   \nFNO+$p4m$        {'mean': 18.26482582092285, 'sd': 0.7529820869...   \n$G$-FNO-$p4$     {'mean': 5.0603160460789995, 'sd': 0.040300243...   \n$G$-FNO-$p4m$    {'mean': 6.58684515953064, 'sd': 0.95766801388...   \nU-Net-$p4$       {'mean': 33.6953550974528, 'sd': 3.99875334289...   \nradialFNO-$p4$   {'mean': 8.430923223495483, 'sd': 0.2479825729...   \nradialFNO-$p4m$  {'mean': 10.38261624177297, 'sd': 0.1874927634...   \n\n                                             Space Super-res. (\\%)  \nFNO              {'mean': 61.10313882430395, 'sd': 2.5842946801...  \nFNO+$p4$         {'mean': 60.4571396112442, 'sd': 2.92262616185...  \nFNO+$p4m$        {'mean': 60.41047250231107, 'sd': 2.2827869178...  \n$G$-FNO-$p4$     {'mean': 43.34861770272255, 'sd': 0.2436138668...  \n$G$-FNO-$p4m$    {'mean': 43.180257777372994, 'sd': 0.822311925...  \nU-Net-$p4$       {'mean': 110.59697926044464, 'sd': 0.920359098...  \nradialFNO-$p4$   {'mean': 43.14296081662178, 'sd': 0.2872593572...  \nradialFNO-$p4m$  {'mean': 43.74323094884554, 'sd': 0.0887487829...  ",
      "text/html": "<div>\n<style scoped>\n    .dataframe tbody tr th:only-of-type {\n        vertical-align: middle;\n    }\n\n    .dataframe tbody tr th {\n        vertical-align: top;\n    }\n\n    .dataframe thead th {\n        text-align: right;\n    }\n</style>\n<table border=\"1\" class=\"dataframe\">\n  <thead>\n    <tr style=\"text-align: right;\">\n      <th></th>\n      <th>Valid (\\%)</th>\n      <th>Space Super-res. (\\%)</th>\n    </tr>\n  </thead>\n  <tbody>\n    <tr>\n      <th>FNO</th>\n      <td>{'mean': 7.185795187950134, 'sd': 0.2760095831...</td>\n      <td>{'mean': 61.10313882430395, 'sd': 2.5842946801...</td>\n    </tr>\n    <tr>\n      <th>FNO+$p4$</th>\n      <td>{'mean': 10.899759729703268, 'sd': 0.239710071...</td>\n      <td>{'mean': 60.4571396112442, 'sd': 2.92262616185...</td>\n    </tr>\n    <tr>\n      <th>FNO+$p4m$</th>\n      <td>{'mean': 18.26482582092285, 'sd': 0.7529820869...</td>\n      <td>{'mean': 60.41047250231107, 'sd': 2.2827869178...</td>\n    </tr>\n    <tr>\n      <th>$G$-FNO-$p4$</th>\n      <td>{'mean': 5.0603160460789995, 'sd': 0.040300243...</td>\n      <td>{'mean': 43.34861770272255, 'sd': 0.2436138668...</td>\n    </tr>\n    <tr>\n      <th>$G$-FNO-$p4m$</th>\n      <td>{'mean': 6.58684515953064, 'sd': 0.95766801388...</td>\n      <td>{'mean': 43.180257777372994, 'sd': 0.822311925...</td>\n    </tr>\n    <tr>\n      <th>U-Net-$p4$</th>\n      <td>{'mean': 33.6953550974528, 'sd': 3.99875334289...</td>\n      <td>{'mean': 110.59697926044464, 'sd': 0.920359098...</td>\n    </tr>\n    <tr>\n      <th>radialFNO-$p4$</th>\n      <td>{'mean': 8.430923223495483, 'sd': 0.2479825729...</td>\n      <td>{'mean': 43.14296081662178, 'sd': 0.2872593572...</td>\n    </tr>\n    <tr>\n      <th>radialFNO-$p4m$</th>\n      <td>{'mean': 10.38261624177297, 'sd': 0.1874927634...</td>\n      <td>{'mean': 43.74323094884554, 'sd': 0.0887487829...</td>\n    </tr>\n  </tbody>\n</table>\n</div>"
     },
     "execution_count": 29,
     "metadata": {},
     "output_type": "execute_result"
    }
   ],
   "source": [
    "strategy_dfs['Markov']"
   ]
  },
  {
   "cell_type": "code",
   "execution_count": 30,
   "metadata": {},
   "outputs": [],
   "source": [
    "for strategy in strategy_exps.keys():\n",
    "    strategy_dfs[strategy]['Strategy'] = strategy\n",
    "    strategy_dfs[strategy] = strategy_dfs[strategy][[\"Strategy\", \"Valid (\\\\%)\", \"Space Super-res. (\\\\%)\"]]\n",
    "mod_strats = {mod: pd.DataFrame([df.loc[mod] for df in strategy_dfs.values()]).reset_index(drop=True) for mod in\n",
    "              strategy_dfs['Recurrent'].index}\n",
    "\n",
    "def format_stats(stats):\n",
    "    min_stat = sorted([stat['mean'] for stat in stats])[0]\n",
    "    second_stat = sorted([stat['mean'] for stat in stats])[1]\n",
    "    prec = 2\n",
    "    for j in range(len(stats)):\n",
    "        stat = stats[j]\n",
    "        if stat['mean'] == min_stat:\n",
    "            stat = f\"$\\\\mathbf{{{round_(stat['mean'], prec)}}}({round_(stat['sd'], prec)})$\"\n",
    "        elif stat['mean'] == second_stat:\n",
    "            stat = f\"$\\\\underline{{{round_(stat['mean'], prec)}}}({round_(stat['sd'], prec)})$\"\n",
    "        else:\n",
    "            stat = f\"${round_(stat['mean'], prec)}({round_(stat['sd'], prec)})$\"\n",
    "        stats[j] = stat\n",
    "\n",
    "for mod in mod_strats.keys():\n",
    "    mod_strats[mod].set_index(\"Strategy\", inplace=True)\n",
    "    format_stats(mod_strats[mod]['Valid (\\\\%)'])\n",
    "    format_stats(mod_strats[mod][\"Space Super-res. (\\\\%)\"])\n",
    "df = pd.concat(mod_strats)\n",
    "df.rename({\"Space Super-res. (\\\\%)\":\"SR Test (\\\\%)\"}, axis=1, inplace=True)"
   ]
  },
  {
   "cell_type": "code",
   "execution_count": 31,
   "metadata": {},
   "outputs": [],
   "source": [
    "df.index = pd.MultiIndex.from_tuples([(\"\\multirow{3}{*}{\" + model + \"}\", strategy) for model, strategy in df.index])"
   ]
  },
  {
   "cell_type": "code",
   "execution_count": 32,
   "metadata": {},
   "outputs": [
    {
     "name": "stdout",
     "output_type": "stream",
     "text": [
      "\\begin{tabular}{llcc}\n",
      "\\toprule\n",
      "                                 &                 &                 Valid (\\%) &                SR Test (\\%) \\\\\n",
      "\\midrule\n",
      "\\multirow{3}{*}{FNO} & Markov &      $\\mathbf{7.19}(0.28)$ &               $61.10(2.58)$ \\\\\n",
      "                                 & Recurrent &              $16.23(0.49)$ &      $\\mathbf{42.14}(0.25)$ \\\\\n",
      "                                 & Teacher Forcing &   $\\underline{8.64}(0.19)$ &   $\\underline{43.02}(0.18)$ \\\\\n",
      "\\multirow{3}{*}{FNO+$p4$} & Markov &  $\\underline{10.90}(0.24)$ &               $60.46(2.92)$ \\\\\n",
      "                                 & Recurrent &              $17.60(0.14)$ &      $\\mathbf{41.22}(0.41)$ \\\\\n",
      "                                 & Teacher Forcing &     $\\mathbf{10.70}(0.49)$ &   $\\underline{49.78}(8.40)$ \\\\\n",
      "\\multirow{3}{*}{FNO+$p4m$} & Markov &     $\\mathbf{18.26}(0.75)$ &               $60.41(2.28)$ \\\\\n",
      "                                 & Recurrent &  $\\underline{20.81}(0.28)$ &      $\\mathbf{40.63}(0.20)$ \\\\\n",
      "                                 & Teacher Forcing &              $22.43(1.59)$ &   $\\underline{54.04}(4.52)$ \\\\\n",
      "\\multirow{3}{*}{$G$-FNO-$p4$} & Markov &   $\\underline{5.06}(0.04)$ &   $\\underline{43.35}(0.24)$ \\\\\n",
      "                                 & Recurrent &              $13.20(0.06)$ &      $\\mathbf{42.36}(0.23)$ \\\\\n",
      "                                 & Teacher Forcing &      $\\mathbf{4.86}(0.32)$ &               $43.41(0.12)$ \\\\\n",
      "\\multirow{3}{*}{$G$-FNO-$p4m$} & Markov &      $\\mathbf{6.59}(0.96)$ &   $\\underline{43.18}(0.82)$ \\\\\n",
      "                                 & Recurrent &              $13.93(0.05)$ &      $\\mathbf{42.16}(0.34)$ \\\\\n",
      "                                 & Teacher Forcing &   $\\underline{6.73}(0.82)$ &               $43.78(0.33)$ \\\\\n",
      "\\multirow{3}{*}{U-Net-$p4$} & Markov &  $\\underline{33.70}(4.00)$ &  $\\underline{110.60}(0.92)$ \\\\\n",
      "                                 & Recurrent &              $51.61(7.68)$ &              $112.43(3.84)$ \\\\\n",
      "                                 & Teacher Forcing &     $\\mathbf{18.86}(0.53)$ &      $\\mathbf{92.00}(7.22)$ \\\\\n",
      "\\multirow{3}{*}{radialFNO-$p4$} & Markov &      $\\mathbf{8.43}(0.25)$ &   $\\underline{43.14}(0.29)$ \\\\\n",
      "                                 & Recurrent &              $13.51(0.07)$ &      $\\mathbf{42.55}(0.05)$ \\\\\n",
      "                                 & Teacher Forcing &   $\\underline{9.59}(0.05)$ &               $43.73(0.07)$ \\\\\n",
      "\\multirow{3}{*}{radialFNO-$p4m$} & Markov &     $\\mathbf{10.38}(0.19)$ &   $\\underline{43.74}(0.09)$ \\\\\n",
      "                                 & Recurrent &              $13.81(0.21)$ &      $\\mathbf{42.30}(0.27)$ \\\\\n",
      "                                 & Teacher Forcing &  $\\underline{11.51}(0.68)$ &               $43.91(0.69)$ \\\\\n",
      "\\bottomrule\n",
      "\\end{tabular}\n",
      "\n"
     ]
    },
    {
     "name": "stderr",
     "output_type": "stream",
     "text": [
      "/tmp/ipykernel_451806/1292847556.py:1: FutureWarning: In future versions `DataFrame.to_latex` is expected to utilise the base implementation of `Styler.to_latex` for formatting and rendering. The arguments signature may therefore change. It is recommended instead to use `DataFrame.style.to_latex` which also contains additional functionality.\n",
      "  print(df.to_latex(escape=False, multicolumn_format=\"c\", column_format=\"llcc\"))\n"
     ]
    }
   ],
   "source": [
    "print(df.to_latex(escape=False, multicolumn_format=\"c\", column_format=\"llcc\"))"
   ]
  },
  {
   "cell_type": "markdown",
   "metadata": {},
   "source": [
    "# Grid"
   ]
  },
  {
   "cell_type": "code",
   "execution_count": 33,
   "metadata": {},
   "outputs": [
    {
     "data": {
      "text/plain": "(15, 9, 24)"
     },
     "execution_count": 33,
     "metadata": {},
     "output_type": "execute_result"
    }
   ],
   "source": [
    "len(exps['ns_cartesian']), len(exps['ns_symmetric']), len(exps['ns_nogrid'])"
   ]
  },
  {
   "cell_type": "code",
   "execution_count": 34,
   "metadata": {},
   "outputs": [
    {
     "data": {
      "text/plain": "24"
     },
     "execution_count": 34,
     "metadata": {},
     "output_type": "execute_result"
    }
   ],
   "source": [
    "cartesian = exps['ns_cartesian'] + [exp for exp in exps['ns'] if 'FNO2d' in exp and 'G' not in exp]\n",
    "len(cartesian)"
   ]
  },
  {
   "cell_type": "code",
   "execution_count": 35,
   "metadata": {},
   "outputs": [
    {
     "data": {
      "text/plain": "24"
     },
     "execution_count": 35,
     "metadata": {},
     "output_type": "execute_result"
    }
   ],
   "source": [
    "symmetric = exps['ns_symmetric'] + [exp for exp in exps['ns'] if '_FNO' not in exp and '3d' not in exp and '3D' not in exp]\n",
    "len(symmetric)"
   ]
  },
  {
   "cell_type": "code",
   "execution_count": 36,
   "metadata": {},
   "outputs": [
    {
     "data": {
      "text/plain": "24"
     },
     "execution_count": 36,
     "metadata": {},
     "output_type": "execute_result"
    }
   ],
   "source": [
    "nogrid = exps['ns_nogrid']\n",
    "len(nogrid)"
   ]
  },
  {
   "cell_type": "code",
   "execution_count": 37,
   "metadata": {},
   "outputs": [],
   "source": [
    "exps.keys()\n",
    "tune_keys = [\"Valid\", \"Test\", \"Rotation Test\"]\n",
    "\n",
    "# collect experiments by grid\n",
    "grid_mods = mods2d\n",
    "grid_exps = {\"None\": nogrid, \"Symmetric\": symmetric, \"Cartesian\": cartesian}\n",
    "grid_dfs = {\n",
    "    grid: results_frame(exps, grid_mods, tune_keys, format=0, par_millions=True, remove_dimension=True) for\n",
    "    grid, exps in grid_exps.items()}"
   ]
  },
  {
   "cell_type": "code",
   "execution_count": 38,
   "metadata": {},
   "outputs": [
    {
     "data": {
      "text/plain": "                                                        Valid (\\%)  \\\nFNO              {'mean': 9.05258846282959, 'sd': 0.18974581456...   \nFNO+$p4$         {'mean': 10.822073380152384, 'sd': 0.207053272...   \nFNO+$p4m$        {'mean': 23.540175755818684, 'sd': 0.573807472...   \n$G$-FNO-$p4$     {'mean': 4.446248014767964, 'sd': 0.2735953713...   \n$G$-FNO-$p4m$    {'mean': 7.153340816497803, 'sd': 0.2533013744...   \nU-Net-$p4$       {'mean': 18.000698804855347, 'sd': 0.595628361...   \nradialFNO-$p4$   {'mean': 9.560741504033407, 'sd': 0.3102194159...   \nradialFNO-$p4m$  {'mean': 11.893613656361898, 'sd': 0.336177588...   \n\n                                                         Test (\\%)  \\\nFNO              {'mean': 8.536127408345541, 'sd': 0.3613272927...   \nFNO+$p4$         {'mean': 10.457118590672811, 'sd': 0.305529490...   \nFNO+$p4m$        {'mean': 23.069985230763752, 'sd': 1.292431773...   \n$G$-FNO-$p4$     {'mean': 4.469608346621196, 'sd': 0.2074924420...   \n$G$-FNO-$p4m$    {'mean': 6.746675729751587, 'sd': 0.1724088242...   \nU-Net-$p4$       {'mean': 17.94672171274821, 'sd': 0.0656687463...   \nradialFNO-$p4$   {'mean': 9.131907939910889, 'sd': 0.0927397596...   \nradialFNO-$p4m$  {'mean': 11.007163882255554, 'sd': 0.038575444...   \n\n                               Test\\textsubscript{$90^\\circ$} (\\%)  \nFNO              {'mean': 130.14233016967773, 'sd': 2.059915737...  \nFNO+$p4$         {'mean': 10.463987072308859, 'sd': 0.461810792...  \nFNO+$p4m$        {'mean': 23.6457618077596, 'sd': 1.04297725776...  \n$G$-FNO-$p4$     {'mean': 4.46962986389796, 'sd': 0.20748950785...  \n$G$-FNO-$p4m$    {'mean': 6.746685067812602, 'sd': 0.1723886786...  \nU-Net-$p4$       {'mean': 17.947948058446247, 'sd': 0.063016575...  \nradialFNO-$p4$   {'mean': 9.131918668746948, 'sd': 0.0927499944...  \nradialFNO-$p4m$  {'mean': 11.007185180981955, 'sd': 0.038499021...  ",
      "text/html": "<div>\n<style scoped>\n    .dataframe tbody tr th:only-of-type {\n        vertical-align: middle;\n    }\n\n    .dataframe tbody tr th {\n        vertical-align: top;\n    }\n\n    .dataframe thead th {\n        text-align: right;\n    }\n</style>\n<table border=\"1\" class=\"dataframe\">\n  <thead>\n    <tr style=\"text-align: right;\">\n      <th></th>\n      <th>Valid (\\%)</th>\n      <th>Test (\\%)</th>\n      <th>Test\\textsubscript{$90^\\circ$} (\\%)</th>\n    </tr>\n  </thead>\n  <tbody>\n    <tr>\n      <th>FNO</th>\n      <td>{'mean': 9.05258846282959, 'sd': 0.18974581456...</td>\n      <td>{'mean': 8.536127408345541, 'sd': 0.3613272927...</td>\n      <td>{'mean': 130.14233016967773, 'sd': 2.059915737...</td>\n    </tr>\n    <tr>\n      <th>FNO+$p4$</th>\n      <td>{'mean': 10.822073380152384, 'sd': 0.207053272...</td>\n      <td>{'mean': 10.457118590672811, 'sd': 0.305529490...</td>\n      <td>{'mean': 10.463987072308859, 'sd': 0.461810792...</td>\n    </tr>\n    <tr>\n      <th>FNO+$p4m$</th>\n      <td>{'mean': 23.540175755818684, 'sd': 0.573807472...</td>\n      <td>{'mean': 23.069985230763752, 'sd': 1.292431773...</td>\n      <td>{'mean': 23.6457618077596, 'sd': 1.04297725776...</td>\n    </tr>\n    <tr>\n      <th>$G$-FNO-$p4$</th>\n      <td>{'mean': 4.446248014767964, 'sd': 0.2735953713...</td>\n      <td>{'mean': 4.469608346621196, 'sd': 0.2074924420...</td>\n      <td>{'mean': 4.46962986389796, 'sd': 0.20748950785...</td>\n    </tr>\n    <tr>\n      <th>$G$-FNO-$p4m$</th>\n      <td>{'mean': 7.153340816497803, 'sd': 0.2533013744...</td>\n      <td>{'mean': 6.746675729751587, 'sd': 0.1724088242...</td>\n      <td>{'mean': 6.746685067812602, 'sd': 0.1723886786...</td>\n    </tr>\n    <tr>\n      <th>U-Net-$p4$</th>\n      <td>{'mean': 18.000698804855347, 'sd': 0.595628361...</td>\n      <td>{'mean': 17.94672171274821, 'sd': 0.0656687463...</td>\n      <td>{'mean': 17.947948058446247, 'sd': 0.063016575...</td>\n    </tr>\n    <tr>\n      <th>radialFNO-$p4$</th>\n      <td>{'mean': 9.560741504033407, 'sd': 0.3102194159...</td>\n      <td>{'mean': 9.131907939910889, 'sd': 0.0927397596...</td>\n      <td>{'mean': 9.131918668746948, 'sd': 0.0927499944...</td>\n    </tr>\n    <tr>\n      <th>radialFNO-$p4m$</th>\n      <td>{'mean': 11.893613656361898, 'sd': 0.336177588...</td>\n      <td>{'mean': 11.007163882255554, 'sd': 0.038575444...</td>\n      <td>{'mean': 11.007185180981955, 'sd': 0.038499021...</td>\n    </tr>\n  </tbody>\n</table>\n</div>"
     },
     "execution_count": 38,
     "metadata": {},
     "output_type": "execute_result"
    }
   ],
   "source": [
    "grid_dfs['None']"
   ]
  },
  {
   "cell_type": "code",
   "execution_count": 39,
   "metadata": {},
   "outputs": [
    {
     "data": {
      "text/plain": "                                                        Valid (\\%)  \\\nFNO              {'mean': 9.014573812484741, 'sd': 0.2602454404...   \nFNO+$p4$         {'mean': 10.625682274500528, 'sd': 0.066405769...   \nFNO+$p4m$        {'mean': 23.67054057121277, 'sd': 1.3136283617...   \n$G$-FNO-$p4$     {'mean': 4.8642130096753435, 'sd': 0.318567073...   \n$G$-FNO-$p4m$    {'mean': 6.727189421653748, 'sd': 0.8240622220...   \nU-Net-$p4$       {'mean': 18.862011591593426, 'sd': 0.526796956...   \nradialFNO-$p4$   {'mean': 9.59197203318278, 'sd': 0.05006147528...   \nradialFNO-$p4m$  {'mean': 11.51237948735555, 'sd': 0.6846004338...   \n\n                                                         Test (\\%)  \\\nFNO              {'mean': 8.948764642079672, 'sd': 0.1833960657...   \nFNO+$p4$         {'mean': 11.040176590283712, 'sd': 0.260041133...   \nFNO+$p4m$        {'mean': 23.286169687906902, 'sd': 0.439226961...   \n$G$-FNO-$p4$     {'mean': 4.781348029772441, 'sd': 0.3853128675...   \n$G$-FNO-$p4m$    {'mean': 6.186302085717519, 'sd': 0.6132987009...   \nU-Net-$p4$       {'mean': 18.404366493225098, 'sd': 0.435045484...   \nradialFNO-$p4$   {'mean': 9.205094655354818, 'sd': 0.2628118306...   \nradialFNO-$p4m$  {'mean': 10.861871441205343, 'sd': 0.183633212...   \n\n                               Test\\textsubscript{$90^\\circ$} (\\%)  \nFNO              {'mean': 129.08466720581055, 'sd': 3.951227049...  \nFNO+$p4$         {'mean': 10.466412981351217, 'sd': 0.361382297...  \nFNO+$p4m$        {'mean': 23.0897114276886, 'sd': 0.28569644931...  \n$G$-FNO-$p4$     {'mean': 4.781357069810231, 'sd': 0.3852913003...  \n$G$-FNO-$p4m$    {'mean': 6.18630172808965, 'sd': 0.61330382523...  \nU-Net-$p4$       {'mean': 18.404366493225098, 'sd': 0.435042889...  \nradialFNO-$p4$   {'mean': 9.205117424329122, 'sd': 0.2628167962...  \nradialFNO-$p4m$  {'mean': 10.861878116925558, 'sd': 0.183648826...  ",
      "text/html": "<div>\n<style scoped>\n    .dataframe tbody tr th:only-of-type {\n        vertical-align: middle;\n    }\n\n    .dataframe tbody tr th {\n        vertical-align: top;\n    }\n\n    .dataframe thead th {\n        text-align: right;\n    }\n</style>\n<table border=\"1\" class=\"dataframe\">\n  <thead>\n    <tr style=\"text-align: right;\">\n      <th></th>\n      <th>Valid (\\%)</th>\n      <th>Test (\\%)</th>\n      <th>Test\\textsubscript{$90^\\circ$} (\\%)</th>\n    </tr>\n  </thead>\n  <tbody>\n    <tr>\n      <th>FNO</th>\n      <td>{'mean': 9.014573812484741, 'sd': 0.2602454404...</td>\n      <td>{'mean': 8.948764642079672, 'sd': 0.1833960657...</td>\n      <td>{'mean': 129.08466720581055, 'sd': 3.951227049...</td>\n    </tr>\n    <tr>\n      <th>FNO+$p4$</th>\n      <td>{'mean': 10.625682274500528, 'sd': 0.066405769...</td>\n      <td>{'mean': 11.040176590283712, 'sd': 0.260041133...</td>\n      <td>{'mean': 10.466412981351217, 'sd': 0.361382297...</td>\n    </tr>\n    <tr>\n      <th>FNO+$p4m$</th>\n      <td>{'mean': 23.67054057121277, 'sd': 1.3136283617...</td>\n      <td>{'mean': 23.286169687906902, 'sd': 0.439226961...</td>\n      <td>{'mean': 23.0897114276886, 'sd': 0.28569644931...</td>\n    </tr>\n    <tr>\n      <th>$G$-FNO-$p4$</th>\n      <td>{'mean': 4.8642130096753435, 'sd': 0.318567073...</td>\n      <td>{'mean': 4.781348029772441, 'sd': 0.3853128675...</td>\n      <td>{'mean': 4.781357069810231, 'sd': 0.3852913003...</td>\n    </tr>\n    <tr>\n      <th>$G$-FNO-$p4m$</th>\n      <td>{'mean': 6.727189421653748, 'sd': 0.8240622220...</td>\n      <td>{'mean': 6.186302085717519, 'sd': 0.6132987009...</td>\n      <td>{'mean': 6.18630172808965, 'sd': 0.61330382523...</td>\n    </tr>\n    <tr>\n      <th>U-Net-$p4$</th>\n      <td>{'mean': 18.862011591593426, 'sd': 0.526796956...</td>\n      <td>{'mean': 18.404366493225098, 'sd': 0.435045484...</td>\n      <td>{'mean': 18.404366493225098, 'sd': 0.435042889...</td>\n    </tr>\n    <tr>\n      <th>radialFNO-$p4$</th>\n      <td>{'mean': 9.59197203318278, 'sd': 0.05006147528...</td>\n      <td>{'mean': 9.205094655354818, 'sd': 0.2628118306...</td>\n      <td>{'mean': 9.205117424329122, 'sd': 0.2628167962...</td>\n    </tr>\n    <tr>\n      <th>radialFNO-$p4m$</th>\n      <td>{'mean': 11.51237948735555, 'sd': 0.6846004338...</td>\n      <td>{'mean': 10.861871441205343, 'sd': 0.183633212...</td>\n      <td>{'mean': 10.861878116925558, 'sd': 0.183648826...</td>\n    </tr>\n  </tbody>\n</table>\n</div>"
     },
     "execution_count": 39,
     "metadata": {},
     "output_type": "execute_result"
    }
   ],
   "source": [
    "grid_dfs['Symmetric']"
   ]
  },
  {
   "cell_type": "code",
   "execution_count": 40,
   "metadata": {},
   "outputs": [
    {
     "data": {
      "text/plain": "                                                        Valid (\\%)  \\\nFNO              {'mean': 8.639811833699545, 'sd': 0.1916359586...   \nFNO+$p4$         {'mean': 10.700923681259155, 'sd': 0.493220610...   \nFNO+$p4m$        {'mean': 22.432045936584473, 'sd': 1.590954218...   \n$G$-FNO-$p4$     {'mean': 4.605937361717224, 'sd': 0.2532977321...   \n$G$-FNO-$p4m$    {'mean': 6.862679958343506, 'sd': 0.1738919711...   \nU-Net-$p4$       {'mean': 18.839237133661907, 'sd': 1.147875126...   \nradialFNO-$p4$   {'mean': 9.785064379374186, 'sd': 0.3100138107...   \nradialFNO-$p4m$  {'mean': 11.361075520515442, 'sd': 0.444620301...   \n\n                                                         Test (\\%)  \\\nFNO              {'mean': 8.410162965456644, 'sd': 0.4081481196...   \nFNO+$p4$         {'mean': 10.444285909334818, 'sd': 0.470016048...   \nFNO+$p4m$        {'mean': 22.088563442230225, 'sd': 1.462111046...   \n$G$-FNO-$p4$     {'mean': 4.390383005142212, 'sd': 0.2480714893...   \n$G$-FNO-$p4m$    {'mean': 6.665010253588359, 'sd': 0.3163513237...   \nU-Net-$p4$       {'mean': 17.73415207862854, 'sd': 0.1339453835...   \nradialFNO-$p4$   {'mean': 9.578201611836752, 'sd': 0.0540160009...   \nradialFNO-$p4m$  {'mean': 11.200425664583841, 'sd': 0.118494934...   \n\n                               Test\\textsubscript{$90^\\circ$} (\\%)  \nFNO              {'mean': 129.21417427062988, 'sd': 3.898874899...  \nFNO+$p4$         {'mean': 10.377301494280497, 'sd': 0.382363717...  \nFNO+$p4m$        {'mean': 22.607455571492512, 'sd': 1.539465679...  \n$G$-FNO-$p4$     {'mean': 4.388887306054433, 'sd': 0.2457127486...  \n$G$-FNO-$p4m$    {'mean': 6.667257010936737, 'sd': 0.3214247618...  \nU-Net-$p4$       {'mean': 18.06775776545207, 'sd': 0.2675799222...  \nradialFNO-$p4$   {'mean': 24.749619046847027, 'sd': 20.20425553...  \nradialFNO-$p4m$  {'mean': 11.83778707186381, 'sd': 1.0193949365...  ",
      "text/html": "<div>\n<style scoped>\n    .dataframe tbody tr th:only-of-type {\n        vertical-align: middle;\n    }\n\n    .dataframe tbody tr th {\n        vertical-align: top;\n    }\n\n    .dataframe thead th {\n        text-align: right;\n    }\n</style>\n<table border=\"1\" class=\"dataframe\">\n  <thead>\n    <tr style=\"text-align: right;\">\n      <th></th>\n      <th>Valid (\\%)</th>\n      <th>Test (\\%)</th>\n      <th>Test\\textsubscript{$90^\\circ$} (\\%)</th>\n    </tr>\n  </thead>\n  <tbody>\n    <tr>\n      <th>FNO</th>\n      <td>{'mean': 8.639811833699545, 'sd': 0.1916359586...</td>\n      <td>{'mean': 8.410162965456644, 'sd': 0.4081481196...</td>\n      <td>{'mean': 129.21417427062988, 'sd': 3.898874899...</td>\n    </tr>\n    <tr>\n      <th>FNO+$p4$</th>\n      <td>{'mean': 10.700923681259155, 'sd': 0.493220610...</td>\n      <td>{'mean': 10.444285909334818, 'sd': 0.470016048...</td>\n      <td>{'mean': 10.377301494280497, 'sd': 0.382363717...</td>\n    </tr>\n    <tr>\n      <th>FNO+$p4m$</th>\n      <td>{'mean': 22.432045936584473, 'sd': 1.590954218...</td>\n      <td>{'mean': 22.088563442230225, 'sd': 1.462111046...</td>\n      <td>{'mean': 22.607455571492512, 'sd': 1.539465679...</td>\n    </tr>\n    <tr>\n      <th>$G$-FNO-$p4$</th>\n      <td>{'mean': 4.605937361717224, 'sd': 0.2532977321...</td>\n      <td>{'mean': 4.390383005142212, 'sd': 0.2480714893...</td>\n      <td>{'mean': 4.388887306054433, 'sd': 0.2457127486...</td>\n    </tr>\n    <tr>\n      <th>$G$-FNO-$p4m$</th>\n      <td>{'mean': 6.862679958343506, 'sd': 0.1738919711...</td>\n      <td>{'mean': 6.665010253588359, 'sd': 0.3163513237...</td>\n      <td>{'mean': 6.667257010936737, 'sd': 0.3214247618...</td>\n    </tr>\n    <tr>\n      <th>U-Net-$p4$</th>\n      <td>{'mean': 18.839237133661907, 'sd': 1.147875126...</td>\n      <td>{'mean': 17.73415207862854, 'sd': 0.1339453835...</td>\n      <td>{'mean': 18.06775776545207, 'sd': 0.2675799222...</td>\n    </tr>\n    <tr>\n      <th>radialFNO-$p4$</th>\n      <td>{'mean': 9.785064379374186, 'sd': 0.3100138107...</td>\n      <td>{'mean': 9.578201611836752, 'sd': 0.0540160009...</td>\n      <td>{'mean': 24.749619046847027, 'sd': 20.20425553...</td>\n    </tr>\n    <tr>\n      <th>radialFNO-$p4m$</th>\n      <td>{'mean': 11.361075520515442, 'sd': 0.444620301...</td>\n      <td>{'mean': 11.200425664583841, 'sd': 0.118494934...</td>\n      <td>{'mean': 11.83778707186381, 'sd': 1.0193949365...</td>\n    </tr>\n  </tbody>\n</table>\n</div>"
     },
     "execution_count": 40,
     "metadata": {},
     "output_type": "execute_result"
    }
   ],
   "source": [
    "grid_dfs['Cartesian']"
   ]
  },
  {
   "cell_type": "code",
   "execution_count": 42,
   "metadata": {},
   "outputs": [
    {
     "name": "stdout",
     "output_type": "stream",
     "text": [
      "\\begin{tabular}{llcc}\n",
      "\\toprule\n",
      "                                 &           &                 Valid (\\%) &                  Test (\\%) & Test\\textsubscript{$90^\\circ$} (\\%) \\\\\n",
      "\\midrule\n",
      "\\multirow{3}{*}{FNO} & None &               $9.05(0.19)$ &   $\\underline{8.54}(0.36)$ &                      $130.14(2.06)$ \\\\\n",
      "                                 & Symmetric &   $\\underline{9.01}(0.26)$ &               $8.95(0.18)$ &             $\\mathbf{129.08}(3.95)$ \\\\\n",
      "                                 & Cartesian &      $\\mathbf{8.64}(0.19)$ &      $\\mathbf{8.41}(0.41)$ &          $\\underline{129.21}(3.90)$ \\\\\n",
      "\\multirow{3}{*}{FNO+$p4$} & None &              $10.82(0.21)$ &  $\\underline{10.46}(0.31)$ &           $\\underline{10.46}(0.46)$ \\\\\n",
      "                                 & Symmetric &     $\\mathbf{10.63}(0.07)$ &              $11.04(0.26)$ &                       $10.47(0.36)$ \\\\\n",
      "                                 & Cartesian &  $\\underline{10.70}(0.49)$ &     $\\mathbf{10.44}(0.47)$ &              $\\mathbf{10.38}(0.38)$ \\\\\n",
      "\\multirow{3}{*}{FNO+$p4m$} & None &  $\\underline{23.54}(0.57)$ &  $\\underline{23.07}(1.29)$ &                       $23.65(1.04)$ \\\\\n",
      "                                 & Symmetric &              $23.67(1.31)$ &              $23.29(0.44)$ &           $\\underline{23.09}(0.29)$ \\\\\n",
      "                                 & Cartesian &     $\\mathbf{22.43}(1.59)$ &     $\\mathbf{22.09}(1.46)$ &              $\\mathbf{22.61}(1.54)$ \\\\\n",
      "\\multirow{3}{*}{$G$-FNO-$p4$} & None &      $\\mathbf{4.45}(0.27)$ &   $\\underline{4.47}(0.21)$ &            $\\underline{4.47}(0.21)$ \\\\\n",
      "                                 & Symmetric &               $4.86(0.32)$ &               $4.78(0.39)$ &                        $4.78(0.39)$ \\\\\n",
      "                                 & Cartesian &   $\\underline{4.61}(0.25)$ &      $\\mathbf{4.39}(0.25)$ &               $\\mathbf{4.39}(0.25)$ \\\\\n",
      "\\multirow{3}{*}{$G$-FNO-$p4m$} & None &               $7.15(0.25)$ &               $6.75(0.17)$ &                        $6.75(0.17)$ \\\\\n",
      "                                 & Symmetric &      $\\mathbf{6.73}(0.82)$ &      $\\mathbf{6.19}(0.61)$ &               $\\mathbf{6.19}(0.61)$ \\\\\n",
      "                                 & Cartesian &   $\\underline{6.86}(0.17)$ &   $\\underline{6.67}(0.32)$ &            $\\underline{6.67}(0.32)$ \\\\\n",
      "\\multirow{3}{*}{U-Net-$p4$} & None &     $\\mathbf{18.00}(0.60)$ &  $\\underline{17.95}(0.07)$ &              $\\mathbf{17.95}(0.06)$ \\\\\n",
      "                                 & Symmetric &              $18.86(0.53)$ &              $18.40(0.44)$ &                       $18.40(0.44)$ \\\\\n",
      "                                 & Cartesian &  $\\underline{18.84}(1.15)$ &     $\\mathbf{17.73}(0.13)$ &           $\\underline{18.07}(0.27)$ \\\\\n",
      "\\multirow{3}{*}{radialFNO-$p4$} & None &      $\\mathbf{9.56}(0.31)$ &      $\\mathbf{9.13}(0.09)$ &               $\\mathbf{9.13}(0.09)$ \\\\\n",
      "                                 & Symmetric &   $\\underline{9.59}(0.05)$ &   $\\underline{9.21}(0.26)$ &            $\\underline{9.21}(0.26)$ \\\\\n",
      "                                 & Cartesian &               $9.79(0.31)$ &               $9.58(0.05)$ &                      $24.75(20.20)$ \\\\\n",
      "\\multirow{3}{*}{radialFNO-$p4m$} & None &              $11.89(0.34)$ &  $\\underline{11.01}(0.04)$ &           $\\underline{11.01}(0.04)$ \\\\\n",
      "                                 & Symmetric &  $\\underline{11.51}(0.68)$ &     $\\mathbf{10.86}(0.18)$ &              $\\mathbf{10.86}(0.18)$ \\\\\n",
      "                                 & Cartesian &     $\\mathbf{11.36}(0.44)$ &              $11.20(0.12)$ &                       $11.84(1.02)$ \\\\\n",
      "\\bottomrule\n",
      "\\end{tabular}\n",
      "\n"
     ]
    },
    {
     "name": "stderr",
     "output_type": "stream",
     "text": [
      "/tmp/ipykernel_451806/1997091089.py:13: FutureWarning: In future versions `DataFrame.to_latex` is expected to utilise the base implementation of `Styler.to_latex` for formatting and rendering. The arguments signature may therefore change. It is recommended instead to use `DataFrame.style.to_latex` which also contains additional functionality.\n",
      "  print(df.to_latex(escape=False, multicolumn_format=\"c\", column_format=\"llcc\"))\n"
     ]
    }
   ],
   "source": [
    "for grid in grid_exps.keys():\n",
    "    grid_dfs[grid]['Positional Encoding'] = grid\n",
    "    grid_dfs[grid] = grid_dfs[grid][[\"Positional Encoding\", \"Valid (\\\\%)\", \"Test (\\\\%)\", \"Test\\\\textsubscript{$90^\\\\circ$} (\\\\%)\"]]\n",
    "mod_grid = {mod: pd.DataFrame([df.loc[mod] for df in grid_dfs.values()]).reset_index(drop=True) for mod in\n",
    "              grid_dfs['None'].index}\n",
    "for mod in mod_grid.keys():\n",
    "    mod_grid[mod].set_index(\"Positional Encoding\", inplace=True)\n",
    "    format_stats(mod_grid[mod]['Valid (\\\\%)'])\n",
    "    format_stats(mod_grid[mod]['Test (\\\\%)'])\n",
    "    format_stats(mod_grid[mod]['Test\\\\textsubscript{$90^\\\\circ$} (\\\\%)'])\n",
    "df = pd.concat(mod_grid)\n",
    "df.index = pd.MultiIndex.from_tuples([(\"\\multirow{3}{*}{\" + model + \"}\", grid) for model, grid in df.index])\n",
    "print(df.to_latex(escape=False, multicolumn_format=\"c\", column_format=\"llcc\"))"
   ]
  },
  {
   "cell_type": "markdown",
   "metadata": {},
   "source": [
    "# Steerable"
   ]
  },
  {
   "cell_type": "code",
   "execution_count": 48,
   "metadata": {},
   "outputs": [
    {
     "data": {
      "text/plain": "dict_keys(['ns_sym', 'swe', 'ns', 'arena', 'ns_markov', 'ns_steer', 'ns_recurrent', 'ns_hybrid', 'ns_nogrid', 'ns_symmetric', 'ns_cartesian'])"
     },
     "execution_count": 48,
     "metadata": {},
     "output_type": "execute_result"
    }
   ],
   "source": [
    "exps.keys()"
   ]
  },
  {
   "cell_type": "code",
   "execution_count": 49,
   "metadata": {},
   "outputs": [
    {
     "data": {
      "text/plain": "6"
     },
     "execution_count": 49,
     "metadata": {},
     "output_type": "execute_result"
    }
   ],
   "source": [
    "len(exps['ns_steer'])"
   ]
  },
  {
   "cell_type": "code",
   "execution_count": 50,
   "metadata": {},
   "outputs": [],
   "source": [
    "steerable_exps = exps['ns_steer']\n",
    "gfno_ns_exps = [exp for exp in exps['ns'] if 'GFNO2d' in exp]"
   ]
  },
  {
   "cell_type": "code",
   "execution_count": 51,
   "metadata": {},
   "outputs": [
    {
     "data": {
      "text/plain": "(6, 6)"
     },
     "execution_count": 51,
     "metadata": {},
     "output_type": "execute_result"
    }
   ],
   "source": [
    "len(steerable_exps), len(gfno_ns_exps)"
   ]
  },
  {
   "cell_type": "code",
   "execution_count": 52,
   "metadata": {},
   "outputs": [],
   "source": [
    "steerable_mods = ['GFNO2d_p4_steer', 'GFNO2d_p4m_steer', 'GFNO2d_p4', 'GFNO2d_p4m']\n",
    "keys_steer = ['Parameters', 'Test', 'Rotation Test']"
   ]
  },
  {
   "cell_type": "code",
   "execution_count": 53,
   "metadata": {},
   "outputs": [],
   "source": [
    "steer = results_frame(steerable_exps + gfno_ns_exps, steerable_mods, keys_steer, prec=2, format=False,summary_only=True, remove_dimension=True, par_millions=True)"
   ]
  },
  {
   "cell_type": "code",
   "execution_count": 54,
   "metadata": {},
   "outputs": [],
   "source": [
    "steer.index = [mod.replace('-p4-', '-$p4$-').replace('-p4m-', '-$p4m$-') for mod in list(steer.index)]"
   ]
  },
  {
   "cell_type": "code",
   "execution_count": 55,
   "metadata": {},
   "outputs": [
    {
     "name": "stdout",
     "output_type": "stream",
     "text": [
      "\\begin{tabular}{lcc}\n",
      "\\toprule\n",
      "{} & \\# Par. (M) &                 Test (\\%) & Test\\textsubscript{$90^\\circ$} (\\%) \\\\\n",
      "\\midrule\n",
      "$G$-FNO-$p4$-steer  &      $0.83$ &             $20.87(1.25)$ &                       $20.87(1.25)$ \\\\\n",
      "$G$-FNO-$p4m$-steer &      $0.89$ &             $22.58(0.41)$ &                       $22.58(0.41)$ \\\\\n",
      "$G$-FNO-$p4$        &      $0.85$ &     $\\mathbf{4.78}(0.39)$ &               $\\mathbf{4.78}(0.39)$ \\\\\n",
      "$G$-FNO-$p4m$       &      $0.84$ &  $\\underline{6.19}(0.61)$ &            $\\underline{6.19}(0.61)$ \\\\\n",
      "\\bottomrule\n",
      "\\end{tabular}\n",
      "\n"
     ]
    },
    {
     "name": "stderr",
     "output_type": "stream",
     "text": [
      "/tmp/ipykernel_3755212/2369649096.py:1: FutureWarning: In future versions `DataFrame.to_latex` is expected to utilise the base implementation of `Styler.to_latex` for formatting and rendering. The arguments signature may therefore change. It is recommended instead to use `DataFrame.style.to_latex` which also contains additional functionality.\n",
      "  print(steer.to_latex(escape=False, column_format=\"lcc\"))\n"
     ]
    }
   ],
   "source": [
    "print(steer.to_latex(escape=False, column_format=\"lcc\"))"
   ]
  },
  {
   "cell_type": "markdown",
   "metadata": {},
   "source": [
    "# Exp counts"
   ]
  },
  {
   "cell_type": "code",
   "execution_count": 146,
   "metadata": {},
   "outputs": [
    {
     "data": {
      "text/html": [
       "<div>\n",
       "<style scoped>\n",
       "    .dataframe tbody tr th:only-of-type {\n",
       "        vertical-align: middle;\n",
       "    }\n",
       "\n",
       "    .dataframe tbody tr th {\n",
       "        vertical-align: top;\n",
       "    }\n",
       "\n",
       "    .dataframe thead th {\n",
       "        text-align: right;\n",
       "    }\n",
       "</style>\n",
       "<table border=\"1\" class=\"dataframe\">\n",
       "  <thead>\n",
       "    <tr style=\"text-align: right;\">\n",
       "      <th></th>\n",
       "      <th>ns_sym</th>\n",
       "      <th>swe</th>\n",
       "      <th>ns</th>\n",
       "      <th>arena</th>\n",
       "    </tr>\n",
       "  </thead>\n",
       "  <tbody>\n",
       "    <tr>\n",
       "      <th>FNO2d</th>\n",
       "      <td>3</td>\n",
       "      <td>3</td>\n",
       "      <td>3</td>\n",
       "      <td>3</td>\n",
       "    </tr>\n",
       "    <tr>\n",
       "      <th>FNO2d_aug</th>\n",
       "      <td>3</td>\n",
       "      <td>3</td>\n",
       "      <td>3</td>\n",
       "      <td>3</td>\n",
       "    </tr>\n",
       "    <tr>\n",
       "      <th>FNO2d_aug-rf</th>\n",
       "      <td>3</td>\n",
       "      <td>3</td>\n",
       "      <td>3</td>\n",
       "      <td>3</td>\n",
       "    </tr>\n",
       "    <tr>\n",
       "      <th>FNO3d</th>\n",
       "      <td>3</td>\n",
       "      <td>3</td>\n",
       "      <td>3</td>\n",
       "      <td>3</td>\n",
       "    </tr>\n",
       "    <tr>\n",
       "      <th>FNO3d_aug</th>\n",
       "      <td>3</td>\n",
       "      <td>3</td>\n",
       "      <td>3</td>\n",
       "      <td>3</td>\n",
       "    </tr>\n",
       "    <tr>\n",
       "      <th>FNO3d_aug-rf</th>\n",
       "      <td>3</td>\n",
       "      <td>3</td>\n",
       "      <td>3</td>\n",
       "      <td>0</td>\n",
       "    </tr>\n",
       "    <tr>\n",
       "      <th>GFNO2d_p4</th>\n",
       "      <td>3</td>\n",
       "      <td>3</td>\n",
       "      <td>3</td>\n",
       "      <td>3</td>\n",
       "    </tr>\n",
       "    <tr>\n",
       "      <th>GFNO2d_p4m</th>\n",
       "      <td>3</td>\n",
       "      <td>3</td>\n",
       "      <td>3</td>\n",
       "      <td>3</td>\n",
       "    </tr>\n",
       "    <tr>\n",
       "      <th>GFNO3d_p4</th>\n",
       "      <td>3</td>\n",
       "      <td>3</td>\n",
       "      <td>3</td>\n",
       "      <td>3</td>\n",
       "    </tr>\n",
       "    <tr>\n",
       "      <th>GFNO3d_p4m</th>\n",
       "      <td>3</td>\n",
       "      <td>3</td>\n",
       "      <td>3</td>\n",
       "      <td>1</td>\n",
       "    </tr>\n",
       "    <tr>\n",
       "      <th>Unet_Rot_3D</th>\n",
       "      <td>3</td>\n",
       "      <td>3</td>\n",
       "      <td>3</td>\n",
       "      <td>2</td>\n",
       "    </tr>\n",
       "    <tr>\n",
       "      <th>Unet_Rot_M2d</th>\n",
       "      <td>3</td>\n",
       "      <td>3</td>\n",
       "      <td>3</td>\n",
       "      <td>3</td>\n",
       "    </tr>\n",
       "    <tr>\n",
       "      <th>radialNO2d_p4</th>\n",
       "      <td>3</td>\n",
       "      <td>3</td>\n",
       "      <td>3</td>\n",
       "      <td>3</td>\n",
       "    </tr>\n",
       "    <tr>\n",
       "      <th>radialNO2d_p4m</th>\n",
       "      <td>3</td>\n",
       "      <td>3</td>\n",
       "      <td>3</td>\n",
       "      <td>3</td>\n",
       "    </tr>\n",
       "    <tr>\n",
       "      <th>radialNO3d_p4</th>\n",
       "      <td>3</td>\n",
       "      <td>3</td>\n",
       "      <td>3</td>\n",
       "      <td>3</td>\n",
       "    </tr>\n",
       "    <tr>\n",
       "      <th>radialNO3d_p4m</th>\n",
       "      <td>3</td>\n",
       "      <td>3</td>\n",
       "      <td>3</td>\n",
       "      <td>3</td>\n",
       "    </tr>\n",
       "  </tbody>\n",
       "</table>\n",
       "</div>"
      ],
      "text/plain": [
       "                ns_sym  swe  ns  arena\n",
       "FNO2d                3    3   3      3\n",
       "FNO2d_aug            3    3   3      3\n",
       "FNO2d_aug-rf         3    3   3      3\n",
       "FNO3d                3    3   3      3\n",
       "FNO3d_aug            3    3   3      3\n",
       "FNO3d_aug-rf         3    3   3      0\n",
       "GFNO2d_p4            3    3   3      3\n",
       "GFNO2d_p4m           3    3   3      3\n",
       "GFNO3d_p4            3    3   3      3\n",
       "GFNO3d_p4m           3    3   3      1\n",
       "Unet_Rot_3D          3    3   3      2\n",
       "Unet_Rot_M2d         3    3   3      3\n",
       "radialNO2d_p4        3    3   3      3\n",
       "radialNO2d_p4m       3    3   3      3\n",
       "radialNO3d_p4        3    3   3      3\n",
       "radialNO3d_p4m       3    3   3      3"
      ]
     },
     "execution_count": 146,
     "metadata": {},
     "output_type": "execute_result"
    }
   ],
   "source": [
    "exp_ct = {data:{model:len([exp for exp in exps[data] if \"/\" + model + \"/\" in exp]) for model in mods} for data in datas.keys()}\n",
    "pd.DataFrame(exp_ct)"
   ]
  },
  {
   "cell_type": "code",
   "execution_count": 60,
   "metadata": {},
   "outputs": [
    {
     "data": {
      "text/html": [
       "<div>\n",
       "<style scoped>\n",
       "    .dataframe tbody tr th:only-of-type {\n",
       "        vertical-align: middle;\n",
       "    }\n",
       "\n",
       "    .dataframe tbody tr th {\n",
       "        vertical-align: top;\n",
       "    }\n",
       "\n",
       "    .dataframe thead th {\n",
       "        text-align: right;\n",
       "    }\n",
       "</style>\n",
       "<table border=\"1\" class=\"dataframe\">\n",
       "  <thead>\n",
       "    <tr style=\"text-align: right;\">\n",
       "      <th></th>\n",
       "      <th>ns_sym</th>\n",
       "      <th>swe</th>\n",
       "      <th>ns</th>\n",
       "    </tr>\n",
       "  </thead>\n",
       "  <tbody>\n",
       "    <tr>\n",
       "      <th>FNO2d</th>\n",
       "      <td>3</td>\n",
       "      <td>3</td>\n",
       "      <td>3</td>\n",
       "    </tr>\n",
       "    <tr>\n",
       "      <th>FNO2d_aug</th>\n",
       "      <td>3</td>\n",
       "      <td>3</td>\n",
       "      <td>3</td>\n",
       "    </tr>\n",
       "    <tr>\n",
       "      <th>FNO2d_aug-rf</th>\n",
       "      <td>3</td>\n",
       "      <td>3</td>\n",
       "      <td>3</td>\n",
       "    </tr>\n",
       "    <tr>\n",
       "      <th>FNO3d</th>\n",
       "      <td>3</td>\n",
       "      <td>3</td>\n",
       "      <td>3</td>\n",
       "    </tr>\n",
       "    <tr>\n",
       "      <th>FNO3d_aug</th>\n",
       "      <td>3</td>\n",
       "      <td>3</td>\n",
       "      <td>3</td>\n",
       "    </tr>\n",
       "    <tr>\n",
       "      <th>FNO3d_aug-rf</th>\n",
       "      <td>3</td>\n",
       "      <td>3</td>\n",
       "      <td>3</td>\n",
       "    </tr>\n",
       "    <tr>\n",
       "      <th>GFNO2d_p4</th>\n",
       "      <td>3</td>\n",
       "      <td>3</td>\n",
       "      <td>3</td>\n",
       "    </tr>\n",
       "    <tr>\n",
       "      <th>GFNO2d_p4m</th>\n",
       "      <td>3</td>\n",
       "      <td>3</td>\n",
       "      <td>3</td>\n",
       "    </tr>\n",
       "    <tr>\n",
       "      <th>GFNO3d_p4</th>\n",
       "      <td>3</td>\n",
       "      <td>3</td>\n",
       "      <td>3</td>\n",
       "    </tr>\n",
       "    <tr>\n",
       "      <th>GFNO3d_p4m</th>\n",
       "      <td>3</td>\n",
       "      <td>3</td>\n",
       "      <td>3</td>\n",
       "    </tr>\n",
       "    <tr>\n",
       "      <th>Unet_Rot_3D</th>\n",
       "      <td>3</td>\n",
       "      <td>3</td>\n",
       "      <td>3</td>\n",
       "    </tr>\n",
       "    <tr>\n",
       "      <th>Unet_Rot_M2d</th>\n",
       "      <td>3</td>\n",
       "      <td>3</td>\n",
       "      <td>3</td>\n",
       "    </tr>\n",
       "    <tr>\n",
       "      <th>radialNO2d_p4</th>\n",
       "      <td>3</td>\n",
       "      <td>3</td>\n",
       "      <td>3</td>\n",
       "    </tr>\n",
       "    <tr>\n",
       "      <th>radialNO2d_p4m</th>\n",
       "      <td>3</td>\n",
       "      <td>3</td>\n",
       "      <td>3</td>\n",
       "    </tr>\n",
       "    <tr>\n",
       "      <th>radialNO3d_p4</th>\n",
       "      <td>3</td>\n",
       "      <td>3</td>\n",
       "      <td>3</td>\n",
       "    </tr>\n",
       "    <tr>\n",
       "      <th>radialNO3d_p4m</th>\n",
       "      <td>3</td>\n",
       "      <td>3</td>\n",
       "      <td>2</td>\n",
       "    </tr>\n",
       "  </tbody>\n",
       "</table>\n",
       "</div>"
      ],
      "text/plain": [
       "                ns_sym  swe  ns\n",
       "FNO2d                3    3   3\n",
       "FNO2d_aug            3    3   3\n",
       "FNO2d_aug-rf         3    3   3\n",
       "FNO3d                3    3   3\n",
       "FNO3d_aug            3    3   3\n",
       "FNO3d_aug-rf         3    3   3\n",
       "GFNO2d_p4            3    3   3\n",
       "GFNO2d_p4m           3    3   3\n",
       "GFNO3d_p4            3    3   3\n",
       "GFNO3d_p4m           3    3   3\n",
       "Unet_Rot_3D          3    3   3\n",
       "Unet_Rot_M2d         3    3   3\n",
       "radialNO2d_p4        3    3   3\n",
       "radialNO2d_p4m       3    3   3\n",
       "radialNO3d_p4        3    3   3\n",
       "radialNO3d_p4m       3    3   2"
      ]
     },
     "execution_count": 60,
     "metadata": {},
     "output_type": "execute_result"
    }
   ],
   "source": [
    "exp_ct = {data:{model:len([seed for seed in ['seed1', 'seed2', 'seed3'] if seed in \" \".join([exp for exp in exps[data] if \"/\" + model + \"/\" in exp])]) for model in mods} for data in datas.keys()}\n",
    "pd.DataFrame(exp_ct)"
   ]
  }
 ],
 "metadata": {
  "kernelspec": {
   "display_name": "GFNO",
   "language": "python",
   "name": "gfno"
  },
  "language_info": {
   "codemirror_mode": {
    "name": "ipython",
    "version": 3
   },
   "file_extension": ".py",
   "mimetype": "text/x-python",
   "name": "python",
   "nbconvert_exporter": "python",
   "pygments_lexer": "ipython3",
   "version": "3.8.16"
  }
 },
 "nbformat": 4,
 "nbformat_minor": 1
}
