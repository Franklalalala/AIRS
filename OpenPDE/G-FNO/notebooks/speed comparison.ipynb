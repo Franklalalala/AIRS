{
 "cells": [
  {
   "cell_type": "code",
   "execution_count": 1,
   "metadata": {
    "collapsed": true
   },
   "outputs": [],
   "source": [
    "import torch\n",
    "import h5py\n",
    "import os\n",
    "import sys\n",
    "direc = \"/mnt/data/shared/jacob/GFNO\"\n",
    "os.chdir(direc)\n",
    "sys.path.append(direc)\n",
    "\n",
    "from models.FNO import FNO2d, FNO3d\n",
    "from models.GFNO import GFNO2d, GFNO3d\n",
    "from models.Unet import Unet_Rot_M, Unet_Rot_3D\n",
    "from models.radialNO import radialNO2d, radialNO3d\n",
    "from utils import pde_data\n",
    "import numpy as np\n",
    "import scipy\n",
    "import timeit\n",
    "import pandas as pd\n",
    "from tqdm import tqdm\n",
    "import GPUtil\n",
    "\n",
    "GPU = \"7\"\n",
    "os.environ[\"CUDA_VISIBLE_DEVICES\"] = GPU"
   ]
  },
  {
   "cell_type": "code",
   "execution_count": 2,
   "outputs": [],
   "source": [
    "path = \"./data/\""
   ],
   "metadata": {
    "collapsed": false
   }
  },
  {
   "cell_type": "code",
   "execution_count": 3,
   "outputs": [],
   "source": [
    "TRAIN_PATH = path + \"ns_V1e-4_N10000_T30.mat\"\n",
    "try:\n",
    "    with h5py.File(TRAIN_PATH, 'r') as f:\n",
    "        data = np.array(f['u'])\n",
    "    data = np.transpose(data, axes=range(len(data.shape) - 1, -1, -1))\n",
    "except:\n",
    "    data = scipy.io.loadmat(os.path.expandvars(TRAIN_PATH))['u'].astype(np.float32)\n",
    "\n",
    "data = data[..., None] # add channel dim\n",
    "\n",
    "data = torch.from_numpy(data)"
   ],
   "metadata": {
    "collapsed": false
   }
  },
  {
   "cell_type": "code",
   "execution_count": 4,
   "outputs": [],
   "source": [
    "ntest = 100\n",
    "\n",
    "T_in = 10\n",
    "T = 20\n",
    "\n",
    "batch_size2d = 20\n",
    "batch_size3d = 10\n",
    "\n",
    "strategy2d = \"teacher_forcing\"\n",
    "strategy3d = \"oneshot\"\n",
    "\n",
    "test = data[-ntest:]\n",
    "\n",
    "test_data2d = pde_data(test, train=False, strategy=strategy2d, T_in=T_in, T_out=T)\n",
    "test_data3d = pde_data(test, train=False, strategy=strategy3d, T_in=T_in, T_out=T)\n",
    "\n",
    "test_loader2d = torch.utils.data.DataLoader(test_data2d, batch_size=batch_size2d, shuffle=False)\n",
    "test_loader3d = torch.utils.data.DataLoader(test_data3d, batch_size=batch_size3d, shuffle=False)"
   ],
   "metadata": {
    "collapsed": false
   }
  },
  {
   "cell_type": "code",
   "execution_count": 5,
   "outputs": [],
   "source": [
    "channels = {\"FNO2d\":20,\n",
    "\"GFNO2d_p4\":10,\n",
    "\"GFNO2d_p4m\":7,\n",
    "\"radialNO2d_p4\":40,\n",
    "\"radialNO2d_p4m\":50,\n",
    "\"Unet_Rot_M2d\":32,\n",
    "\"FNO3d\":20,\n",
    "\"GFNO3d_p4\":11,\n",
    "\"GFNO3d_p4m\":7,\n",
    "\"radialNO3d_p4\":60,\n",
    "\"radialNO3d_p4m\":80,\n",
    "\"Unet_Rot_3D\":32}\n",
    "inference_times = {}"
   ],
   "metadata": {
    "collapsed": false
   }
  },
  {
   "cell_type": "code",
   "execution_count": 6,
   "outputs": [],
   "source": [
    "def inference_time(model, loader, n=10000, warmup=100, return_times=False):\n",
    "\n",
    "    torch.cuda.empty_cache()\n",
    "\n",
    "    model.cuda()\n",
    "    model.eval()\n",
    "    params = sum(par.numel() * (1 + par.is_complex()) for par in model.parameters())\n",
    "    times = []\n",
    "    with torch.no_grad():\n",
    "        for trial in tqdm(range((n + warmup) // len(loader) + 1)):\n",
    "            for x, _ in loader:\n",
    "                x = x.cuda()\n",
    "                start = timeit.default_timer()\n",
    "                model(x)\n",
    "                elapsed = timeit.default_timer() - start\n",
    "                if trial > warmup:\n",
    "                    times.append(elapsed)\n",
    "    torch.cuda.synchronize()\n",
    "\n",
    "    memory = GPUtil.getGPUs()[int(GPU)].memoryUsed\n",
    "\n",
    "    times = times[:n]\n",
    "    if return_times:\n",
    "        return times\n",
    "    mean = torch.tensor(times).mean()\n",
    "    std = torch.tensor(times).std()\n",
    "\n",
    "    return {\"params\": params, \"mean\":mean.item(), \"std\":std.item(), \"memory\":memory}"
   ],
   "metadata": {
    "collapsed": false
   }
  },
  {
   "cell_type": "code",
   "execution_count": 8,
   "outputs": [
    {
     "name": "stderr",
     "output_type": "stream",
     "text": [
      "100%|████████████████████████████████████████████████████████████████████████████████████████████████████████████████████████████████████████████████████████████████████████████████████████████████████████████████████████████| 2021/2021 [02:04<00:00, 16.23it/s]\n"
     ]
    },
    {
     "data": {
      "text/plain": "{'params': 928661,\n 'mean': 0.004265904426574707,\n 'std': 0.0016596349887549877,\n 'memory': 1869.0}"
     },
     "execution_count": 8,
     "metadata": {},
     "output_type": "execute_result"
    }
   ],
   "source": [
    "# FNO2d\n",
    "model_name = 'FNO2d'\n",
    "model = FNO2d(num_channels=1, initial_step=T_in, modes1=12, modes2=12, width=channels[model_name], grid_type='cartesian').cuda()\n",
    "inference_times[model_name] = inference_time(model, test_loader2d)\n",
    "inference_times[model_name]"
   ],
   "metadata": {
    "collapsed": false
   }
  },
  {
   "cell_type": "code",
   "execution_count": 9,
   "outputs": [
    {
     "name": "stderr",
     "output_type": "stream",
     "text": [
      "100%|████████████████████████████████████████████████████████████████████████████████████████████████████████████████████████████████████████████████████████████████████████████████████████████████████████████████████████████| 2021/2021 [02:00<00:00, 16.77it/s]\n"
     ]
    },
    {
     "data": {
      "text/plain": "{'params': 853121,\n 'mean': 0.0044963667169213295,\n 'std': 0.0021232448052614927,\n 'memory': 2019.0}"
     },
     "execution_count": 9,
     "metadata": {},
     "output_type": "execute_result"
    }
   ],
   "source": [
    "# GFNO2d_p4\n",
    "model_name = 'GFNO2d_p4'\n",
    "model = GFNO2d(num_channels=1, initial_step=T_in, modes=12, width=channels[model_name],\n",
    "               reflection=False, grid_type=\"symmetric\").cuda()\n",
    "inference_times[model_name] = inference_time(model, test_loader2d)\n",
    "inference_times[model_name]"
   ],
   "metadata": {
    "collapsed": false
   }
  },
  {
   "cell_type": "code",
   "execution_count": 10,
   "outputs": [
    {
     "name": "stderr",
     "output_type": "stream",
     "text": [
      "100%|████████████████████████████████████████████████████████████████████████████████████████████████████████████████████████████████████████████████████████████████████████████████████████████████████████████████████████████| 2021/2021 [02:17<00:00, 14.66it/s]\n"
     ]
    },
    {
     "data": {
      "text/plain": "{'params': 835969,\n 'mean': 0.004812923260033131,\n 'std': 0.0037937520537525415,\n 'memory': 2223.0}"
     },
     "execution_count": 10,
     "metadata": {},
     "output_type": "execute_result"
    }
   ],
   "source": [
    "# GFNO2d_p4m\n",
    "model_name = 'GFNO2d_p4m'\n",
    "model = GFNO2d(num_channels=1, initial_step=T_in, modes=12, width=channels[model_name],\n",
    "               reflection=True, grid_type=\"symmetric\").cuda()\n",
    "inference_times[model_name] = inference_time(model, test_loader2d)\n",
    "inference_times[model_name]"
   ],
   "metadata": {
    "collapsed": false
   }
  },
  {
   "cell_type": "code",
   "execution_count": 11,
   "outputs": [
    {
     "name": "stderr",
     "output_type": "stream",
     "text": [
      "100%|████████████████████████████████████████████████████████████████████████████████████████████████████████████████████████████████████████████████████████████████████████████████████████████████████████████████████████████| 2021/2021 [02:01<00:00, 16.66it/s]\n"
     ]
    },
    {
     "data": {
      "text/plain": "{'params': 1031681,\n 'mean': 0.004344562068581581,\n 'std': 0.002626420697197318,\n 'memory': 2013.0}"
     },
     "execution_count": 11,
     "metadata": {},
     "output_type": "execute_result"
    }
   ],
   "source": [
    "# radialNO2d p4\n",
    "model_name = 'radialNO2d_p4'\n",
    "model = radialNO2d(num_channels=1, initial_step=T_in, modes=12, width=channels[model_name], reflection=False,\n",
    "                       grid_type=\"symmetric\").cuda()\n",
    "inference_times[model_name] = inference_time(model, test_loader2d)\n",
    "inference_times[model_name]"
   ],
   "metadata": {
    "collapsed": false
   }
  },
  {
   "cell_type": "code",
   "execution_count": 12,
   "outputs": [
    {
     "name": "stderr",
     "output_type": "stream",
     "text": [
      "100%|████████████████████████████████████████████████████████████████████████████████████████████████████████████████████████████████████████████████████████████████████████████████████████████████████████████████████████████| 2021/2021 [02:10<00:00, 15.45it/s]\n"
     ]
    },
    {
     "data": {
      "text/plain": "{'params': 951601,\n 'mean': 0.004159676376730204,\n 'std': 0.003289111191406846,\n 'memory': 2081.0}"
     },
     "execution_count": 12,
     "metadata": {},
     "output_type": "execute_result"
    }
   ],
   "source": [
    "# radialNO2d p4m\n",
    "model_name = 'radialNO2d_p4m'\n",
    "model = radialNO2d(num_channels=1, initial_step=T_in, modes=12, width=channels[model_name], reflection=True,\n",
    "                       grid_type=\"symmetric\").cuda()\n",
    "inference_times[model_name] = inference_time(model, test_loader2d)\n",
    "inference_times[model_name]"
   ],
   "metadata": {
    "collapsed": false
   }
  },
  {
   "cell_type": "code",
   "execution_count": 13,
   "outputs": [
    {
     "name": "stderr",
     "output_type": "stream",
     "text": [
      "/data/jacob/anaconda3/envs/GFNO/lib/python3.8/site-packages/e2cnn/nn/modules/r2_conv/basisexpansion_singleblock.py:80: UserWarning: indexing with dtype torch.uint8 is now deprecated, please use a dtype torch.bool instead. (Triggered internally at /opt/conda/conda-bld/pytorch_1670525552411/work/aten/src/ATen/native/IndexingUtils.h:27.)\n",
      "  full_mask[mask] = norms.to(torch.uint8)\n",
      "100%|████████████████████████████████████████████████████████████████████████████████████████████████████████████████████████████████████████████████████████████████████████████████████████████████████████████████████████████| 2021/2021 [03:00<00:00, 11.17it/s]\n"
     ]
    },
    {
     "data": {
      "text/plain": "{'params': 3651719,\n 'mean': 0.007919750176370144,\n 'std': 0.004336921032518148,\n 'memory': 2361.0}"
     },
     "execution_count": 13,
     "metadata": {},
     "output_type": "execute_result"
    }
   ],
   "source": [
    "# Unet_Rot_M\n",
    "model_name = 'Unet_Rot_M2d'\n",
    "model = Unet_Rot_M(input_frames=T_in * 1, output_frames=1, kernel_size=3, N=4, grid_type=\"symmetric\", width=channels[model_name]).cuda()\n",
    "inference_times[model_name] = inference_time(model, test_loader2d)\n",
    "inference_times[model_name]"
   ],
   "metadata": {
    "collapsed": false
   }
  },
  {
   "cell_type": "code",
   "execution_count": 14,
   "outputs": [
    {
     "name": "stderr",
     "output_type": "stream",
     "text": [
      "100%|████████████████████████████████████████████████████████████████████████████████████████████████████████████████████████████████████████████████████████████████████████████████████████████████████████████████████████████| 1011/1011 [04:03<00:00,  4.15it/s]\n"
     ]
    },
    {
     "data": {
      "text/plain": "{'params': 4922281,\n 'mean': 0.0087118623778224,\n 'std': 0.0075395251624286175,\n 'memory': 3163.0}"
     },
     "execution_count": 14,
     "metadata": {},
     "output_type": "execute_result"
    }
   ],
   "source": [
    "# FNO3d\n",
    "model_name = 'FNO3d'\n",
    "model = FNO3d(num_channels=1, initial_step=T_in, modes1=8, modes2=8, modes3=6, width=channels[model_name], time=True, time_pad=False).cuda()\n",
    "inference_times[model_name] = inference_time(model, test_loader3d)\n",
    "inference_times[model_name]"
   ],
   "metadata": {
    "collapsed": false
   }
  },
  {
   "cell_type": "code",
   "execution_count": 15,
   "outputs": [
    {
     "name": "stderr",
     "output_type": "stream",
     "text": [
      "100%|████████████████████████████████████████████████████████████████████████████████████████████████████████████████████████████████████████████████████████████████████████████████████████████████████████████████████████████| 1011/1011 [06:36<00:00,  2.55it/s]\n"
     ]
    },
    {
     "data": {
      "text/plain": "{'params': 4799708,\n 'mean': 0.010207905434072018,\n 'std': 0.01561953779309988,\n 'memory': 4589.0}"
     },
     "execution_count": 15,
     "metadata": {},
     "output_type": "execute_result"
    }
   ],
   "source": [
    "# GFNO3d_p4\n",
    "model_name = 'GFNO3d_p4'\n",
    "model = GFNO3d(num_channels=1, initial_step=T_in, modes=8, time_modes=6, width=channels[model_name], reflection=False, grid_type=\"symmetric\", time_pad=False).cuda()\n",
    "inference_times[model_name] = inference_time(model, test_loader3d)\n",
    "inference_times[model_name]"
   ],
   "metadata": {
    "collapsed": false
   }
  },
  {
   "cell_type": "code",
   "execution_count": 16,
   "outputs": [
    {
     "name": "stderr",
     "output_type": "stream",
     "text": [
      "100%|████████████████████████████████████████████████████████████████████████████████████████████████████████████████████████████████████████████████████████████████████████████████████████████████████████████████████████████| 1011/1011 [07:39<00:00,  2.20it/s]\n"
     ]
    },
    {
     "data": {
      "text/plain": "{'params': 3887304,\n 'mean': 0.010730269365012646,\n 'std': 0.016459759324789047,\n 'memory': 5535.0}"
     },
     "execution_count": 16,
     "metadata": {},
     "output_type": "execute_result"
    }
   ],
   "source": [
    "# GFNO3d_p4m\n",
    "model_name = 'GFNO3d_p4m'\n",
    "model = GFNO3d(num_channels=1, initial_step=T_in, modes=8, time_modes=6, width=channels[model_name], reflection=True, grid_type=\"symmetric\", time_pad=False).cuda()\n",
    "inference_times[model_name] = inference_time(model, test_loader3d)\n",
    "inference_times[model_name]"
   ],
   "metadata": {
    "collapsed": false
   }
  },
  {
   "cell_type": "code",
   "execution_count": 17,
   "outputs": [
    {
     "name": "stderr",
     "output_type": "stream",
     "text": [
      "100%|████████████████████████████████████████████████████████████████████████████████████████████████████████████████████████████████████████████████████████████████████████████████████████████████████████████████████████████| 1011/1011 [08:01<00:00,  2.10it/s]\n"
     ]
    },
    {
     "data": {
      "text/plain": "{'params': 4984381,\n 'mean': 0.010807642713189125,\n 'std': 0.016583405435085297,\n 'memory': 6391.0}"
     },
     "execution_count": 17,
     "metadata": {},
     "output_type": "execute_result"
    }
   ],
   "source": [
    "# radialNO3d p4\n",
    "model_name = 'radialNO3d_p4'\n",
    "model = radialNO3d(num_channels=1, initial_step=T_in, modes=8, time_modes=6, width=channels[model_name], reflection=False, grid_type=\"symmetric\", time_pad=False).cuda()\n",
    "inference_times[model_name] = inference_time(model, test_loader3d)\n",
    "inference_times[model_name]"
   ],
   "metadata": {
    "collapsed": false
   }
  },
  {
   "cell_type": "code",
   "execution_count": 18,
   "outputs": [
    {
     "name": "stderr",
     "output_type": "stream",
     "text": [
      "100%|████████████████████████████████████████████████████████████████████████████████████████████████████████████████████████████████████████████████████████████████████████████████████████████████████████████████████████████| 1011/1011 [09:36<00:00,  1.75it/s]\n"
     ]
    },
    {
     "data": {
      "text/plain": "{'params': 5634641,\n 'mean': 0.011534293182194233,\n 'std': 0.017982367426156998,\n 'memory': 7683.0}"
     },
     "execution_count": 18,
     "metadata": {},
     "output_type": "execute_result"
    }
   ],
   "source": [
    "# radialNO3d p4m\n",
    "model_name = 'radialNO3d_p4m'\n",
    "model = radialNO3d(num_channels=1, initial_step=T_in, modes=8, time_modes=6, width=channels[model_name], reflection=True, grid_type=\"symmetric\", time_pad=False).cuda()\n",
    "inference_times[model_name] = inference_time(model, test_loader3d)\n",
    "inference_times[model_name]"
   ],
   "metadata": {
    "collapsed": false
   }
  },
  {
   "cell_type": "code",
   "execution_count": 19,
   "outputs": [
    {
     "name": "stderr",
     "output_type": "stream",
     "text": [
      "100%|████████████████████████████████████████████████████████████████████████████████████████████████████████████████████████████████████████████████████████████████████████████████████████████████████████████████████████████| 1011/1011 [13:49<00:00,  1.22it/s]\n"
     ]
    },
    {
     "data": {
      "text/plain": "{'params': 6084481,\n 'mean': 0.020287223160266876,\n 'std': 0.01576860062777996,\n 'memory': 7631.0}"
     },
     "execution_count": 19,
     "metadata": {},
     "output_type": "execute_result"
    }
   ],
   "source": [
    "# Unet_Rot_3d\n",
    "model_name = 'Unet_Rot_3D'\n",
    "model = Unet_Rot_3D(input_frames=T_in * 1, output_frames=1, kernel_size=3, N=4, grid_type='symmetric', width=channels[model_name]).cuda()\n",
    "inference_times[model_name] = inference_time(model, test_loader3d)\n",
    "inference_times[model_name]"
   ],
   "metadata": {
    "collapsed": false
   }
  },
  {
   "cell_type": "code",
   "execution_count": 20,
   "outputs": [
    {
     "data": {
      "text/plain": "dict_keys(['FNO2d', 'GFNO2d_p4', 'GFNO2d_p4m', 'radialNO2d_p4', 'radialNO2d_p4m', 'Unet_Rot_M2d', 'FNO3d', 'GFNO3d_p4', 'GFNO3d_p4m', 'radialNO3d_p4', 'radialNO3d_p4m', 'Unet_Rot_3D'])"
     },
     "execution_count": 20,
     "metadata": {},
     "output_type": "execute_result"
    }
   ],
   "source": [
    "inference_times.keys()"
   ],
   "metadata": {
    "collapsed": false
   }
  },
  {
   "cell_type": "code",
   "execution_count": 21,
   "outputs": [],
   "source": [
    "precision = 2\n",
    "model_summaries = {model:{\"\\\\# Parameters (M)\":round(stats['params'] / 1e6, precision),\n",
    "                          \"Inference Time (ms)\":f\"{round(stats['mean'] * 1000, precision)}({round(stats['std'] * 1000, precision)})\",\n",
    "                          \"Forward Memory (GiB)\":round(stats['memory'] / 1024, precision)} for model, stats in inference_times.items()}"
   ],
   "metadata": {
    "collapsed": false
   }
  },
  {
   "cell_type": "code",
   "execution_count": 29,
   "outputs": [
    {
     "data": {
      "text/plain": "{'FNO2d': {'\\\\# Parameters (M)': 0.93,\n  'Inference Time (ms)': '4.27(1.66)',\n  'Forward Memory (GiB)': 1.83},\n 'GFNO2d_p4': {'\\\\# Parameters (M)': 0.85,\n  'Inference Time (ms)': '4.5(2.12)',\n  'Forward Memory (GiB)': 1.97},\n 'GFNO2d_p4m': {'\\\\# Parameters (M)': 0.84,\n  'Inference Time (ms)': '4.81(3.79)',\n  'Forward Memory (GiB)': 2.17},\n 'radialNO2d_p4': {'\\\\# Parameters (M)': 1.03,\n  'Inference Time (ms)': '4.34(2.63)',\n  'Forward Memory (GiB)': 1.97},\n 'radialNO2d_p4m': {'\\\\# Parameters (M)': 0.95,\n  'Inference Time (ms)': '4.16(3.29)',\n  'Forward Memory (GiB)': 2.03},\n 'Unet_Rot_M2d': {'\\\\# Parameters (M)': 3.65,\n  'Inference Time (ms)': '7.92(4.34)',\n  'Forward Memory (GiB)': 2.31},\n 'FNO3d': {'\\\\# Parameters (M)': 4.92,\n  'Inference Time (ms)': '8.71(7.54)',\n  'Forward Memory (GiB)': 3.09},\n 'GFNO3d_p4': {'\\\\# Parameters (M)': 4.8,\n  'Inference Time (ms)': '10.21(15.62)',\n  'Forward Memory (GiB)': 4.48},\n 'GFNO3d_p4m': {'\\\\# Parameters (M)': 3.89,\n  'Inference Time (ms)': '10.73(16.46)',\n  'Forward Memory (GiB)': 5.41},\n 'radialNO3d_p4': {'\\\\# Parameters (M)': 4.98,\n  'Inference Time (ms)': '10.81(16.58)',\n  'Forward Memory (GiB)': 6.24},\n 'radialNO3d_p4m': {'\\\\# Parameters (M)': 5.63,\n  'Inference Time (ms)': '11.53(17.98)',\n  'Forward Memory (GiB)': 7.5},\n 'Unet_Rot_3D': {'\\\\# Parameters (M)': 6.08,\n  'Inference Time (ms)': '20.29(15.77)',\n  'Forward Memory (GiB)': 7.45}}"
     },
     "execution_count": 29,
     "metadata": {},
     "output_type": "execute_result"
    }
   ],
   "source": [
    "model_summaries"
   ],
   "metadata": {
    "collapsed": false
   }
  },
  {
   "cell_type": "code",
   "execution_count": 22,
   "outputs": [],
   "source": [
    "stat_names = model_summaries['FNO2d'].keys()"
   ],
   "metadata": {
    "collapsed": false
   }
  },
  {
   "cell_type": "code",
   "execution_count": 23,
   "outputs": [],
   "source": [
    "model_names = {'FNO':{'2D':'FNO2d', '3D':'FNO3d'}, '$G$-FNO-$p4$':{'2D':'GFNO2d_p4', '3D':'GFNO3d_p4'}, '$G$-FNO-$p4m$':{'2D':'GFNO2d_p4m', '3D':'GFNO3d_p4m'}, 'radialFNO-$p4$': {'2D':'radialNO2d_p4', '3D':'radialNO3d_p4'}, 'radialFNO-$p4m$': {'2D':'radialNO2d_p4m', '3D':'radialNO3d_p4m'}, 'U-Net-$p4$': {'2D':'Unet_Rot_M2d', '3D':'Unet_Rot_3D'}}"
   ],
   "metadata": {
    "collapsed": false
   }
  },
  {
   "cell_type": "code",
   "execution_count": 24,
   "outputs": [],
   "source": [
    "model_stats = {(dimension, stat_name): {model:model_summaries[model_names[model][dimension]][stat_name] for model in model_names.keys()} for dimension in {'3D', '2D'} for stat_name in stat_names}"
   ],
   "metadata": {
    "collapsed": false
   }
  },
  {
   "cell_type": "code",
   "execution_count": 25,
   "outputs": [
    {
     "data": {
      "text/plain": "{'FNO': 0.93,\n '$G$-FNO-$p4$': 0.85,\n '$G$-FNO-$p4m$': 0.84,\n 'radialFNO-$p4$': 1.03,\n 'radialFNO-$p4m$': 0.95,\n 'U-Net-$p4$': 3.65}"
     },
     "execution_count": 25,
     "metadata": {},
     "output_type": "execute_result"
    }
   ],
   "source": [
    "model_stats['2D', '\\# Parameters (M)']"
   ],
   "metadata": {
    "collapsed": false
   }
  },
  {
   "cell_type": "code",
   "execution_count": 26,
   "outputs": [],
   "source": [
    "df = pd.DataFrame(model_stats)\n",
    "df = df[['2D', '3D']]"
   ],
   "metadata": {
    "collapsed": false
   }
  },
  {
   "cell_type": "code",
   "execution_count": 27,
   "outputs": [
    {
     "data": {
      "text/plain": "                               2D                                           \\\n                \\# Parameters (M) Inference Time (ms) Forward Memory (GiB)   \nFNO                          0.93          4.27(1.66)                 1.83   \n$G$-FNO-$p4$                 0.85           4.5(2.12)                 1.97   \n$G$-FNO-$p4m$                0.84          4.81(3.79)                 2.17   \nradialFNO-$p4$               1.03          4.34(2.63)                 1.97   \nradialFNO-$p4m$              0.95          4.16(3.29)                 2.03   \nU-Net-$p4$                   3.65          7.92(4.34)                 2.31   \n\n                               3D                                           \n                \\# Parameters (M) Inference Time (ms) Forward Memory (GiB)  \nFNO                          4.92          8.71(7.54)                 3.09  \n$G$-FNO-$p4$                 4.80        10.21(15.62)                 4.48  \n$G$-FNO-$p4m$                3.89        10.73(16.46)                 5.41  \nradialFNO-$p4$               4.98        10.81(16.58)                 6.24  \nradialFNO-$p4m$              5.63        11.53(17.98)                 7.50  \nU-Net-$p4$                   6.08        20.29(15.77)                 7.45  ",
      "text/html": "<div>\n<style scoped>\n    .dataframe tbody tr th:only-of-type {\n        vertical-align: middle;\n    }\n\n    .dataframe tbody tr th {\n        vertical-align: top;\n    }\n\n    .dataframe thead tr th {\n        text-align: left;\n    }\n</style>\n<table border=\"1\" class=\"dataframe\">\n  <thead>\n    <tr>\n      <th></th>\n      <th colspan=\"3\" halign=\"left\">2D</th>\n      <th colspan=\"3\" halign=\"left\">3D</th>\n    </tr>\n    <tr>\n      <th></th>\n      <th>\\# Parameters (M)</th>\n      <th>Inference Time (ms)</th>\n      <th>Forward Memory (GiB)</th>\n      <th>\\# Parameters (M)</th>\n      <th>Inference Time (ms)</th>\n      <th>Forward Memory (GiB)</th>\n    </tr>\n  </thead>\n  <tbody>\n    <tr>\n      <th>FNO</th>\n      <td>0.93</td>\n      <td>4.27(1.66)</td>\n      <td>1.83</td>\n      <td>4.92</td>\n      <td>8.71(7.54)</td>\n      <td>3.09</td>\n    </tr>\n    <tr>\n      <th>$G$-FNO-$p4$</th>\n      <td>0.85</td>\n      <td>4.5(2.12)</td>\n      <td>1.97</td>\n      <td>4.80</td>\n      <td>10.21(15.62)</td>\n      <td>4.48</td>\n    </tr>\n    <tr>\n      <th>$G$-FNO-$p4m$</th>\n      <td>0.84</td>\n      <td>4.81(3.79)</td>\n      <td>2.17</td>\n      <td>3.89</td>\n      <td>10.73(16.46)</td>\n      <td>5.41</td>\n    </tr>\n    <tr>\n      <th>radialFNO-$p4$</th>\n      <td>1.03</td>\n      <td>4.34(2.63)</td>\n      <td>1.97</td>\n      <td>4.98</td>\n      <td>10.81(16.58)</td>\n      <td>6.24</td>\n    </tr>\n    <tr>\n      <th>radialFNO-$p4m$</th>\n      <td>0.95</td>\n      <td>4.16(3.29)</td>\n      <td>2.03</td>\n      <td>5.63</td>\n      <td>11.53(17.98)</td>\n      <td>7.50</td>\n    </tr>\n    <tr>\n      <th>U-Net-$p4$</th>\n      <td>3.65</td>\n      <td>7.92(4.34)</td>\n      <td>2.31</td>\n      <td>6.08</td>\n      <td>20.29(15.77)</td>\n      <td>7.45</td>\n    </tr>\n  </tbody>\n</table>\n</div>"
     },
     "execution_count": 27,
     "metadata": {},
     "output_type": "execute_result"
    }
   ],
   "source": [
    "df"
   ],
   "metadata": {
    "collapsed": false
   }
  },
  {
   "cell_type": "code",
   "execution_count": 28,
   "outputs": [
    {
     "name": "stdout",
     "output_type": "stream",
     "text": [
      "\\begin{tabular}{lrlrrlr}\n",
      "\\toprule\n",
      "{} & \\multicolumn{3}{l}{2D} & \\multicolumn{3}{l}{3D} \\\\\n",
      "{} & \\# Parameters (M) & Inference Time (ms) & Forward Memory (GiB) & \\# Parameters (M) & Inference Time (ms) & Forward Memory (GiB) \\\\\n",
      "\\midrule\n",
      "FNO             &              0.93 &          4.27(1.66) &                 1.83 &              4.92 &          8.71(7.54) &                 3.09 \\\\\n",
      "$G$-FNO-$p4$    &              0.85 &           4.5(2.12) &                 1.97 &              4.80 &        10.21(15.62) &                 4.48 \\\\\n",
      "$G$-FNO-$p4m$   &              0.84 &          4.81(3.79) &                 2.17 &              3.89 &        10.73(16.46) &                 5.41 \\\\\n",
      "radialFNO-$p4$  &              1.03 &          4.34(2.63) &                 1.97 &              4.98 &        10.81(16.58) &                 6.24 \\\\\n",
      "radialFNO-$p4m$ &              0.95 &          4.16(3.29) &                 2.03 &              5.63 &        11.53(17.98) &                 7.50 \\\\\n",
      "U-Net-$p4$      &              3.65 &          7.92(4.34) &                 2.31 &              6.08 &        20.29(15.77) &                 7.45 \\\\\n",
      "\\bottomrule\n",
      "\\end{tabular}\n",
      "\n"
     ]
    },
    {
     "name": "stderr",
     "output_type": "stream",
     "text": [
      "/tmp/ipykernel_486331/3445587271.py:1: FutureWarning: In future versions `DataFrame.to_latex` is expected to utilise the base implementation of `Styler.to_latex` for formatting and rendering. The arguments signature may therefore change. It is recommended instead to use `DataFrame.style.to_latex` which also contains additional functionality.\n",
      "  print(df.to_latex(escape=False))\n"
     ]
    }
   ],
   "source": [
    "print(df.to_latex(escape=False))"
   ],
   "metadata": {
    "collapsed": false
   }
  },
  {
   "cell_type": "code",
   "execution_count": null,
   "outputs": [],
   "source": [],
   "metadata": {
    "collapsed": false
   }
  }
 ],
 "metadata": {
  "kernelspec": {
   "name": "gfno",
   "language": "python",
   "display_name": "GFNO"
  },
  "language_info": {
   "codemirror_mode": {
    "name": "ipython",
    "version": 2
   },
   "file_extension": ".py",
   "mimetype": "text/x-python",
   "name": "python",
   "nbconvert_exporter": "python",
   "pygments_lexer": "ipython2",
   "version": "2.7.6"
  }
 },
 "nbformat": 4,
 "nbformat_minor": 0
}
