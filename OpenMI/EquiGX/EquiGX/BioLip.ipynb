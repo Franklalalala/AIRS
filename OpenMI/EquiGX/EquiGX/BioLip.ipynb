{
 "cells": [
  {
   "cell_type": "code",
   "execution_count": 80,
   "id": "4d3ec5e9-c5e6-4893-9f1a-8e94d80b294c",
   "metadata": {},
   "outputs": [],
   "source": [
    "def convert_to_molar(value, unit):\n",
    "    if unit == \"mM\":\n",
    "        return value * 1e3\n",
    "    elif unit == \"uM\":\n",
    "        return value * 1\n",
    "    elif unit == \"nM\":\n",
    "        return value * 1e-3\n",
    "    else:\n",
    "        return None"
   ]
  },
  {
   "cell_type": "code",
   "execution_count": 82,
   "id": "64f8b2b8-a43a-4501-b925-f0eb6bc5e736",
   "metadata": {},
   "outputs": [],
   "source": [
    "ki_values = []\n",
    "kd_values = []\n",
    "IC50_values = []\n",
    "for line in lines:\n",
    "    cols = line.split(\"\\t\")\n",
    "    if cols[15]!='':\n",
    "        ki_value = re.search(r'Ki=([0-9.]+)(uM|nM|mM)', cols[15])\n",
    "        if (ki_value):\n",
    "            value, unit = float(ki_value.group(1)), ki_value.group(2)\n",
    "            molar_value = convert_to_molar(value, unit)\n",
    "            ki_values.append(molar_value)\n",
    "        \n",
    "        kd_value = re.search(r'Kd=([0-9.]+)(uM|nM|mM)', cols[15])\n",
    "        if (kd_value):\n",
    "            value, unit = float(kd_value.group(1)), kd_value.group(2)\n",
    "            molar_value = convert_to_molar(value, unit)\n",
    "            kd_values.append(molar_value)\n",
    "        \n",
    "        IC50_value = re.search(r'IC50=([0-9.]+)(uM|nM|mM)', cols[15])\n",
    "        if (IC50_value):\n",
    "            value, unit = float(IC50_value.group(1)), IC50_value.group(2)\n",
    "            IC50_values.append(molar_value)\n"
   ]
  },
  {
   "cell_type": "code",
   "execution_count": 83,
   "id": "9a2fdb0a-41e9-4af3-8980-92fb05174ae2",
   "metadata": {},
   "outputs": [
    {
     "data": {
      "text/plain": [
       "(5594, 10476, 7674)"
      ]
     },
     "execution_count": 83,
     "metadata": {},
     "output_type": "execute_result"
    }
   ],
   "source": [
    "len(ki_values), len(kd_values), len(IC50_values)"
   ]
  },
  {
   "cell_type": "code",
   "execution_count": 96,
   "id": "b26cbc26-f466-4d5a-b078-0aa673bc476b",
   "metadata": {},
   "outputs": [
    {
     "data": {
      "text/plain": [
       "<re.Match object; span=(0, 8), match='Ki=3.5nM'>"
      ]
     },
     "execution_count": 96,
     "metadata": {},
     "output_type": "execute_result"
    }
   ],
   "source": [
    "ki_value = re.search(r'Ki=([0-9.]+)(uM|nM|mM)', \"Ki=3.5nM,EC50=2.9nM,IC50=>10000nM\")\n",
    "ki_value"
   ]
  },
  {
   "cell_type": "code",
   "execution_count": 98,
   "id": "320eee12-6719-4e4c-9854-21727fe4d13d",
   "metadata": {},
   "outputs": [
    {
     "data": {
      "text/plain": [
       "('3.5', 'nM')"
      ]
     },
     "execution_count": 98,
     "metadata": {},
     "output_type": "execute_result"
    }
   ],
   "source": [
    "ki_value.group(1), ki_value.group(2)"
   ]
  },
  {
   "cell_type": "code",
   "execution_count": 101,
   "id": "a21cccdb-0556-491d-b299-9f96b2d222d5",
   "metadata": {},
   "outputs": [],
   "source": [
    "ki_values = []\n",
    "kd_values = []\n",
    "IC50_values = []\n",
    "for line in lines:\n",
    "    cols = line.split(\"\\t\")\n",
    "    if cols[16]!='':\n",
    "        ki_value = re.search(r'Ki=([0-9.]+)(uM|nM|mM)', cols[16])\n",
    "        if (ki_value):\n",
    "            value, unit = float(ki_value.group(1)), ki_value.group(2)\n",
    "            molar_value = convert_to_molar(value, unit)\n",
    "            ki_values.append(molar_value)\n",
    "        \n",
    "        kd_value = re.search(r'Kd=([0-9.]+)(uM|nM|mM)', cols[16])\n",
    "        if (kd_value):\n",
    "            value, unit = float(kd_value.group(1)), kd_value.group(2)\n",
    "            molar_value = convert_to_molar(value, unit)\n",
    "            kd_values.append(molar_value)\n",
    "\n",
    "        IC50_value = re.search(r'IC50=([0-9.]+)(uM|nM|mM)', cols[16])\n",
    "        if (IC50_value):\n",
    "            value, unit = float(IC50_value.group(1)), IC50_value.group(2)\n",
    "            IC50_values.append(molar_value)\n",
    "                \n"
   ]
  },
  {
   "cell_type": "code",
   "execution_count": 102,
   "id": "0c940927-3c7b-4759-a74e-8e5a307ae127",
   "metadata": {},
   "outputs": [
    {
     "data": {
      "text/plain": [
       "(6825, 3432, 11893)"
      ]
     },
     "execution_count": 102,
     "metadata": {},
     "output_type": "execute_result"
    }
   ],
   "source": [
    "len(ki_values), len(kd_values), len(IC50_values)"
   ]
  },
  {
   "cell_type": "code",
   "execution_count": 106,
   "id": "afe90a7c-059c-4a79-b7cd-39875b6eb6f3",
   "metadata": {},
   "outputs": [],
   "source": [
    "ki_values = []\n",
    "kd_values = []\n",
    "IC50_values = []\n",
    "for line in lines:\n",
    "    cols = line.split(\"\\t\")\n",
    "    if cols[14]!='':\n",
    "        ki_value = re.search(r'Ki=([0-9.]+)(uM|nM|mM)', cols[14])\n",
    "        if (ki_value):\n",
    "            value, unit = float(ki_value.group(1)), ki_value.group(2)\n",
    "            molar_value = convert_to_molar(value, unit)\n",
    "            ki_values.append(molar_value)\n",
    "        \n",
    "        kd_value = re.search(r'Kd=([0-9.]+)(uM|nM|mM)', cols[14])\n",
    "        if (kd_value):\n",
    "            value, unit = float(kd_value.group(1)), kd_value.group(2)\n",
    "            molar_value = convert_to_molar(value, unit)\n",
    "            kd_values.append(molar_value)\n",
    "        \n",
    "        IC50_value = re.search(r'IC50=([0-9.]+)(uM|nM|mM)', cols[14])\n",
    "        if (IC50_value):\n",
    "            value, unit = float(IC50_value.group(1)), IC50_value.group(2)\n",
    "            IC50_values.append(molar_value)\n"
   ]
  },
  {
   "cell_type": "code",
   "execution_count": 107,
   "id": "5c3bd462-d537-44b4-9e29-9dd1616073e3",
   "metadata": {},
   "outputs": [
    {
     "data": {
      "text/plain": [
       "(7812, 8534, 0)"
      ]
     },
     "execution_count": 107,
     "metadata": {},
     "output_type": "execute_result"
    }
   ],
   "source": [
    "len(ki_values), len(kd_values), len(IC50_values)"
   ]
  },
  {
   "cell_type": "code",
   "execution_count": 111,
   "id": "44e381fd-77d2-42f4-8afd-5d9e021acc97",
   "metadata": {},
   "outputs": [],
   "source": [
    "ki_values = []\n",
    "kd_values = []\n",
    "IC50_values = []\n",
    "for line in lines:\n",
    "    cols = line.split(\"\\t\")\n",
    "    if cols[15]!='':\n",
    "        ki_value = re.search(r'Ki=([0-9.]+)(uM|nM|mM)', cols[15])\n",
    "        if (ki_value):\n",
    "            value, unit = float(ki_value.group(1)), ki_value.group(2)\n",
    "            molar_value = convert_to_molar(value, unit)\n",
    "            ki_values.append(molar_value)\n",
    "        \n",
    "        kd_value = re.search(r'Kd=([0-9.]+)(uM|nM|mM)', cols[15])\n",
    "        if (kd_value):\n",
    "            value, unit = float(kd_value.group(1)), kd_value.group(2)\n",
    "            molar_value = convert_to_molar(value, unit)\n",
    "            kd_values.append(molar_value)\n",
    "        \n",
    "        IC50_value = re.search(r'IC50=([0-9.]+)(uM|nM|mM)', cols[15])\n",
    "        if (IC50_value):\n",
    "            value, unit = float(IC50_value.group(1)), IC50_value.group(2)\n",
    "            IC50_values.append(molar_value)\n",
    "    elif cols[16]!='':\n",
    "        ki_value = re.search(r'Ki=([0-9.]+)(uM|nM|mM)', cols[16])\n",
    "        if (ki_value):\n",
    "            value, unit = float(ki_value.group(1)), ki_value.group(2)\n",
    "            molar_value = convert_to_molar(value, unit)\n",
    "            ki_values.append(molar_value)\n",
    "        \n",
    "        kd_value = re.search(r'Kd=([0-9.]+)(uM|nM|mM)', cols[16])\n",
    "        if (kd_value):\n",
    "            value, unit = float(kd_value.group(1)), kd_value.group(2)\n",
    "            molar_value = convert_to_molar(value, unit)\n",
    "            kd_values.append(molar_value)\n",
    "\n",
    "        IC50_value = re.search(r'IC50=([0-9.]+)(uM|nM|mM)', cols[16])\n",
    "        if (IC50_value):\n",
    "            value, unit = float(IC50_value.group(1)), IC50_value.group(2)\n",
    "            IC50_values.append(molar_value)\n",
    "    \n",
    "    elif cols[14]!='':\n",
    "        ki_value = re.search(r'Ki=([0-9.]+)(uM|nM|mM)', cols[14])\n",
    "        if (ki_value):\n",
    "            value, unit = float(ki_value.group(1)), ki_value.group(2)\n",
    "            molar_value = convert_to_molar(value, unit)\n",
    "            ki_values.append(molar_value)\n",
    "        \n",
    "        kd_value = re.search(r'Kd=([0-9.]+)(uM|nM|mM)', cols[14])\n",
    "        if (kd_value):\n",
    "            value, unit = float(kd_value.group(1)), kd_value.group(2)\n",
    "            molar_value = convert_to_molar(value, unit)\n",
    "            kd_values.append(molar_value)\n",
    "        \n",
    "        IC50_value = re.search(r'IC50=([0-9.]+)(uM|nM|mM)', cols[14])\n",
    "        if (IC50_value):\n",
    "            value, unit = float(IC50_value.group(1)), IC50_value.group(2)\n",
    "            IC50_values.append(molar_value)"
   ]
  },
  {
   "cell_type": "code",
   "execution_count": 112,
   "id": "83358cdc-af0a-47d4-92dd-5a36005dd4e8",
   "metadata": {},
   "outputs": [
    {
     "data": {
      "text/plain": [
       "(13446, 17074, 15393)"
      ]
     },
     "execution_count": 112,
     "metadata": {},
     "output_type": "execute_result"
    }
   ],
   "source": [
    "len(ki_values), len(kd_values), len(IC50_values)"
   ]
  },
  {
   "cell_type": "code",
   "execution_count": 116,
   "id": "b79b2c97-47a9-4d93-b7a5-d1c0b01b2f3c",
   "metadata": {},
   "outputs": [
    {
     "data": {
      "text/plain": [
       "593.3836128997535"
      ]
     },
     "execution_count": 116,
     "metadata": {},
     "output_type": "execute_result"
    }
   ],
   "source": [
    "import numpy as np\n",
    "np.mean(kd_values)"
   ]
  },
  {
   "cell_type": "code",
   "execution_count": 117,
   "id": "45e369e4-8666-49c9-a475-0ce3bf512a6a",
   "metadata": {},
   "outputs": [],
   "source": [
    "kd_values = np.array(kd_values)"
   ]
  },
  {
   "cell_type": "code",
   "execution_count": 124,
   "id": "64e9648b-57b4-4113-8185-bb7836ec02c8",
   "metadata": {},
   "outputs": [
    {
     "data": {
      "text/plain": [
       "9162"
      ]
     },
     "execution_count": 124,
     "metadata": {},
     "output_type": "execute_result"
    }
   ],
   "source": [
    "(kd_values < 1).sum()"
   ]
  },
  {
   "cell_type": "code",
   "execution_count": 119,
   "id": "071d07c7-52dc-45c2-bbb9-02179aa92de6",
   "metadata": {},
   "outputs": [
    {
     "data": {
      "text/plain": [
       "17074"
      ]
     },
     "execution_count": 119,
     "metadata": {},
     "output_type": "execute_result"
    }
   ],
   "source": [
    "len(kd_values)"
   ]
  },
  {
   "cell_type": "code",
   "execution_count": 169,
   "id": "97eb4dc5-74d2-4ed2-902a-4130ffdd1015",
   "metadata": {},
   "outputs": [
    {
     "data": {
      "text/plain": [
       "array([1.90e+01, 2.90e+02, 1.40e+01, ..., 1.00e-02, 1.00e-02, 1.25e+02])"
      ]
     },
     "execution_count": 169,
     "metadata": {},
     "output_type": "execute_result"
    }
   ],
   "source": []
  },
  {
   "cell_type": "code",
   "execution_count": null,
   "id": "bb352167-abe3-453e-ac79-e858d6230c31",
   "metadata": {},
   "outputs": [],
   "source": []
  },
  {
   "cell_type": "code",
   "execution_count": 146,
   "id": "d17d1297-6ede-4cc3-96cb-5169cf5241da",
   "metadata": {},
   "outputs": [],
   "source": [
    "def extract_backbone_atoms(pdb_filename):\n",
    "    # Define the backbone atom names and their corresponding integer representations\n",
    "    backbone_atoms = {'N': 0, 'CA': 1, 'C': 2, 'O': 3}\n",
    "    \n",
    "    # Define a mapping for residue types to integers (for the 20 standard amino acids)\n",
    "    residue_mapping = {\n",
    "        'ALA': 0, 'ARG': 1, 'ASN': 2, 'ASP': 3, 'CYS': 4,\n",
    "        'GLU': 5, 'GLN': 6, 'GLY': 7, 'HIS': 8, 'ILE': 9,\n",
    "        'LEU': 10, 'LYS': 11, 'MET': 12, 'PHE': 13, 'PRO': 14,\n",
    "        'SER': 15, 'THR': 16, 'TRP': 17, 'TYR': 18, 'VAL': 19\n",
    "    }\n",
    "    \n",
    "    # Initialize an array to hold the extracted information\n",
    "    extracted_info = []\n",
    "    \n",
    "    with open(pdb_filename, 'r') as file:\n",
    "        for line in file:\n",
    "            if line.startswith(\"ATOM\") or line.startswith(\"HETATM\"):\n",
    "                atom_name = line[13:16].strip()\n",
    "                if atom_name in backbone_atoms:\n",
    "                    # Convert atom name to its corresponding integer\n",
    "                    atom_type = backbone_atoms[atom_name]\n",
    "                    residue_type_str = line[17:20].strip()\n",
    "                    \n",
    "                    # Convert residue type to its corresponding integer, default to -1 if not found\n",
    "                    residue_type = residue_mapping.get(residue_type_str, -1)\n",
    "                    \n",
    "                    # Extract needed information\n",
    "                    atom_coord = [float(line[30:38]), float(line[38:46]), float(line[46:54])]\n",
    "                    residue_idx = int(line[22:26].strip())\n",
    "                    \n",
    "                    # Append the information to our array\n",
    "                    extracted_info.append({\n",
    "                        'atom_type': atom_type,\n",
    "                        'coordinates': atom_coord,\n",
    "                        'residue_idx': residue_idx,\n",
    "                        'residue_type': residue_type\n",
    "                    })\n",
    "                    \n",
    "    return extracted_info\n",
    "\n",
    "# Example usage\n",
    "pdb_filename = receptor_path  # Replace with your PDB file path\n",
    "backbone_atoms_info = extract_backbone_atoms(pdb_filename)\n",
    "# print(backbone_atoms_info)\n"
   ]
  },
  {
   "cell_type": "code",
   "execution_count": 147,
   "id": "3cc88933-8911-41e0-adad-9e75860c0917",
   "metadata": {},
   "outputs": [
    {
     "data": {
      "text/plain": [
       "[{'atom_type': 0,\n",
       "  'coordinates': [15.061, 70.427, 141.176],\n",
       "  'residue_idx': 3,\n",
       "  'residue_type': 19},\n",
       " {'atom_type': 1,\n",
       "  'coordinates': [13.895, 71.269, 141.484],\n",
       "  'residue_idx': 3,\n",
       "  'residue_type': 19},\n",
       " {'atom_type': 2,\n",
       "  'coordinates': [14.33, 72.721, 141.762],\n",
       "  'residue_idx': 3,\n",
       "  'residue_type': 19},\n",
       " {'atom_type': 3,\n",
       "  'coordinates': [15.523, 73.034, 141.965],\n",
       "  'residue_idx': 3,\n",
       "  'residue_type': 19},\n",
       " {'atom_type': 0,\n",
       "  'coordinates': [13.305, 73.57, 141.764],\n",
       "  'residue_idx': 4,\n",
       "  'residue_type': 6}]"
      ]
     },
     "execution_count": 147,
     "metadata": {},
     "output_type": "execute_result"
    }
   ],
   "source": [
    "backbone_atoms_info[:5]"
   ]
  },
  {
   "cell_type": "code",
   "execution_count": 161,
   "id": "b4fd7cb8-c8da-492f-ae5c-c776c850243c",
   "metadata": {},
   "outputs": [
    {
     "data": {
      "text/plain": [
       "[{'atomic_number': 6, 'coordinates': [17.077, 12.945, 10.162]},\n",
       " {'atomic_number': 5, 'coordinates': [17.306, 13.763, 8.94]},\n",
       " {'atomic_number': 5, 'coordinates': [18.253, 14.931, 9.229]},\n",
       " {'atomic_number': 7, 'coordinates': [18.94, 15.391, 8.288]},\n",
       " {'atomic_number': 5, 'coordinates': [15.973, 14.285, 8.391]},\n",
       " {'atomic_number': 5, 'coordinates': [16.106, 14.903, 7.011]},\n",
       " {'atomic_number': 5, 'coordinates': [14.805, 15.431, 6.46]},\n",
       " {'atomic_number': 7, 'coordinates': [13.783, 15.449, 7.146]},\n",
       " {'atomic_number': 7, 'coordinates': [18.308, 15.365, 10.399]},\n",
       " {'atomic_number': 6, 'coordinates': [14.842, 15.822, 5.191]}]"
      ]
     },
     "execution_count": 161,
     "metadata": {},
     "output_type": "execute_result"
    }
   ],
   "source": [
    "def extract_atom_coordinates_and_atomic_numbers(pdb_filename):\n",
    "    # Mapping of element symbols to adjusted atomic numbers (starting from 0)\n",
    "    element_to_atomic_number = {\n",
    "        'H': 0, 'HE': 1, 'LI': 2, 'BE': 3, 'B': 4, 'C': 5, 'N': 6, 'O': 7, 'F': 8, 'NE': 9,\n",
    "        'NA': 10, 'MG': 11, 'AL': 12, 'SI': 13, 'P': 14, 'S': 15, 'CL': 16, 'AR': 17, 'K': 18, 'CA': 19,\n",
    "        # Adjust more elements as needed\n",
    "    }\n",
    "    \n",
    "    # Initialize an array to hold the extracted information\n",
    "    extracted_info = []\n",
    "    \n",
    "    with open(pdb_filename, 'r') as file:\n",
    "        for line in file:\n",
    "            if line.startswith(\"ATOM\") or line.startswith(\"HETATM\"):\n",
    "                # Extract atom coordinates\n",
    "                atom_coord = [float(line[30:38]), float(line[38:46]), float(line[46:54])]\n",
    "                \n",
    "                # Assuming element symbol is right-aligned within columns 77-78 as per standard PDB files\n",
    "                element_symbol = line[76:78].strip().upper()\n",
    "                \n",
    "                # Map element symbol to adjusted atomic number, default to -1 if not found\n",
    "                atomic_number = element_to_atomic_number.get(element_symbol, -1)\n",
    "                \n",
    "                # Append the information to our array\n",
    "                extracted_info.append({\n",
    "                    'atomic_number': atomic_number,\n",
    "                    'coordinates': atom_coord\n",
    "                })\n",
    "                    \n",
    "    return extracted_info\n",
    "\n",
    "# Example usage\n",
    "pdb_filename = ligand_path  # Replace with your PDB file path\n",
    "atoms_info = extract_atom_coordinates_and_atomic_numbers(pdb_filename)\n",
    "atoms_info[:10]\n"
   ]
  },
  {
   "cell_type": "code",
   "execution_count": 173,
   "id": "e2a85561-4290-4422-98f6-5caf7f04dbee",
   "metadata": {},
   "outputs": [
    {
     "data": {
      "text/plain": [
       "0"
      ]
     },
     "execution_count": 173,
     "metadata": {},
     "output_type": "execute_result"
    }
   ],
   "source": [
    "ord('A')-ord('A')"
   ]
  },
  {
   "cell_type": "code",
   "execution_count": 183,
   "id": "04c797d9-1df6-44c0-8541-bec3c9ca69a7",
   "metadata": {},
   "outputs": [
    {
     "data": {
      "text/plain": [
       "' '"
      ]
     },
     "execution_count": 183,
     "metadata": {},
     "output_type": "execute_result"
    }
   ],
   "source": [
    "l[26]"
   ]
  },
  {
   "cell_type": "code",
   "execution_count": 188,
   "id": "d9024a98-0035-4116-932e-00df5533a6a6",
   "metadata": {},
   "outputs": [
    {
     "name": "stderr",
     "output_type": "stream",
     "text": [
      "  1%|▋                                                                                    | 6862/849494 [00:00<00:24, 34517.35it/s]"
     ]
    },
    {
     "name": "stdout",
     "output_type": "stream",
     "text": [
      "ATOM    410  N   PRO H  52A     29.226   8.901  40.526  1.00 15.25           N\n",
      "\n",
      "ATOM    366  N   PRO H  60B     -5.676  20.425  55.376  1.00 23.83           N\n",
      "\n",
      "ATOM    373  N   PRO H  60C     -5.404  17.579  54.488  1.00 27.81           N\n",
      "\n",
      "ATOM    380  N   TRP H  60D     -3.432  16.564  56.204  1.00 34.04           N\n",
      "\n",
      "ATOM    394  N   ASP H  60E     -4.346  17.099  58.663  1.00 33.29           N\n",
      "\n",
      "ATOM    402  N   LYS H  60F     -3.716  19.753  59.500  1.00 32.31           N\n",
      "\n",
      "ATOM    411  N   ASN H  60G     -4.320  22.811  60.828  1.00 31.25           N\n",
      "\n",
      "ATOM    419  N   PHE H  60H     -3.762  25.631  61.809  1.00 33.80           N\n",
      "\n",
      "ATOM    430  N   THR H  60I     -4.389  28.297  64.075  1.00 33.82           N\n",
      "\n",
      "ATOM    251  N   LEU A  36L     23.644  69.305  -0.695  1.00 20.82           N\n",
      "\n",
      "ATOM    218  N   SER B 331X     19.123  50.626 -17.188  1.00 35.64           N\n",
      "\n"
     ]
    },
    {
     "name": "stderr",
     "output_type": "stream",
     "text": [
      "100%|███████████████████████████████████████████████████████████████████████████████████| 849494/849494 [00:15<00:00, 53232.87it/s]\n"
     ]
    }
   ],
   "source": [
    "from tqdm import tqdm\n",
    "cnt = 0\n",
    "for line in tqdm(lines):\n",
    "    cols = line.split(\"\\t\")\n",
    "\n",
    "    molar_value = None\n",
    "\n",
    "    if cols[15]!='':\n",
    "        kd_value = re.search(r'Kd=([0-9.]+)(uM|nM|mM)', cols[15])\n",
    "        if (kd_value):\n",
    "            value, unit = float(kd_value.group(1)), kd_value.group(2)\n",
    "            molar_value = convert_to_molar(value, unit)\n",
    "\n",
    "    if molar_value is None and cols[16]!='': \n",
    "        kd_value = re.search(r'Kd=([0-9.]+)(uM|nM|mM)', cols[16])\n",
    "        if (kd_value):\n",
    "            value, unit = float(kd_value.group(1)), kd_value.group(2)\n",
    "            molar_value = convert_to_molar(value, unit)\n",
    "\n",
    "    if molar_value is None and cols[14]!='': \n",
    "        kd_value = re.search(r'Kd=([0-9.]+)(uM|nM|mM)', cols[14])\n",
    "        if (kd_value):\n",
    "            value, unit = float(kd_value.group(1)), kd_value.group(2)\n",
    "            molar_value = convert_to_molar(value, unit)\n",
    "\n",
    "    if molar_value is None:\n",
    "        continue\n",
    "    \n",
    "    receptor_path = os.path.join(\"/data/hongyiling/XAI4e3nn/dataset/biolip\", \"BioLiP_updated_set/receptor/\"+cols[0]+cols[1]+\".pdb\")\n",
    "    \n",
    "    with open(receptor_path, 'r') as file:\n",
    "            for l in file:\n",
    "                if l.startswith(\"ATOM\") or l.startswith(\"HETATM\"):\n",
    "                    if l[26] != \" \":\n",
    "                        if ord(l[26]) - ord('A') + 1 > cnt:\n",
    "                            print(l)\n",
    "                        cnt = max(cnt, ord(l[26]) - ord('A') + 1)\n",
    "                        \n",
    "#                         print(l)\n",
    "    "
   ]
  },
  {
   "cell_type": "code",
   "execution_count": 187,
   "id": "5179d6a7-2e0d-4bd8-b483-03679e3092c1",
   "metadata": {},
   "outputs": [
    {
     "data": {
      "text/plain": [
       "24"
      ]
     },
     "execution_count": 187,
     "metadata": {},
     "output_type": "execute_result"
    }
   ],
   "source": [
    "cnt"
   ]
  },
  {
   "cell_type": "code",
   "execution_count": 189,
   "id": "fa6b1c96-9a29-4618-a71c-edbf0447c8c0",
   "metadata": {},
   "outputs": [],
   "source": [
    "a = int('5') + 0.4"
   ]
  },
  {
   "cell_type": "code",
   "execution_count": 190,
   "id": "91d41fe9-9e05-430e-a871-9aec847f6a3e",
   "metadata": {},
   "outputs": [
    {
     "data": {
      "text/plain": [
       "5.4"
      ]
     },
     "execution_count": 190,
     "metadata": {},
     "output_type": "execute_result"
    }
   ],
   "source": [
    "a"
   ]
  },
  {
   "cell_type": "code",
   "execution_count": 61,
   "id": "a6686380-18e1-4351-9b5d-1ae1e2739250",
   "metadata": {},
   "outputs": [],
   "source": [
    "from e3nn import o3\n",
    "l = 3\n",
    "hidden = 8\n",
    "hidden_irreps = []\n",
    "for i in range(l+1):    \n",
    "    hidden_irreps.append(f\"{hidden}x{i}o+{hidden}x{i}e\")\n",
    "\n",
    "hidden_irreps = o3.Irreps(\"+\".join(hidden_irreps))"
   ]
  },
  {
   "cell_type": "code",
   "execution_count": 62,
   "id": "b9322056-ece6-4855-a9cd-0ed29258ef8b",
   "metadata": {},
   "outputs": [
    {
     "data": {
      "text/plain": [
       "8x0o+8x0e+8x1o+8x1e+8x2o+8x2e+8x3o+8x3e"
      ]
     },
     "execution_count": 62,
     "metadata": {},
     "output_type": "execute_result"
    }
   ],
   "source": [
    "hidden_irreps"
   ]
  },
  {
   "cell_type": "code",
   "execution_count": null,
   "id": "ceecf569-b752-4454-b3f0-3777b431497d",
   "metadata": {},
   "outputs": [],
   "source": []
  },
  {
   "cell_type": "code",
   "execution_count": 75,
   "id": "85719656-e0ef-44de-a95e-a4913dbffcc7",
   "metadata": {},
   "outputs": [],
   "source": [
    "from dataset.biolip.dataloader import BioLiPdataset\n",
    "import numpy as np\n",
    "\n",
    "# from torch_geometric.transforms import RadiusGraph, KNNGraph\n",
    "\n",
    "# max_radius = 5\n",
    "# Trans = RadiusGraph(r = max_radius)\n",
    "\n",
    "dataset = BioLiPdataset(root = \"/data/hongyiling/XAI4e3nn/dataset/biolip\")\n",
    "\n",
    "total_size = len(dataset)\n",
    "indices = np.arange(total_size)\n",
    "np.random.seed(42)\n",
    "\n",
    "# Shuffle the indices with the seed\n",
    "np.random.shuffle(indices)\n",
    "\n",
    "train_size = int(total_size * 0.8)\n",
    "validation_size = int(total_size * 0.1)\n",
    "\n",
    "# Split the indices again using the same proportions\n",
    "train_idx = indices[:train_size]\n",
    "val_idx = indices[train_size:train_size + validation_size]\n",
    "test_idx = indices[train_size + validation_size:]\n",
    "\n",
    "train_dataset, valid_dataset, test_dataset = dataset[train_idx], dataset[val_idx], dataset[test_idx]\n",
    "\n",
    "from torch_geometric.loader import DataListLoader\n",
    "val_loader = DataListLoader(valid_dataset, batch_size=8, shuffle=False)"
   ]
  },
  {
   "cell_type": "code",
   "execution_count": 80,
   "id": "5a60f47a-d97d-4df0-8646-5ce5f6b7d4be",
   "metadata": {},
   "outputs": [],
   "source": [
    "batch = next(iter(val_loader))"
   ]
  },
  {
   "cell_type": "code",
   "execution_count": 84,
   "id": "ca9572d4-cb7d-40f3-bcf0-cd9c56c79c09",
   "metadata": {},
   "outputs": [
    {
     "data": {
      "text/plain": [
       "tensor([1, 0, 0, 1, 1, 0, 1, 1])"
      ]
     },
     "execution_count": 84,
     "metadata": {},
     "output_type": "execute_result"
    }
   ],
   "source": [
    "binary_label = torch.cat([(data.affinity_value > threshold).long() for data in batch])\n",
    "binary_label"
   ]
  },
  {
   "cell_type": "code",
   "execution_count": 82,
   "id": "00ffcd04-8c79-45eb-bc12-a98a09c562f6",
   "metadata": {},
   "outputs": [],
   "source": [
    "preds = torch.ones(8,2)"
   ]
  },
  {
   "cell_type": "code",
   "execution_count": 86,
   "id": "54a5394c-1ef3-406f-a8e5-a8e2b736f6b5",
   "metadata": {},
   "outputs": [
    {
     "data": {
      "text/plain": [
       "tensor(0.6931)"
      ]
     },
     "execution_count": 86,
     "metadata": {},
     "output_type": "execute_result"
    }
   ],
   "source": [
    "from torch import nn\n",
    "criterion = nn.CrossEntropyLoss()\n",
    "criterion(preds, binary_label)"
   ]
  },
  {
   "cell_type": "code",
   "execution_count": null,
   "id": "3cdefb1e-d793-46f6-8fe5-d70404b3c8f1",
   "metadata": {},
   "outputs": [],
   "source": []
  },
  {
   "cell_type": "code",
   "execution_count": 68,
   "id": "e74bc4bf-c57f-40a4-ba2a-5bf6fcdd4db7",
   "metadata": {},
   "outputs": [
    {
     "data": {
      "text/plain": [
       "tensor([1269], dtype=torch.int32)"
      ]
     },
     "execution_count": 68,
     "metadata": {},
     "output_type": "execute_result"
    }
   ],
   "source": [
    "sum([(data.affinity_value > threshold).int() for data in valid_dataset])"
   ]
  },
  {
   "cell_type": "code",
   "execution_count": 69,
   "id": "839def6b-ddb2-4123-893b-5315111703f4",
   "metadata": {},
   "outputs": [
    {
     "data": {
      "text/plain": [
       "3075"
      ]
     },
     "execution_count": 69,
     "metadata": {},
     "output_type": "execute_result"
    }
   ],
   "source": [
    "len(valid_dataset)"
   ]
  },
  {
   "cell_type": "code",
   "execution_count": 71,
   "id": "e6111c33-ba2d-4d7e-b3a4-27bfcbfe7ddb",
   "metadata": {},
   "outputs": [
    {
     "data": {
      "text/plain": [
       "0.5873170731707318"
      ]
     },
     "execution_count": 71,
     "metadata": {},
     "output_type": "execute_result"
    }
   ],
   "source": [
    "1 - 1269 / 3075"
   ]
  },
  {
   "cell_type": "code",
   "execution_count": 67,
   "id": "939aa329-d1b7-4eb9-b0eb-f298ec8a2b31",
   "metadata": {},
   "outputs": [
    {
     "data": {
      "text/plain": [
       "tensor([12568], dtype=torch.int32)"
      ]
     },
     "execution_count": 67,
     "metadata": {},
     "output_type": "execute_result"
    }
   ],
   "source": [
    "threshold = 1.0\n",
    "sum([(data.affinity_value > threshold).int() for data in dataset])"
   ]
  },
  {
   "cell_type": "code",
   "execution_count": 54,
   "id": "9d944d1e-9e91-48bd-8ea0-c47f83cad6e1",
   "metadata": {},
   "outputs": [
    {
     "data": {
      "text/plain": [
       "17700"
      ]
     },
     "execution_count": 54,
     "metadata": {},
     "output_type": "execute_result"
    }
   ],
   "source": [
    "len(dataset)"
   ]
  },
  {
   "cell_type": "code",
   "execution_count": 64,
   "id": "d3ff6aae-92c0-4c30-993c-06e6d012c5b5",
   "metadata": {},
   "outputs": [
    {
     "data": {
      "text/plain": [
       "0.5477966101694915"
      ]
     },
     "execution_count": 64,
     "metadata": {},
     "output_type": "execute_result"
    }
   ],
   "source": [
    "1 - 8004 / 17700"
   ]
  },
  {
   "cell_type": "code",
   "execution_count": null,
   "id": "eb24d895-72fb-4478-ac55-363d517d0f22",
   "metadata": {},
   "outputs": [],
   "source": []
  },
  {
   "cell_type": "code",
   "execution_count": 218,
   "id": "661efe27-2920-4f8a-bb8f-0757c9235198",
   "metadata": {},
   "outputs": [
    {
     "data": {
      "text/plain": [
       "Data(x=[648, 25], receptor_atom_coords=[648, 3], ligand_x=[10, 118], ligand_atom_coords=[10, 3], xai_labels=[648, 1], affinity_value=[1])"
      ]
     },
     "execution_count": 218,
     "metadata": {},
     "output_type": "execute_result"
    }
   ],
   "source": [
    "dataset[0]"
   ]
  },
  {
   "cell_type": "code",
   "execution_count": 27,
   "id": "181dfe37-8ec0-487c-9afe-a8861c97fc78",
   "metadata": {},
   "outputs": [
    {
     "data": {
      "text/plain": [
       "tensor([[  1.,   0.,   0.,  ...,   0.,   0.,   1.],\n",
       "        [  0.,   1.,   0.,  ...,   0.,   0.,   1.],\n",
       "        [  0.,   0.,   1.,  ...,   0.,   0.,   1.],\n",
       "        ...,\n",
       "        [  0.,   1.,   0.,  ...,   0.,   0., 162.],\n",
       "        [  0.,   0.,   1.,  ...,   0.,   0., 162.],\n",
       "        [  0.,   0.,   0.,  ...,   0.,   0., 162.]])"
      ]
     },
     "execution_count": 27,
     "metadata": {},
     "output_type": "execute_result"
    }
   ],
   "source": [
    "dataset[0].x"
   ]
  },
  {
   "cell_type": "code",
   "execution_count": 221,
   "id": "401f4a39-3b0f-4391-84d7-cf20df3dec24",
   "metadata": {},
   "outputs": [
    {
     "data": {
      "text/plain": [
       "tensor([[43.8120, -3.2330,  9.1480],\n",
       "        [43.2750, -1.8930,  9.1700],\n",
       "        [41.8740, -1.9500,  9.7450],\n",
       "        ...,\n",
       "        [48.5570,  1.0090,  2.8200],\n",
       "        [49.6680,  1.6860,  2.0190],\n",
       "        [50.6320,  2.2140,  2.5780]])"
      ]
     },
     "execution_count": 221,
     "metadata": {},
     "output_type": "execute_result"
    }
   ],
   "source": [
    "dataset[0].receptor_atom_coords"
   ]
  },
  {
   "cell_type": "code",
   "execution_count": 33,
   "id": "a6736d2f-dacb-4a2a-a32b-29c4921c4dd9",
   "metadata": {},
   "outputs": [
    {
     "data": {
      "text/plain": [
       "torch.Size([31, 3])"
      ]
     },
     "execution_count": 33,
     "metadata": {},
     "output_type": "execute_result"
    }
   ],
   "source": [
    "dataset[10].ligand_atom_coords.shape"
   ]
  },
  {
   "cell_type": "code",
   "execution_count": 38,
   "id": "bfc92e69-c299-47c1-ad5f-5c7a0f967ab3",
   "metadata": {},
   "outputs": [
    {
     "data": {
      "text/plain": [
       "tensor([19.])"
      ]
     },
     "execution_count": 38,
     "metadata": {},
     "output_type": "execute_result"
    }
   ],
   "source": [
    "dataset[0].affinity_value"
   ]
  },
  {
   "cell_type": "code",
   "execution_count": 46,
   "id": "2d753c1a-c547-477e-b8c5-0ec8d9f8e0ae",
   "metadata": {},
   "outputs": [],
   "source": [
    "import torch.nn.functional as F\n",
    "input = torch.FloatTensor([1,1,1])\n",
    "target = torch.FloatTensor([1,1,1])\n",
    "loss = F.binary_cross_entropy_with_logits(input, target)"
   ]
  },
  {
   "cell_type": "code",
   "execution_count": 47,
   "id": "c7395e1a-636c-4940-90f0-10bd4269bee2",
   "metadata": {},
   "outputs": [
    {
     "data": {
      "text/plain": [
       "tensor(0.3133)"
      ]
     },
     "execution_count": 47,
     "metadata": {},
     "output_type": "execute_result"
    }
   ],
   "source": [
    "loss"
   ]
  },
  {
   "cell_type": "code",
   "execution_count": 32,
   "id": "b16bd5a3-af03-43a3-b623-829f6bb1ef33",
   "metadata": {},
   "outputs": [
    {
     "data": {
      "text/plain": [
       "tensor([[ 1,  2,  3,  4,  5,  9,  0,  2,  3,  4,  5,  6,  8,  9,  0,  1,  3,  4,\n",
       "          5,  6,  9,  0,  1,  2,  4,  5,  6,  7,  8,  9,  0,  1,  2,  3,  5,  6,\n",
       "          7,  8,  9, 10,  0,  1,  2,  3,  4,  6,  7,  8,  9, 10, 11, 15, 14,  1,\n",
       "          2,  3,  4,  5,  7,  8,  9, 10, 11, 15, 16, 12, 13, 14,  3,  4,  5,  6,\n",
       "          8,  9, 10, 11, 18, 15, 16, 22, 19, 12, 17, 13, 14,  1,  3,  4,  5,  6,\n",
       "          7,  9, 10, 11, 15, 16, 12, 13, 14,  0,  1,  2,  3,  4,  5,  6,  7,  8,\n",
       "         10, 11, 16, 14, 11, 18, 15,  4,  5,  6,  7,  8,  9, 16, 22, 21, 20, 19,\n",
       "         12, 17, 13, 14, 23, 10, 18, 15,  5,  6,  7,  8,  9, 22, 21, 20, 19, 12,\n",
       "         17, 13, 14, 23, 16, 22, 21, 20, 25, 19, 17, 13, 14, 24, 23, 16, 10, 11,\n",
       "         18, 15,  6,  7,  8, 22, 21, 20, 25, 19, 12, 17, 14, 26, 24, 23, 16, 10,\n",
       "         11, 18, 15,  6,  7,  8, 22, 21, 20, 25, 19, 12, 17, 13, 26, 24, 23, 16,\n",
       "         10, 11, 18, 15,  5,  6,  7,  8,  9, 10, 11, 18,  5,  6,  7,  8, 22, 21,\n",
       "         19, 12, 17, 13, 14, 16, 26, 24, 23, 22, 20, 25, 19, 12, 17, 13, 14, 10,\n",
       "         11, 18, 15,  6,  7,  8,  9, 22, 21, 20, 19, 12, 13, 14, 23, 16, 10, 11,\n",
       "         18, 15,  7, 10, 11, 15,  7, 22, 21, 20, 19, 12, 17, 13, 14, 23, 16, 22,\n",
       "         21, 20, 25, 12, 17, 13, 14, 26, 24, 23, 16, 10, 11, 18, 15,  7, 22, 21,\n",
       "         25, 19, 12, 17, 13, 14, 26, 24, 23, 16, 10, 11, 18, 22, 20, 25, 19, 12,\n",
       "         17, 13, 14, 24, 23, 10, 11, 18, 15, 21, 20, 25, 19, 12, 17, 13, 14, 27,\n",
       "         26, 24, 23, 16, 10, 11, 18, 15,  7, 27, 26, 24, 22, 21, 20, 25, 19, 12,\n",
       "         17, 13, 14, 30, 29, 16, 28, 10, 11, 18, 27, 26, 23, 22, 21, 20, 25, 19,\n",
       "         12, 13, 14, 30, 29, 16, 28, 22, 21, 20, 19, 12, 13, 14, 27, 26, 24, 23,\n",
       "         30, 29, 16, 28, 27, 24, 23, 22, 20, 25, 19, 13, 14, 30, 29, 16, 28, 26,\n",
       "         24, 23, 22, 25, 30, 29, 28, 30, 29, 27, 26, 24, 23, 25, 30, 28, 27, 26,\n",
       "         24, 23, 25, 29, 28, 27, 26, 24, 23, 25],\n",
       "        [ 0,  0,  0,  0,  0,  0,  1,  1,  1,  1,  1,  1,  1,  1,  2,  2,  2,  2,\n",
       "          2,  2,  2,  3,  3,  3,  3,  3,  3,  3,  3,  3,  4,  4,  4,  4,  4,  4,\n",
       "          4,  4,  4,  4,  5,  5,  5,  5,  5,  5,  5,  5,  5,  5,  5,  5,  5,  6,\n",
       "          6,  6,  6,  6,  6,  6,  6,  6,  6,  6,  6,  6,  6,  6,  7,  7,  7,  7,\n",
       "          7,  7,  7,  7,  7,  7,  7,  7,  7,  7,  7,  7,  7,  8,  8,  8,  8,  8,\n",
       "          8,  8,  8,  8,  8,  8,  8,  8,  8,  9,  9,  9,  9,  9,  9,  9,  9,  9,\n",
       "          9,  9,  9,  9, 10, 10, 10, 10, 10, 10, 10, 10, 10, 10, 10, 10, 10, 10,\n",
       "         10, 10, 10, 10, 10, 11, 11, 11, 11, 11, 11, 11, 11, 11, 11, 11, 11, 11,\n",
       "         11, 11, 11, 11, 11, 12, 12, 12, 12, 12, 12, 12, 12, 12, 12, 12, 12, 12,\n",
       "         12, 12, 12, 12, 12, 13, 13, 13, 13, 13, 13, 13, 13, 13, 13, 13, 13, 13,\n",
       "         13, 13, 13, 13, 13, 13, 14, 14, 14, 14, 14, 14, 14, 14, 14, 14, 14, 14,\n",
       "         14, 14, 14, 14, 14, 14, 14, 14, 14, 15, 15, 15, 15, 15, 15, 15, 15, 15,\n",
       "         15, 15, 15, 15, 15, 15, 16, 16, 16, 16, 16, 16, 16, 16, 16, 16, 16, 16,\n",
       "         16, 16, 16, 16, 16, 16, 16, 17, 17, 17, 17, 17, 17, 17, 17, 17, 17, 17,\n",
       "         17, 17, 17, 18, 18, 18, 18, 18, 18, 18, 18, 18, 18, 18, 18, 18, 18, 19,\n",
       "         19, 19, 19, 19, 19, 19, 19, 19, 19, 19, 19, 19, 19, 19, 19, 19, 20, 20,\n",
       "         20, 20, 20, 20, 20, 20, 20, 20, 20, 20, 20, 20, 20, 21, 21, 21, 21, 21,\n",
       "         21, 21, 21, 21, 21, 21, 21, 21, 21, 22, 22, 22, 22, 22, 22, 22, 22, 22,\n",
       "         22, 22, 22, 22, 22, 22, 22, 22, 22, 23, 23, 23, 23, 23, 23, 23, 23, 23,\n",
       "         23, 23, 23, 23, 23, 23, 23, 23, 23, 23, 24, 24, 24, 24, 24, 24, 24, 24,\n",
       "         24, 24, 24, 24, 24, 24, 24, 25, 25, 25, 25, 25, 25, 25, 25, 25, 25, 25,\n",
       "         25, 25, 25, 25, 26, 26, 26, 26, 26, 26, 26, 26, 26, 26, 26, 26, 26, 27,\n",
       "         27, 27, 27, 27, 27, 27, 27, 28, 28, 28, 28, 28, 28, 28, 29, 29, 29, 29,\n",
       "         29, 29, 29, 30, 30, 30, 30, 30, 30, 30]])"
      ]
     },
     "execution_count": 32,
     "metadata": {},
     "output_type": "execute_result"
    }
   ],
   "source": [
    "from torch_geometric.nn.pool import radius_graph\n",
    "edge_index = radius_graph(dataset[10].ligand_atom_coords, r = 5)\n",
    "edge_index"
   ]
  },
  {
   "cell_type": "code",
   "execution_count": 35,
   "id": "16229160-ab66-4cc0-b2eb-e771f8cfb79f",
   "metadata": {},
   "outputs": [
    {
     "data": {
      "text/plain": [
       "torch.Size([2, 424])"
      ]
     },
     "execution_count": 35,
     "metadata": {},
     "output_type": "execute_result"
    }
   ],
   "source": [
    "edge_index.shape"
   ]
  },
  {
   "cell_type": "code",
   "execution_count": 36,
   "id": "c0be430c-0c29-456e-bd93-f1006be84378",
   "metadata": {},
   "outputs": [
    {
     "data": {
      "text/plain": [
       "13.67741935483871"
      ]
     },
     "execution_count": 36,
     "metadata": {},
     "output_type": "execute_result"
    }
   ],
   "source": [
    "424 / 31"
   ]
  },
  {
   "cell_type": "code",
   "execution_count": null,
   "id": "b19b6dcd-8df1-4989-bb41-083e27e6f03b",
   "metadata": {},
   "outputs": [],
   "source": []
  },
  {
   "cell_type": "code",
   "execution_count": 200,
   "id": "43cac7e4-f6c7-459d-8e03-e015d983fe8c",
   "metadata": {},
   "outputs": [],
   "source": [
    "total_size = len(dataset)\n",
    "indices = np.arange(total_size)\n",
    "np.random.seed(42)\n",
    "\n",
    "# Shuffle the indices with the seed\n",
    "np.random.shuffle(indices)\n",
    "\n",
    "train_size = int(total_size * 0.8)\n",
    "validation_size = int(total_size * 0.1)\n",
    "\n",
    "# Split the indices again using the same proportions\n",
    "train_indices = indices[:train_size]\n",
    "validation_indices = indices[train_size:train_size + validation_size]\n",
    "test_indices = indices[train_size + validation_size:]\n"
   ]
  },
  {
   "cell_type": "code",
   "execution_count": 201,
   "id": "dd3c5936-ac45-4e9f-b67c-2f5be62966e3",
   "metadata": {},
   "outputs": [
    {
     "data": {
      "text/plain": [
       "array([  980,  5157, 13381, 11652,  2805, 10428, 10113,  9258,  4203,\n",
       "        7596])"
      ]
     },
     "execution_count": 201,
     "metadata": {},
     "output_type": "execute_result"
    }
   ],
   "source": [
    "train_indices[:10]"
   ]
  },
  {
   "cell_type": "code",
   "execution_count": 87,
   "id": "a16a51ff-a88a-4654-8745-77c2f06af244",
   "metadata": {},
   "outputs": [
    {
     "data": {
      "text/plain": [
       "tensor([[1],\n",
       "        [1],\n",
       "        [1],\n",
       "        [1],\n",
       "        [1],\n",
       "        [1],\n",
       "        [1],\n",
       "        [1],\n",
       "        [1],\n",
       "        [1]])"
      ]
     },
     "execution_count": 87,
     "metadata": {},
     "output_type": "execute_result"
    }
   ],
   "source": [
    "import torch.nn.functional as F\n",
    "import torch\n",
    "F.one_hot(torch.zeros(10).long(),  num_classes = 1)"
   ]
  },
  {
   "cell_type": "code",
   "execution_count": null,
   "id": "b77fd526-74d6-4f43-b632-820bfaa677a5",
   "metadata": {},
   "outputs": [],
   "source": []
  },
  {
   "cell_type": "code",
   "execution_count": 1,
   "id": "76bde3ae-c01e-47e0-8381-2c402e121d33",
   "metadata": {},
   "outputs": [],
   "source": [
    "from dataset.biolip.dataloader import BioLiPdataset2\n",
    "dataset = BioLiPdataset2(root = \"/data/hongyiling/XAI4e3nn/dataset/biolip\")\n"
   ]
  },
  {
   "cell_type": "code",
   "execution_count": 10,
   "id": "641e9b2a-8c3e-4a4c-9c18-1a0d9caf04a4",
   "metadata": {},
   "outputs": [
    {
     "name": "stderr",
     "output_type": "stream",
     "text": [
      "100%|██████████████████████████████████████████████████████████████████████████████████████| 10000/10000 [00:01<00:00, 5243.24it/s]\n"
     ]
    },
    {
     "data": {
      "text/plain": [
       "274.1945"
      ]
     },
     "execution_count": 10,
     "metadata": {},
     "output_type": "execute_result"
    }
   ],
   "source": [
    "from tqdm import tqdm\n",
    "avg_size = []\n",
    "for d in tqdm(dataset[:10000]):\n",
    "    avg_size.append(d.receptor_atom_coords.shape[0])\n",
    "np.mean(avg_size)"
   ]
  },
  {
   "cell_type": "code",
   "execution_count": 6,
   "id": "9d1066ee-c206-4d16-a99e-9413f1fb3121",
   "metadata": {},
   "outputs": [
    {
     "data": {
      "text/plain": [
       "18.125560227748505"
      ]
     },
     "execution_count": 6,
     "metadata": {},
     "output_type": "execute_result"
    }
   ],
   "source": [
    "from torch_geometric.nn.pool import radius_graph\n",
    "import numpy as np\n",
    "max_radius = 10\n",
    "avg_deg = []\n",
    "\n",
    "for data in dataset[:100]:\n",
    "    edge_index = radius_graph(data.receptor_atom_coords, r = max_radius, loop = True)\n",
    "    avg_deg.append(edge_index.shape[1] / data.receptor_atom_coords.shape[0])\n",
    "    \n",
    "np.mean(avg_deg)\n",
    "    "
   ]
  },
  {
   "cell_type": "code",
   "execution_count": 7,
   "id": "2b16577f-1857-4a58-a5eb-04cf4bc1e176",
   "metadata": {},
   "outputs": [
    {
     "name": "stderr",
     "output_type": "stream",
     "text": [
      "100%|████████████████████████████████████████████████████████████████████████████████████████| 1000/1000 [00:00<00:00, 2417.61it/s]\n"
     ]
    },
    {
     "data": {
      "text/plain": [
       "(12.404630054547196, 25.032)"
      ]
     },
     "execution_count": 7,
     "metadata": {},
     "output_type": "execute_result"
    }
   ],
   "source": [
    "from tqdm import tqdm\n",
    "max_radius = 5\n",
    "avg_deg = []\n",
    "avg_nodes = []\n",
    "\n",
    "for data in tqdm(dataset[:1000]):\n",
    "    edge_index = radius_graph(data.ligand_atom_coords, r = max_radius, loop = True)\n",
    "    avg_deg.append(edge_index.shape[1] / data.ligand_atom_coords.shape[0])\n",
    "    avg_nodes.append(data.ligand_atom_coords.shape[0])\n",
    "    \n",
    "np.mean(avg_deg), np.mean(avg_nodes)\n",
    " "
   ]
  },
  {
   "cell_type": "code",
   "execution_count": 32,
   "id": "81ca3780-ec5d-455c-9a45-70fa8e7a360f",
   "metadata": {},
   "outputs": [
    {
     "data": {
      "text/plain": [
       "59532"
      ]
     },
     "execution_count": 32,
     "metadata": {},
     "output_type": "execute_result"
    }
   ],
   "source": [
    "max(avg_nodes)"
   ]
  },
  {
   "cell_type": "code",
   "execution_count": 28,
   "id": "6b297353-2e69-43be-a7e8-0182b8207780",
   "metadata": {},
   "outputs": [
    {
     "data": {
      "text/plain": [
       "torch.Size([11, 3])"
      ]
     },
     "execution_count": 28,
     "metadata": {},
     "output_type": "execute_result"
    }
   ],
   "source": [
    "data.ligand_atom_coords.shape"
   ]
  },
  {
   "cell_type": "code",
   "execution_count": 13,
   "id": "a2cc237d-0a62-42b9-9eb4-17445ea61a35",
   "metadata": {},
   "outputs": [
    {
     "data": {
      "text/plain": [
       "torch.Size([379, 3])"
      ]
     },
     "execution_count": 13,
     "metadata": {},
     "output_type": "execute_result"
    }
   ],
   "source": [
    "data.receptor_atom_coords.shape"
   ]
  },
  {
   "cell_type": "code",
   "execution_count": 19,
   "id": "3496cc26-dc0d-43be-bd6f-f91fc35aefda",
   "metadata": {},
   "outputs": [
    {
     "data": {
      "text/plain": [
       "torch.Size([1])"
      ]
     },
     "execution_count": 19,
     "metadata": {},
     "output_type": "execute_result"
    }
   ],
   "source": [
    "import torch\n",
    "torch.tensor(2).reshape(-1).shape"
   ]
  },
  {
   "cell_type": "code",
   "execution_count": 24,
   "id": "ee0c96a6-56f0-479a-a92e-3a7ea1a6aed2",
   "metadata": {},
   "outputs": [
    {
     "data": {
      "text/plain": [
       "Data(x=[208, 20], receptor_atom_coords=[208, 3], ligand_x=[33, 118], ligand_atom_coords=[33, 3], xai_labels=[208, 1], affinity_value=[1])"
      ]
     },
     "execution_count": 24,
     "metadata": {},
     "output_type": "execute_result"
    }
   ],
   "source": [
    "dataset[0]"
   ]
  },
  {
   "cell_type": "code",
   "execution_count": null,
   "id": "2a6845fc-2156-4f96-b4f0-25d7ffa876e6",
   "metadata": {},
   "outputs": [],
   "source": []
  },
  {
   "cell_type": "code",
   "execution_count": null,
   "id": "ac563034-5509-4adf-9bd0-50fb0613f96a",
   "metadata": {},
   "outputs": [],
   "source": []
  },
  {
   "cell_type": "code",
   "execution_count": 47,
   "id": "5ba69559-d59a-4b4d-8436-c9cb112f9cf9",
   "metadata": {},
   "outputs": [],
   "source": [
    "import os.path as osp\n",
    "import h5py\n",
    "import numpy as np\n",
    "import warnings\n",
    "from tqdm import tqdm\n",
    "\n",
    "import torch \n",
    "import torch.nn.functional as F\n",
    "\n",
    "from torch_geometric.data import Data\n",
    "from torch_geometric.data import InMemoryDataset\n",
    "from Bio.PDB import PDBParser\n",
    "\n",
    "import re \n",
    "\n",
    "class BioLiPdataset2(InMemoryDataset):\n",
    "    def __init__(self,\n",
    "                 root,\n",
    "                 transform=None,\n",
    "                 pre_transform=None,\n",
    "                 pre_filter=None,\n",
    "                ):\n",
    "\n",
    "        self.root = root\n",
    "\n",
    "        super(BioLiPdataset2, self).__init__(\n",
    "            root, transform, pre_transform, pre_filter)\n",
    "        \n",
    "        self.transform, self.pre_transform, self.pre_filter = transform, pre_transform, pre_filter\n",
    "        self.process()\n",
    "        self.data, self.slices = torch.load(self.processed_paths[0])\n",
    "\n",
    "    @property\n",
    "    def processed_dir(self):\n",
    "        name = 'processed_CaOnly'\n",
    "        return osp.join(self.root, name)\n",
    "\n",
    "    @property\n",
    "    def raw_file_names(self):\n",
    "        name = 'BioLip.txt'\n",
    "        return name\n",
    "\n",
    "    @property\n",
    "    def processed_file_names(self):\n",
    "        return 'data.pt'\n",
    "\n",
    "    def ligand_data(self, ligandPath):  \n",
    "        element_to_atomic_number = {\n",
    "            'H': 0, 'HE': 1, 'LI': 2, 'BE': 3, 'B': 4, 'C': 5, 'N': 6, 'O': 7, 'F': 8, 'NE': 9,\n",
    "            'NA': 10, 'MG': 11, 'AL': 12, 'SI': 13, 'P': 14, 'S': 15, 'CL': 16, 'AR': 17, 'K': 18, 'CA': 19,\n",
    "            'SC': 20, 'TI': 21, 'V': 22, 'CR': 23, 'MN': 24, 'FE': 25, 'CO': 26, 'NI': 27, 'CU': 28, 'ZN': 29,\n",
    "            'GA': 30, 'GE': 31, 'AS': 32, 'SE': 33, 'BR': 34, 'KR': 35, 'RB': 36, 'SR': 37, 'Y': 38, 'ZR': 39,\n",
    "            'NB': 40, 'MO': 41, 'TC': 42, 'RU': 43, 'RH': 44, 'PD': 45, 'AG': 46, 'CD': 47, 'IN': 48, 'SN': 49,\n",
    "            'SB': 50, 'TE': 51, 'I': 52, 'XE': 53, 'CS': 54, 'BA': 55, 'LA': 56, 'CE': 57, 'PR': 58, 'ND': 59,\n",
    "            'PM': 60, 'SM': 61, 'EU': 62, 'GD': 63, 'TB': 64, 'DY': 65, 'HO': 66, 'ER': 67, 'TM': 68, 'YB': 69,\n",
    "            'LU': 70, 'HF': 71, 'TA': 72, 'W': 73, 'RE': 74, 'OS': 75, 'IR': 76, 'PT': 77, 'AU': 78, 'HG': 79,\n",
    "            'TL': 80, 'PB': 81, 'BI': 82, 'PO': 83, 'AT': 84, 'RN': 85, 'FR': 86, 'RA': 87, 'AC': 88, 'TH': 89,\n",
    "            'PA': 90, 'U': 91, 'NP': 92, 'PU': 93, 'AM': 94, 'CM': 95, 'BK': 96, 'CF': 97, 'ES': 98, 'FM': 99,\n",
    "            'MD': 100, 'NO': 101, 'LR': 102, 'RF': 103, 'DB': 104, 'SG': 105, 'BH': 106, 'HS': 107, 'MT': 108,\n",
    "            'DS': 109, 'RG': 110, 'CN': 111, 'NH': 112, 'FL': 113, 'MC': 114, 'LV': 115, 'TS': 116, 'OG': 117,\n",
    "        }\n",
    "        \n",
    "        # Initialize an array to hold the extracted information\n",
    "        atom_types = []\n",
    "        atom_coords = []\n",
    "        \n",
    "        with open(ligandPath, 'r') as file:\n",
    "            for line in file:\n",
    "                if line.startswith(\"ATOM\") or line.startswith(\"HETATM\"):\n",
    "                    # Extract atom coordinates\n",
    "                    atom_coord = [float(line[30:38]), float(line[38:46]), float(line[46:54])]\n",
    "                    \n",
    "                    # Assuming element symbol is right-aligned within columns 77-78 as per standard PDB files\n",
    "                    element_symbol = line[76:78].strip().upper()\n",
    "                    \n",
    "                    # Map element symbol to adjusted atomic number, default to -1 if not found\n",
    "                    atomic_number = element_to_atomic_number.get(element_symbol, -1)\n",
    "                    \n",
    "                    if atomic_number == -1:\n",
    "                        continue\n",
    "                    \n",
    "                    atom_types.append(atomic_number)\n",
    "                    atom_coords.append(atom_coord)\n",
    "                    \n",
    "        return torch.tensor(atom_types), torch.tensor(atom_coords)\n",
    "\n",
    "        \n",
    "    \n",
    "    def protein_data(self, proteinPath):\n",
    "        # backbone_atoms = {'N': 0, 'CA': 1, 'C': 2, 'O': 3}\n",
    "        backbone_atoms = {'CA': 0}\n",
    "    \n",
    "        # Define a mapping for residue types to integers (for the 20 standard amino acids)\n",
    "        residue_mapping = {\n",
    "            'ALA': 0, 'ARG': 1, 'ASN': 2, 'ASP': 3, 'CYS': 4,\n",
    "            'GLU': 5, 'GLN': 6, 'GLY': 7, 'HIS': 8, 'ILE': 9,\n",
    "            'LEU': 10, 'LYS': 11, 'MET': 12, 'PHE': 13, 'PRO': 14,\n",
    "            'SER': 15, 'THR': 16, 'TRP': 17, 'TYR': 18, 'VAL': 19\n",
    "        }\n",
    "\n",
    "        \n",
    "        # Initialize an array to hold the extracted information\n",
    "        atom_types = []\n",
    "        atom_coords = []\n",
    "        residue_idices = []\n",
    "        residue_types = []\n",
    "        \n",
    "        with open(proteinPath, 'r') as file:\n",
    "            for line in file:\n",
    "                if line.startswith(\"ATOM\") or line.startswith(\"HETATM\"):\n",
    "                    atom_name = line[13:16].strip()\n",
    "                    if atom_name in backbone_atoms:\n",
    "                        # Convert atom name to its corresponding integer\n",
    "                        atom_type = backbone_atoms[atom_name]\n",
    "                        residue_type_str = line[17:20].strip()\n",
    "                        \n",
    "                        # Convert residue type to its corresponding integer, default to -1 if not found\n",
    "                        residue_type = residue_mapping.get(residue_type_str, -1)\n",
    "                        \n",
    "                        # Extract needed information\n",
    "                        atom_coord = [float(line[30:38]), float(line[38:46]), float(line[46:54])]\n",
    "                        residue_idx = int(line[22:26].strip())\n",
    "                        if (line[26]!= ' '):                                    # Deal with insertion code\n",
    "                            residue_idx += (ord(line[26]) - ord('A') + 1) / 24 \n",
    "                        \n",
    "                        atom_types.append(atom_type)\n",
    "                        atom_coords.append(atom_coord)\n",
    "                        residue_idices.append(residue_idx)\n",
    "                        residue_types.append(residue_type)\n",
    "                        \n",
    "        return torch.tensor(atom_types), torch.tensor(atom_coords), torch.tensor(residue_idices), torch.tensor(residue_types)\n",
    "        \n",
    "    def convert_to_molar(self, value, unit):\n",
    "        if unit == \"mM\":\n",
    "            return value * 1e3\n",
    "        elif unit == \"uM\":\n",
    "            return value * 1\n",
    "        elif unit == \"nM\":\n",
    "            return value * 1e-3\n",
    "        else:\n",
    "            return None\n",
    "    \n",
    "    def process(self):\n",
    "        print('Beginning Processing ...')\n",
    "        label_path = osp.join(self.root, \"BioLiP.txt\")\n",
    "        with open(label_path, 'r') as file:\n",
    "            # Read all lines in the file and store them in a list\n",
    "            lines = file.readlines()\n",
    "            \n",
    "        data_list = [] \n",
    "        \n",
    "        for line in tqdm(lines):\n",
    "            cols = line.split(\"\\t\")\n",
    "\n",
    "            molar_value = None\n",
    "            \n",
    "            if cols[15]!='':\n",
    "                kd_value = re.search(r'Kd=([0-9.]+)(uM|nM|mM)', cols[15])\n",
    "                ki_value = re.search(r'Ki=([0-9.]+)(uM|nM|mM)', cols[15])\n",
    "                if (kd_value):\n",
    "                    value, unit = float(kd_value.group(1)), kd_value.group(2)\n",
    "                    molar_value = self.convert_to_molar(value, unit)\n",
    "                elif (ki_value):\n",
    "                    value, unit = float(ki_value.group(1)), ki_value.group(2)\n",
    "                    molar_value = self.convert_to_molar(value, unit)\n",
    "                \n",
    "                    \n",
    "            if molar_value is None and cols[16]!='': \n",
    "                kd_value = re.search(r'Kd=([0-9.]+)(uM|nM|mM)', cols[16])\n",
    "                ki_value = re.search(r'Ki=([0-9.]+)(uM|nM|mM)', cols[16])\n",
    "                if (kd_value):\n",
    "                    value, unit = float(kd_value.group(1)), kd_value.group(2)\n",
    "                    molar_value = self.convert_to_molar(value, unit)\n",
    "                elif (ki_value):\n",
    "                    value, unit = float(ki_value.group(1)), ki_value.group(2)\n",
    "                    molar_value = self.convert_to_molar(value, unit)\n",
    "            \n",
    "            if molar_value is None and cols[14]!='': \n",
    "                kd_value = re.search(r'Kd=([0-9.]+)(uM|nM|mM)', cols[14])\n",
    "                ki_value = re.search(r'Ki=([0-9.]+)(uM|nM|mM)', cols[14])\n",
    "                if (kd_value):\n",
    "                    value, unit = float(kd_value.group(1)), kd_value.group(2)\n",
    "                    molar_value = self.convert_to_molar(value, unit)\n",
    "                elif (ki_value):\n",
    "                    value, unit = float(ki_value.group(1)), ki_value.group(2)\n",
    "                    molar_value = self.convert_to_molar(value, unit)\n",
    "                    \n",
    "            if molar_value is None:\n",
    "                continue\n",
    "            \n",
    "            receptor_path = osp.join(self.root, \"BioLiP_updated_set/receptor/\"+cols[0]+cols[1]+\".pdb\")\n",
    "            ligand_path = osp.join(self.root, \"BioLiP_updated_set/ligand/\"+cols[0]+\"_\"+cols[4]+\"_\"+cols[5]+\"_\"+cols[6]+\".pdb\")\n",
    "            \n",
    "            if (cols[4] == \"dna\" or cols[4] == 'rna'):\n",
    "                continue\n",
    "            \n",
    "            receptor_atom_types, receptor_atom_coords, receptor_residue_idices, receptor_residue_types = self.protein_data(receptor_path)\n",
    "            ligand_atom_types, ligand_atom_coords = self.ligand_data(ligand_path)\n",
    "            \n",
    "            if (ligand_atom_coords.shape[0] > 500):\n",
    "                print(ligand_atom_coords.shape[0], cols)            \n",
    "            \n",
    "            data = Data()\n",
    "            \n",
    "            data.x = F.one_hot(receptor_residue_types, num_classes = 20)\n",
    "            # data.x = torch.cat( [F.one_hot(receptor_atom_types, num_classes = 4), F.one_hot(receptor_residue_types, num_classes = 20), receptor_residue_idices.reshape(-1,1)], dim = 1)\n",
    "            data.receptor_atom_coords = receptor_atom_coords\n",
    "            \n",
    "            data.ligand_x = F.one_hot(ligand_atom_types, num_classes = 118)\n",
    "            data.ligand_atom_coords = ligand_atom_coords\n",
    "            \n",
    "            residue_mapping = {\n",
    "                'A': 0,  # Alanine\n",
    "                'R': 1,  # Arginine\n",
    "                'N': 2,  # Asparagine\n",
    "                'D': 3,  # Aspartic acid\n",
    "                'C': 4,  # Cysteine\n",
    "                'E': 5,  # Glutamic acid\n",
    "                'Q': 6,  # Glutamine\n",
    "                'G': 7,  # Glycine\n",
    "                'H': 8,  # Histidine\n",
    "                'I': 9,  # Isoleucine\n",
    "                'L': 10, # Leucine\n",
    "                'K': 11, # Lysine\n",
    "                'M': 12, # Methionine\n",
    "                'F': 13, # Phenylalanine\n",
    "                'P': 14, # Proline\n",
    "                'S': 15, # Serine\n",
    "                'T': 16, # Threonine\n",
    "                'W': 17, # Tryptophan\n",
    "                'Y': 18, # Tyrosine\n",
    "                'V': 19, # Valine\n",
    "                'X': -1, # Unknown\n",
    "            }\n",
    "            \n",
    "            binding_site_residues = cols[7].split(' ')\n",
    "            binding_site_residues_idx = []\n",
    "            binding_site_residues_types = []\n",
    "            for s in binding_site_residues:\n",
    "                if (s[-1].isnumeric()):\n",
    "                    binding_site_residues_idx.append(int(s[1:]))\n",
    "                else:\n",
    "                    tmp = int(s[1:-1])\n",
    "                    tmp += (ord(s[-1]) - ord('A') + 1) / 24 \n",
    "                    binding_site_residues_idx.append(tmp)\n",
    "                \n",
    "                try:\n",
    "                    binding_site_residues_types.append(residue_mapping[s[0]])\n",
    "                except:\n",
    "                    import pdb\n",
    "                    pdb.set_trace()\n",
    "                    \n",
    "                \n",
    "            xai_labels = torch.zeros_like(receptor_atom_types)\n",
    "            \n",
    "            for i in range(len(receptor_atom_types)):\n",
    "                if (receptor_residue_idices[i] in binding_site_residues_idx): \n",
    "                    try:\n",
    "                        if binding_site_residues_types[binding_site_residues_idx.index(receptor_residue_idices[i])] != -1:              \n",
    "                            assert binding_site_residues_types[binding_site_residues_idx.index(receptor_residue_idices[i])] == receptor_residue_types[i]\n",
    "                        xai_labels[i] = 1.0 \n",
    "                    except AssertionError:\n",
    "                        continue\n",
    "                        import pdb\n",
    "                        pdb.set_trace()\n",
    "            \n",
    "            data.xai_labels = xai_labels.reshape(-1,1) # (n_atom, 1)\n",
    "            data.affinity_value = torch.tensor(molar_value) \n",
    "            \n",
    "            data_list.append(data) \n",
    "            \n",
    "#         data, slices = self.collate(data_list)\n",
    "#         torch.save((data, slices), self.processed_paths[0])\n",
    "        print(len(data_list))\n",
    "        print('Done!')\n",
    "         \n"
   ]
  },
  {
   "cell_type": "code",
   "execution_count": 48,
   "id": "ad0edeec-8c35-4fcf-8c01-c51d5c350422",
   "metadata": {},
   "outputs": [
    {
     "name": "stdout",
     "output_type": "stream",
     "text": [
      "Beginning Processing ...\n"
     ]
    },
    {
     "name": "stderr",
     "output_type": "stream",
     "text": [
      "100%|████████████████████████████████████████████████████████████████████████████████████| 849494/849494 [13:11<00:00, 1072.92it/s]\n"
     ]
    },
    {
     "name": "stdout",
     "output_type": "stream",
     "text": [
      "26934\n",
      "Done!\n"
     ]
    }
   ],
   "source": [
    "dataset = BioLiPdataset2(root = \"/data/hongyiling/XAI4e3nn/dataset/biolip\")\n"
   ]
  },
  {
   "cell_type": "code",
   "execution_count": 54,
   "id": "8219ffa0-d2fa-4c96-9693-76cca65d6059",
   "metadata": {},
   "outputs": [],
   "source": [
    "label_path = osp.join(\"/data/hongyiling/XAI4e3nn/dataset/biolip\", \"BioLiP.txt\")\n",
    "with open(label_path, 'r') as file:\n",
    "    # Read all lines in the file and store them in a list\n",
    "    lines = file.readlines()"
   ]
  },
  {
   "cell_type": "code",
   "execution_count": 58,
   "id": "a7cdbdc1-98d8-4230-9d85-4982054d2f47",
   "metadata": {},
   "outputs": [],
   "source": [
    "dna_cnt = 0\n",
    "rna_cnt = 0\n",
    "for line in lines:\n",
    "    cols = line.split(\"\\t\")\n",
    "    if (cols[4] == \"dna\"):\n",
    "        dna_cnt += 1\n",
    "    if (cols[4] == \"rna\"):\n",
    "        rna_cnt += 1"
   ]
  },
  {
   "cell_type": "code",
   "execution_count": 59,
   "id": "6cb60d47-2964-4bbb-8e0b-4d676b238f4f",
   "metadata": {},
   "outputs": [
    {
     "data": {
      "text/plain": [
       "(41921, 147229)"
      ]
     },
     "execution_count": 59,
     "metadata": {},
     "output_type": "execute_result"
    }
   ],
   "source": [
    "dna_cnt, rna_cnt"
   ]
  },
  {
   "cell_type": "code",
   "execution_count": 57,
   "id": "9dcb07ab-424e-423a-8c1c-e13e7b88045b",
   "metadata": {},
   "outputs": [
    {
     "data": {
      "text/plain": [
       "189150"
      ]
     },
     "execution_count": 57,
     "metadata": {},
     "output_type": "execute_result"
    }
   ],
   "source": [
    "dna_rna_cnt"
   ]
  },
  {
   "cell_type": "code",
   "execution_count": null,
   "id": "28593289-ed9e-4a13-bb69-aef09a98e49e",
   "metadata": {},
   "outputs": [],
   "source": []
  },
  {
   "cell_type": "code",
   "execution_count": null,
   "id": "a26350dd-c439-484c-90f8-848291004bba",
   "metadata": {},
   "outputs": [],
   "source": []
  },
  {
   "cell_type": "code",
   "execution_count": null,
   "id": "1a6eb8a7-686d-43fd-96fd-298cf5375528",
   "metadata": {},
   "outputs": [],
   "source": []
  },
  {
   "cell_type": "code",
   "execution_count": 1,
   "id": "8b3d08ad-89ff-4096-a0bb-8e7e2e7c4207",
   "metadata": {},
   "outputs": [],
   "source": [
    "import os\n",
    "os.environ[\"CUDA_DEVICE_ORDER\"]=\"PCI_BUS_ID\"  \n",
    "os.environ[\"CUDA_VISIBLE_DEVICES\"]=\"0\""
   ]
  },
  {
   "cell_type": "code",
   "execution_count": 93,
   "id": "1968080e-2158-4815-b74e-4a623485c06f",
   "metadata": {},
   "outputs": [],
   "source": [
    "from dataset.biolip.dataloader import BioLiPdataset, BioLiPdataset2\n",
    "\n",
    "# from torch_geometric.transforms import RadiusGraph, KNNGraph\n",
    "from torch_geometric.nn.pool import radius_graph\n",
    "\n",
    "max_radius = 5\n",
    "# Trans = RadiusGraph(r = max_radius)\n",
    "# Trans = KNNGraph(k=5, loop=True)\n",
    "# dataset = FOLDdataset(root='/data/hongyiling/XAI4e3nn/dataset/scope/', split=\"training\", transform = Trans)\n",
    "\n",
    "import logging\n",
    "\n",
    "import torch\n",
    "import torch.nn as nn\n",
    "import torch.nn.functional as F\n",
    "from torch_cluster import radius_graph\n",
    "from torch_geometric.data import Data\n",
    "from torch_geometric.loader import DataLoader\n",
    "from torch_geometric.loader import DataListLoader\n",
    "from torch_geometric.nn import DataParallel\n",
    "from torch_scatter import scatter\n",
    "\n",
    "from e3nn import o3\n",
    "from e3nn.nn import FullyConnectedNet, Gate, NormActivation\n",
    "from e3nn.o3 import FullyConnectedTensorProduct, Linear\n",
    "from e3nn.math import soft_one_hot_linspace\n",
    "from e3nn.util.test import assert_equivariant\n",
    "\n",
    "import numpy as np\n",
    "\n",
    "from tqdm import tqdm\n",
    "\n",
    "from model.LRP import *"
   ]
  },
  {
   "cell_type": "code",
   "execution_count": 94,
   "id": "5d1281b8-9b2f-47cd-ae6e-1169dd8abd2f",
   "metadata": {},
   "outputs": [],
   "source": [
    "class Convolution(torch.nn.Module):\n",
    "    def __init__(self, irreps_in, irreps_sh, irreps_out, num_neighbors) -> None:\n",
    "        super().__init__()\n",
    "\n",
    "        self.num_neighbors = num_neighbors\n",
    "\n",
    "        tp = FullyConnectedTensorProduct(\n",
    "            irreps_in1=irreps_in,\n",
    "            irreps_in2=irreps_sh,\n",
    "            irreps_out=irreps_out,\n",
    "            internal_weights=False,\n",
    "            shared_weights=False,\n",
    "        )\n",
    "        self.fc = FullyConnectedNet([5, 256, tp.weight_numel], torch.relu)\n",
    "        self.tp = tp\n",
    "        self.irreps_out = self.tp.irreps_out\n",
    "\n",
    "    def forward(self, node_features, edge_src, edge_dst, edge_attr, edge_scalars, edge_attn = None) -> torch.Tensor:\n",
    "        weight = self.fc(edge_scalars)\n",
    "        edge_features = self.tp(node_features[edge_src], edge_attr, weight)\n",
    "        \n",
    "        if edge_attn is not None: \n",
    "            edge_features = edge_features * edge_attn\n",
    "            \n",
    "        node_features = scatter(edge_features, edge_dst, dim=0).div(self.num_neighbors**0.5)\n",
    "        return node_features\n",
    "    \n",
    "    def FirstOrderX(self, R, node_features, edge_src, edge_dst, edge_attr, edge_scalars, zero_point = False):\n",
    "        weight = self.fc(edge_scalars)\n",
    "        edge_features = self.tp(node_features[edge_src], edge_attr, weight)\n",
    "\n",
    "        R = FirstOrder4Scatter(R, edge_dst = edge_dst, edge_features = edge_features)\n",
    "        R = FirstOrder4FullyConnectedTensorProduct(self.tp, R, node_features,  edge_src, edge_dst, edge_attr, weight, zero_point = zero_point)\n",
    "        return R\n",
    "\n"
   ]
  },
  {
   "cell_type": "code",
   "execution_count": 138,
   "id": "58a46445-f3b6-4e0e-adbe-15ab76b36b00",
   "metadata": {},
   "outputs": [],
   "source": []
  },
  {
   "cell_type": "code",
   "execution_count": 95,
   "id": "116d58e1-ec08-4b65-8ee0-e1bd0068994a",
   "metadata": {},
   "outputs": [],
   "source": [
    "class TFN(torch.nn.Module):\n",
    "    def __init__(self, l = 3) -> None:\n",
    "        super().__init__()\n",
    "        self.num_neighbors = 17 # typical number of neighbors\n",
    "        self.irreps_sh = o3.Irreps.spherical_harmonics(l)       \n",
    "\n",
    "        irreps = self.irreps_sh \n",
    "\n",
    "\n",
    "        hidden = 16\n",
    "        hidden_irreps = []\n",
    "        for i in range(l+1):    \n",
    "            hidden_irreps.append(f\"{hidden}x{i}o+{hidden}x{i}e\")\n",
    "        \n",
    "        hidden_irreps = o3.Irreps(\"+\".join(hidden_irreps))\n",
    "        # if (l == 3):\n",
    "        #     hidden_irreps = o3.Irreps(\"8x0o+8x0e+8x1o+8x1e+8x2o+8x2e+8x3o+8x3e\")\n",
    "        # elif (l==2):\n",
    "        #     hidden_irreps = o3.Irreps(\"8x0o+8x0e+8x1o+8x1e+8x2o+8x2e\")\n",
    "        # elif (l == 1):\n",
    "        #     hidden_irreps = o3.Irreps()\n",
    "        # elif (l==4):\n",
    "        #     hidden_irreps = o3.Irreps(\"16x0o+16x0e+16x1o+16x1e+16x2o+16x2e+16x3o+16x3e+16x4o+16x4e\")\n",
    "        # elif (l==8):\n",
    "        #     hidden_irreps = o3.Irreps(\"16x0o+16x0e+16x1o+16x1e+16x2o+16x2e+16x3o+16x3e+16x4o+16x4e+16x5o+16x5e+16x6o+16x6e+16x7o+16x7e+16x8o+16x8e\")\n",
    "        # elif (l==11):\n",
    "        #     hidden_irreps = o3.Irreps(\"8x0o+8x0e+8x1o+8x1e+8x2o+8x2e+8x3o+8x3e+8x4o+8x4e+8x5o+8x5e+8x6o+8x6e+8x7o+8x7e+8x8o+8x8e+8x9o+8x9e+8x10o+8x10e+8x11o+8x11e\")#+8x13o+8x13e+8x14o+8x14e+8x15o+8x15e+8x16o+8x16e\")\n",
    "\n",
    "\n",
    "        self.hidden_irreps = hidden_irreps\n",
    "\n",
    "        irreps_input = o3.Irreps(\"20x0e\") + self.irreps_sh \n",
    "        irreps = irreps_input\n",
    "        \n",
    "        normAct = NormActivation(hidden_irreps, torch.sigmoid)\n",
    "        \n",
    "        self.conv1 = Convolution(irreps, self.irreps_sh, normAct.irreps_in, self.num_neighbors)\n",
    "        self.act = normAct\n",
    "        irreps = self.act.irreps_out\n",
    "        self.lin1 = Linear(irreps, irreps)\n",
    "        self.conv2 = Convolution(irreps, self.irreps_sh, normAct.irreps_in, self.num_neighbors)\n",
    "        self.lin2 = Linear(irreps, irreps)\n",
    "        # self.conv3 = Convolution(irreps, self.irreps_sh, normAct.irreps_in, self.num_neighbors)\n",
    "        # self.lin3 = Linear(irreps, irreps)\n",
    "        # Final layer\n",
    "        self.final = Convolution(irreps, self.irreps_sh, \"32x0e\", self.num_neighbors)\n",
    "        self.irreps_out = self.final.irreps_out\n",
    "\n",
    "    def forward(self, data, mask_order = [], mask_node = None) -> torch.Tensor:\n",
    "        num_nodes = 18.19  # typical number of nodes\n",
    "        max_radius = 10\n",
    "\n",
    "        # edge_src, edge_dst = data.edge_index \n",
    "        edge_src, edge_dst = radius_graph(data.receptor_atom_coords, r = max_radius, batch = data.batch, loop = True)\n",
    "        edge_vec = data.receptor_atom_coords[edge_src] - data.receptor_atom_coords[edge_dst]\n",
    "        edge_vec = edge_vec.float()\n",
    "        edge_attr = o3.spherical_harmonics(l=self.irreps_sh, x=edge_vec, normalize=True, normalization=\"component\")\n",
    "\n",
    "        for i in mask_order:\n",
    "            edge_attr[:, self.irreps_sh.slices()[i] ] = 0.0\n",
    "\n",
    "        edge_length_embedded = (\n",
    "            soft_one_hot_linspace(x=edge_vec.norm(dim=1), start=0.0, end=max_radius, number=5, basis=\"smooth_finite\", cutoff=True)\n",
    "            * 5**0.5\n",
    "        )\n",
    "\n",
    "        if \"edge_attn\" in data:\n",
    "            edge_attn = data.edge_attn\n",
    "            edge_attr = edge_attr * edge_attn\n",
    "        else:\n",
    "            edge_attn = None\n",
    "\n",
    "        x = scatter(edge_attr, edge_dst, dim=0).div(self.num_neighbors**0.5)\n",
    "\n",
    "        # x = torch.cat( [F.one_hot(data.x, num_classes = 16).squeeze(), x], dim = 1 )\n",
    "        x = torch.cat([data.x, x], dim = 1)\n",
    "        \n",
    "        if mask_node is not None:\n",
    "            x[mask_node] = 0.0\n",
    "\n",
    "        x = self.conv1(x, edge_src, edge_dst, edge_attr, edge_length_embedded, edge_attn = edge_attn)\n",
    "        x = self.lin1(x)\n",
    "        x = self.act(x)\n",
    "        \n",
    "        for i in mask_order:\n",
    "            x[:, self.hidden_irreps.slices()[i] ] = 0.0\n",
    "        \n",
    "        if mask_node is not None:\n",
    "            x[mask_node] = 0.0\n",
    "        \n",
    "        x = self.conv2(x, edge_src, edge_dst, edge_attr, edge_length_embedded, edge_attn = edge_attn)\n",
    "        x = self.lin2(x)\n",
    "        x = self.act(x)\n",
    "        \n",
    "        for i in mask_order:\n",
    "            x[:, self.hidden_irreps.slices()[i] ] = 0.0\n",
    "            \n",
    "        if mask_node is not None:\n",
    "            x[mask_node] = 0.0\n",
    "            \n",
    "        # x = self.conv3(x, edge_src, edge_dst, edge_attr, edge_length_embedded, edge_attn = edge_attn)\n",
    "        # x = self.lin3(x)\n",
    "        # x = self.act(x)\n",
    "        \n",
    "        # for i in mask_order:\n",
    "        #     x[:, self.hidden_irreps.slices()[i] ] = 0.0\n",
    "            \n",
    "        x = self.final(x, edge_src, edge_dst, edge_attr, edge_length_embedded, edge_attn = edge_attn)\n",
    "        \n",
    "        if mask_node is not None:\n",
    "            x[mask_node] = 0.0\n",
    "        \n",
    "        return scatter(x, data.batch, dim=0).div(num_nodes**0.5)\n",
    "    \n",
    "    \n",
    "    def FirstOrderX(self, data, zero_point = False, R = None, Norm = True):\n",
    "        num_nodes = 18.19  # typical number of nodes\n",
    "        max_radius = 10\n",
    "\n",
    "        edge_src, edge_dst = radius_graph(data.receptor_atom_coords, r = max_radius, batch = data.batch, loop = True)\n",
    "        edge_vec = data.receptor_atom_coords[edge_src] - data.receptor_atom_coords[edge_dst]\n",
    "        edge_vec = edge_vec.float()\n",
    "        edge_attr = o3.spherical_harmonics(l=self.irreps_sh, x=edge_vec, normalize=True, normalization=\"component\")\n",
    "\n",
    "        edge_length_embedded = (\n",
    "            soft_one_hot_linspace(x=edge_vec.norm(dim=1), start=0.0, end=max_radius, number=5, basis=\"smooth_finite\", cutoff=True)\n",
    "            * 5**0.5\n",
    "        )\n",
    "\n",
    "        ##Forward\n",
    "        Xs = []\n",
    "        x = scatter(edge_attr, edge_dst, dim=0).div(self.num_neighbors**0.5)\n",
    "#         x = torch.cat( [F.one_hot(data.x, num_classes = 16).squeeze(), x], dim = 1 )\n",
    "        x = torch.cat([data.x, x], dim = 1)\n",
    "        \n",
    "        Xs.append(x)\n",
    "        x = self.conv1(x, edge_src, edge_dst, edge_attr, edge_length_embedded)\n",
    "        Xs.append(x)\n",
    "        x = self.lin1(x)\n",
    "        Xs.append(x)\n",
    "        x = self.act(x)\n",
    "        Xs.append(x)\n",
    "\n",
    "        x = self.conv2(x, edge_src, edge_dst, edge_attr, edge_length_embedded)\n",
    "        Xs.append(x)\n",
    "        x = self.lin2(x)\n",
    "        Xs.append(x)\n",
    "        x = self.act(x)\n",
    "        Xs.append(x)\n",
    "\n",
    "#         x = self.conv3(x, edge_src, edge_dst, edge_attr, edge_length_embedded)\n",
    "#         Xs.append(x)\n",
    "#         x = self.lin3(x)\n",
    "#         Xs.append(x)\n",
    "#         x = self.act(x)\n",
    "#         Xs.append(x)\n",
    "        \n",
    "        x = self.final(x, edge_src, edge_dst, edge_attr, edge_length_embedded)\n",
    "        Xs.append(x)\n",
    "        x = scatter(x, data.batch, dim=0).div(num_nodes**0.5)\n",
    "        Xs.append(x)\n",
    "\n",
    "        Rs = []\n",
    "        if R is None:\n",
    "            R = x.clone().detach()\n",
    "#         print(\"R shape :\", R.shape)\n",
    "#         print(\"Xs shape :\", Xs[-2].shape)\n",
    "        R = FirstOrder4Scatter(R, data.batch, edge_features = Xs[-2])\n",
    "        Rs.append(R)\n",
    "\n",
    "        R = self.final.FirstOrderX(R, Xs[6], edge_src, edge_dst, edge_attr, edge_length_embedded, zero_point = zero_point)\n",
    "        Rs.append(R)\n",
    "\n",
    "        if (Norm):\n",
    "            R = FirstOrder4NormActivation(self.act, Xs[5], R, irreps = self.hidden_irreps)\n",
    "        else:\n",
    "            R = R\n",
    "        Rs.append(R)\n",
    "\n",
    "#         R = FirstOrder4Linear(R, self.lin3, Xs[4])\n",
    "#         Rs.append(R)\n",
    "\n",
    "#         R = self.conv3.FirstOrderX(R, Xs[6], edge_src, edge_dst, edge_attr, edge_length_embedded, zero_point = zero_point)\n",
    "#         Rs.append(R)\n",
    "\n",
    "#         if (Norm):\n",
    "#             R = FirstOrder4NormActivation(self.act, Xs[5], R, irreps = o3.Irreps(\"16x0o+16x0e+16x1o+16x1e+16x2o+16x2e\"))\n",
    "#         else:\n",
    "#             R = R\n",
    "#         Rs.append(R)\n",
    "\n",
    "        R = FirstOrder4Linear(R, self.lin2, Xs[4])\n",
    "        Rs.append(R)\n",
    "\n",
    "        R = self.conv2.FirstOrderX(R, Xs[3], edge_src, edge_dst, edge_attr, edge_length_embedded, zero_point = zero_point)\n",
    "        Rs.append(R)\n",
    "\n",
    "        if (Norm):\n",
    "            R = FirstOrder4NormActivation(self.act, Xs[2], R, irreps = self.hidden_irreps)\n",
    "        else:\n",
    "            R = R\n",
    "        Rs.append(R)\n",
    "        \n",
    "        R = FirstOrder4Linear(R, self.lin1, Xs[1])\n",
    "        Rs.append(R)\n",
    "        \n",
    "        R = self.conv1.FirstOrderX(R, Xs[0], edge_src, edge_dst, edge_attr, edge_length_embedded, zero_point = zero_point)\n",
    "        Rs.append(R)\n",
    "\n",
    "        # R = FirstOrder4Scatter(R, edge_dst = edge_dst, edge_features = edge_attr)\n",
    "        # Rs.append(R)\n",
    "\n",
    "        return Rs\n",
    "    \n",
    "    def Grad_CAM(self, data, mask_order = []): \n",
    "        num_nodes = 18.19  # typical number of nodes\n",
    "        max_radius = 10\n",
    "\n",
    "        # edge_src, edge_dst = data.edge_index \n",
    "        edge_src, edge_dst = radius_graph(data.receptor_atom_coords, r = max_radius, batch = data.batch, loop = True)\n",
    "        edge_vec = data.receptor_atom_coords[edge_src] - data.receptor_atom_coords[edge_dst]\n",
    "        edge_vec = edge_vec.float()\n",
    "        edge_attr = o3.spherical_harmonics(l=self.irreps_sh, x=edge_vec, normalize=True, normalization=\"component\")\n",
    "\n",
    "        for i in mask_order:\n",
    "            edge_attr[:, self.irreps_sh.slices()[i] ] = 0.0\n",
    "\n",
    "        edge_length_embedded = (\n",
    "            soft_one_hot_linspace(x=edge_vec.norm(dim=1), start=0.0, end=max_radius, number=5, basis=\"smooth_finite\", cutoff=True)\n",
    "            * 5**0.5\n",
    "        )\n",
    "\n",
    "        if \"edge_attn\" in data:\n",
    "            edge_attn = data.edge_attn\n",
    "            edge_attr = edge_attr * edge_attn\n",
    "        else:\n",
    "            edge_attn = None\n",
    "\n",
    "        x = scatter(edge_attr, edge_dst, dim=0).div(self.num_neighbors**0.5)\n",
    "\n",
    "        # x = torch.cat( [F.one_hot(data.x, num_classes = 16).squeeze(), x], dim = 1 )\n",
    "        x = torch.cat([data.x, x], dim = 1)\n",
    "        act1 = x\n",
    "\n",
    "        x = self.conv1(x, edge_src, edge_dst, edge_attr, edge_length_embedded, edge_attn = edge_attn)\n",
    "        x = self.lin1(x)\n",
    "        x = self.act(x)\n",
    "        act2 = x\n",
    "        \n",
    "        for i in mask_order:\n",
    "            x[:, self.hidden_irreps.slices()[i] ] = 0.0\n",
    "        \n",
    "        x = self.conv2(x, edge_src, edge_dst, edge_attr, edge_length_embedded, edge_attn = edge_attn)\n",
    "        x = self.lin2(x)\n",
    "        x = self.act(x)\n",
    "        act3 = x\n",
    "        \n",
    "        for i in mask_order:\n",
    "            x[:, self.hidden_irreps.slices()[i] ] = 0.0\n",
    "            \n",
    "        # x = self.conv3(x, edge_src, edge_dst, edge_attr, edge_length_embedded, edge_attn = edge_attn)\n",
    "        # x = self.lin3(x)\n",
    "        # x = self.act(x)\n",
    "        \n",
    "        # for i in mask_order:\n",
    "        #     x[:, self.hidden_irreps.slices()[i] ] = 0.0\n",
    "            \n",
    "        x = self.final(x, edge_src, edge_dst, edge_attr, edge_length_embedded, edge_attn = edge_attn)\n",
    "        act4 = x\n",
    "        act1.retain_grad()\n",
    "        act2.retain_grad()\n",
    "        act3.retain_grad()\n",
    "        act4.retain_grad()\n",
    "        \n",
    "#         x.sum().backward(retain_graph=True)\n",
    "        \n",
    "        return [act1, act2, act3, act4], scatter(x, data.batch, dim=0).div(num_nodes**0.5)\n",
    "\n",
    "    "
   ]
  },
  {
   "cell_type": "code",
   "execution_count": null,
   "id": "f5543913-f1bf-4cc4-a38c-885684d7a266",
   "metadata": {},
   "outputs": [],
   "source": []
  },
  {
   "cell_type": "code",
   "execution_count": 96,
   "id": "5e010f98-73be-4d99-b4ad-9141eb004ae2",
   "metadata": {},
   "outputs": [],
   "source": [
    "\n",
    "class TFN_ligand(torch.nn.Module):\n",
    "    def __init__(self, l = 3) -> None:\n",
    "        super().__init__()\n",
    "        self.num_neighbors = 13 # typical number of neighbors\n",
    "        self.irreps_sh = o3.Irreps.spherical_harmonics(l)\n",
    "\n",
    "        irreps = self.irreps_sh \n",
    "\n",
    "        hidden = 16\n",
    "        hidden_irreps = []\n",
    "        for i in range(l+1):    \n",
    "            hidden_irreps.append(f\"{hidden}x{i}o+{hidden}x{i}e\")\n",
    "        \n",
    "        hidden_irreps = o3.Irreps(\"+\".join(hidden_irreps))\n",
    "        \n",
    "        # if (l == 3):\n",
    "        #     hidden_irreps = o3.Irreps(\"8x0o+8x0e+8x1o+8x1e+8x2o+8x2e+8x3o+8x3e\")\n",
    "        # elif (l==2):\n",
    "        #     hidden_irreps = o3.Irreps(\"8x0o+8x0e+8x1o+8x1e+8x2o+8x2e\")\n",
    "        # elif (l==4):\n",
    "        #     hidden_irreps = o3.Irreps(\"16x0o+16x0e+16x1o+16x1e+16x2o+16x2e+16x3o+16x3e+16x4o+16x4e\")\n",
    "        # elif (l==8):\n",
    "        #     hidden_irreps = o3.Irreps(\"16x0o+16x0e+16x1o+16x1e+16x2o+16x2e+16x3o+16x3e+16x4o+16x4e+16x5o+16x5e+16x6o+16x6e+16x7o+16x7e+16x8o+16x8e\")\n",
    "        # elif (l==11):\n",
    "        #     hidden_irreps = o3.Irreps(\"8x0o+8x0e+8x1o+8x1e+8x2o+8x2e+8x3o+8x3e+8x4o+8x4e+8x5o+8x5e+8x6o+8x6e+8x7o+8x7e+8x8o+8x8e+8x9o+8x9e+8x10o+8x10e+8x11o+8x11e\")#+8x13o+8x13e+8x14o+8x14e+8x15o+8x15e+8x16o+8x16e\")\n",
    "\n",
    "\n",
    "        self.hidden_irreps = hidden_irreps\n",
    "\n",
    "        irreps_input = o3.Irreps(\"118x0e\") + self.irreps_sh \n",
    "        irreps = irreps_input\n",
    "        \n",
    "        normAct = NormActivation(hidden_irreps, torch.sigmoid)\n",
    "        \n",
    "        self.conv1 = Convolution(irreps, self.irreps_sh, normAct.irreps_in, self.num_neighbors)\n",
    "        self.act = normAct\n",
    "        irreps = self.act.irreps_out\n",
    "        self.lin1 = Linear(irreps, irreps)\n",
    "        self.conv2 = Convolution(irreps, self.irreps_sh, normAct.irreps_in, self.num_neighbors)\n",
    "        self.lin2 = Linear(irreps, irreps)\n",
    "        # self.conv3 = Convolution(irreps, self.irreps_sh, normAct.irreps_in, self.num_neighbors)\n",
    "        # self.lin3 = Linear(irreps, irreps)\n",
    "        # Final layer\n",
    "        self.final = Convolution(irreps, self.irreps_sh, \"32x0e\", self.num_neighbors)\n",
    "        self.irreps_out = self.final.irreps_out\n",
    "\n",
    "    def forward(self, data, mask_order = [], mask_node = None) -> torch.Tensor:\n",
    "        num_nodes = 14.3  # typical number of nodes\n",
    "        max_radius = 5\n",
    "\n",
    "        # edge_src, edge_dst = data.edge_index\n",
    "        edge_src, edge_dst = radius_graph(data.ligand_atom_coords, r = max_radius, batch = data.ligand_atom_coords_batch, loop = True)\n",
    "        edge_vec = data.ligand_atom_coords[edge_src] - data.ligand_atom_coords[edge_dst]\n",
    "        edge_vec = edge_vec.float()\n",
    "        edge_attr = o3.spherical_harmonics(l=self.irreps_sh, x=edge_vec, normalize=True, normalization=\"component\")\n",
    "\n",
    "        for i in mask_order:\n",
    "            edge_attr[:, self.irreps_sh.slices()[i] ] = 0.0\n",
    "\n",
    "        edge_length_embedded = (\n",
    "            soft_one_hot_linspace(x=edge_vec.norm(dim=1), start=0.0, end=max_radius, number=5, basis=\"smooth_finite\", cutoff=True)\n",
    "            * 5**0.5\n",
    "        )\n",
    "\n",
    "        if \"edge_attn\" in data:\n",
    "            edge_attn = data.edge_attn\n",
    "            edge_attr = edge_attr * edge_attn\n",
    "        else:\n",
    "            edge_attn = None\n",
    "\n",
    "        x = scatter(edge_attr, edge_dst, dim=0).div(self.num_neighbors**0.5)\n",
    "\n",
    "        # x = torch.cat( [F.one_hot(data.x, num_classes = 16).squeeze(), x], dim = 1 )\n",
    "        x = torch.cat([data.ligand_x, x], dim = 1)\n",
    "        \n",
    "        if mask_node is not None:\n",
    "            x[mask_node] = 0.0\n",
    "\n",
    "        x = self.conv1(x, edge_src, edge_dst, edge_attr, edge_length_embedded, edge_attn = edge_attn)\n",
    "        x = self.lin1(x)\n",
    "        x = self.act(x)\n",
    "        \n",
    "        for i in mask_order:\n",
    "            x[:, self.hidden_irreps.slices()[i] ] = 0.0\n",
    "            \n",
    "        if mask_node is not None:\n",
    "            x[mask_node] = 0.0\n",
    "        \n",
    "        x = self.conv2(x, edge_src, edge_dst, edge_attr, edge_length_embedded, edge_attn = edge_attn)\n",
    "        x = self.lin2(x)\n",
    "        x = self.act(x)\n",
    "        \n",
    "        for i in mask_order:\n",
    "            x[:, self.hidden_irreps.slices()[i] ] = 0.0\n",
    "            \n",
    "        if mask_node is not None:\n",
    "            x[mask_node] = 0.0\n",
    "            \n",
    "        # x = self.conv3(x, edge_src, edge_dst, edge_attr, edge_length_embedded, edge_attn = edge_attn)\n",
    "        # x = self.lin3(x)\n",
    "        # x = self.act(x)\n",
    "        \n",
    "        # for i in mask_order:\n",
    "        #     x[:, self.hidden_irreps.slices()[i] ] = 0.0\n",
    "            \n",
    "        x = self.final(x, edge_src, edge_dst, edge_attr, edge_length_embedded, edge_attn = edge_attn)\n",
    "        \n",
    "        if mask_node is not None:\n",
    "            x[mask_node] = 0.0\n",
    "\n",
    "        return scatter(x, data.ligand_atom_coords_batch, dim=0).div(num_nodes**0.5)\n",
    "    \n",
    "    def FirstOrderX(self, data, zero_point = False, R = None, Norm = True):\n",
    "        num_nodes = 14.3  # typical number of nodes\n",
    "        max_radius = 5\n",
    "\n",
    "        edge_src, edge_dst = radius_graph(data.ligand_atom_coords, r = max_radius, batch = data.ligand_atom_coords_batch, loop = True)\n",
    "        edge_vec = data.ligand_atom_coords[edge_src] - data.ligand_atom_coords[edge_dst]\n",
    "        edge_vec = edge_vec.float()\n",
    "        edge_attr = o3.spherical_harmonics(l=self.irreps_sh, x=edge_vec, normalize=True, normalization=\"component\")\n",
    "\n",
    "        edge_length_embedded = (\n",
    "            soft_one_hot_linspace(x=edge_vec.norm(dim=1), start=0.0, end=max_radius, number=5, basis=\"smooth_finite\", cutoff=True)\n",
    "            * 5**0.5\n",
    "        )\n",
    "\n",
    "        ##Forward\n",
    "        Xs = []\n",
    "        x = scatter(edge_attr, edge_dst, dim=0).div(self.num_neighbors**0.5)\n",
    "        x = torch.cat([data.ligand_x, x], dim = 1)\n",
    "        \n",
    "        Xs.append(x)\n",
    "        x = self.conv1(x, edge_src, edge_dst, edge_attr, edge_length_embedded)\n",
    "        Xs.append(x)\n",
    "        x = self.lin1(x)\n",
    "        Xs.append(x)\n",
    "        x = self.act(x)\n",
    "        Xs.append(x)\n",
    "\n",
    "        x = self.conv2(x, edge_src, edge_dst, edge_attr, edge_length_embedded)\n",
    "        Xs.append(x)\n",
    "        x = self.lin2(x)\n",
    "        Xs.append(x)\n",
    "        x = self.act(x)\n",
    "        Xs.append(x)\n",
    "\n",
    "#         x = self.conv3(x, edge_src, edge_dst, edge_attr, edge_length_embedded)\n",
    "#         Xs.append(x)\n",
    "#         x = self.lin3(x)\n",
    "#         Xs.append(x)\n",
    "#         x = self.act(x)\n",
    "#         Xs.append(x)\n",
    "        \n",
    "        x = self.final(x, edge_src, edge_dst, edge_attr, edge_length_embedded)\n",
    "        Xs.append(x)\n",
    "        x = scatter(x, data.ligand_atom_coords_batch, dim=0).div(num_nodes**0.5)\n",
    "        Xs.append(x)\n",
    "\n",
    "        Rs = []\n",
    "        if R is None:\n",
    "            R = x.clone().detach()\n",
    "#         print(\"R shape :\", R.shape)\n",
    "#         print(\"Xs shape :\", Xs[-2].shape)\n",
    "        R = FirstOrder4Scatter(R, data.ligand_atom_coords_batch, edge_features = Xs[-2])\n",
    "        Rs.append(R)\n",
    "\n",
    "        R = self.final.FirstOrderX(R, Xs[6], edge_src, edge_dst, edge_attr, edge_length_embedded, zero_point = zero_point)\n",
    "        Rs.append(R)\n",
    "\n",
    "        if (Norm):\n",
    "            R = FirstOrder4NormActivation(self.act, Xs[5], R, irreps = self.hidden_irreps)\n",
    "        else:\n",
    "            R = R\n",
    "        Rs.append(R)\n",
    "\n",
    "#         R = FirstOrder4Linear(R, self.lin3, Xs[4])\n",
    "#         Rs.append(R)\n",
    "\n",
    "#         R = self.conv3.FirstOrderX(R, Xs[6], edge_src, edge_dst, edge_attr, edge_length_embedded, zero_point = zero_point)\n",
    "#         Rs.append(R)\n",
    "\n",
    "#         if (Norm):\n",
    "#             R = FirstOrder4NormActivation(self.act, Xs[5], R, irreps = o3.Irreps(\"16x0o+16x0e+16x1o+16x1e+16x2o+16x2e\"))\n",
    "#         else:\n",
    "#             R = R\n",
    "#         Rs.append(R)\n",
    "\n",
    "        R = FirstOrder4Linear(R, self.lin2, Xs[4])\n",
    "        Rs.append(R)\n",
    "\n",
    "        R = self.conv2.FirstOrderX(R, Xs[3], edge_src, edge_dst, edge_attr, edge_length_embedded, zero_point = zero_point)\n",
    "        Rs.append(R)\n",
    "\n",
    "        if (Norm):\n",
    "            R = FirstOrder4NormActivation(self.act, Xs[2], R, irreps = self.hidden_irreps)\n",
    "        else:\n",
    "            R = R\n",
    "        Rs.append(R)\n",
    "        \n",
    "        R = FirstOrder4Linear(R, self.lin1, Xs[1])\n",
    "        Rs.append(R)\n",
    "        \n",
    "        R = self.conv1.FirstOrderX(R, Xs[0], edge_src, edge_dst, edge_attr, edge_length_embedded, zero_point = zero_point)\n",
    "        Rs.append(R)\n",
    "\n",
    "        # R = FirstOrder4Scatter(R, edge_dst = edge_dst, edge_features = edge_attr)\n",
    "        # Rs.append(R)\n",
    "\n",
    "        return Rs\n",
    "    \n",
    "    \n",
    "    "
   ]
  },
  {
   "cell_type": "code",
   "execution_count": 97,
   "id": "8af53aac-338f-42b4-af07-162302af1d8f",
   "metadata": {},
   "outputs": [],
   "source": [
    "\n",
    "class MLP(nn.Module):\n",
    "    def __init__(self, input_size, hidden_size, n_layers, num_classes):\n",
    "        super(MLP, self).__init__()\n",
    "        self.hidden_layers = nn.ModuleList([nn.Linear(input_size, hidden_size)])\n",
    "        self.hidden_layers.extend([nn.Linear(hidden_size, hidden_size) for _ in range(1, n_layers)])\n",
    "        self.output_layer = nn.Linear(hidden_size, num_classes)\n",
    "\n",
    "    def forward(self, x):\n",
    "        self.activations = [x]\n",
    "        for layer in self.hidden_layers:\n",
    "            x = F.relu(layer(x))\n",
    "            self.activations.append(x)\n",
    "        x = self.output_layer(x)\n",
    "        return x\n",
    "\n",
    "    def lrp(self, R, epsilon=1e-9):\n",
    "        # Reverse iterate through all layers\n",
    "        for i in range(len(self.hidden_layers), -1, -1):\n",
    "            if i == len(self.hidden_layers):  # Output layer\n",
    "                layer = self.output_layer\n",
    "            else:\n",
    "                layer = self.hidden_layers[i]\n",
    "\n",
    "            A_prev = self.activations[i]  # Activation from the previous layer\n",
    "           \n",
    "            # Get the weights, and apply ReLU to weights for the Z+ rule\n",
    "            W = layer.weight\n",
    "\n",
    "            # Add epsilon to the denominator to avoid division by zero\n",
    "            Z = torch.mm(A_prev, W.t()) + epsilon\n",
    "            \n",
    "            # Calculate the proportion of the contribution of each neuron to the next layer\n",
    "            S = R / Z\n",
    "            C = torch.mm(S, W)\n",
    "            \n",
    "            # Distribute relevance to the neurons in the previous layer\n",
    "            R = A_prev * C\n",
    "\n",
    "        return R\n",
    "\n"
   ]
  },
  {
   "cell_type": "code",
   "execution_count": 98,
   "id": "89fc1f7b-f74c-41c6-9ea2-0a9b5ce0578f",
   "metadata": {},
   "outputs": [],
   "source": [
    "    \n",
    "class bindingModel(nn.Module):\n",
    "    def __init__(self, protein_enc, ligand_enc, classifier):\n",
    "        super(bindingModel, self).__init__()\n",
    "        self.protein_enc = protein_enc\n",
    "        self.ligand_enc = ligand_enc\n",
    "        self.classifier = classifier\n",
    "        \n",
    "    def forward(self, data, mask_node = None, protein = True):\n",
    "        if protein:\n",
    "            protein_emb = self.protein_enc(data, mask_node = mask_node)\n",
    "            ligand_emb = self.ligand_enc(data)\n",
    "        else:\n",
    "            protein_emb = self.protein_enc(data)\n",
    "            ligand_emb = self.ligand_enc(data, mask_node = mask_node)\n",
    "        \n",
    "        # pred = self.classifier(protein_emb + ligand_emb)\n",
    "        pred = self.classifier(torch.cat([protein_emb, ligand_emb], dim = 1))\n",
    "        \n",
    "        return pred\n",
    "    def firstOrderX(self,data, protein = True):\n",
    "        protein_emb = self.protein_enc(data)\n",
    "#         print(\"protein_embedding: \", protein_emb.shape)\n",
    "        ligand_emb = self.ligand_enc(data)\n",
    "        \n",
    "        pred = self.classifier(torch.cat([protein_emb, ligand_emb], dim = 1))\n",
    "        \n",
    "        binary_label = (data.affinity_value > threshold).long()\n",
    "        Rs = self.classifier.lrp(R = F.one_hot(binary_label, num_classes = 2))\n",
    "#         print(Rs[:,:32].sum(), Rs[:,32:].sum())\n",
    "        \n",
    "        if (protein):\n",
    "            Rs = self.protein_enc.FirstOrderX(data, R = Rs[:,:32], Norm = True)\n",
    "        else:\n",
    "            Rs = self.ligand_enc.FirstOrderX(data, R = Rs[:,32:], Norm = True)\n",
    "            \n",
    "        return Rs\n",
    "    \n",
    "    def Grad_CAM(self, data):\n",
    "        \n",
    "        acts, protein_emb = self.protein_enc.Grad_CAM(data)\n",
    "        ligand_emb = self.ligand_enc(data)\n",
    "        \n",
    "        # pred = self.classifier(protein_emb + ligand_emb)\n",
    "        pred = self.classifier(torch.cat([protein_emb, ligand_emb], dim = 1))\n",
    "#         print(\"pred done\")\n",
    "        binary_label = (data.affinity_value > threshold).long()\n",
    "    #     print(binary_label)\n",
    "    #     break\n",
    "        pred[0, binary_label].backward()\n",
    "#         print(\"backward done\")\n",
    "        act1, act2, act3, act4 = acts\n",
    "        return [act1.grad * act1, act2.grad * act2, act3.grad * act3, act4.grad * act4]\n",
    "    \n",
    "    \n",
    "        "
   ]
  },
  {
   "cell_type": "code",
   "execution_count": 99,
   "id": "4e275b1e-ac0e-4b95-acd9-7b6b7722543b",
   "metadata": {},
   "outputs": [],
   "source": [
    "dataset = BioLiPdataset2(root = \"/data/hongyiling/XAI4e3nn/dataset/biolip\")\n",
    "\n",
    "total_size = len(dataset)\n",
    "indices = np.arange(total_size)\n",
    "np.random.seed(42)\n",
    "\n",
    "# Shuffle the indices with the seed\n",
    "np.random.shuffle(indices)\n",
    "\n",
    "train_size = int(total_size * 0.8)\n",
    "validation_size = int(total_size * 0.1)\n",
    "\n",
    "# Split the indices again using the same proportions\n",
    "train_idx = indices[:train_size]\n",
    "val_idx = indices[train_size:train_size + validation_size]\n",
    "test_idx = indices[train_size + validation_size:]\n",
    "\n",
    "train_dataset, valid_dataset, test_dataset = dataset[train_idx], dataset[val_idx], dataset[test_idx]\n",
    "\n",
    "train_loader = DataListLoader(train_dataset, batch_size=24, shuffle=True, num_workers = 8)\n",
    "val_loader = DataListLoader(valid_dataset, batch_size=24, shuffle=False, num_workers = 8)\n",
    "# test_loader = DataListLoader(test_dataset, batch_size=1, shuffle=False, num_workers = 0)\n",
    "test_loader = DataLoader(test_dataset, batch_size=1, shuffle=False, num_workers = 0, follow_batch = ['ligand_atom_coords'])\n",
    "\n",
    "\n",
    "threshold = 1.0"
   ]
  },
  {
   "cell_type": "code",
   "execution_count": 100,
   "id": "1d0b1bfe-5d4b-4512-90fc-afa70f878233",
   "metadata": {},
   "outputs": [
    {
     "name": "stderr",
     "output_type": "stream",
     "text": [
      "/data/hongyiling/anaconda3/envs/XAI/lib/python3.9/site-packages/torch/jit/_check.py:172: UserWarning: The TorchScript type system doesn't support instance-level annotations on empty non-base types in `__init__`. Instead, either 1) use a type annotation in the class body, or 2) wrap the type in `torch.jit.Attribute`.\n",
      "  warnings.warn(\"The TorchScript type system doesn't support \"\n"
     ]
    },
    {
     "data": {
      "text/plain": [
       "<All keys matched successfully>"
      ]
     },
     "execution_count": 100,
     "metadata": {},
     "output_type": "execute_result"
    }
   ],
   "source": [
    "protein_model = TFN(l = 2)\n",
    "ligand_model = TFN_ligand(l = 2)\n",
    "classifier = MLP(input_size = 64, hidden_size = 64, n_layers = 2, num_classes = 2)\n",
    "model = bindingModel(protein_model, ligand_model, classifier)\n",
    "model.cuda()\n",
    "model.load_state_dict(torch.load(f\"./ckpt/biolip_TFN_l=2_1_singleGPU.pt\"))"
   ]
  },
  {
   "cell_type": "code",
   "execution_count": 10,
   "id": "28c1adfa-a475-4a84-9ca2-cee24fed8e4f",
   "metadata": {},
   "outputs": [
    {
     "data": {
      "text/plain": [
       "<All keys matched successfully>"
      ]
     },
     "execution_count": 10,
     "metadata": {},
     "output_type": "execute_result"
    }
   ],
   "source": []
  },
  {
   "cell_type": "code",
   "execution_count": 54,
   "id": "c34f42c2-d1a8-413c-a92f-5ab4286c7700",
   "metadata": {},
   "outputs": [],
   "source": [
    "protein_model = TFN(l = 2)\n",
    "ligand_model = TFN_ligand(l = 2)\n",
    "classifier = MLP(input_size = 64, hidden_size = 64, n_layers = 2, num_classes = 2)\n",
    "model = bindingModel(protein_model, ligand_model, classifier)\n",
    "model = DataParallel(model, follow_batch = ['ligand_atom_coords'])\n",
    "model.load_state_dict(torch.load(f\"./ckpt/biolip_TFN_l=2_1.pt\"))\n",
    "torch.save(model.module.state_dict(), f\"./ckpt/biolip_TFN_l=2_1_singleGPU.pt\")"
   ]
  },
  {
   "cell_type": "code",
   "execution_count": 10,
   "id": "157aada1-b8ba-4f8c-87d9-df40625bc40e",
   "metadata": {},
   "outputs": [],
   "source": [
    "data = next(iter(test_loader))"
   ]
  },
  {
   "cell_type": "code",
   "execution_count": 11,
   "id": "9d0cd18d-dccd-4cb5-9e35-7a764ee77480",
   "metadata": {},
   "outputs": [
    {
     "data": {
      "text/plain": [
       "torch.Size([212, 1])"
      ]
     },
     "execution_count": 11,
     "metadata": {},
     "output_type": "execute_result"
    }
   ],
   "source": [
    "data.xai_labels.shape"
   ]
  },
  {
   "cell_type": "code",
   "execution_count": 101,
   "id": "59a5ece5-4b07-40cb-bc8a-5bfe9e846ecc",
   "metadata": {},
   "outputs": [
    {
     "name": "stderr",
     "output_type": "stream",
     "text": [
      "100%|█████████████████████████████████████████████████████████████████| 2694/2694 [07:31<00:00,  5.97it/s]"
     ]
    },
    {
     "name": "stdout",
     "output_type": "stream",
     "text": [
      "test accuracy  0.8348181143281366\n"
     ]
    },
    {
     "name": "stderr",
     "output_type": "stream",
     "text": [
      "\n"
     ]
    }
   ],
   "source": [
    "from sklearn.metrics import accuracy_score, roc_auc_score\n",
    "import torch.nn.functional as F\n",
    "from tqdm import tqdm\n",
    "\n",
    "preds = []\n",
    "labels = []\n",
    "\n",
    "for batch in tqdm(test_loader):\n",
    "    batch = batch.cuda()\n",
    "    pred = model(batch)\n",
    "    binary_label = (batch.affinity_value > threshold).long()\n",
    "    preds.append( F.softmax(pred.reshape(-1,2), dim = 1).cpu().detach().numpy() )\n",
    "    labels.append( binary_label.reshape(-1).long().detach().cpu().numpy() )\n",
    "\n",
    "preds = np.concatenate(preds)\n",
    "labels = np.concatenate(labels)\n",
    "print( \"test accuracy \", accuracy_score(np.argmax(preds, axis = 1), labels ) )"
   ]
  },
  {
   "cell_type": "code",
   "execution_count": 102,
   "id": "67851d74-ac05-4d2d-88b2-cc5fede58423",
   "metadata": {},
   "outputs": [
    {
     "name": "stderr",
     "output_type": "stream",
     "text": [
      "100%|█████████████████████████████████████████████████████████████████| 2694/2694 [08:04<00:00,  5.57it/s]"
     ]
    },
    {
     "name": "stdout",
     "output_type": "stream",
     "text": [
      "test accuracy mask XAI_label  0.8333333333333334\n"
     ]
    },
    {
     "name": "stderr",
     "output_type": "stream",
     "text": [
      "\n"
     ]
    }
   ],
   "source": [
    "# label fidelity\n",
    "\n",
    "from sklearn.metrics import accuracy_score, roc_auc_score\n",
    "import torch.nn.functional as F\n",
    "from tqdm import tqdm\n",
    "\n",
    "preds = []\n",
    "labels = []\n",
    "\n",
    "for batch in tqdm(test_loader):\n",
    "    batch = batch.cuda()\n",
    "    pred = model(batch, mask_node = batch.xai_labels)\n",
    "    binary_label = (batch.affinity_value > threshold).long()\n",
    "    preds.append( F.softmax(pred.reshape(-1,2), dim = 1).cpu().detach().numpy() )\n",
    "    labels.append( binary_label.reshape(-1).long().detach().cpu().numpy() )\n",
    "    \n",
    "preds = np.concatenate(preds)\n",
    "labels = np.concatenate(labels)\n",
    "print( \"test accuracy mask XAI_label \", accuracy_score(np.argmax(preds, axis = 1), labels ) )\n"
   ]
  },
  {
   "cell_type": "code",
   "execution_count": 103,
   "id": "93a8e0b1-9e64-46ce-998c-c7e00699dc7f",
   "metadata": {},
   "outputs": [
    {
     "name": "stderr",
     "output_type": "stream",
     "text": [
      "100%|█████████████████████████████████████████████████████████████████| 2694/2694 [18:28<00:00,  2.43it/s]"
     ]
    },
    {
     "name": "stdout",
     "output_type": "stream",
     "text": [
      "test accuracy mask XAI_label  0.7371937639198218\n"
     ]
    },
    {
     "name": "stderr",
     "output_type": "stream",
     "text": [
      "\n"
     ]
    }
   ],
   "source": [
    "# Firstorder fidelity\n",
    "\n",
    "from sklearn.metrics import accuracy_score, roc_auc_score\n",
    "import torch.nn.functional as F\n",
    "from tqdm import tqdm\n",
    "\n",
    "preds = []\n",
    "labels = []\n",
    "\n",
    "for batch in tqdm(test_loader):\n",
    "    batch = batch.cuda()\n",
    "    \n",
    "    Rs = model.firstOrderX(batch)\n",
    "#     print(Rs[-1].shape)\n",
    "#     break\n",
    "    node_importance_pred = Rs[-1]\n",
    "    # node_importance_pred = Rs[-2]\n",
    "    node_importance_pred = node_importance_pred.sum(dim = 1)\n",
    "    \n",
    "    threshold_percentage = 0.1\n",
    "    k = int(len(node_importance_pred) * (threshold_percentage))\n",
    "    top_k_values, _ = torch.topk(node_importance_pred, k)\n",
    "    threshold_value = top_k_values[-1]\n",
    "    \n",
    "#     print(node_importance_pred.shape)\n",
    "    pred = model(batch, mask_node = node_importance_pred > threshold_value)\n",
    "    binary_label = (batch.affinity_value > threshold).long()\n",
    "    preds.append( F.softmax(pred.reshape(-1,2), dim = 1).cpu().detach().numpy() )\n",
    "    labels.append( binary_label.reshape(-1).long().detach().cpu().numpy() )\n",
    "    \n",
    "preds = np.concatenate(preds)\n",
    "labels = np.concatenate(labels)\n",
    "print( \"test accuracy mask XAI_label \", accuracy_score(np.argmax(preds, axis = 1), labels ) )\n"
   ]
  },
  {
   "cell_type": "code",
   "execution_count": 104,
   "id": "39f4c606-1e5d-4bfb-9972-0079fc379d40",
   "metadata": {},
   "outputs": [
    {
     "name": "stderr",
     "output_type": "stream",
     "text": [
      "100%|█████████████████████████████████████████████████████████████████| 2694/2694 [16:00<00:00,  2.81it/s]"
     ]
    },
    {
     "name": "stdout",
     "output_type": "stream",
     "text": [
      "test accuracy mask XAI_label  0.8340757238307349\n"
     ]
    },
    {
     "name": "stderr",
     "output_type": "stream",
     "text": [
      "\n"
     ]
    }
   ],
   "source": [
    "# Gradient \n",
    "\n",
    "from sklearn.metrics import accuracy_score, roc_auc_score\n",
    "import torch.nn.functional as F\n",
    "from tqdm import tqdm\n",
    "\n",
    "preds = []\n",
    "labels = []\n",
    "\n",
    "for batch in tqdm(test_loader):\n",
    "    batch = batch.cuda()\n",
    "    \n",
    "    batch.receptor_atom_coords.requires_grad=True\n",
    "    pred = model(batch)\n",
    "#     print(pred.shape)\n",
    "#     break\n",
    "    binary_label = (batch.affinity_value > threshold).long()\n",
    "#     print(binary_label)\n",
    "#     break\n",
    "    pred[0, binary_label].backward()\n",
    "#         output.sum().backward()\n",
    "    node_importance_pred = batch.receptor_atom_coords.grad.norm(dim = -1).detach().cpu()\n",
    "    \n",
    "    threshold_percentage = 0.1\n",
    "    k = int(len(node_importance_pred) * (threshold_percentage))\n",
    "    top_k_values, _ = torch.topk(node_importance_pred, k)\n",
    "    threshold_value = top_k_values[-1]\n",
    "    \n",
    "#     print(node_importance_pred.shape)\n",
    "    pred = model(batch, mask_node = node_importance_pred > threshold_value)\n",
    "    binary_label = (batch.affinity_value > threshold).long()\n",
    "    preds.append( F.softmax(pred.reshape(-1,2), dim = 1).cpu().detach().numpy() )\n",
    "    labels.append( binary_label.reshape(-1).long().detach().cpu().numpy() )\n",
    "    \n",
    "preds = np.concatenate(preds)\n",
    "labels = np.concatenate(labels)\n",
    "print( \"test accuracy mask XAI_label \", accuracy_score(np.argmax(preds, axis = 1), labels ) )\n"
   ]
  },
  {
   "cell_type": "code",
   "execution_count": 105,
   "id": "d9045fa0-d5ce-4225-bcee-3ff9390dc55a",
   "metadata": {},
   "outputs": [
    {
     "name": "stderr",
     "output_type": "stream",
     "text": [
      "100%|█████████████████████████████████████████████████████████████████| 2694/2694 [16:24<00:00,  2.74it/s]"
     ]
    },
    {
     "name": "stdout",
     "output_type": "stream",
     "text": [
      "test accuracy mask XAI_label  0.4662212323682257\n"
     ]
    },
    {
     "name": "stderr",
     "output_type": "stream",
     "text": [
      "\n"
     ]
    }
   ],
   "source": [
    "from sklearn.metrics import accuracy_score, roc_auc_score\n",
    "import torch.nn.functional as F\n",
    "from tqdm import tqdm\n",
    "\n",
    "preds = []\n",
    "labels = []\n",
    "\n",
    "for batch in tqdm(test_loader):\n",
    "    batch = batch.cuda()\n",
    "    \n",
    "    batch.receptor_atom_coords.requires_grad=True\n",
    "    grad_cam = model.Grad_CAM(batch)\n",
    "    grad_cam = [d.sum(1) for d in grad_cam]\n",
    "    node_importance_pred = torch.stack(grad_cam).sum(0).detach().cpu()\n",
    "    \n",
    "\n",
    "    threshold_percentage = 0.1\n",
    "    k = int(len(node_importance_pred) * ( threshold_percentage))\n",
    "    top_k_values, _ = torch.topk(node_importance_pred, k)\n",
    "    threshold_value = top_k_values[-1]\n",
    "    \n",
    "#     print(node_importance_pred.shape)\n",
    "    pred = model(batch, mask_node = node_importance_pred > threshold_value)\n",
    "    binary_label = (batch.affinity_value > threshold).long()\n",
    "    preds.append( F.softmax(pred.reshape(-1,2), dim = 1).cpu().detach().numpy() )\n",
    "    labels.append( binary_label.reshape(-1).long().detach().cpu().numpy() )\n",
    "    \n",
    "preds = np.concatenate(preds)\n",
    "labels = np.concatenate(labels)\n",
    "print( \"test accuracy mask XAI_label \", accuracy_score(np.argmax(preds, axis = 1), labels ) )\n"
   ]
  },
  {
   "cell_type": "code",
   "execution_count": 106,
   "id": "0c90a268-4ba3-4100-b677-69cedc82afd3",
   "metadata": {},
   "outputs": [
    {
     "name": "stderr",
     "output_type": "stream",
     "text": [
      "100%|█████████████████████████████████████████████████████████████████| 2694/2694 [17:40<00:00,  2.54it/s]"
     ]
    },
    {
     "name": "stdout",
     "output_type": "stream",
     "text": [
      "test accuracy mask XAI_label  0.4662212323682257\n"
     ]
    },
    {
     "name": "stderr",
     "output_type": "stream",
     "text": [
      "\n"
     ]
    }
   ],
   "source": [
    "from sklearn.metrics import accuracy_score, roc_auc_score\n",
    "import torch.nn.functional as F\n",
    "from tqdm import tqdm\n",
    "\n",
    "preds = []\n",
    "labels = []\n",
    "\n",
    "for batch in tqdm(test_loader):\n",
    "    batch = batch.cuda()\n",
    "    \n",
    "    batch.receptor_atom_coords.requires_grad=True\n",
    "    grad_cam = model.Grad_CAM(batch)\n",
    "    grad_cam = [d.sum(1) for d in grad_cam]\n",
    "    node_importance_pred = torch.stack(grad_cam).sum(0).detach().cpu()\n",
    "    \n",
    "\n",
    "    threshold_percentage = 0.1\n",
    "    k = int(len(node_importance_pred) * (threshold_percentage))\n",
    "    top_k_values, _ = torch.topk(node_importance_pred, k)\n",
    "    threshold_value = top_k_values[-1]\n",
    "    \n",
    "#     print(node_importance_pred.shape)\n",
    "    pred = model(batch, mask_node = node_importance_pred > threshold_value)\n",
    "    binary_label = (batch.affinity_value > threshold).long()\n",
    "    preds.append( F.softmax(pred.reshape(-1,2), dim = 1).cpu().detach().numpy() )\n",
    "    labels.append( binary_label.reshape(-1).long().detach().cpu().numpy() )\n",
    "    \n",
    "preds = np.concatenate(preds)\n",
    "labels = np.concatenate(labels)\n",
    "print( \"test accuracy mask XAI_label \", accuracy_score(np.argmax(preds, axis = 1), labels ) )\n"
   ]
  },
  {
   "cell_type": "code",
   "execution_count": 37,
   "id": "5a96e5be-ca28-4de1-841f-f21b9f538ee7",
   "metadata": {},
   "outputs": [
    {
     "name": "stderr",
     "output_type": "stream",
     "text": [
      "100%|█████████████████████████████████████████████████████████████████| 2694/2694 [19:48<00:00,  2.27it/s]"
     ]
    },
    {
     "name": "stdout",
     "output_type": "stream",
     "text": [
      "test accuracy mask XAI_label  0.5824053452115813\n"
     ]
    },
    {
     "name": "stderr",
     "output_type": "stream",
     "text": [
      "\n"
     ]
    }
   ],
   "source": [
    "from sklearn.metrics import accuracy_score, roc_auc_score\n",
    "import torch.nn.functional as F\n",
    "from tqdm import tqdm\n",
    "\n",
    "preds = []\n",
    "labels = []\n",
    "\n",
    "for batch in tqdm(test_loader):\n",
    "    batch = batch.cuda()\n",
    "    \n",
    "    batch.receptor_atom_coords.requires_grad=True\n",
    "    grad_cam = model.Grad_CAM(batch)\n",
    "    grad_cam = [d.sum(1) for d in grad_cam]\n",
    "    node_importance_pred = torch.stack(grad_cam).sum(0).detach().cpu()\n",
    "    \n",
    "\n",
    "    threshold_percentage = 0.5\n",
    "    k = int(len(node_importance_pred) * (threshold_percentage))\n",
    "    top_k_values, _ = torch.topk(node_importance_pred, k)\n",
    "    threshold_value = top_k_values[-1]\n",
    "    \n",
    "#     print(node_importance_pred.shape)\n",
    "    pred = model(batch, mask_node = node_importance_pred > threshold_value)\n",
    "    binary_label = (batch.affinity_value > threshold).long()\n",
    "    preds.append( F.softmax(pred.reshape(-1,2), dim = 1).cpu().detach().numpy() )\n",
    "    labels.append( binary_label.reshape(-1).long().detach().cpu().numpy() )\n",
    "    \n",
    "preds = np.concatenate(preds)\n",
    "labels = np.concatenate(labels)\n",
    "print( \"test accuracy mask XAI_label \", accuracy_score(np.argmax(preds, axis = 1), labels ) )\n"
   ]
  },
  {
   "cell_type": "code",
   "execution_count": null,
   "id": "fea1ba1a-076b-4c35-bf17-dc25de37709b",
   "metadata": {},
   "outputs": [],
   "source": []
  },
  {
   "cell_type": "code",
   "execution_count": null,
   "id": "ee73b6f5-ccc7-4ae8-becf-f8fa10e76014",
   "metadata": {},
   "outputs": [],
   "source": []
  },
  {
   "cell_type": "code",
   "execution_count": null,
   "id": "998ef29f-df94-4927-9d27-3cef501ebbd2",
   "metadata": {},
   "outputs": [],
   "source": []
  },
  {
   "cell_type": "code",
   "execution_count": 107,
   "id": "69bcd558-b121-48ce-854f-ce2d525e4903",
   "metadata": {},
   "outputs": [
    {
     "name": "stderr",
     "output_type": "stream",
     "text": [
      "100%|█████████████████████████████████████████████████████████████████| 2694/2694 [25:16<00:00,  1.78it/s]"
     ]
    },
    {
     "name": "stdout",
     "output_type": "stream",
     "text": [
      "test accuracy mask XAI_label  0.6158129175946548\n"
     ]
    },
    {
     "name": "stderr",
     "output_type": "stream",
     "text": [
      "\n"
     ]
    }
   ],
   "source": [
    "from sklearn.metrics import accuracy_score, roc_auc_score\n",
    "import torch.nn.functional as F\n",
    "from tqdm import tqdm\n",
    "\n",
    "preds = []\n",
    "labels = []\n",
    "\n",
    "for batch in tqdm(test_loader):\n",
    "    batch = batch.cuda()\n",
    "    \n",
    "    Rs = model.firstOrderX(batch, protein = False)\n",
    "#     print(Rs[-1].shape)\n",
    "#     break\n",
    "    node_importance_pred = Rs[-1]\n",
    "    # node_importance_pred = Rs[-2]\n",
    "    node_importance_pred = node_importance_pred.sum(dim = 1)\n",
    "    \n",
    "    threshold_percentage = 0.2\n",
    "    k = int(len(node_importance_pred) * ( threshold_percentage)) + 1\n",
    "    top_k_values, _ = torch.topk(node_importance_pred, k)\n",
    "    threshold_value = top_k_values[-1]\n",
    "    \n",
    "#     print(node_importance_pred.shape)\n",
    "    pred = model(batch, mask_node = node_importance_pred > threshold_value, protein = False)\n",
    "    binary_label = (batch.affinity_value > threshold).long()\n",
    "    preds.append( F.softmax(pred.reshape(-1,2), dim = 1).cpu().detach().numpy() )\n",
    "    labels.append( binary_label.reshape(-1).long().detach().cpu().numpy() )\n",
    "    \n",
    "preds = np.concatenate(preds)\n",
    "labels = np.concatenate(labels)\n",
    "print( \"test accuracy mask XAI_label \", accuracy_score(np.argmax(preds, axis = 1), labels ) )\n"
   ]
  },
  {
   "cell_type": "code",
   "execution_count": 108,
   "id": "c84593e3-1f07-4c6c-8f47-9f001fa7113d",
   "metadata": {},
   "outputs": [
    {
     "name": "stderr",
     "output_type": "stream",
     "text": [
      "100%|█████████████████████████████████████████████████████████████████| 2694/2694 [21:23<00:00,  2.10it/s]"
     ]
    },
    {
     "name": "stdout",
     "output_type": "stream",
     "text": [
      "test accuracy mask XAI_label  0.8355605048255382\n"
     ]
    },
    {
     "name": "stderr",
     "output_type": "stream",
     "text": [
      "\n"
     ]
    }
   ],
   "source": [
    "# Gradient \n",
    "\n",
    "from sklearn.metrics import accuracy_score, roc_auc_score\n",
    "import torch.nn.functional as F\n",
    "from tqdm import tqdm\n",
    "\n",
    "preds = []\n",
    "labels = []\n",
    "\n",
    "for batch in tqdm(test_loader):\n",
    "    batch = batch.cuda()\n",
    "    \n",
    "    batch.ligand_atom_coords.requires_grad=True\n",
    "    pred = model(batch)\n",
    "#     print(pred.shape)\n",
    "#     break\n",
    "    binary_label = (batch.affinity_value > threshold).long()\n",
    "#     print(binary_label)\n",
    "#     break\n",
    "    pred[0, binary_label].backward()\n",
    "#         output.sum().backward()\n",
    "    node_importance_pred = batch.ligand_atom_coords.grad.norm(dim = -1).detach().cpu()\n",
    "    \n",
    "    threshold_percentage = 0.2\n",
    "    k = int(len(node_importance_pred) * ( threshold_percentage)) + 1\n",
    "    top_k_values, _ = torch.topk(node_importance_pred, k)\n",
    "    threshold_value = top_k_values[-1]\n",
    "    \n",
    "#     print(node_importance_pred.shape)\n",
    "    pred = model(batch, mask_node = node_importance_pred > threshold_value, protein = False)\n",
    "    binary_label = (batch.affinity_value > threshold).long()\n",
    "    preds.append( F.softmax(pred.reshape(-1,2), dim = 1).cpu().detach().numpy() )\n",
    "    labels.append( binary_label.reshape(-1).long().detach().cpu().numpy() )\n",
    "    \n",
    "preds = np.concatenate(preds)\n",
    "labels = np.concatenate(labels)\n",
    "print( \"test accuracy mask XAI_label \", accuracy_score(np.argmax(preds, axis = 1), labels ) )\n"
   ]
  },
  {
   "cell_type": "code",
   "execution_count": null,
   "id": "d00cc2d9-bf81-4e14-8a98-e628935d5749",
   "metadata": {},
   "outputs": [],
   "source": []
  },
  {
   "cell_type": "code",
   "execution_count": 113,
   "id": "bc5836f3-d2db-4731-ac2f-bc60dbdb1096",
   "metadata": {},
   "outputs": [
    {
     "name": "stderr",
     "output_type": "stream",
     "text": [
      "100%|█████████████████████████████████████████████████████████████████████████████████████████| 2694/2694 [33:05<00:00,  1.36it/s]\n"
     ]
    },
    {
     "data": {
      "text/plain": [
       "(0.5146949815142458, 0.5005474717252174, 0.5336607570176954)"
      ]
     },
     "execution_count": 113,
     "metadata": {},
     "output_type": "execute_result"
    }
   ],
   "source": [
    "from sklearn.metrics import accuracy_score, roc_auc_score\n",
    "from tqdm import tqdm\n",
    "import numpy as np\n",
    "\n",
    "auroc_list = []\n",
    "auroc_list_class0 = []\n",
    "auroc_list_class1 = []\n",
    "\n",
    "for batch in tqdm(test_loader):\n",
    "    batch = batch.cuda()\n",
    "    Rs = model.firstOrderX(batch)\n",
    "#     print(Rs[-1].shape)\n",
    "#     break\n",
    "    node_importance_pred = Rs[-1]\n",
    "    # node_importance_pred = Rs[-2]\n",
    "    node_importance_pred = node_importance_pred.sum(dim = 1)\n",
    "    node_importance_gt = batch.xai_labels\n",
    "    try:\n",
    "        auroc_score = roc_auc_score(node_importance_gt.tolist(), node_importance_pred.detach().cpu().tolist())\n",
    "        auroc_list.append(auroc_score)\n",
    "\n",
    "        binary_label = (batch.affinity_value > threshold).long()\n",
    "        if (binary_label == 0):\n",
    "            auroc_list_class0.append(auroc_score)\n",
    "        else:\n",
    "            auroc_list_class1.append(auroc_score)\n",
    "    except:\n",
    "        print(batch)\n",
    "    \n",
    "np.mean(auroc_list), np.mean(auroc_list_class0), np.mean(auroc_list_class1), "
   ]
  },
  {
   "cell_type": "code",
   "execution_count": 114,
   "id": "1e5e5d2b-ff22-4f94-8f14-0af710bee45a",
   "metadata": {},
   "outputs": [
    {
     "name": "stderr",
     "output_type": "stream",
     "text": [
      "100%|█████████████████████████████████████████████████████████████████████████████████████████| 2694/2694 [22:01<00:00,  2.04it/s]\n"
     ]
    },
    {
     "data": {
      "text/plain": [
       "(0.49995270334439107, 0.4999290202558567, 0.4999844522632516)"
      ]
     },
     "execution_count": 114,
     "metadata": {},
     "output_type": "execute_result"
    }
   ],
   "source": [
    "from sklearn.metrics import accuracy_score, roc_auc_score\n",
    "from tqdm import tqdm\n",
    "import numpy as np\n",
    "\n",
    "auroc_list = []\n",
    "auroc_list_class0 = []\n",
    "auroc_list_class1 = []\n",
    "\n",
    "for batch in tqdm(test_loader):\n",
    "    batch = batch.cuda()\n",
    "    batch.receptor_atom_coords.requires_grad=True\n",
    "    pred = model(batch)\n",
    "#     print(pred.shape)\n",
    "#     break\n",
    "    binary_label = (batch.affinity_value > threshold).long()\n",
    "#     print(binary_label)\n",
    "#     break\n",
    "    pred[0, binary_label].backward()\n",
    "#         output.sum().backward()\n",
    "    node_importance_pred = batch.receptor_atom_coords.grad.norm(dim = -1).detach().cpu()\n",
    "\n",
    "    node_importance_gt = batch.xai_labels\n",
    "    auroc_score = roc_auc_score(node_importance_gt.tolist(), node_importance_pred.detach().cpu().tolist())\n",
    "    auroc_list.append(auroc_score)\n",
    "    \n",
    "    if (binary_label == 0):\n",
    "        auroc_list_class0.append(auroc_score)\n",
    "    else:\n",
    "        auroc_list_class1.append(auroc_score)\n",
    "    \n",
    "np.mean(auroc_list), np.mean(auroc_list_class0), np.mean(auroc_list_class1), "
   ]
  },
  {
   "cell_type": "code",
   "execution_count": 115,
   "id": "de2074ea-d40c-48e1-aa87-dfdc1b111b8f",
   "metadata": {},
   "outputs": [
    {
     "name": "stderr",
     "output_type": "stream",
     "text": [
      "100%|█████████████████████████████████████████████████████████████████████████████████████████| 2694/2694 [22:20<00:00,  2.01it/s]\n"
     ]
    },
    {
     "data": {
      "text/plain": [
       "(0.49887651691795093, 0.5055014072517972, 0.4899953650629338)"
      ]
     },
     "execution_count": 115,
     "metadata": {},
     "output_type": "execute_result"
    }
   ],
   "source": [
    "\n",
    "from sklearn.metrics import accuracy_score, roc_auc_score\n",
    "from tqdm import tqdm\n",
    "import numpy as np\n",
    "\n",
    "auroc_list = []\n",
    "auroc_list_class0 = []\n",
    "auroc_list_class1 = []\n",
    "\n",
    "for batch in tqdm(test_loader):\n",
    "    batch = batch.cuda()\n",
    "    batch.receptor_atom_coords.requires_grad=True\n",
    "    \n",
    "    grad_cam = model.Grad_CAM(batch)\n",
    "    \n",
    "    grad_cam = [d.sum(1) for d in grad_cam]\n",
    "    node_importance_pred = torch.stack(grad_cam).sum(0).detach().cpu()\n",
    "\n",
    "\n",
    "    node_importance_gt = batch.xai_labels\n",
    "    auroc_score = roc_auc_score(node_importance_gt.tolist(), node_importance_pred.detach().cpu().tolist())\n",
    "    auroc_list.append(auroc_score)\n",
    "    \n",
    "    binary_label = (batch.affinity_value > threshold).long()\n",
    "    if (binary_label == 0):\n",
    "        auroc_list_class0.append(auroc_score)\n",
    "    else:\n",
    "        auroc_list_class1.append(auroc_score)\n",
    "    \n",
    "np.mean(auroc_list), np.mean(auroc_list_class0), np.mean(auroc_list_class1), \n"
   ]
  },
  {
   "cell_type": "code",
   "execution_count": null,
   "id": "3e2410e5-e50c-4a64-aeb9-13acc2cb17ef",
   "metadata": {},
   "outputs": [],
   "source": []
  },
  {
   "cell_type": "code",
   "execution_count": null,
   "id": "e336bfdc-0565-4fe4-8d8d-5b127a07e8bc",
   "metadata": {},
   "outputs": [],
   "source": []
  },
  {
   "cell_type": "code",
   "execution_count": null,
   "id": "46333461-a0b1-46bb-8331-866c50df7343",
   "metadata": {},
   "outputs": [],
   "source": []
  },
  {
   "cell_type": "code",
   "execution_count": 4,
   "id": "9f0a77de-ed0d-4875-a601-66ccc16f616a",
   "metadata": {},
   "outputs": [],
   "source": [
    "from dataset.biolip.dataloader import BioLiPdataset3\n",
    "dataset = BioLiPdataset3(root = \"/data/hongyiling/XAI4e3nn/dataset/biolip\")"
   ]
  },
  {
   "cell_type": "code",
   "execution_count": 7,
   "id": "fb3de690-84d3-423f-8c17-d9580eeaab34",
   "metadata": {},
   "outputs": [
    {
     "data": {
      "text/plain": [
       "Data(x=[241, 139], pos=[241, 3], xai_labels=[208, 1], affinity_value=[1])"
      ]
     },
     "execution_count": 7,
     "metadata": {},
     "output_type": "execute_result"
    }
   ],
   "source": [
    "dataset[0]"
   ]
  },
  {
   "cell_type": "code",
   "execution_count": 12,
   "id": "f5d2cdfb-3659-4217-a1ff-ec8bf25e28d3",
   "metadata": {},
   "outputs": [
    {
     "name": "stderr",
     "output_type": "stream",
     "text": [
      "100%|████████████████████████████████████████████████████████████████████████████████████████| 3000/3000 [00:07<00:00, 404.41it/s]\n"
     ]
    },
    {
     "data": {
      "text/plain": [
       "(21.104857622744785, 304.50033333333334)"
      ]
     },
     "execution_count": 12,
     "metadata": {},
     "output_type": "execute_result"
    }
   ],
   "source": [
    "from tqdm import tqdm\n",
    "from torch_cluster import radius_graph\n",
    "import numpy as np\n",
    "max_radius = 10\n",
    "avg_deg = []\n",
    "avg_nodes = []\n",
    "\n",
    "for data in tqdm(dataset[:3000]):\n",
    "    edge_index = radius_graph(data.pos, r = max_radius, loop = True)\n",
    "    avg_deg.append(edge_index.shape[1] / data.pos.shape[0])\n",
    "    avg_nodes.append(data.pos.shape[0])\n",
    "    \n",
    "np.mean(avg_deg), np.mean(avg_nodes)\n",
    " "
   ]
  },
  {
   "cell_type": "code",
   "execution_count": null,
   "id": "d3e2ded2-8871-4f30-a106-34730ce369f4",
   "metadata": {},
   "outputs": [],
   "source": []
  },
  {
   "cell_type": "code",
   "execution_count": null,
   "id": "d469266f-0e55-4924-a36e-8f49f6adc9ca",
   "metadata": {},
   "outputs": [],
   "source": []
  },
  {
   "cell_type": "code",
   "execution_count": 2,
   "id": "ab04abad-d8a6-451c-9de8-5b8671ba7fc9",
   "metadata": {},
   "outputs": [],
   "source": [
    "dataset = BioLiPdataset2(root = \"/data/hongyiling/XAI4e3nn/dataset/biolip\")"
   ]
  },
  {
   "cell_type": "code",
   "execution_count": 12,
   "id": "26326312-e5e4-4378-bcf5-43280cbacbee",
   "metadata": {},
   "outputs": [
    {
     "data": {
      "text/plain": [
       "Data(x=[208, 20], receptor_atom_coords=[208, 3], ligand_x=[33, 118], ligand_atom_coords=[33, 3], xai_labels=[208, 1], affinity_value=[1])"
      ]
     },
     "execution_count": 12,
     "metadata": {},
     "output_type": "execute_result"
    }
   ],
   "source": [
    "data = dataset[0]\n",
    "data"
   ]
  },
  {
   "cell_type": "code",
   "execution_count": 13,
   "id": "94b673ce-b764-4dc9-a099-82572adfb3ce",
   "metadata": {},
   "outputs": [],
   "source": [
    "pts = torch.cat([data.receptor_atom_coords, data.ligand_atom_coords])\n",
    "# pts = data.ligand_atom_coords"
   ]
  },
  {
   "cell_type": "code",
   "execution_count": null,
   "id": "39ee0627-ed4f-4c02-80f0-754c4e35b218",
   "metadata": {},
   "outputs": [],
   "source": []
  },
  {
   "cell_type": "code",
   "execution_count": null,
   "id": "a65a9c6d-a2f6-4a95-a877-822630f3c7e0",
   "metadata": {},
   "outputs": [],
   "source": []
  },
  {
   "cell_type": "code",
   "execution_count": 1,
   "id": "061b1e75-ced8-43e2-874b-275a0b4924cf",
   "metadata": {},
   "outputs": [],
   "source": [
    "import os\n",
    "os.environ[\"CUDA_DEVICE_ORDER\"]=\"PCI_BUS_ID\"  \n",
    "os.environ[\"CUDA_VISIBLE_DEVICES\"]=\"0\""
   ]
  },
  {
   "cell_type": "code",
   "execution_count": 2,
   "id": "abe7882d-3c74-4f9e-8661-0b2cb0f3ff2c",
   "metadata": {},
   "outputs": [],
   "source": [
    "from dataset.biolip.dataloader import BioLiPdataset\n",
    "\n",
    "from torch_geometric.nn.pool import radius_graph\n",
    "\n",
    "max_radius = 5\n",
    "\n",
    "import logging\n",
    "\n",
    "import torch\n",
    "import torch.nn as nn\n",
    "import torch.nn.functional as F\n",
    "from torch_cluster import radius_graph\n",
    "from torch_geometric.data import Data\n",
    "from torch_geometric.loader import DataLoader\n",
    "from torch_geometric.loader import DataListLoader\n",
    "from torch_geometric.nn import DataParallel\n",
    "from torch_scatter import scatter\n",
    "\n",
    "from e3nn import o3\n",
    "from e3nn.nn import FullyConnectedNet, Gate, NormActivation\n",
    "from e3nn.o3 import FullyConnectedTensorProduct, Linear\n",
    "from e3nn.math import soft_one_hot_linspace\n",
    "from e3nn.util.test import assert_equivariant\n",
    "\n",
    "import numpy as np\n",
    "\n",
    "from tqdm import tqdm\n",
    "from LRP import * "
   ]
  },
  {
   "cell_type": "code",
   "execution_count": 3,
   "id": "e2814e22-7d91-432b-97f6-e8dfaf021f07",
   "metadata": {},
   "outputs": [],
   "source": [
    "class Convolution(torch.nn.Module):\n",
    "    def __init__(self, irreps_in, irreps_sh, irreps_out, num_neighbors) -> None:\n",
    "        super().__init__()\n",
    "\n",
    "        self.num_neighbors = num_neighbors\n",
    "\n",
    "        tp = FullyConnectedTensorProduct(\n",
    "            irreps_in1=irreps_in,\n",
    "            irreps_in2=irreps_sh,\n",
    "            irreps_out=irreps_out,\n",
    "            internal_weights=False,\n",
    "            shared_weights=False,\n",
    "        )\n",
    "        self.fc = FullyConnectedNet([5, 256, tp.weight_numel], torch.relu)\n",
    "        self.tp = tp\n",
    "        self.irreps_out = self.tp.irreps_out\n",
    "\n",
    "    def forward(self, node_features, edge_src, edge_dst, edge_attr, edge_scalars, edge_attn = None) -> torch.Tensor:\n",
    "        weight = self.fc(edge_scalars)\n",
    "        edge_features = self.tp(node_features[edge_src], edge_attr, weight)\n",
    "        \n",
    "        if edge_attn is not None: \n",
    "            edge_features = edge_features * edge_attn\n",
    "            \n",
    "        node_features = scatter(edge_features, edge_dst, dim=0).div(self.num_neighbors**0.5)\n",
    "        return node_features\n",
    "    \n",
    "    def FirstOrderX(self, R, node_features, edge_src, edge_dst, edge_attr, edge_scalars, zero_point = False):\n",
    "        weight = self.fc(edge_scalars)\n",
    "        edge_features = self.tp(node_features[edge_src], edge_attr, weight)\n",
    "\n",
    "        R = FirstOrder4Scatter(R, edge_dst = edge_dst, edge_features = edge_features)\n",
    "        R, R_edgeAttr, R_edgeDist = FirstOrder4FullyConnectedTensorProductWithEdgeOutput(self.tp, R, node_features,  edge_src, edge_dst, edge_attr, weight, zero_point = zero_point)\n",
    "        return R, R_edgeAttr, R_edgeDist.sum(-1)\n"
   ]
  },
  {
   "cell_type": "code",
   "execution_count": 4,
   "id": "0d73c2fb-eda8-4ba9-ba6c-b53e5c8fefe5",
   "metadata": {},
   "outputs": [],
   "source": [
    "class TFN(torch.nn.Module):\n",
    "    def __init__(self, l = 3) -> None:\n",
    "        super().__init__()\n",
    "        self.num_neighbors = 22.28 # typical number of neighbors\n",
    "        self.irreps_sh = o3.Irreps.spherical_harmonics(l)\n",
    "        \n",
    "        hidden = 16\n",
    "        hidden_irreps = []\n",
    "        for i in range(l+1):    \n",
    "            hidden_irreps.append(f\"{hidden}x{i}o+{hidden}x{i}e\")\n",
    "        \n",
    "        hidden_irreps = o3.Irreps(\"+\".join(hidden_irreps))\n",
    "\n",
    "        self.hidden_irreps = hidden_irreps\n",
    "\n",
    "        irreps_input = o3.Irreps(\"139x0e\") + self.irreps_sh \n",
    "        irreps = irreps_input\n",
    "        \n",
    "        normAct = NormActivation(hidden_irreps, torch.sigmoid)\n",
    "        \n",
    "        self.conv1 = Convolution(irreps, self.irreps_sh, normAct.irreps_in, self.num_neighbors)\n",
    "        self.act = normAct\n",
    "        irreps = self.act.irreps_out\n",
    "        self.lin1 = Linear(irreps, irreps)\n",
    "        self.conv2 = Convolution(irreps, self.irreps_sh, normAct.irreps_in, self.num_neighbors)\n",
    "        self.lin2 = Linear(irreps, irreps)\n",
    "        # Final layer\n",
    "        self.final = Convolution(irreps, self.irreps_sh, \"2x0e\", self.num_neighbors)\n",
    "        self.irreps_out = self.final.irreps_out\n",
    "\n",
    "    def forward(self, data, mask_order = [], mask_node = None) -> torch.Tensor:\n",
    "        num_nodes = 320.33  # typical number of nodes\n",
    "        max_radius = 10\n",
    "        \n",
    "        # edge_src, edge_dst = data.edge_index \n",
    "        edge_src, edge_dst = radius_graph(data.pos, r = max_radius, batch = data.batch, loop = True, max_num_neighbors = data.pos.shape[0])\n",
    "        edge_vec = data.pos[edge_src] - data.pos[edge_dst]\n",
    "        edge_vec = edge_vec.float()\n",
    "        edge_attr = o3.spherical_harmonics(l=self.irreps_sh, x=edge_vec, normalize=True, normalization=\"component\")\n",
    "\n",
    "        for i in mask_order:\n",
    "            edge_attr[:, self.irreps_sh.slices()[i] ] = 0.0\n",
    "\n",
    "        edge_length_embedded = (\n",
    "            soft_one_hot_linspace(x=edge_vec.norm(dim=1), start=0.0, end=max_radius, number=5, basis=\"smooth_finite\", cutoff=True)\n",
    "            * 5**0.5\n",
    "        )\n",
    "\n",
    "        if \"edge_attn\" in data:\n",
    "            edge_attn = data.edge_attn\n",
    "            edge_attr = edge_attr * edge_attn\n",
    "        else:\n",
    "            edge_attn = None\n",
    "\n",
    "        x = scatter(edge_attr, edge_dst, dim=0).div(self.num_neighbors**0.5)\n",
    "\n",
    "        # x = torch.cat( [F.one_hot(data.x, num_classes = 16).squeeze(), x], dim = 1 )\n",
    "        x = torch.cat([data.x, x], dim = 1)\n",
    "        \n",
    "        if mask_node is not None:\n",
    "            x[mask_node] = 0.0\n",
    "\n",
    "        x = self.conv1(x, edge_src, edge_dst, edge_attr, edge_length_embedded, edge_attn = edge_attn)\n",
    "        x = self.lin1(x)\n",
    "        x = self.act(x)\n",
    "        \n",
    "        for i in mask_order:\n",
    "            x[:, self.hidden_irreps.slices()[i] ] = 0.0\n",
    "            \n",
    "        if mask_node is not None:\n",
    "            x[mask_node] = 0.0\n",
    "        \n",
    "        x = self.conv2(x, edge_src, edge_dst, edge_attr, edge_length_embedded, edge_attn = edge_attn)\n",
    "        x = self.lin2(x)\n",
    "        x = self.act(x)\n",
    "        \n",
    "        for i in mask_order:\n",
    "            x[:, self.hidden_irreps.slices()[i] ] = 0.0\n",
    "            \n",
    "        if mask_node is not None:\n",
    "            x[mask_node] = 0.0\n",
    "            \n",
    "            \n",
    "        x = self.final(x, edge_src, edge_dst, edge_attr, edge_length_embedded, edge_attn = edge_attn)\n",
    "        \n",
    "        if mask_node is not None:\n",
    "            x[mask_node] = 0.0\n",
    "        \n",
    "        return scatter(x, data.batch, dim=0).div(num_nodes**0.5)\n",
    "    \n",
    "    \n",
    "    def FirstOrderX(self, data, zero_point = False, R = None, Norm = True):\n",
    "        num_nodes = 320.33  # typical number of nodes\n",
    "        max_radius = 10\n",
    "\n",
    "        edge_src, edge_dst = radius_graph(data.pos, r = max_radius, batch = data.batch, loop = True, max_num_neighbors = data.pos.shape[0])\n",
    "        edge_vec = data.pos[edge_src] - data.pos[edge_dst]\n",
    "        edge_vec = edge_vec.float()\n",
    "        edge_attr = o3.spherical_harmonics(l=self.irreps_sh, x=edge_vec, normalize=True, normalization=\"component\")\n",
    "\n",
    "        edge_length_embedded = (\n",
    "            soft_one_hot_linspace(x=edge_vec.norm(dim=1), start=0.0, end=max_radius, number=5, basis=\"smooth_finite\", cutoff=True)\n",
    "            * 5**0.5\n",
    "        )\n",
    "\n",
    "        ##Forward\n",
    "        Xs = []\n",
    "        x = scatter(edge_attr, edge_dst, dim=0).div(self.num_neighbors**0.5)\n",
    "#         x = torch.cat( [F.one_hot(data.x, num_classes = 16).squeeze(), x], dim = 1 )\n",
    "        x = torch.cat([data.x, x], dim = 1)\n",
    "        \n",
    "        Xs.append(x)\n",
    "        x = self.conv1(x, edge_src, edge_dst, edge_attr, edge_length_embedded)\n",
    "        Xs.append(x)\n",
    "        x = self.lin1(x)\n",
    "        Xs.append(x)\n",
    "        x = self.act(x)\n",
    "        Xs.append(x)\n",
    "\n",
    "        x = self.conv2(x, edge_src, edge_dst, edge_attr, edge_length_embedded)\n",
    "        Xs.append(x)\n",
    "        x = self.lin2(x)\n",
    "        Xs.append(x)\n",
    "        x = self.act(x)\n",
    "        Xs.append(x)\n",
    "        \n",
    "        x = self.final(x, edge_src, edge_dst, edge_attr, edge_length_embedded)\n",
    "        Xs.append(x)\n",
    "        x = scatter(x, data.batch, dim=0).div(num_nodes**0.5)\n",
    "        Xs.append(x)\n",
    "\n",
    "        Rs = []\n",
    "        Rs_edgeAttr = []\n",
    "        Rs_edgeDist = []\n",
    "        \n",
    "        if R is None:\n",
    "            R = x.clone().detach()\n",
    "\n",
    "        R = FirstOrder4Scatter(R, data.batch, edge_features = Xs[-2])\n",
    "        Rs.append(R)\n",
    "\n",
    "        R, R_edgeAttr, R_edgeDist = self.final.FirstOrderX(R, Xs[6], edge_src, edge_dst, edge_attr, edge_length_embedded, zero_point = zero_point)\n",
    "        Rs.append(R)\n",
    "        Rs_edgeAttr.append(R_edgeAttr)\n",
    "        Rs_edgeDist.append(R_edgeDist)\n",
    "\n",
    "        if (Norm):\n",
    "            R = FirstOrder4NormActivation(self.act, Xs[5], R, irreps = self.hidden_irreps)\n",
    "        else:\n",
    "            R = R\n",
    "        Rs.append(R)\n",
    "\n",
    "\n",
    "        R = FirstOrder4Linear(R, self.lin2, Xs[4])\n",
    "        Rs.append(R)\n",
    "\n",
    "        R, R_edgeAttr, R_edgeDist = self.conv2.FirstOrderX(R, Xs[3], edge_src, edge_dst, edge_attr, edge_length_embedded, zero_point = zero_point)\n",
    "        Rs.append(R)\n",
    "        Rs_edgeAttr.append(R_edgeAttr)\n",
    "        Rs_edgeDist.append(R_edgeDist)\n",
    "\n",
    "        if (Norm):\n",
    "            R = FirstOrder4NormActivation(self.act, Xs[2], R, irreps = self.hidden_irreps)\n",
    "        else:\n",
    "            R = R\n",
    "        Rs.append(R)\n",
    "        \n",
    "        R = FirstOrder4Linear(R, self.lin1, Xs[1])\n",
    "        Rs.append(R)\n",
    "        \n",
    "        R, R_edgeAttr, R_edgeDist = self.conv1.FirstOrderX(R, Xs[0], edge_src, edge_dst, edge_attr, edge_length_embedded, zero_point = zero_point)\n",
    "        Rs.append(R)\n",
    "        Rs_edgeAttr.append(R_edgeAttr)\n",
    "        Rs_edgeDist.append(R_edgeDist)\n",
    "        \n",
    "        Rs.append(R[:,:139])\n",
    "        \n",
    "        R_edgeAttr = FirstOrder4Scatter(R[:,139:], edge_dst = edge_dst, edge_features = edge_attr)\n",
    "        Rs_edgeAttr.append(R_edgeAttr)\n",
    "\n",
    "\n",
    "\n",
    "        return Rs, Rs_edgeAttr, Rs_edgeDist\n",
    "    "
   ]
  },
  {
   "cell_type": "code",
   "execution_count": 5,
   "id": "763ea526-4e3c-4dc7-b9be-a53fb9e42688",
   "metadata": {},
   "outputs": [],
   "source": [
    "dataset = BioLiPdataset(root = \"./dataset/biolip\")\n",
    "\n",
    "total_size = len(dataset)\n",
    "indices = np.arange(total_size)\n",
    "np.random.seed(42)\n",
    "\n",
    "# Shuffle the indices with the seed\n",
    "np.random.shuffle(indices)\n",
    "\n",
    "train_size = int(total_size * 0.8)\n",
    "validation_size = int(total_size * 0.1)\n",
    "\n",
    "# Split the indices again using the same proportions\n",
    "train_idx = indices[:train_size]\n",
    "val_idx = indices[train_size:train_size + validation_size]\n",
    "test_idx = indices[train_size + validation_size:]\n",
    "\n",
    "train_dataset, valid_dataset, test_dataset = dataset[train_idx], dataset[val_idx], dataset[test_idx]\n",
    "test_loader = DataLoader(test_dataset, batch_size=1, shuffle=False, num_workers = 0)\n",
    "\n",
    "threshold = 1.0"
   ]
  },
  {
   "cell_type": "code",
   "execution_count": 9,
   "id": "7bc952b5-3dbf-47ae-a8cb-08f366ffdb12",
   "metadata": {},
   "outputs": [
    {
     "name": "stderr",
     "output_type": "stream",
     "text": [
      "/data/hongyiling/anaconda3/envs/XAI2/lib/python3.9/site-packages/torch/jit/_check.py:172: UserWarning: The TorchScript type system doesn't support instance-level annotations on empty non-base types in `__init__`. Instead, either 1) use a type annotation in the class body, or 2) wrap the type in `torch.jit.Attribute`.\n",
      "  warnings.warn(\"The TorchScript type system doesn't support \"\n"
     ]
    },
    {
     "data": {
      "text/plain": [
       "<All keys matched successfully>"
      ]
     },
     "execution_count": 9,
     "metadata": {},
     "output_type": "execute_result"
    }
   ],
   "source": [
    "model = TFN(l = 2)\n",
    "model.cuda()\n",
    "model.load_state_dict(torch.load(f\"./ckpt/biolip_OneGraph_RadiusGraph_TFN_l=2.pt\"))\n"
   ]
  },
  {
   "cell_type": "code",
   "execution_count": 11,
   "id": "a27df482-ee0f-49a4-ba39-43544430f50d",
   "metadata": {},
   "outputs": [],
   "source": [
    "test_loader = DataLoader(test_dataset, batch_size=1, shuffle=False)\n",
    "\n",
    "test_batch = next(iter(test_loader))\n",
    "test_batch = test_batch.cuda()"
   ]
  },
  {
   "cell_type": "code",
   "execution_count": 28,
   "id": "09b853ec-b742-458a-8a01-9c6916e1db8a",
   "metadata": {},
   "outputs": [
    {
     "data": {
      "text/plain": [
       "<All keys matched successfully>"
      ]
     },
     "execution_count": 28,
     "metadata": {},
     "output_type": "execute_result"
    }
   ],
   "source": [
    "model = TFN(l = 2)\n",
    "model.cuda()\n",
    "model.load_state_dict(torch.load(f\"./ckpt/biolip_OneGraph_RadiusGraph_TFN_l=2_{0}.pt\"))\n"
   ]
  },
  {
   "cell_type": "code",
   "execution_count": 18,
   "id": "62ad7034-8c84-4f60-8605-036ada3b6fd8",
   "metadata": {},
   "outputs": [
    {
     "name": "stdout",
     "output_type": "stream",
     "text": [
      "Grad\n",
      "0.11943483352661133\n"
     ]
    }
   ],
   "source": [
    "import time\n",
    "start = time.time()\n",
    "\n",
    "print(\"Grad\")\n",
    "test_batch.pos.requires_grad=True\n",
    "pred = model(test_batch)\n",
    "binary_label = (test_batch.affinity_value > threshold).long()\n",
    "pred[0, binary_label].backward()\n",
    "#         output.sum().backward()\n",
    "node_importance_pred = test_batch.pos.grad.norm(dim = -1).detach().cpu()\n",
    "\n",
    "print(time.time() - start)   "
   ]
  },
  {
   "cell_type": "code",
   "execution_count": 17,
   "id": "e30cbfe8-4dbf-4f14-9e55-9d81d5ea49e0",
   "metadata": {},
   "outputs": [
    {
     "name": "stdout",
     "output_type": "stream",
     "text": [
      "Grad CAM\n",
      "0.11227893829345703\n"
     ]
    }
   ],
   "source": [
    "start = time.time()\n",
    "\n",
    "print(\"Grad CAM\")\n",
    "\n",
    "test_batch.pos.requires_grad=True\n",
    "grad_cam = model.Grad_CAM(test_batch)\n",
    "node_importance_pred = grad_cam[-2].sum(1).detach().cpu()\n",
    "print(time.time() - start)       "
   ]
  },
  {
   "cell_type": "code",
   "execution_count": 20,
   "id": "65e0859a-4fb7-432e-80a1-c91d7c6e7efd",
   "metadata": {},
   "outputs": [
    {
     "name": "stdout",
     "output_type": "stream",
     "text": [
      "GNN Explainer\n",
      "10.110600233078003\n"
     ]
    }
   ],
   "source": [
    "start = time.time()\n",
    "\n",
    "EPS = 1e-7\n",
    "\n",
    "print(\"GNN Explainer\")\n",
    "\n",
    "max_radius = 10\n",
    "\n",
    "edge_index = radius_graph(test_batch.pos, r = max_radius, batch = test_batch.batch, loop = True, max_num_neighbors = test_batch.pos.shape[0])\n",
    "\n",
    "edge_mask = torch.nn.Parameter(torch.randn((edge_index.shape[1],1), requires_grad=True, device = \"cuda\") * 0.08)\n",
    "\n",
    "optimizer = torch.optim.Adam([edge_mask], lr=1e-2)\n",
    "\n",
    "criterion = nn.CrossEntropyLoss()\n",
    "\n",
    "for epoch in (range(1, 100 + 1)):\n",
    "    test_batch.edge_attn = edge_mask.sigmoid() \n",
    "\n",
    "    optimizer.zero_grad()\n",
    "\n",
    "    pred = model(test_batch)\n",
    "    binary_label = (test_batch.affinity_value > threshold).long()\n",
    "    loss = criterion(pred, binary_label)\n",
    "\n",
    "#         print(\"predict loss\", loss.item())\n",
    "\n",
    "    m = edge_mask.sigmoid()\n",
    "    loss = loss + 0.1 * m.sum()\n",
    "    ent = -m * torch.log(m + EPS) - (1 - m) * torch.log(1 - m + EPS)\n",
    "    loss = loss + 0.1 * ent.mean()\n",
    "\n",
    "    loss.backward()\n",
    "    optimizer.step()\n",
    "\n",
    "node_importance_pred = edge_mask.data.sigmoid()\n",
    "node_importance_pred = scatter(node_importance_pred, edge_index[1], dim = 0) + scatter(node_importance_pred, edge_index[0], dim = 0)\n",
    "node_importance_pred = node_importance_pred.reshape(-1).detach().cpu() \n",
    "\n",
    "print(time.time() - start) "
   ]
  },
  {
   "cell_type": "code",
   "execution_count": 21,
   "id": "5737f6c5-5ab1-4aba-9abe-9b1d475ade85",
   "metadata": {},
   "outputs": [
    {
     "name": "stdout",
     "output_type": "stream",
     "text": [
      "LRI Bern\n",
      "0.24025774002075195\n"
     ]
    }
   ],
   "source": [
    "interpreter = TFN_LRI_Bern(l=2)\n",
    "interpreter.cuda()\n",
    "interpreter.load_state_dict(torch.load(f\"./ckpt/biolip_LRI_interpreter_TFN_l=2_0.pt\"))\n",
    "\n",
    "start = time.time()\n",
    "\n",
    "print(\"LRI Bern\")\n",
    "output = interpreter(test_batch)\n",
    "node_importance_pred = output.sigmoid().detach().cpu()\n",
    "print(time.time() - start) "
   ]
  },
  {
   "cell_type": "code",
   "execution_count": 23,
   "id": "fcebf63e-2d64-4ea2-a0e8-9e03cc91cadb",
   "metadata": {},
   "outputs": [
    {
     "name": "stdout",
     "output_type": "stream",
     "text": [
      "LRI Gaussian\n",
      "0.2797222137451172\n"
     ]
    }
   ],
   "source": [
    "interpreter = TFN_LRI_Gaussian(l=2)\n",
    "interpreter.cuda()\n",
    "interpreter.load_state_dict(torch.load(f\"./ckpt/biolip_LRI_g_interpreter_TFN_l=2_0.pt\"))\n",
    "\n",
    "start = time.time()\n",
    "\n",
    "print(\"LRI Gaussian\")\n",
    "noise = interpreter(test_batch)\n",
    "            \n",
    "a1 = F.softplus(noise[:,[0]]).clamp(1e-6, 1e6)\n",
    "a2 = F.softplus(noise[:,[1]]).clamp(1e-6, 1e6) \n",
    "U = noise[:,2:].reshape(-1,3,3)\n",
    "\n",
    "pred_sigma = a1.reshape(-1, 1, 1) * U @ U.transpose(1, 2) + a2.reshape(-1, 1, 1) * torch.eye(3, device=noise.device).reshape(-1, 3, 3)\n",
    "node_importance_pred = -(pred_sigma.det()).reshape(-1).detach().cpu()\n",
    "\n",
    "print(time.time() - start) "
   ]
  },
  {
   "cell_type": "code",
   "execution_count": 35,
   "id": "795aea73-f2c9-48e4-a420-d78f5be74dba",
   "metadata": {},
   "outputs": [
    {
     "name": "stdout",
     "output_type": "stream",
     "text": [
      "PGExplainer\n",
      "0.05170917510986328\n"
     ]
    }
   ],
   "source": [
    "def concrete_sample(log_alpha, beta: float = 1.0, training: bool = True):\n",
    "    r\"\"\" Sample from the instantiation of concrete distribution when training \"\"\"\n",
    "    if training:\n",
    "        bias = sample_bias\n",
    "        random_noise = torch.rand(log_alpha.shape) * (1 - 2 * bias) + bias\n",
    "        random_noise = torch.log(random_noise) - torch.log(1.0 - random_noise)\n",
    "        gate_inputs = (random_noise.to(log_alpha.device) + log_alpha) / beta\n",
    "        gate_inputs = gate_inputs.sigmoid()\n",
    "    else:\n",
    "        gate_inputs = log_alpha.sigmoid()\n",
    "\n",
    "    return gate_inputs\n",
    "\n",
    "pg_elayers = FullyConnectedTensorProduct(\n",
    "        irreps_in1=model.act.irreps_out + model.act.irreps_out,\n",
    "        irreps_in2=model.irreps_sh,\n",
    "        irreps_out=\"1x0e\",\n",
    "    )\n",
    "#     Convolution(model.act.irreps_out + model.act.irreps_out, model.irreps_sh, \"1x0e\", model.num_neighbors)\n",
    "pg_elayers.cuda()\n",
    "    \n",
    "start = time.time()\n",
    "\n",
    "print(\"PGExplainer\")\n",
    "embed, logits = model.get_emb_logits(test_batch)\n",
    "\n",
    "max_radius = 10\n",
    "        \n",
    "# edge_src, edge_dst = data.edge_index \n",
    "edge_index = radius_graph(test_batch.pos, r = max_radius, batch = test_batch.batch, loop = True, max_num_neighbors = test_batch.pos.shape[0])\n",
    "col, row = edge_src , edge_dst \n",
    "f1 = embed[col]\n",
    "f2 = embed[row]\n",
    "f12self = torch.cat([f1, f2], dim=-1).cuda()\n",
    "data = test_batch\n",
    "edge_src, edge_dst = edge_index\n",
    "edge_vec = data.pos[edge_src] - data.pos[edge_dst]\n",
    "edge_attr = o3.spherical_harmonics(l=model.irreps_sh, x=edge_vec, normalize=True, normalization=\"component\")\n",
    "edge_length_embedded = (\n",
    "    soft_one_hot_linspace(x=edge_vec.norm(dim=1), start=0.0, end=max_radius, number=5, basis=\"smooth_finite\", cutoff=True)\n",
    "    * 5**0.5\n",
    ")\n",
    "\n",
    "h = pg_elayers(f12self, edge_attr)\n",
    "values = h.reshape(-1)\n",
    "values = concrete_sample(values, beta=1.0, training=False)\n",
    "nodesize = embed.shape[0]\n",
    "sparse_mask_values = values\n",
    "mask_sparse = torch.sparse_coo_tensor(\n",
    "    edge_index, values, (nodesize, nodesize)\n",
    ")\n",
    "mask_sigmoid = mask_sparse.to_dense()\n",
    "# set the symmetric edge weights\n",
    "sym_mask = (mask_sigmoid + mask_sigmoid.transpose(0, 1)) / 2\n",
    "edge_mask = sym_mask[edge_index[0], edge_index[1]]\n",
    "edge_mask = edge_mask.reshape(-1,1)\n",
    "\n",
    "node_importance_pred = edge_mask\n",
    "node_importance_pred = scatter(node_importance_pred, edge_index[1], dim = 0) + scatter(node_importance_pred, edge_index[0], dim = 0)\n",
    "node_importance_pred = node_importance_pred.reshape(-1).detach().cpu()\n",
    "\n",
    "print(time.time() - start) "
   ]
  },
  {
   "cell_type": "code",
   "execution_count": 44,
   "id": "9201b761-1131-45a8-89a8-0982ee16b0a4",
   "metadata": {},
   "outputs": [
    {
     "name": "stdout",
     "output_type": "stream",
     "text": [
      "FirstOrderX\n",
      "0.29629039764404297\n"
     ]
    }
   ],
   "source": [
    "start = time.time()\n",
    "\n",
    "print(\"FirstOrderX\")\n",
    "### LRP \n",
    "binary_label = (test_batch.affinity_value > threshold).long()\n",
    "\n",
    "Rs, Rs_edgeAttr, Rs_edgeDist = model.FirstOrderX( test_batch, R = F.one_hot(binary_label, num_classes = 2), zero_point = False, Norm = True)\n",
    "\n",
    "R_edgeAttr = torch.sum(torch.stack(Rs_edgeAttr), dim=0) \n",
    "\n",
    "R_edgeDist = torch.sum(torch.stack(Rs_edgeDist), dim=0) \n",
    "\n",
    "max_radius = 10\n",
    "edge_src, edge_dst = radius_graph(test_batch.pos, r = max_radius, batch = test_batch.batch, loop = True, max_num_neighbors = test_batch.pos.shape[0])\n",
    "\n",
    "node_importance_pred = (scatter(R_edgeAttr.sum(dim = 1) + R_edgeDist, edge_src, dim = 0) + scatter(R_edgeAttr.sum(dim = 1) + R_edgeDist, edge_dst, dim = 0) ) / 2\n",
    "node_importance_pred += Rs[-1].sum(dim = 1)\n",
    "        \n",
    "print(time.time() - start)"
   ]
  },
  {
   "cell_type": "markdown",
   "id": "49167be8-2897-4ee8-be35-8109c680c942",
   "metadata": {},
   "source": [
    "# fidelity"
   ]
  },
  {
   "cell_type": "code",
   "execution_count": 10,
   "id": "f7691b60-a915-4d3e-903a-ae44b75b8647",
   "metadata": {},
   "outputs": [
    {
     "name": "stderr",
     "output_type": "stream",
     "text": [
      "100%|███████████████████████████████████████████████████████████████████████████████████████| 2694/2694 [16:04<00:00,  2.79it/s]"
     ]
    },
    {
     "name": "stdout",
     "output_type": "stream",
     "text": [
      "test accuracy mask FirstOrder  0.38938381588715665\n",
      "test accuracy mask FirstOrder  0.2757980697847068\n",
      "test accuracy mask FirstOrder  0.20452858203414997\n",
      "test accuracy mask FirstOrder  0.19302152932442465\n",
      "test accuracy mask FirstOrder  0.19042316258351893\n"
     ]
    },
    {
     "name": "stderr",
     "output_type": "stream",
     "text": [
      "\n"
     ]
    }
   ],
   "source": [
    "# Firstorder fidelity\n",
    "\n",
    "from sklearn.metrics import accuracy_score, roc_auc_score\n",
    "import torch.nn.functional as F\n",
    "from tqdm import tqdm\n",
    "\n",
    "threshold_percentages = [0.1,0.2,0.3,0.4,0.5]\n",
    "Firstorder_fidelity = []\n",
    "\n",
    "# for threshold_percentage in threshold_percentages:\n",
    "\n",
    "preds = {}\n",
    "labels = {}\n",
    "\n",
    "for threshold_percentage in threshold_percentages:\n",
    "    preds[threshold_percentage] = []\n",
    "    labels[threshold_percentage] = []\n",
    "\n",
    "for batch in tqdm(test_loader):\n",
    "    batch = batch.cuda()\n",
    "\n",
    "    binary_label = (batch.affinity_value > threshold).long()\n",
    "\n",
    "    Rs, Rs_edgeAttr, Rs_edgeDist = model.FirstOrderX( batch, R = F.one_hot(binary_label, num_classes = 2), zero_point = False, Norm = True)\n",
    "\n",
    "    R_edgeAttr = torch.sum(torch.stack(Rs_edgeAttr), dim=0) \n",
    "\n",
    "    R_edgeDist = torch.sum(torch.stack(Rs_edgeDist), dim=0) \n",
    "\n",
    "    max_radius = 10\n",
    "    edge_src, edge_dst = radius_graph(batch.pos, r = max_radius, batch = batch.batch, loop = True, max_num_neighbors = batch.pos.shape[0])\n",
    "\n",
    "    try:\n",
    "        node_importance_pred = (scatter(R_edgeAttr.sum(dim = 1) + R_edgeDist, edge_src, dim = 0) + scatter(R_edgeAttr.sum(dim = 1) + R_edgeDist, edge_dst, dim = 0) ) / 2\n",
    "        node_importance_pred += Rs[-1].sum(dim = 1)\n",
    "\n",
    "    #     threshold_percentage = 0.1\n",
    "        \n",
    "        for threshold_percentage in threshold_percentages:\n",
    "            \n",
    "            _, indices = torch.sort(node_importance_pred, descending=True)\n",
    "            mask_len = node_importance_pred.shape[0]\n",
    "            split_point = int(threshold_percentage * mask_len)\n",
    "            important_indices = indices[: split_point]\n",
    "            mask_node = torch.zeros_like(node_importance_pred).bool()\n",
    "            mask_node[important_indices] = 1\n",
    "            \n",
    "            pred = model(batch, mask_node = mask_node)\n",
    "            \n",
    "            binary_label = (batch.affinity_value > threshold).long()\n",
    "            preds[threshold_percentage].append( F.softmax(pred.reshape(-1,2), dim = 1).cpu().detach().numpy() )\n",
    "            labels[threshold_percentage].append( binary_label.reshape(-1).long().detach().cpu().numpy() )\n",
    "\n",
    "    except:\n",
    "        print(batch)\n",
    "\n",
    "for threshold_percentage in threshold_percentages:\n",
    "    tmp_preds = np.concatenate(preds[threshold_percentage])\n",
    "    tmp_labels = np.concatenate(labels[threshold_percentage])\n",
    "    print( \"test accuracy mask FirstOrder \", accuracy_score(np.argmax(tmp_preds, axis = 1), tmp_labels ) )\n",
    "    Firstorder_fidelity.append(accuracy_score(np.argmax(tmp_preds, axis = 1), tmp_labels ))\n",
    "    "
   ]
  },
  {
   "cell_type": "code",
   "execution_count": 11,
   "id": "0f7f456b-f891-4e17-8de7-ff8564f8367f",
   "metadata": {},
   "outputs": [
    {
     "data": {
      "image/png": "[encoded data removed]",
      "text/plain": [
       "<Figure size 800x600 with 1 Axes>"
      ]
     },
     "metadata": {},
     "output_type": "display_data"
    }
   ],
   "source": [
    "import matplotlib.pyplot as plt\n",
    "\n",
    "fig = plt.figure(figsize=(8, 6))\n",
    "ax = fig.add_subplot(1, 1, 1)\n",
    "threshold_percentages = [0.1,0.2,0.3,0.4,0.5]\n",
    "ax.plot([1 - t for t in threshold_percentages], [0.830 -  f for f in Firstorder_fidelity], color='tab:blue', label = \"ours\", marker = 'o')\n",
    "\n",
    "ax.set_xlabel('Sparsity',fontsize=20)\n",
    "ax.set_ylabel('Fidelity',fontsize=20)\n",
    "\n",
    "# ax.legend(fontsize=10)\n",
    "\n",
    "box = ax.get_position()\n",
    "ax.set_position([box.x0, box.y0 + box.height * 0.1,\n",
    "                 box.width, box.height])\n",
    "\n",
    "# Put a legend below current axis\n",
    "ax.legend(loc='upper center', bbox_to_anchor=(0.5, -0.13),\n",
    "          fancybox=True, shadow=True, ncol=3, fontsize=20)\n",
    "\n",
    "# plt.show()\n",
    "plt.savefig(\"BioLip_fidelity.pdf\",bbox_inches='tight')"
   ]
  },
  {
   "cell_type": "code",
   "execution_count": 11,
   "id": "6b8c1da9-df50-465e-9265-0043c9785738",
   "metadata": {},
   "outputs": [],
   "source": [
    "def convert_to_molar(value, unit):\n",
    "    if unit == \"mM\":\n",
    "        return value * 1e3\n",
    "    elif unit == \"uM\":\n",
    "        return value * 1\n",
    "    elif unit == \"nM\":\n",
    "        return value * 1e-3\n",
    "    else:\n",
    "        return None"
   ]
  },
  {
   "cell_type": "code",
   "execution_count": 12,
   "id": "ffa3a5a3-3136-410c-9b08-867226feccb3",
   "metadata": {},
   "outputs": [],
   "source": [
    "def ligand_data(ligandPath):  \n",
    "    element_to_atomic_number = {\n",
    "        'H': 0, 'HE': 1, 'LI': 2, 'BE': 3, 'B': 4, 'C': 5, 'N': 6, 'O': 7, 'F': 8, 'NE': 9,\n",
    "        'NA': 10, 'MG': 11, 'AL': 12, 'SI': 13, 'P': 14, 'S': 15, 'CL': 16, 'AR': 17, 'K': 18, 'CA': 19,\n",
    "        'SC': 20, 'TI': 21, 'V': 22, 'CR': 23, 'MN': 24, 'FE': 25, 'CO': 26, 'NI': 27, 'CU': 28, 'ZN': 29,\n",
    "        'GA': 30, 'GE': 31, 'AS': 32, 'SE': 33, 'BR': 34, 'KR': 35, 'RB': 36, 'SR': 37, 'Y': 38, 'ZR': 39,\n",
    "        'NB': 40, 'MO': 41, 'TC': 42, 'RU': 43, 'RH': 44, 'PD': 45, 'AG': 46, 'CD': 47, 'IN': 48, 'SN': 49,\n",
    "        'SB': 50, 'TE': 51, 'I': 52, 'XE': 53, 'CS': 54, 'BA': 55, 'LA': 56, 'CE': 57, 'PR': 58, 'ND': 59,\n",
    "        'PM': 60, 'SM': 61, 'EU': 62, 'GD': 63, 'TB': 64, 'DY': 65, 'HO': 66, 'ER': 67, 'TM': 68, 'YB': 69,\n",
    "        'LU': 70, 'HF': 71, 'TA': 72, 'W': 73, 'RE': 74, 'OS': 75, 'IR': 76, 'PT': 77, 'AU': 78, 'HG': 79,\n",
    "        'TL': 80, 'PB': 81, 'BI': 82, 'PO': 83, 'AT': 84, 'RN': 85, 'FR': 86, 'RA': 87, 'AC': 88, 'TH': 89,\n",
    "        'PA': 90, 'U': 91, 'NP': 92, 'PU': 93, 'AM': 94, 'CM': 95, 'BK': 96, 'CF': 97, 'ES': 98, 'FM': 99,\n",
    "        'MD': 100, 'NO': 101, 'LR': 102, 'RF': 103, 'DB': 104, 'SG': 105, 'BH': 106, 'HS': 107, 'MT': 108,\n",
    "        'DS': 109, 'RG': 110, 'CN': 111, 'NH': 112, 'FL': 113, 'MC': 114, 'LV': 115, 'TS': 116, 'OG': 117,\n",
    "    }\n",
    "\n",
    "    # Initialize an array to hold the extracted information\n",
    "    atom_types = []\n",
    "    atom_coords = []\n",
    "\n",
    "    with open(ligandPath, 'r') as file:\n",
    "        for line in file:\n",
    "            if line.startswith(\"ATOM\") or line.startswith(\"HETATM\"):\n",
    "                # Extract atom coordinates\n",
    "                atom_coord = [float(line[30:38]), float(line[38:46]), float(line[46:54])]\n",
    "\n",
    "                # Assuming element symbol is right-aligned within columns 77-78 as per standard PDB files\n",
    "                element_symbol = line[76:78].strip().upper()\n",
    "\n",
    "                # Map element symbol to adjusted atomic number, default to -1 if not found\n",
    "                atomic_number = element_to_atomic_number.get(element_symbol, -1)\n",
    "\n",
    "                if atomic_number == -1:\n",
    "                    continue\n",
    "\n",
    "                atom_types.append(atomic_number)\n",
    "                atom_coords.append(atom_coord)\n",
    "\n",
    "    return torch.tensor(atom_types), torch.tensor(atom_coords)\n",
    "\n",
    "        \n",
    "    \n",
    "def protein_data( proteinPath):\n",
    "    # backbone_atoms = {'N': 0, 'CA': 1, 'C': 2, 'O': 3}\n",
    "    backbone_atoms = {'CA': 0}\n",
    "\n",
    "    # Define a mapping for residue types to integers (for the 20 standard amino acids)\n",
    "    residue_mapping = {\n",
    "        'ALA': 0, 'ARG': 1, 'ASN': 2, 'ASP': 3, 'CYS': 4,\n",
    "        'GLU': 5, 'GLN': 6, 'GLY': 7, 'HIS': 8, 'ILE': 9,\n",
    "        'LEU': 10, 'LYS': 11, 'MET': 12, 'PHE': 13, 'PRO': 14,\n",
    "        'SER': 15, 'THR': 16, 'TRP': 17, 'TYR': 18, 'VAL': 19\n",
    "    }\n",
    "\n",
    "\n",
    "    # Initialize an array to hold the extracted information\n",
    "    atom_types = []\n",
    "    atom_coords = []\n",
    "    residue_idices = []\n",
    "    residue_types = []\n",
    "\n",
    "    with open(proteinPath, 'r') as file:\n",
    "        for line in file:\n",
    "            if line.startswith(\"ATOM\") or line.startswith(\"HETATM\"):\n",
    "                atom_name = line[13:16].strip()\n",
    "                if atom_name in backbone_atoms:\n",
    "                    # Convert atom name to its corresponding integer\n",
    "                    atom_type = backbone_atoms[atom_name]\n",
    "                    residue_type_str = line[17:20].strip()\n",
    "\n",
    "                    # Convert residue type to its corresponding integer, default to -1 if not found\n",
    "                    residue_type = residue_mapping.get(residue_type_str, -1)\n",
    "\n",
    "                    # Extract needed information\n",
    "                    atom_coord = [float(line[30:38]), float(line[38:46]), float(line[46:54])]\n",
    "                    residue_idx = int(line[22:26].strip())\n",
    "                    if (line[26]!= ' '):                                    # Deal with insertion code\n",
    "                        residue_idx += (ord(line[26]) - ord('A') + 1) / 24 \n",
    "\n",
    "                    atom_types.append(atom_type)\n",
    "                    atom_coords.append(atom_coord)\n",
    "                    residue_idices.append(residue_idx)\n",
    "                    residue_types.append(residue_type)\n",
    "\n",
    "    return torch.tensor(atom_types), torch.tensor(atom_coords), torch.tensor(residue_idices), torch.tensor(residue_types)\n",
    "        "
   ]
  },
  {
   "cell_type": "code",
   "execution_count": 13,
   "id": "b50d815e-d988-4ce2-8a4a-87b0a3d4998a",
   "metadata": {},
   "outputs": [
    {
     "name": "stderr",
     "output_type": "stream",
     "text": [
      "100%|████████████████████████████████████████████████████████████████| 1000/1000 [00:01<00:00, 572.72it/s]\n"
     ]
    }
   ],
   "source": [
    "import os.path as osp\n",
    "import h5py\n",
    "import numpy as np\n",
    "import warnings\n",
    "from tqdm import tqdm\n",
    "\n",
    "import torch \n",
    "import torch.nn.functional as F\n",
    "\n",
    "from torch_geometric.data import Data\n",
    "from torch_geometric.data import InMemoryDataset\n",
    "from Bio.PDB import PDBParser\n",
    "\n",
    "import re \n",
    "\n",
    "root = \"/data/hongyiling/XAI4e3nn/dataset/biolip\"\n",
    "label_path = osp.join(root, \"BioLiP.txt\")\n",
    "with open(label_path, 'r') as file:\n",
    "    # Read all lines in the file and store them in a list\n",
    "    lines = file.readlines()\n",
    "\n",
    "data_list = [] \n",
    "receptor_path_list = []\n",
    "ligand_path_list = []\n",
    "\n",
    "for line in tqdm(lines[:1000]):\n",
    "    cols = line.split(\"\\t\")\n",
    "\n",
    "    molar_value = None\n",
    "\n",
    "    if cols[15]!='':\n",
    "        kd_value = re.search(r'Kd=([0-9.]+)(uM|nM|mM)', cols[15])\n",
    "        ki_value = re.search(r'Ki=([0-9.]+)(uM|nM|mM)', cols[15])\n",
    "        if (kd_value):\n",
    "            value, unit = float(kd_value.group(1)), kd_value.group(2)\n",
    "            molar_value = convert_to_molar(value, unit)\n",
    "        elif (ki_value):\n",
    "            value, unit = float(ki_value.group(1)), ki_value.group(2)\n",
    "            molar_value = convert_to_molar(value, unit)\n",
    "\n",
    "\n",
    "    if molar_value is None and cols[16]!='': \n",
    "        kd_value = re.search(r'Kd=([0-9.]+)(uM|nM|mM)', cols[16])\n",
    "        ki_value = re.search(r'Ki=([0-9.]+)(uM|nM|mM)', cols[16])\n",
    "        if (kd_value):\n",
    "            value, unit = float(kd_value.group(1)), kd_value.group(2)\n",
    "            molar_value = convert_to_molar(value, unit)\n",
    "        elif (ki_value):\n",
    "            value, unit = float(ki_value.group(1)), ki_value.group(2)\n",
    "            molar_value = convert_to_molar(value, unit)\n",
    "\n",
    "    if molar_value is None and cols[14]!='': \n",
    "        kd_value = re.search(r'Kd=([0-9.]+)(uM|nM|mM)', cols[14])\n",
    "        ki_value = re.search(r'Ki=([0-9.]+)(uM|nM|mM)', cols[14])\n",
    "        if (kd_value):\n",
    "            value, unit = float(kd_value.group(1)), kd_value.group(2)\n",
    "            molar_value = convert_to_molar(value, unit)\n",
    "        elif (ki_value):\n",
    "            value, unit = float(ki_value.group(1)), ki_value.group(2)\n",
    "            molar_value = convert_to_molar(value, unit)\n",
    "\n",
    "    if molar_value is None:\n",
    "        continue\n",
    "\n",
    "    if (cols[4] == \"dna\" or cols[4] == 'rna'):\n",
    "        continue\n",
    "\n",
    "    receptor_path = osp.join(root, \"BioLiP_updated_set/receptor/\"+cols[0]+cols[1]+\".pdb\")\n",
    "    ligand_path = osp.join(root, \"BioLiP_updated_set/ligand/\"+cols[0]+\"_\"+cols[4]+\"_\"+cols[5]+\"_\"+cols[6]+\".pdb\")\n",
    "\n",
    "    receptor_atom_types, receptor_atom_coords, receptor_residue_idices, receptor_residue_types = protein_data(receptor_path)\n",
    "    ligand_atom_types, ligand_atom_coords = ligand_data(ligand_path)\n",
    "\n",
    "\n",
    "    residue_mapping = {\n",
    "        'A': 0,  # Alanine\n",
    "        'R': 1,  # Arginine\n",
    "        'N': 2,  # Asparagine\n",
    "        'D': 3,  # Aspartic acid\n",
    "        'C': 4,  # Cysteine\n",
    "        'E': 5,  # Glutamic acid\n",
    "        'Q': 6,  # Glutamine\n",
    "        'G': 7,  # Glycine\n",
    "        'H': 8,  # Histidine\n",
    "        'I': 9,  # Isoleucine\n",
    "        'L': 10, # Leucine\n",
    "        'K': 11, # Lysine\n",
    "        'M': 12, # Methionine\n",
    "        'F': 13, # Phenylalanine\n",
    "        'P': 14, # Proline\n",
    "        'S': 15, # Serine\n",
    "        'T': 16, # Threonine\n",
    "        'W': 17, # Tryptophan\n",
    "        'Y': 18, # Tyrosine\n",
    "        'V': 19, # Valine\n",
    "        'X': -1, # Unknown\n",
    "    }\n",
    "\n",
    "    binding_site_residues = cols[7].split(' ')\n",
    "    binding_site_residues_idx = []\n",
    "    binding_site_residues_types = []\n",
    "    for s in binding_site_residues:\n",
    "        if (s[-1].isnumeric()):\n",
    "            binding_site_residues_idx.append(int(s[1:]))\n",
    "        else:\n",
    "            tmp = int(s[1:-1])\n",
    "            tmp += (ord(s[-1]) - ord('A') + 1) / 24 \n",
    "            binding_site_residues_idx.append(tmp)\n",
    "\n",
    "        try:\n",
    "            binding_site_residues_types.append(residue_mapping[s[0]])\n",
    "        except:\n",
    "            import pdb\n",
    "            pdb.set_trace()\n",
    "\n",
    "\n",
    "    xai_labels = torch.zeros_like(receptor_atom_types)\n",
    "\n",
    "    for i in range(len(receptor_atom_types)):\n",
    "        if (receptor_residue_idices[i] in binding_site_residues_idx): \n",
    "            try:\n",
    "                if binding_site_residues_types[binding_site_residues_idx.index(receptor_residue_idices[i])] != -1:              \n",
    "                    assert binding_site_residues_types[binding_site_residues_idx.index(receptor_residue_idices[i])] == receptor_residue_types[i]\n",
    "                xai_labels[i] = 1.0 \n",
    "            except AssertionError:\n",
    "                continue\n",
    "                import pdb\n",
    "                pdb.set_trace()\n",
    "\n",
    "    data = Data()\n",
    "\n",
    "    # data.x = F.one_hot(receptor_residue_types, num_classes = 20)\n",
    "    # data.x = torch.cat( [F.one_hot(receptor_atom_types, num_classes = 4), F.one_hot(receptor_residue_types, num_classes = 20), receptor_residue_idices.reshape(-1,1)], dim = 1)\n",
    "    # data.receptor_atom_coords = receptor_atom_coords\n",
    "\n",
    "    # data.ligand_x = F.one_hot(ligand_atom_types, num_classes = 118)\n",
    "\n",
    "    residue_types = torch.cat([receptor_residue_types, torch.full(ligand_atom_types.shape, 20)], dim = 0)\n",
    "\n",
    "    atom_types = torch.cat([torch.full(receptor_residue_types.shape, 5), ligand_atom_types], dim = 0)\n",
    "\n",
    "    data.x = torch.cat( [F.one_hot(residue_types, num_classes = 21), F.one_hot(atom_types, num_classes = 118) ], dim = 1)\n",
    "\n",
    "    # data.ligand_atom_coords = ligand_atom_coords\n",
    "\n",
    "    data.pos = torch.cat([receptor_atom_coords, ligand_atom_coords], dim = 0)\n",
    "\n",
    "    data.xai_labels = xai_labels.reshape(-1,1) # (n_atom, 1)\n",
    "    data.affinity_value = torch.tensor(molar_value) \n",
    "\n",
    "    data_list.append(data)\n",
    "    receptor_path_list.append(receptor_path)\n",
    "    ligand_path_list.append(ligand_path)\n",
    "    "
   ]
  },
  {
   "cell_type": "code",
   "execution_count": 77,
   "id": "375f5a4d-e2d4-4e02-9706-bf1c236ca29c",
   "metadata": {},
   "outputs": [
    {
     "data": {
      "text/plain": [
       "'/data/hongyiling/XAI4e3nn/dataset/biolip/BioLiP_updated_set/receptor/1a69B.pdb'"
      ]
     },
     "execution_count": 77,
     "metadata": {},
     "output_type": "execute_result"
    }
   ],
   "source": [
    "receptor_path_list[35]"
   ]
  },
  {
   "cell_type": "code",
   "execution_count": 78,
   "id": "ad8af89d-8426-4658-b68e-ef5a09f0a3bb",
   "metadata": {},
   "outputs": [
    {
     "data": {
      "text/plain": [
       "'/data/hongyiling/XAI4e3nn/dataset/biolip/BioLiP_updated_set/ligand/1a69_FMB_B_1.pdb'"
      ]
     },
     "execution_count": 78,
     "metadata": {},
     "output_type": "execute_result"
    }
   ],
   "source": [
    "ligand_path_list[35]"
   ]
  },
  {
   "cell_type": "code",
   "execution_count": 38,
   "id": "55eea6cd-bcff-43ab-b5cd-7410104576ef",
   "metadata": {},
   "outputs": [
    {
     "data": {
      "text/plain": [
       "Data(x=[357, 139], pos=[357, 3], xai_labels=[338, 1], affinity_value=[1])"
      ]
     },
     "execution_count": 38,
     "metadata": {},
     "output_type": "execute_result"
    }
   ],
   "source": [
    "test_dataset[5]"
   ]
  },
  {
   "cell_type": "code",
   "execution_count": 39,
   "id": "772ebb38-16bb-46d4-bc04-2729d278a3b6",
   "metadata": {},
   "outputs": [
    {
     "data": {
      "text/plain": [
       "Data(x=[227, 139], pos=[227, 3], xai_labels=[208, 1], affinity_value=1.5)"
      ]
     },
     "execution_count": 39,
     "metadata": {},
     "output_type": "execute_result"
    }
   ],
   "source": [
    "data_list[5]"
   ]
  },
  {
   "cell_type": "code",
   "execution_count": null,
   "id": "b7cb7b5a-9676-4ca3-98ca-53961cbda9cf",
   "metadata": {},
   "outputs": [],
   "source": []
  },
  {
   "cell_type": "code",
   "execution_count": 79,
   "id": "be90a44d-d198-480c-88be-e9bae65020df",
   "metadata": {},
   "outputs": [],
   "source": [
    "from torch_geometric.data import Batch\n",
    "test_batch = Batch.from_data_list([data_list[35]])"
   ]
  },
  {
   "cell_type": "code",
   "execution_count": 50,
   "id": "f44e8363-67b1-40a7-bf86-75dbcba49f58",
   "metadata": {},
   "outputs": [
    {
     "data": {
      "text/plain": [
       "tensor([[3.5294, 2.9006]], device='cuda:0', grad_fn=<DivBackward0>)"
      ]
     },
     "execution_count": 50,
     "metadata": {},
     "output_type": "execute_result"
    }
   ],
   "source": [
    "model(test_batch.cuda())"
   ]
  },
  {
   "cell_type": "code",
   "execution_count": 51,
   "id": "e33ba224-57b8-4098-9c0b-94ba8a6eb1c7",
   "metadata": {},
   "outputs": [
    {
     "data": {
      "text/plain": [
       "tensor([True], device='cuda:0')"
      ]
     },
     "execution_count": 51,
     "metadata": {},
     "output_type": "execute_result"
    }
   ],
   "source": [
    "test_batch.affinity_value > threshold"
   ]
  },
  {
   "cell_type": "code",
   "execution_count": null,
   "id": "79b97e9a-3e57-49d8-89b2-171687041d85",
   "metadata": {},
   "outputs": [],
   "source": []
  },
  {
   "cell_type": "code",
   "execution_count": 80,
   "id": "4ae32133-0368-4020-a08e-0d805098321b",
   "metadata": {},
   "outputs": [],
   "source": [
    "test_batch = test_batch.cuda()\n",
    "\n",
    "binary_label = (test_batch.affinity_value > threshold).long()\n",
    "\n",
    "Rs, Rs_edgeAttr, Rs_edgeDist = model.FirstOrderX( test_batch, R = F.one_hot(binary_label, num_classes = 2), zero_point = False, Norm = True)\n",
    "\n",
    "R_edgeAttr = torch.sum(torch.stack(Rs_edgeAttr), dim=0) \n",
    "\n",
    "R_edgeDist = torch.sum(torch.stack(Rs_edgeDist), dim=0) \n",
    "\n",
    "max_radius = 10\n",
    "edge_src, edge_dst = radius_graph(test_batch.pos, r = max_radius, batch = test_batch.batch, loop = True, max_num_neighbors = test_batch.pos.shape[0])\n",
    "\n",
    "node_importance_pred = (scatter(R_edgeAttr.sum(dim = 1) + R_edgeDist, edge_src, dim = 0) + scatter(R_edgeAttr.sum(dim = 1) + R_edgeDist, edge_dst, dim = 0) ) / 2\n",
    "node_importance_pred += Rs[-1].sum(dim = 1)\n"
   ]
  },
  {
   "cell_type": "code",
   "execution_count": 72,
   "id": "7efae583-7b4c-42ba-a59f-146d7bfaa5d4",
   "metadata": {},
   "outputs": [],
   "source": [
    "xai_values = node_importance_pred.squeeze().detach().cpu().tolist()\n",
    "\n",
    "def normalize_xai_values(xai_values):\n",
    "    # Convert to numpy array for easier manipulation\n",
    "    xai_values = np.array(xai_values)\n",
    "    \n",
    "    # Separate positive and negative values\n",
    "    pos_mask = xai_values > 0\n",
    "    neg_mask = xai_values < 0\n",
    "    \n",
    "    pos_values = xai_values[pos_mask]\n",
    "    neg_values = xai_values[neg_mask]\n",
    "    \n",
    "    # Normalize positive values to [0.5, 1.0]\n",
    "    if pos_values.size > 0:\n",
    "        pos_min = pos_values.min()\n",
    "        pos_max = pos_values.max()\n",
    "        pos_values_normalized = 0.5 + (pos_values - pos_min) / (pos_max - pos_min) * 0.5\n",
    "    else:\n",
    "        pos_values_normalized = np.array([])\n",
    "\n",
    "    # Normalize negative values to [0, 0.5]\n",
    "    if neg_values.size > 0:\n",
    "        neg_min = neg_values.min()\n",
    "        neg_max = neg_values.max()\n",
    "        neg_values_normalized = (neg_values - neg_min) / (neg_max - neg_min) * 0.5\n",
    "    else:\n",
    "        neg_values_normalized = np.array([])\n",
    "\n",
    "    # Create a copy of the original array to store normalized values\n",
    "    normalized_values = np.copy(xai_values)\n",
    "    normalized_values[pos_mask] = pos_values_normalized\n",
    "    normalized_values[neg_mask] = neg_values_normalized\n",
    "    \n",
    "    return normalized_values\n",
    "\n",
    "scaled_xai_values = normalize_xai_values(xai_values)"
   ]
  },
  {
   "cell_type": "code",
   "execution_count": 27,
   "id": "ffa9812a-b290-4e22-9691-0005d403f454",
   "metadata": {},
   "outputs": [],
   "source": [
    "xai_values = node_importance_pred.squeeze().detach().cpu().tolist()\n",
    "\n",
    "xai_values = np.array(xai_values)\n",
    "\n",
    "xai_values[xai_values < 0] = 0\n",
    "\n",
    "min_value = min(xai_values)\n",
    "max_value = max(xai_values)\n",
    "\n",
    "scaled_xai_values = [(x - min_value) / (max_value - min_value) for x in xai_values]"
   ]
  },
  {
   "cell_type": "code",
   "execution_count": 81,
   "id": "775b39d1-5ca4-4705-89a7-963445696aad",
   "metadata": {},
   "outputs": [],
   "source": [
    "xai_values = node_importance_pred.squeeze().detach().cpu().tolist()\n",
    "min_value = min(xai_values)\n",
    "max_value = max(xai_values)\n",
    "\n",
    "# Scale the values to the range [0, 1]\n",
    "scaled_xai_values = [ 5 * (x - min_value) / (max_value - min_value) for x in xai_values]\n"
   ]
  },
  {
   "cell_type": "code",
   "execution_count": 82,
   "id": "4ca4f639-d4ab-4097-8eac-a1e9d06c7eab",
   "metadata": {},
   "outputs": [
    {
     "name": "stderr",
     "output_type": "stream",
     "text": [
      "/data/hongyiling/anaconda3/envs/XAI/lib/python3.9/site-packages/Bio/PDB/PDBParser.py:395: PDBConstructionWarning: Ignoring unrecognized record 'TER' at line 1760\n",
      "  warnings.warn(\n"
     ]
    }
   ],
   "source": [
    "from Bio.PDB import PDBIO, DSSP\n",
    "from Bio.PDB.PDBParser import PDBParser\n",
    "# from tempfile import NamedTemporaryFile\n",
    "from Bio.PDB.DSSP import dssp_dict_from_pdb_file\n",
    "import os\n",
    "\n",
    "parser = PDBParser()\n",
    "\n",
    "receptor = parser.get_structure('temp_receptor', receptor_path_list[35])\n",
    "ligand = parser.get_structure('temp_ligand', ligand_path_list[35])"
   ]
  },
  {
   "cell_type": "code",
   "execution_count": 83,
   "id": "9079d4e7-ef8f-4a5a-bcfb-49d552a6b9fb",
   "metadata": {},
   "outputs": [],
   "source": [
    "num_residues = 0\n",
    "\n",
    "for chain in receptor[0]:\n",
    "    for residue in chain:\n",
    "        num_residues += 1\n",
    "        \n",
    "num_atoms = 0\n",
    "\n",
    "for chain in ligand[0]:\n",
    "    for residue in chain:\n",
    "        for atom in residue:\n",
    "            num_atoms += 1\n",
    "\n",
    "for chain in receptor[0]:\n",
    "    CurChain = chain\n",
    "    for idx, residue in enumerate(chain):\n",
    "        for atom in residue:\n",
    "            atom.set_bfactor(scaled_xai_values[idx])\n",
    "\n",
    "for chain in ligand[0]:\n",
    "    for residue in chain:\n",
    "        for idx, atom in enumerate(residue):\n",
    "            atom.set_bfactor(scaled_xai_values[idx + num_residues])\n",
    "    \n",
    "CurChain.add(residue)  \n",
    "        \n",
    "        "
   ]
  },
  {
   "cell_type": "code",
   "execution_count": 84,
   "id": "d1dd2ef6-4ce7-4524-bfad-8aeb872c187b",
   "metadata": {},
   "outputs": [],
   "source": [
    "io = PDBIO()\n",
    "io.set_structure(receptor)\n",
    "io.save(\"1a69B_FO.pdb\")\n"
   ]
  },
  {
   "cell_type": "code",
   "execution_count": null,
   "id": "bf65e4a2-49e3-4dcb-b3a8-6bfe67025eb9",
   "metadata": {},
   "outputs": [],
   "source": [
    "185lA prediction correct\n",
    "1a86A prediction wrong"
   ]
  },
  {
   "cell_type": "code",
   "execution_count": 147,
   "id": "7dddb6cc-f0e2-4d1a-95da-99d572cc25ca",
   "metadata": {},
   "outputs": [],
   "source": [
    "test_batch = test_batch.cuda()\n",
    "test_batch.pos.requires_grad=True\n",
    "\n",
    "grad_cam = model.Grad_CAM(test_batch)\n",
    "\n",
    "# grad_cam = [d.sum(1) for d in grad_cam]\n",
    "\n",
    "# node_importance_pred = torch.stack(grad_cam).sum(0).detach().cpu()\n",
    "node_importance_pred = grad_cam[-2].sum(1).detach().cpu()\n",
    "node_importance_pred = node_importance_pred\n",
    "\n",
    "xai_values = node_importance_pred.squeeze().detach().cpu().tolist()\n",
    "min_value = min(xai_values)\n",
    "max_value = max(xai_values)\n",
    "\n",
    "# Scale the values to the range [0, 1]\n",
    "scaled_xai_values = [ 5 * (x - min_value) / (max_value - min_value) for x in xai_values]\n",
    "\n"
   ]
  },
  {
   "cell_type": "code",
   "execution_count": 148,
   "id": "2e4868fa-bc21-411d-b9b3-4de276223e0f",
   "metadata": {},
   "outputs": [],
   "source": [
    "\n",
    "for chain in receptor[0]:\n",
    "    CurChain = chain\n",
    "    for idx, residue in enumerate(chain):\n",
    "        for atom in residue:\n",
    "            atom.set_bfactor(scaled_xai_values[idx])\n",
    "\n",
    "for chain in ligand[0]:\n",
    "    for residue in chain:\n",
    "        for idx, atom in enumerate(residue):\n",
    "            atom.set_bfactor(scaled_xai_values[idx + num_residues])\n",
    "    \n",
    "io = PDBIO()\n",
    "io.set_structure(receptor)\n",
    "io.save(\"10gsA_CAM.pdb\")\n",
    "        \n",
    "        "
   ]
  },
  {
   "cell_type": "code",
   "execution_count": 149,
   "id": "11480dd3-06c6-480b-91bd-10a6c1de5ef6",
   "metadata": {},
   "outputs": [
    {
     "name": "stderr",
     "output_type": "stream",
     "text": [
      "/data/hongyiling/anaconda3/envs/XAI/lib/python3.9/site-packages/torch/jit/_check.py:172: UserWarning: The TorchScript type system doesn't support instance-level annotations on empty non-base types in `__init__`. Instead, either 1) use a type annotation in the class body, or 2) wrap the type in `torch.jit.Attribute`.\n",
      "  warnings.warn(\"The TorchScript type system doesn't support \"\n"
     ]
    }
   ],
   "source": [
    "interpreter = TFN_LRI_Bern(l=2)\n",
    "interpreter.cuda()\n",
    "interpreter.load_state_dict(torch.load(f\"./ckpt/biolip_LRI_interpreter_TFN_l=2_0.pt\"))\n",
    "\n",
    "test_batch = test_batch.cuda()\n",
    "output = interpreter(test_batch)\n",
    "node_importance_pred = output.sigmoid().detach().cpu().squeeze()\n",
    "\n",
    "\n",
    "xai_values = node_importance_pred.squeeze().detach().cpu().tolist()\n",
    "min_value = min(xai_values)\n",
    "max_value = max(xai_values)\n",
    "\n",
    "# Scale the values to the range [0, 1]\n",
    "scaled_xai_values = [ 5 * (x - min_value) / (max_value - min_value) for x in xai_values]\n",
    "\n"
   ]
  },
  {
   "cell_type": "code",
   "execution_count": 150,
   "id": "a57790e7-f0b6-47a9-b2e2-086f4c74aa0c",
   "metadata": {},
   "outputs": [],
   "source": [
    "\n",
    "for chain in receptor[0]:\n",
    "    CurChain = chain\n",
    "    for idx, residue in enumerate(chain):\n",
    "        for atom in residue:\n",
    "            atom.set_bfactor(scaled_xai_values[idx])\n",
    "\n",
    "for chain in ligand[0]:\n",
    "    for residue in chain:\n",
    "        for idx, atom in enumerate(residue):\n",
    "            atom.set_bfactor(scaled_xai_values[idx + num_residues])\n",
    "    \n",
    "io = PDBIO()\n",
    "io.set_structure(receptor)\n",
    "io.save(\"10gsA_LRI_Bern.pdb\")\n",
    "        \n",
    "        "
   ]
  },
  {
   "cell_type": "code",
   "execution_count": 151,
   "id": "4f19ae85-b134-4c41-906c-cafbb7073e1b",
   "metadata": {},
   "outputs": [],
   "source": [
    "interpreter = TFN_LRI_Gaussian(l=2)\n",
    "interpreter.cuda()\n",
    "interpreter.load_state_dict(torch.load(f\"./ckpt/biolip_LRI_g_interpreter_TFN_l=2_0.pt\"))\n",
    "\n",
    "test_batch = test_batch.cuda()\n",
    "noise = interpreter(test_batch)\n",
    "a1 = F.softplus(noise[:,[0]]).clamp(1e-6, 1e6)\n",
    "a2 = F.softplus(noise[:,[1]]).clamp(1e-6, 1e6) \n",
    "U = noise[:,2:].reshape(-1,3,3)\n",
    "\n",
    "pred_sigma = a1.reshape(-1, 1, 1) * U @ U.transpose(1, 2) + a2.reshape(-1, 1, 1) * torch.eye(3, device=noise.device).reshape(-1, 3, 3)\n",
    "node_importance_pred = -(pred_sigma.det()).reshape(-1).detach().cpu()\n",
    "\n",
    "\n",
    "xai_values = node_importance_pred.squeeze().detach().cpu().tolist()\n",
    "min_value = min(xai_values)\n",
    "max_value = max(xai_values)\n",
    "\n",
    "# Scale the values to the range [0, 1]\n",
    "scaled_xai_values = [ 5 * (x - min_value) / (max_value - min_value) for x in xai_values]\n",
    "\n",
    "    "
   ]
  },
  {
   "cell_type": "code",
   "execution_count": 152,
   "id": "a4c8b5ca-c956-4e18-a13b-6c3d63b74681",
   "metadata": {},
   "outputs": [],
   "source": [
    "\n",
    "for chain in receptor[0]:\n",
    "    CurChain = chain\n",
    "    for idx, residue in enumerate(chain):\n",
    "        for atom in residue:\n",
    "            atom.set_bfactor(scaled_xai_values[idx])\n",
    "\n",
    "for chain in ligand[0]:\n",
    "    for residue in chain:\n",
    "        for idx, atom in enumerate(residue):\n",
    "            atom.set_bfactor(scaled_xai_values[idx + num_residues])\n",
    "    \n",
    "io = PDBIO()\n",
    "io.set_structure(receptor)\n",
    "io.save(\"10gsA_LRI_Gaussian.pdb\")\n",
    "        \n",
    "        "
   ]
  },
  {
   "cell_type": "code",
   "execution_count": 163,
   "id": "7f4f5990-0682-4852-8591-c5a9681b06ae",
   "metadata": {},
   "outputs": [
    {
     "name": "stderr",
     "output_type": "stream",
     "text": [
      "100%|███████████████████████████████████████████████████████████████████████████████████████████| 100/100 [00:18<00:00,  5.41it/s]\n"
     ]
    }
   ],
   "source": [
    "# GNN Explainer\n",
    "\n",
    "from tqdm import tqdm\n",
    "epochs = 100\n",
    "EPS = 1e-7\n",
    "\n",
    "max_radius = 10\n",
    "# edge_src, edge_dst = data.edge_index \n",
    "edge_index = radius_graph(test_batch.pos, r = max_radius, batch = test_batch.batch, loop = True, max_num_neighbors = test_batch.pos.shape[0])\n",
    "        \n",
    "edge_mask = torch.nn.Parameter(torch.randn((edge_index.shape[1],1), requires_grad=True, device = \"cuda\") * 0.4)\n",
    "        \n",
    "optimizer = torch.optim.Adam([edge_mask], lr=1e-2)\n",
    "\n",
    "criterion = nn.CrossEntropyLoss()\n",
    "\n",
    "# pred = model(test_batch)\n",
    "# loss = criterion(pred, test_batch.y)\n",
    "#         print(\"original\", loss.item())\n",
    "\n",
    "for epoch in tqdm(range(1, epochs + 1)):\n",
    "    test_batch.edge_attn = edge_mask.sigmoid() \n",
    "\n",
    "    optimizer.zero_grad()\n",
    "    \n",
    "    pred = model(test_batch)\n",
    "    binary_label = (test_batch.affinity_value > threshold).long()\n",
    "    loss = criterion(pred, binary_label)\n",
    "\n",
    "#             print(\"predict loss\", loss.item())\n",
    "\n",
    "    m = edge_mask.sigmoid()\n",
    "    loss = loss + 0.0001 * m.sum()\n",
    "    ent = -m * torch.log(m + EPS) - (1 - m) * torch.log(1 - m + EPS)\n",
    "    loss = loss + 0.01 * ent.mean()\n",
    "\n",
    "    loss.backward()\n",
    "    optimizer.step()\n",
    "\n",
    "node_importance_pred = edge_mask.data.sigmoid()\n",
    "node_importance_pred = scatter(node_importance_pred, edge_index[1], dim = 0) + scatter(node_importance_pred, edge_index[0], dim = 0)\n",
    "node_importance_pred = node_importance_pred.reshape(-1).detach().cpu() \n"
   ]
  },
  {
   "cell_type": "code",
   "execution_count": 164,
   "id": "dcd416ce-28c3-4520-9522-dee971ee0b22",
   "metadata": {},
   "outputs": [],
   "source": [
    "xai_values = node_importance_pred.squeeze().detach().cpu().tolist()\n",
    "min_value = min(xai_values)\n",
    "max_value = max(xai_values)\n",
    "\n",
    "# Scale the values to the range [0, 1]\n",
    "scaled_xai_values = [ 5 * (x - min_value) / (max_value - min_value) for x in xai_values]\n",
    "\n",
    "    "
   ]
  },
  {
   "cell_type": "code",
   "execution_count": 165,
   "id": "6c8cd9d2-47fe-4c83-9ccc-57f839b5e158",
   "metadata": {},
   "outputs": [],
   "source": [
    "\n",
    "for chain in receptor[0]:\n",
    "    CurChain = chain\n",
    "    for idx, residue in enumerate(chain):\n",
    "        for atom in residue:\n",
    "            atom.set_bfactor(scaled_xai_values[idx])\n",
    "\n",
    "for chain in ligand[0]:\n",
    "    for residue in chain:\n",
    "        for idx, atom in enumerate(residue):\n",
    "            atom.set_bfactor(scaled_xai_values[idx + num_residues])\n",
    "    \n",
    "io = PDBIO()\n",
    "io.set_structure(receptor)\n",
    "io.save(\"10gsA_GNN_explainer.pdb\")\n",
    "        \n",
    "        "
   ]
  },
  {
   "cell_type": "code",
   "execution_count": null,
   "id": "a15c1c63-6307-49aa-961b-5aa116df9aa5",
   "metadata": {},
   "outputs": [],
   "source": []
  },
  {
   "cell_type": "code",
   "execution_count": 130,
   "id": "cbc54249-2f85-4712-a428-e18e72f597b0",
   "metadata": {},
   "outputs": [
    {
     "data": {
      "text/plain": [
       "208"
      ]
     },
     "execution_count": 130,
     "metadata": {},
     "output_type": "execute_result"
    }
   ],
   "source": [
    "num_residues"
   ]
  },
  {
   "cell_type": "code",
   "execution_count": 132,
   "id": "4f180bae-ab61-4da6-ad25-977da5ea6d91",
   "metadata": {},
   "outputs": [
    {
     "data": {
      "text/plain": [
       "33"
      ]
     },
     "execution_count": 132,
     "metadata": {},
     "output_type": "execute_result"
    }
   ],
   "source": [
    "num_atoms"
   ]
  },
  {
   "cell_type": "code",
   "execution_count": 133,
   "id": "d60ed03d-57b3-4e3b-a714-3f4dcf1014aa",
   "metadata": {},
   "outputs": [
    {
     "data": {
      "text/plain": [
       "241"
      ]
     },
     "execution_count": 133,
     "metadata": {},
     "output_type": "execute_result"
    }
   ],
   "source": [
    "num_residues + num_atoms"
   ]
  },
  {
   "cell_type": "code",
   "execution_count": 74,
   "id": "1d7de52c-3e3a-4d55-85f4-342e9b96ee12",
   "metadata": {},
   "outputs": [
    {
     "name": "stderr",
     "output_type": "stream",
     "text": [
      "/data/hongyiling/anaconda3/envs/XAI/lib/python3.9/site-packages/Bio/PDB/PDBParser.py:395: PDBConstructionWarning: Ignoring unrecognized record 'TER' at line 1632\n",
      "  warnings.warn(\n"
     ]
    }
   ],
   "source": [
    "from Bio.PDB import PDBIO, DSSP\n",
    "from Bio.PDB.PDBParser import PDBParser\n",
    "# from tempfile import NamedTemporaryFile\n",
    "from Bio.PDB.DSSP import dssp_dict_from_pdb_file\n",
    "import os\n",
    "\n",
    "parser = PDBParser()\n",
    "structure = parser.get_structure('temp_structure', \"/data/hongyiling/XAI4e3nn/complex10gsA.pdb\")"
   ]
  },
  {
   "cell_type": "code",
   "execution_count": 80,
   "id": "90ea27ab-4ed3-4f21-b265-2a50d18377e7",
   "metadata": {},
   "outputs": [],
   "source": [
    "structure = structure[0]"
   ]
  },
  {
   "cell_type": "code",
   "execution_count": 123,
   "id": "59e1d774-af54-4c67-a3ce-a330e3f37990",
   "metadata": {},
   "outputs": [
    {
     "name": "stdout",
     "output_type": "stream",
     "text": [
      "<Chain id=A>\n"
     ]
    }
   ],
   "source": [
    "for chain in structure:\n",
    "    print(chain)"
   ]
  },
  {
   "cell_type": "code",
   "execution_count": null,
   "id": "a0e2edf2-0dca-4701-a618-cbcc029cb756",
   "metadata": {},
   "outputs": [],
   "source": [
    "ligand_path_list[0]"
   ]
  },
  {
   "cell_type": "code",
   "execution_count": 103,
   "id": "26715e83-04c0-4444-bf71-6050786e9813",
   "metadata": {
    "tags": []
   },
   "outputs": [],
   "source": [
    "ligand = parser.get_structure('temp_ligand', ligand_path_list[6])"
   ]
  },
  {
   "cell_type": "code",
   "execution_count": 105,
   "id": "435b1efe-d0c8-41fd-a900-d645aba27627",
   "metadata": {
    "collapsed": true,
    "jupyter": {
     "outputs_hidden": true
    },
    "tags": []
   },
   "outputs": [
    {
     "name": "stdout",
     "output_type": "stream",
     "text": [
      "<Chain id=A>\n",
      "<Residue SAS het=H_SAS resseq=211 icode= >\n",
      "<Atom C1>\n",
      "<Atom C2>\n",
      "<Atom C3>\n",
      "<Atom C4>\n",
      "<Atom C5>\n",
      "<Atom N1>\n",
      "<Atom N2>\n",
      "<Atom S1>\n",
      "<Atom O1>\n",
      "<Atom O2>\n",
      "<Atom C6>\n",
      "<Atom C7>\n",
      "<Atom C8>\n",
      "<Atom C9>\n",
      "<Atom C10>\n",
      "<Atom C11>\n",
      "<Atom N3>\n",
      "<Atom N4>\n",
      "<Atom C12>\n",
      "<Atom C13>\n",
      "<Atom C14>\n",
      "<Atom C15>\n",
      "<Atom C16>\n",
      "<Atom C17>\n",
      "<Atom C18>\n",
      "<Atom O3>\n",
      "<Atom O4>\n",
      "<Atom O5>\n"
     ]
    }
   ],
   "source": [
    "for chain in ligand[0]:\n",
    "    print(chain)\n",
    "    for residue in chain:\n",
    "        print(residue)\n",
    "        for atom in residue:\n",
    "            print(atom)\n",
    "        "
   ]
  }
 ],
 "metadata": {
  "kernelspec": {
   "display_name": "Python 3 (ipykernel)",
   "language": "python",
   "name": "python3"
  },
  "language_info": {
   "codemirror_mode": {
    "name": "ipython",
    "version": 3
   },
   "file_extension": ".py",
   "mimetype": "text/x-python",
   "name": "python",
   "nbconvert_exporter": "python",
   "pygments_lexer": "ipython3",
   "version": "3.9.17"
  }
 },
 "nbformat": 4,
 "nbformat_minor": 5
}
